{
 "cells": [
  {
   "cell_type": "markdown",
   "id": "ff4eb745",
   "metadata": {},
   "source": [
    "# 뉴스 요약봇 만들기"
   ]
  },
  {
   "cell_type": "code",
   "execution_count": 1,
   "id": "77d3ec72",
   "metadata": {},
   "outputs": [
    {
     "name": "stderr",
     "output_type": "stream",
     "text": [
      "[nltk_data] Downloading package stopwords to /aiffel/nltk_data...\n",
      "[nltk_data]   Package stopwords is already up-to-date!\n"
     ]
    },
    {
     "name": "stdout",
     "output_type": "stream",
     "text": [
      "3.6.5\n",
      "2.6.0\n",
      "1.3.3\n",
      "1.2.0\n"
     ]
    }
   ],
   "source": [
    "from importlib.metadata import version\n",
    "import nltk\n",
    "nltk.download('stopwords')\n",
    "from nltk.corpus import stopwords\n",
    "\n",
    "import numpy as np\n",
    "import pandas as pd\n",
    "import os\n",
    "import re\n",
    "import matplotlib.pyplot as plt\n",
    "from bs4 import BeautifulSoup \n",
    "\n",
    "import tensorflow\n",
    "from tensorflow.keras.preprocessing.text import Tokenizer \n",
    "from tensorflow.keras.preprocessing.sequence import pad_sequences\n",
    "import summa\n",
    "\n",
    "import warnings\n",
    "warnings.filterwarnings(\"ignore\", category=UserWarning, module='bs4')\n",
    "\n",
    "\n",
    "print(nltk.__version__)\n",
    "print(tensorflow.__version__)\n",
    "print(pd.__version__)\n",
    "print(version('summa'))"
   ]
  },
  {
   "cell_type": "markdown",
   "id": "877f7c85",
   "metadata": {},
   "source": [
    "https://github.com/sunnysai12345/News_Summary"
   ]
  },
  {
   "cell_type": "code",
   "execution_count": 2,
   "id": "c868f7b5",
   "metadata": {},
   "outputs": [],
   "source": [
    "import urllib.request\n",
    "urllib.request.urlretrieve(\"https://raw.githubusercontent.com/sunnysai12345/News_Summary/master/news_summary_more.csv\", filename=\"news_summary_more.csv\")\n",
    "data = pd.read_csv('news_summary_more.csv', encoding='iso-8859-1')"
   ]
  },
  {
   "cell_type": "code",
   "execution_count": 3,
   "id": "97e135f8",
   "metadata": {},
   "outputs": [
    {
     "data": {
      "text/html": [
       "<div>\n",
       "<style scoped>\n",
       "    .dataframe tbody tr th:only-of-type {\n",
       "        vertical-align: middle;\n",
       "    }\n",
       "\n",
       "    .dataframe tbody tr th {\n",
       "        vertical-align: top;\n",
       "    }\n",
       "\n",
       "    .dataframe thead th {\n",
       "        text-align: right;\n",
       "    }\n",
       "</style>\n",
       "<table border=\"1\" class=\"dataframe\">\n",
       "  <thead>\n",
       "    <tr style=\"text-align: right;\">\n",
       "      <th></th>\n",
       "      <th>headlines</th>\n",
       "      <th>text</th>\n",
       "    </tr>\n",
       "  </thead>\n",
       "  <tbody>\n",
       "    <tr>\n",
       "      <th>41864</th>\n",
       "      <td>Rahul Dravid named election icon for K'taka As...</td>\n",
       "      <td>Former Indian captain Rahul Dravid has been na...</td>\n",
       "    </tr>\n",
       "    <tr>\n",
       "      <th>48135</th>\n",
       "      <td>Our daughters, sisters also have right to love...</td>\n",
       "      <td>Addressing Vishva Hindu Parishad (VHP) and Baj...</td>\n",
       "    </tr>\n",
       "    <tr>\n",
       "      <th>19940</th>\n",
       "      <td>Why no grievance officer in India yet: SC asks...</td>\n",
       "      <td>The Supreme Court on Monday sought a reply fro...</td>\n",
       "    </tr>\n",
       "    <tr>\n",
       "      <th>25684</th>\n",
       "      <td>Bride's kin abduct engineer at gunpoint, forci...</td>\n",
       "      <td>A railway engineer was allegedly abducted at g...</td>\n",
       "    </tr>\n",
       "    <tr>\n",
       "      <th>44780</th>\n",
       "      <td>Congress MLA brings teargas shell to Kerala As...</td>\n",
       "      <td>Congress MLA Thiruvanchoor Radhakrishnan on We...</td>\n",
       "    </tr>\n",
       "    <tr>\n",
       "      <th>3978</th>\n",
       "      <td>Dipika is family, Bigg Boss trophy has come ho...</td>\n",
       "      <td>Sreesanth, while talking about Dipika Kakar wi...</td>\n",
       "    </tr>\n",
       "    <tr>\n",
       "      <th>90209</th>\n",
       "      <td>Indonesia recaptures 171 inmates who broke out...</td>\n",
       "      <td>As many as 171 inmates have been recaptured so...</td>\n",
       "    </tr>\n",
       "    <tr>\n",
       "      <th>30593</th>\n",
       "      <td>Octopus came from outer space in icy meteors, ...</td>\n",
       "      <td>An international study by 33 scientists has cl...</td>\n",
       "    </tr>\n",
       "    <tr>\n",
       "      <th>89421</th>\n",
       "      <td>Tiger Shroff poses shirtless for the cover of ...</td>\n",
       "      <td>Actor Tiger Shroff has posed shirtless for the...</td>\n",
       "    </tr>\n",
       "    <tr>\n",
       "      <th>42525</th>\n",
       "      <td>2017 'costliest year on record' for climate di...</td>\n",
       "      <td>Severe climate disasters cost countries about ...</td>\n",
       "    </tr>\n",
       "  </tbody>\n",
       "</table>\n",
       "</div>"
      ],
      "text/plain": [
       "                                               headlines  \\\n",
       "41864  Rahul Dravid named election icon for K'taka As...   \n",
       "48135  Our daughters, sisters also have right to love...   \n",
       "19940  Why no grievance officer in India yet: SC asks...   \n",
       "25684  Bride's kin abduct engineer at gunpoint, forci...   \n",
       "44780  Congress MLA brings teargas shell to Kerala As...   \n",
       "3978   Dipika is family, Bigg Boss trophy has come ho...   \n",
       "90209  Indonesia recaptures 171 inmates who broke out...   \n",
       "30593  Octopus came from outer space in icy meteors, ...   \n",
       "89421  Tiger Shroff poses shirtless for the cover of ...   \n",
       "42525  2017 'costliest year on record' for climate di...   \n",
       "\n",
       "                                                    text  \n",
       "41864  Former Indian captain Rahul Dravid has been na...  \n",
       "48135  Addressing Vishva Hindu Parishad (VHP) and Baj...  \n",
       "19940  The Supreme Court on Monday sought a reply fro...  \n",
       "25684  A railway engineer was allegedly abducted at g...  \n",
       "44780  Congress MLA Thiruvanchoor Radhakrishnan on We...  \n",
       "3978   Sreesanth, while talking about Dipika Kakar wi...  \n",
       "90209  As many as 171 inmates have been recaptured so...  \n",
       "30593  An international study by 33 scientists has cl...  \n",
       "89421  Actor Tiger Shroff has posed shirtless for the...  \n",
       "42525  Severe climate disasters cost countries about ...  "
      ]
     },
     "execution_count": 3,
     "metadata": {},
     "output_type": "execute_result"
    }
   ],
   "source": [
    "data.sample(10)"
   ]
  },
  {
   "cell_type": "markdown",
   "id": "81e547d1",
   "metadata": {},
   "source": [
    "## 데이터 전처리(추상적 요약)"
   ]
  },
  {
   "cell_type": "code",
   "execution_count": 4,
   "id": "7b03046e",
   "metadata": {},
   "outputs": [
    {
     "data": {
      "text/plain": [
       "(98401, 2)"
      ]
     },
     "execution_count": 4,
     "metadata": {},
     "output_type": "execute_result"
    }
   ],
   "source": [
    "data.shape"
   ]
  },
  {
   "cell_type": "markdown",
   "id": "b21abb5b",
   "metadata": {},
   "source": [
    "### 중복 데이터 확인"
   ]
  },
  {
   "cell_type": "code",
   "execution_count": 5,
   "id": "b299bbcf",
   "metadata": {},
   "outputs": [
    {
     "name": "stdout",
     "output_type": "stream",
     "text": [
      "headlines에서 유니크한 샘플 수:  98280\n",
      "text에서 유니크한 샘플 수:  98360\n"
     ]
    }
   ],
   "source": [
    "print(\"headlines에서 유니크한 샘플 수: \",data['headlines'].nunique())\n",
    "print(\"text에서 유니크한 샘플 수: \",data['text'].nunique())"
   ]
  },
  {
   "cell_type": "markdown",
   "id": "390a310a",
   "metadata": {},
   "source": [
    "=> text에서 중복데이터가 존재한다. drop으로 제거"
   ]
  },
  {
   "cell_type": "code",
   "execution_count": 6,
   "id": "91094b4c",
   "metadata": {},
   "outputs": [
    {
     "data": {
      "text/plain": [
       "(98360, 2)"
      ]
     },
     "execution_count": 6,
     "metadata": {},
     "output_type": "execute_result"
    }
   ],
   "source": [
    "data.drop_duplicates(subset=[\"text\"], inplace=True)\n",
    "data.shape"
   ]
  },
  {
   "cell_type": "markdown",
   "id": "59885b57",
   "metadata": {},
   "source": [
    "### 결측치 확인"
   ]
  },
  {
   "cell_type": "code",
   "execution_count": 7,
   "id": "922b28d0",
   "metadata": {},
   "outputs": [
    {
     "data": {
      "text/plain": [
       "headlines    0\n",
       "text         0\n",
       "dtype: int64"
      ]
     },
     "execution_count": 7,
     "metadata": {},
     "output_type": "execute_result"
    }
   ],
   "source": [
    "data.isnull().sum()"
   ]
  },
  {
   "cell_type": "markdown",
   "id": "c1f220d2",
   "metadata": {},
   "source": [
    "=> 결측치 없음"
   ]
  },
  {
   "cell_type": "markdown",
   "id": "cfca9138",
   "metadata": {},
   "source": [
    "### 텍스트 정규화 & stopwords 제거"
   ]
  },
  {
   "cell_type": "code",
   "execution_count": 8,
   "id": "41c624df",
   "metadata": {},
   "outputs": [
    {
     "name": "stdout",
     "output_type": "stream",
     "text": [
      "정규화 사전의 수:  120\n"
     ]
    }
   ],
   "source": [
    "# 정규화 사전\n",
    "contractions = {\"ain't\": \"is not\", \"aren't\": \"are not\",\"can't\": \"cannot\", \"'cause\": \"because\", \"could've\": \"could have\", \"couldn't\": \"could not\",\n",
    "                           \"didn't\": \"did not\",  \"doesn't\": \"does not\", \"don't\": \"do not\", \"hadn't\": \"had not\", \"hasn't\": \"has not\", \"haven't\": \"have not\",\n",
    "                           \"he'd\": \"he would\",\"he'll\": \"he will\", \"he's\": \"he is\", \"how'd\": \"how did\", \"how'd'y\": \"how do you\", \"how'll\": \"how will\", \"how's\": \"how is\",\n",
    "                           \"I'd\": \"I would\", \"I'd've\": \"I would have\", \"I'll\": \"I will\", \"I'll've\": \"I will have\",\"I'm\": \"I am\", \"I've\": \"I have\", \"i'd\": \"i would\",\n",
    "                           \"i'd've\": \"i would have\", \"i'll\": \"i will\",  \"i'll've\": \"i will have\",\"i'm\": \"i am\", \"i've\": \"i have\", \"isn't\": \"is not\", \"it'd\": \"it would\",\n",
    "                           \"it'd've\": \"it would have\", \"it'll\": \"it will\", \"it'll've\": \"it will have\",\"it's\": \"it is\", \"let's\": \"let us\", \"ma'am\": \"madam\",\n",
    "                           \"mayn't\": \"may not\", \"might've\": \"might have\",\"mightn't\": \"might not\",\"mightn't've\": \"might not have\", \"must've\": \"must have\",\n",
    "                           \"mustn't\": \"must not\", \"mustn't've\": \"must not have\", \"needn't\": \"need not\", \"needn't've\": \"need not have\",\"o'clock\": \"of the clock\",\n",
    "                           \"oughtn't\": \"ought not\", \"oughtn't've\": \"ought not have\", \"shan't\": \"shall not\", \"sha'n't\": \"shall not\", \"shan't've\": \"shall not have\",\n",
    "                           \"she'd\": \"she would\", \"she'd've\": \"she would have\", \"she'll\": \"she will\", \"she'll've\": \"she will have\", \"she's\": \"she is\",\n",
    "                           \"should've\": \"should have\", \"shouldn't\": \"should not\", \"shouldn't've\": \"should not have\", \"so've\": \"so have\",\"so's\": \"so as\",\n",
    "                           \"this's\": \"this is\",\"that'd\": \"that would\", \"that'd've\": \"that would have\", \"that's\": \"that is\", \"there'd\": \"there would\",\n",
    "                           \"there'd've\": \"there would have\", \"there's\": \"there is\", \"here's\": \"here is\",\"they'd\": \"they would\", \"they'd've\": \"they would have\",\n",
    "                           \"they'll\": \"they will\", \"they'll've\": \"they will have\", \"they're\": \"they are\", \"they've\": \"they have\", \"to've\": \"to have\",\n",
    "                           \"wasn't\": \"was not\", \"we'd\": \"we would\", \"we'd've\": \"we would have\", \"we'll\": \"we will\", \"we'll've\": \"we will have\", \"we're\": \"we are\",\n",
    "                           \"we've\": \"we have\", \"weren't\": \"were not\", \"what'll\": \"what will\", \"what'll've\": \"what will have\", \"what're\": \"what are\",\n",
    "                           \"what's\": \"what is\", \"what've\": \"what have\", \"when's\": \"when is\", \"when've\": \"when have\", \"where'd\": \"where did\", \"where's\": \"where is\",\n",
    "                           \"where've\": \"where have\", \"who'll\": \"who will\", \"who'll've\": \"who will have\", \"who's\": \"who is\", \"who've\": \"who have\",\n",
    "                           \"why's\": \"why is\", \"why've\": \"why have\", \"will've\": \"will have\", \"won't\": \"will not\", \"won't've\": \"will not have\",\n",
    "                           \"would've\": \"would have\", \"wouldn't\": \"would not\", \"wouldn't've\": \"would not have\", \"y'all\": \"you all\",\n",
    "                           \"y'all'd\": \"you all would\",\"y'all'd've\": \"you all would have\",\"y'all're\": \"you all are\",\"y'all've\": \"you all have\",\n",
    "                           \"you'd\": \"you would\", \"you'd've\": \"you would have\", \"you'll\": \"you will\", \"you'll've\": \"you will have\",\n",
    "                           \"you're\": \"you are\", \"you've\": \"you have\"}\n",
    "\n",
    "print(\"정규화 사전의 수: \", len(contractions))"
   ]
  },
  {
   "cell_type": "code",
   "execution_count": 9,
   "id": "bde85d5f",
   "metadata": {
    "scrolled": true
   },
   "outputs": [
    {
     "name": "stdout",
     "output_type": "stream",
     "text": [
      "불용어 개수 : 198\n",
      "['a', 'about', 'above', 'after', 'again', 'against', 'ain', 'all', 'am', 'an', 'and', 'any', 'are', 'aren', \"aren't\", 'as', 'at', 'be', 'because', 'been', 'before', 'being', 'below', 'between', 'both', 'but', 'by', 'can', 'couldn', \"couldn't\", 'd', 'did', 'didn', \"didn't\", 'do', 'does', 'doesn', \"doesn't\", 'doing', 'don', \"don't\", 'down', 'during', 'each', 'few', 'for', 'from', 'further', 'had', 'hadn', \"hadn't\", 'has', 'hasn', \"hasn't\", 'have', 'haven', \"haven't\", 'having', 'he', \"he'd\", \"he'll\", 'her', 'here', 'hers', 'herself', \"he's\", 'him', 'himself', 'his', 'how', 'i', \"i'd\", 'if', \"i'll\", \"i'm\", 'in', 'into', 'is', 'isn', \"isn't\", 'it', \"it'd\", \"it'll\", \"it's\", 'its', 'itself', \"i've\", 'just', 'll', 'm', 'ma', 'me', 'mightn', \"mightn't\", 'more', 'most', 'mustn', \"mustn't\", 'my', 'myself', 'needn', \"needn't\", 'no', 'nor', 'not', 'now', 'o', 'of', 'off', 'on', 'once', 'only', 'or', 'other', 'our', 'ours', 'ourselves', 'out', 'over', 'own', 're', 's', 'same', 'shan', \"shan't\", 'she', \"she'd\", \"she'll\", \"she's\", 'should', 'shouldn', \"shouldn't\", \"should've\", 'so', 'some', 'such', 't', 'than', 'that', \"that'll\", 'the', 'their', 'theirs', 'them', 'themselves', 'then', 'there', 'these', 'they', \"they'd\", \"they'll\", \"they're\", \"they've\", 'this', 'those', 'through', 'to', 'too', 'under', 'until', 'up', 've', 'very', 'was', 'wasn', \"wasn't\", 'we', \"we'd\", \"we'll\", \"we're\", 'were', 'weren', \"weren't\", \"we've\", 'what', 'when', 'where', 'which', 'while', 'who', 'whom', 'why', 'will', 'with', 'won', \"won't\", 'wouldn', \"wouldn't\", 'y', 'you', \"you'd\", \"you'll\", 'your', \"you're\", 'yours', 'yourself', 'yourselves', \"you've\"]\n"
     ]
    }
   ],
   "source": [
    "# stopwords 사전\n",
    "print('불용어 개수 :', len(stopwords.words('english') ))\n",
    "print(stopwords.words('english'))"
   ]
  },
  {
   "cell_type": "code",
   "execution_count": 10,
   "id": "206920f5",
   "metadata": {},
   "outputs": [],
   "source": [
    "# 데이터 전처리 함수\n",
    "def preprocess_sentence(sentence, remove_stopwords=True):\n",
    "    sentence = sentence.lower() # 텍스트 소문자화\n",
    "    sentence = BeautifulSoup(sentence, \"lxml\").text # <br />, <a href = ...> 등의 html 태그 제거\n",
    "    sentence = re.sub(r'\\([^)]*\\)', '', sentence) # 괄호로 닫힌 문자열 (...) 제거 Ex) my husband (and myself!) for => my husband for\n",
    "    sentence = re.sub('\"','', sentence) # 쌍따옴표 \" 제거\n",
    "    sentence = ' '.join([contractions[t] if t in contractions else t for t in sentence.split(\" \")]) # 약어 정규화\n",
    "    sentence = re.sub(r\"'s\\b\",\"\", sentence) # 소유격 제거. Ex) roland's -> roland\n",
    "    sentence = re.sub(\"[^a-zA-Z]\", \" \", sentence) # 영어 외 문자(숫자, 특수문자 등) 공백으로 변환\n",
    "    sentence = re.sub('[m]{2,}', 'mm', sentence) # m이 3개 이상이면 2개로 변경. Ex) ummmmmmm yeah -> umm yeah\n",
    "    \n",
    "    # 불용어 제거 (Text)\n",
    "    if remove_stopwords:\n",
    "        tokens = ' '.join(word for word in sentence.split() if not word in stopwords.words('english') if len(word) > 1)\n",
    "    # 불용어 미제거 (Summary)\n",
    "    else:\n",
    "        tokens = ' '.join(word for word in sentence.split() if len(word) > 1)\n",
    "    return tokens"
   ]
  },
  {
   "cell_type": "markdown",
   "id": "16f88d1f",
   "metadata": {},
   "source": [
    "전처리 함수로 전처리"
   ]
  },
  {
   "cell_type": "code",
   "execution_count": 11,
   "id": "9031c234",
   "metadata": {},
   "outputs": [],
   "source": [
    "def apply_preprocessing(df_column,remove_stopwords=True):\n",
    "    clean_data = []\n",
    "    for sentence in df_column:\n",
    "        clean_sentence = preprocess_sentence(sentence, remove_stopwords)\n",
    "        clean_data.append(clean_sentence)\n",
    "    return clean_data"
   ]
  },
  {
   "cell_type": "code",
   "execution_count": 12,
   "id": "d174e451",
   "metadata": {},
   "outputs": [],
   "source": [
    "clean_headlines = apply_preprocessing(data['headlines'], remove_stopwords=False)\n",
    "clean_text = apply_preprocessing(data['text'])"
   ]
  },
  {
   "cell_type": "code",
   "execution_count": 13,
   "id": "afe366f6",
   "metadata": {},
   "outputs": [
    {
     "name": "stdout",
     "output_type": "stream",
     "text": [
      "headlines 확인 ['upgrad learner switches to career in ml al with salary hike', 'delhi techie wins free food from swiggy for one year on cred', 'new zealand end rohit sharma led india match winning streak', 'aegon life iterm insurance plan helps customers save tax', 'have known hirani for yrs what if metoo claims are not true sonam']\n",
      "text 확인 ['saurav kant alumnus upgrad iiit pg program machine learning artificial intelligence sr systems engineer infosys almost years work experience program upgrad degree career support helped transition data scientist tech mahindra salary hike upgrad online power learning powered lakh careers', 'kunal shah credit card bill payment platform cred gave users chance win free food swiggy one year pranav kaushik delhi techie bagged reward spending cred coins users get one cred coin per rupee bill paid used avail rewards brands like ixigo bookmyshow ubereats cult fit', 'new zealand defeated india wickets fourth odi hamilton thursday win first match five match odi series india lost international match rohit sharma captaincy consecutive victories dating back march match witnessed india getting seventh lowest total odi cricket history', 'aegon life iterm insurance plan customers enjoy tax benefits premiums paid save taxes plan provides life cover age years also customers options insure critical illnesses disability accidental death benefit rider life cover age years', 'speaking sexual harassment allegations rajkumar hirani sonam kapoor said known hirani many years true metoo movement get derailed metoo movement always believe woman case need reserve judgment added hirani accused assistant worked sanju']\n"
     ]
    }
   ],
   "source": [
    "# 전처리 확인\n",
    "print(\"headlines 확인\", clean_headlines[:5])\n",
    "print(\"text 확인\", clean_text[:5])"
   ]
  },
  {
   "cell_type": "code",
   "execution_count": 14,
   "id": "62a075a9",
   "metadata": {},
   "outputs": [],
   "source": [
    "data['headlines'] = clean_headlines\n",
    "data['text'] = clean_text"
   ]
  },
  {
   "cell_type": "code",
   "execution_count": 15,
   "id": "145b2a46",
   "metadata": {},
   "outputs": [],
   "source": [
    "# ''(빈 문자열)를 Null로 변환\n",
    "data.replace('', np.nan, inplace=True)"
   ]
  },
  {
   "cell_type": "code",
   "execution_count": 16,
   "id": "935c2879",
   "metadata": {},
   "outputs": [
    {
     "data": {
      "text/plain": [
       "headlines    0\n",
       "text         0\n",
       "dtype: int64"
      ]
     },
     "execution_count": 16,
     "metadata": {},
     "output_type": "execute_result"
    }
   ],
   "source": [
    "# 데이터 전처리에 따른 결측치가 있나 확인\n",
    "data.isnull().sum()"
   ]
  },
  {
   "cell_type": "markdown",
   "id": "d6fea271",
   "metadata": {},
   "source": [
    "### 문장의 길이 분포 분석"
   ]
  },
  {
   "cell_type": "code",
   "execution_count": 17,
   "id": "e4ea2fc3",
   "metadata": {},
   "outputs": [
    {
     "name": "stdout",
     "output_type": "stream",
     "text": [
      "텍스트의 최소 길이 : 1\n",
      "텍스트의 최대 길이 : 60\n",
      "텍스트의 평균 길이 : 35.09968483123221\n",
      "요약의 최소 길이 : 1\n",
      "요약의 최대 길이 : 16\n",
      "요약의 평균 길이 : 9.299532330215534\n"
     ]
    },
    {
     "data": {
      "image/png": "[encoded data removed]",
      "text/plain": [
       "<Figure size 432x288 with 2 Axes>"
      ]
     },
     "metadata": {
      "needs_background": "light"
     },
     "output_type": "display_data"
    },
    {
     "data": {
      "image/png": "[encoded data removed]",
      "text/plain": [
       "<Figure size 432x288 with 1 Axes>"
      ]
     },
     "metadata": {
      "needs_background": "light"
     },
     "output_type": "display_data"
    },
    {
     "data": {
      "image/png": "[encoded data removed]",
      "text/plain": [
       "<Figure size 432x288 with 1 Axes>"
      ]
     },
     "metadata": {
      "needs_background": "light"
     },
     "output_type": "display_data"
    }
   ],
   "source": [
    "# 길이 분포 출력\n",
    "import matplotlib.pyplot as plt\n",
    "\n",
    "text_len = [len(s.split()) for s in data['text']]\n",
    "headlines_len = [len(s.split()) for s in data['headlines']]\n",
    "\n",
    "print('텍스트의 최소 길이 : {}'.format(np.min(text_len)))\n",
    "print('텍스트의 최대 길이 : {}'.format(np.max(text_len)))\n",
    "print('텍스트의 평균 길이 : {}'.format(np.mean(text_len)))\n",
    "print('요약의 최소 길이 : {}'.format(np.min(headlines_len)))\n",
    "print('요약의 최대 길이 : {}'.format(np.max(headlines_len)))\n",
    "print('요약의 평균 길이 : {}'.format(np.mean(headlines_len)))\n",
    "\n",
    "plt.subplot(1,2,1)\n",
    "plt.boxplot(text_len)\n",
    "plt.title('text')\n",
    "plt.subplot(1,2,2)\n",
    "plt.boxplot(headlines_len)\n",
    "plt.title('headlines')\n",
    "plt.tight_layout()\n",
    "plt.show()\n",
    "\n",
    "plt.title('text')\n",
    "plt.hist(text_len, bins = 40)\n",
    "plt.xlabel('length of samples')\n",
    "plt.ylabel('number of samples')\n",
    "plt.show()\n",
    "\n",
    "plt.title('headlines')\n",
    "plt.hist(headlines_len, bins = 40)\n",
    "plt.xlabel('length of samples')\n",
    "plt.ylabel('number of samples')\n",
    "plt.show()"
   ]
  },
  {
   "cell_type": "code",
   "execution_count": 19,
   "id": "3738ab80",
   "metadata": {},
   "outputs": [],
   "source": [
    "def below_threshold_len(max_len, nested_list):\n",
    "  cnt = 0\n",
    "  for s in nested_list:\n",
    "    if(len(s.split()) <= max_len):\n",
    "        cnt = cnt + 1\n",
    "  print('전체 샘플 중 길이가 %s 이하인 샘플의 비율: %s'%(max_len, (cnt / len(nested_list))))"
   ]
  },
  {
   "cell_type": "code",
   "execution_count": 20,
   "id": "873c4b56",
   "metadata": {},
   "outputs": [],
   "source": [
    "text_max_len = 40\n",
    "headlines_max_len = 10"
   ]
  },
  {
   "cell_type": "code",
   "execution_count": 21,
   "id": "0ccf55d6",
   "metadata": {},
   "outputs": [
    {
     "name": "stdout",
     "output_type": "stream",
     "text": [
      "전체 샘플 중 길이가 40 이하인 샘플의 비율: 0.9238714924766165\n",
      "전체 샘플 중 길이가 10 이하인 샘플의 비율: 0.8162972753151687\n"
     ]
    }
   ],
   "source": [
    "below_threshold_len(text_max_len, data['text'])\n",
    "below_threshold_len(headlines_max_len, data['headlines'])"
   ]
  },
  {
   "cell_type": "markdown",
   "id": "1760ae6c",
   "metadata": {},
   "source": [
    "text가 40이하 이면서 headlines 10이하인 샘플만 사용"
   ]
  },
  {
   "cell_type": "code",
   "execution_count": 22,
   "id": "e3915cff",
   "metadata": {},
   "outputs": [
    {
     "name": "stdout",
     "output_type": "stream",
     "text": [
      "전체 샘플수 : 74102\n"
     ]
    }
   ],
   "source": [
    "data = data[\n",
    "    data.apply(\n",
    "        lambda x: (\n",
    "            len(x['text'].split()) <= text_max_len and \n",
    "            len(x['headlines'].split()) <= headlines_max_len\n",
    "        ), \n",
    "        axis=1\n",
    "    )\n",
    "]\n",
    "print('전체 샘플수 :', (len(data)))"
   ]
  },
  {
   "cell_type": "markdown",
   "id": "2b94271b",
   "metadata": {},
   "source": [
    "### headlines에 시작 토큰과 종료 토큰 추가"
   ]
  },
  {
   "cell_type": "code",
   "execution_count": 23,
   "id": "ef348e44",
   "metadata": {},
   "outputs": [
    {
     "data": {
      "text/html": [
       "<div>\n",
       "<style scoped>\n",
       "    .dataframe tbody tr th:only-of-type {\n",
       "        vertical-align: middle;\n",
       "    }\n",
       "\n",
       "    .dataframe tbody tr th {\n",
       "        vertical-align: top;\n",
       "    }\n",
       "\n",
       "    .dataframe thead th {\n",
       "        text-align: right;\n",
       "    }\n",
       "</style>\n",
       "<table border=\"1\" class=\"dataframe\">\n",
       "  <thead>\n",
       "    <tr style=\"text-align: right;\">\n",
       "      <th></th>\n",
       "      <th>headlines</th>\n",
       "      <th>text</th>\n",
       "      <th>decoder_input</th>\n",
       "      <th>decoder_target</th>\n",
       "    </tr>\n",
       "  </thead>\n",
       "  <tbody>\n",
       "    <tr>\n",
       "      <th>2</th>\n",
       "      <td>new zealand end rohit sharma led india match w...</td>\n",
       "      <td>new zealand defeated india wickets fourth odi ...</td>\n",
       "      <td>sostoken new zealand end rohit sharma led indi...</td>\n",
       "      <td>new zealand end rohit sharma led india match w...</td>\n",
       "    </tr>\n",
       "    <tr>\n",
       "      <th>3</th>\n",
       "      <td>aegon life iterm insurance plan helps customer...</td>\n",
       "      <td>aegon life iterm insurance plan customers enjo...</td>\n",
       "      <td>sostoken aegon life iterm insurance plan helps...</td>\n",
       "      <td>aegon life iterm insurance plan helps customer...</td>\n",
       "    </tr>\n",
       "    <tr>\n",
       "      <th>5</th>\n",
       "      <td>rahat fateh ali khan denies getting notice for...</td>\n",
       "      <td>pakistani singer rahat fateh ali khan denied r...</td>\n",
       "      <td>sostoken rahat fateh ali khan denies getting n...</td>\n",
       "      <td>rahat fateh ali khan denies getting notice for...</td>\n",
       "    </tr>\n",
       "    <tr>\n",
       "      <th>9</th>\n",
       "      <td>cong wins ramgarh bypoll in rajasthan takes to...</td>\n",
       "      <td>congress candidate shafia zubair ramgarh assem...</td>\n",
       "      <td>sostoken cong wins ramgarh bypoll in rajasthan...</td>\n",
       "      <td>cong wins ramgarh bypoll in rajasthan takes to...</td>\n",
       "    </tr>\n",
       "    <tr>\n",
       "      <th>10</th>\n",
       "      <td>up cousins fed human excreta for friendship wi...</td>\n",
       "      <td>two minor cousins uttar pradesh gorakhpur alle...</td>\n",
       "      <td>sostoken up cousins fed human excreta for frie...</td>\n",
       "      <td>up cousins fed human excreta for friendship wi...</td>\n",
       "    </tr>\n",
       "  </tbody>\n",
       "</table>\n",
       "</div>"
      ],
      "text/plain": [
       "                                            headlines  \\\n",
       "2   new zealand end rohit sharma led india match w...   \n",
       "3   aegon life iterm insurance plan helps customer...   \n",
       "5   rahat fateh ali khan denies getting notice for...   \n",
       "9   cong wins ramgarh bypoll in rajasthan takes to...   \n",
       "10  up cousins fed human excreta for friendship wi...   \n",
       "\n",
       "                                                 text  \\\n",
       "2   new zealand defeated india wickets fourth odi ...   \n",
       "3   aegon life iterm insurance plan customers enjo...   \n",
       "5   pakistani singer rahat fateh ali khan denied r...   \n",
       "9   congress candidate shafia zubair ramgarh assem...   \n",
       "10  two minor cousins uttar pradesh gorakhpur alle...   \n",
       "\n",
       "                                        decoder_input  \\\n",
       "2   sostoken new zealand end rohit sharma led indi...   \n",
       "3   sostoken aegon life iterm insurance plan helps...   \n",
       "5   sostoken rahat fateh ali khan denies getting n...   \n",
       "9   sostoken cong wins ramgarh bypoll in rajasthan...   \n",
       "10  sostoken up cousins fed human excreta for frie...   \n",
       "\n",
       "                                       decoder_target  \n",
       "2   new zealand end rohit sharma led india match w...  \n",
       "3   aegon life iterm insurance plan helps customer...  \n",
       "5   rahat fateh ali khan denies getting notice for...  \n",
       "9   cong wins ramgarh bypoll in rajasthan takes to...  \n",
       "10  up cousins fed human excreta for friendship wi...  "
      ]
     },
     "execution_count": 23,
     "metadata": {},
     "output_type": "execute_result"
    }
   ],
   "source": [
    "data.loc[:,'decoder_input'] = data['headlines'].apply(\n",
    "    lambda x : 'sostoken '+ x)\n",
    "data.loc[:,'decoder_target'] = data['headlines'].apply(\n",
    "    lambda x : x + ' eostoken')\n",
    "data.head()"
   ]
  },
  {
   "cell_type": "markdown",
   "id": "736dd09d",
   "metadata": {},
   "source": [
    "### numpy 타입으로 변환"
   ]
  },
  {
   "cell_type": "code",
   "execution_count": 24,
   "id": "4d52a44e",
   "metadata": {},
   "outputs": [],
   "source": [
    "encoder_input = np.array(data['text']) # 인코더의 입력\n",
    "decoder_input = np.array(data['decoder_input']) # 디코더의 입력\n",
    "decoder_target = np.array(data['decoder_target']) # 디코더의 레이블"
   ]
  },
  {
   "cell_type": "code",
   "execution_count": 25,
   "id": "879c12dd",
   "metadata": {},
   "outputs": [
    {
     "data": {
      "text/plain": [
       "'new zealand defeated india wickets fourth odi hamilton thursday win first match five match odi series india lost international match rohit sharma captaincy consecutive victories dating back march match witnessed india getting seventh lowest total odi cricket history'"
      ]
     },
     "execution_count": 25,
     "metadata": {},
     "output_type": "execute_result"
    }
   ],
   "source": [
    "encoder_input[0]"
   ]
  },
  {
   "cell_type": "code",
   "execution_count": 26,
   "id": "b565dd2b",
   "metadata": {},
   "outputs": [
    {
     "data": {
      "text/plain": [
       "'sostoken new zealand end rohit sharma led india match winning streak'"
      ]
     },
     "execution_count": 26,
     "metadata": {},
     "output_type": "execute_result"
    }
   ],
   "source": [
    "decoder_input[0]"
   ]
  },
  {
   "cell_type": "code",
   "execution_count": 27,
   "id": "374256c7",
   "metadata": {},
   "outputs": [
    {
     "data": {
      "text/plain": [
       "'new zealand end rohit sharma led india match winning streak eostoken'"
      ]
     },
     "execution_count": 27,
     "metadata": {},
     "output_type": "execute_result"
    }
   ],
   "source": [
    "decoder_target[0]"
   ]
  },
  {
   "cell_type": "markdown",
   "id": "f9296880",
   "metadata": {},
   "source": [
    "### data shuffle"
   ]
  },
  {
   "cell_type": "code",
   "execution_count": 28,
   "id": "9aca1c38",
   "metadata": {},
   "outputs": [
    {
     "name": "stdout",
     "output_type": "stream",
     "text": [
      "[65585 63037 44966 ... 62255 58946  5652]\n"
     ]
    }
   ],
   "source": [
    "# 셔플된 인덱스를 생성해서, 데이터를 셔플\n",
    "indices = np.arange(encoder_input.shape[0])\n",
    "np.random.shuffle(indices)\n",
    "print(indices)"
   ]
  },
  {
   "cell_type": "code",
   "execution_count": 29,
   "id": "63dda0c0",
   "metadata": {},
   "outputs": [],
   "source": [
    "# 데이터를 셔플\n",
    "encoder_input = encoder_input[indices]\n",
    "decoder_input = decoder_input[indices]\n",
    "decoder_target = decoder_target[indices]"
   ]
  },
  {
   "cell_type": "markdown",
   "id": "82be5730",
   "metadata": {},
   "source": [
    "### test set 나누기"
   ]
  },
  {
   "cell_type": "code",
   "execution_count": 30,
   "id": "2a25b916",
   "metadata": {},
   "outputs": [
    {
     "name": "stdout",
     "output_type": "stream",
     "text": [
      "전체 데이터의 수:  74102\n",
      "테스트 데이터의 수 : 14820\n"
     ]
    }
   ],
   "source": [
    "n_of_val = int(len(encoder_input)*0.2)\n",
    "print(\"전체 데이터의 수: \", len(encoder_input))\n",
    "print('테스트 데이터의 수 :', n_of_val)"
   ]
  },
  {
   "cell_type": "code",
   "execution_count": 31,
   "id": "50daa4ed",
   "metadata": {},
   "outputs": [
    {
     "name": "stdout",
     "output_type": "stream",
     "text": [
      "훈련 데이터의 개수 : 59282\n",
      "훈련 레이블의 개수 : 59282\n",
      "테스트 데이터의 개수 : 14820\n",
      "테스트 레이블의 개수 : 14820\n"
     ]
    }
   ],
   "source": [
    "encoder_input_train = encoder_input[:-n_of_val]\n",
    "decoder_input_train = decoder_input[:-n_of_val]\n",
    "decoder_target_train = decoder_target[:-n_of_val]\n",
    "\n",
    "encoder_input_test = encoder_input[-n_of_val:]\n",
    "decoder_input_test = decoder_input[-n_of_val:]\n",
    "decoder_target_test = decoder_target[-n_of_val:]\n",
    "\n",
    "print('훈련 데이터의 개수 :', len(encoder_input_train))\n",
    "print('훈련 레이블의 개수 :', len(decoder_input_train))\n",
    "print('테스트 데이터의 개수 :', len(encoder_input_test))\n",
    "print('테스트 레이블의 개수 :', len(decoder_input_test))"
   ]
  },
  {
   "cell_type": "markdown",
   "id": "3e9a74f3",
   "metadata": {},
   "source": [
    "### 단어 집합 생성"
   ]
  },
  {
   "cell_type": "markdown",
   "id": "6fb80d26",
   "metadata": {},
   "source": [
    "encoder_input에 대해 수행  \n",
    "기본 토크나이저를 생성해서, 전체 통계를 확인 후, 빈도수 높은 단어들만 단어 집합을 생성"
   ]
  },
  {
   "cell_type": "code",
   "execution_count": 32,
   "id": "f6824226",
   "metadata": {},
   "outputs": [],
   "source": [
    "src_tokenizer = Tokenizer() # 토크나이저 정의\n",
    "src_tokenizer.fit_on_texts(encoder_input_train) # 입력된 데이터로부터 단어 집합 생성"
   ]
  },
  {
   "cell_type": "code",
   "execution_count": 33,
   "id": "a22bbc8c",
   "metadata": {},
   "outputs": [],
   "source": [
    "# 확인\n",
    "# [obj for obj in dir(src_tokenizer) if not obj.startswith(\"_\")]"
   ]
  },
  {
   "cell_type": "code",
   "execution_count": 34,
   "id": "c31dd078",
   "metadata": {},
   "outputs": [],
   "source": [
    "# 확인\n",
    "# src_tokenizer.word_index"
   ]
  },
  {
   "cell_type": "code",
   "execution_count": 35,
   "id": "5fd85840",
   "metadata": {},
   "outputs": [],
   "source": [
    "def get_vocab_summary(threshold, tokenizer):\n",
    "    total_cnt = len(tokenizer.word_index) # 단어의 수\n",
    "    rare_cnt = 0 # 등장 빈도수가 threshold보다 작은 단어의 개수를 카운트\n",
    "    total_freq = 0 # 훈련 데이터의 전체 단어 빈도수 총 합\n",
    "    rare_freq = 0 # 등장 빈도수가 threshold보다 작은 단어의 등장 빈도수의 총 합\n",
    "\n",
    "    # 단어와 빈도수의 쌍(pair)을 key와 value로 받는다.\n",
    "    for key, value in tokenizer.word_counts.items():\n",
    "        total_freq = total_freq + value\n",
    "\n",
    "        # 단어의 등장 빈도수가 threshold보다 작으면\n",
    "        if(value < threshold):\n",
    "            rare_cnt = rare_cnt + 1\n",
    "            rare_freq = rare_freq + value\n",
    "\n",
    "    print('단어 집합(vocabulary)의 크기 :', total_cnt)\n",
    "    print('등장 빈도가 %s번 이하인 희귀 단어의 수: %s'%(threshold - 1, rare_cnt))\n",
    "    print('단어 집합에서 희귀 단어를 제외시킬 경우의 단어 집합의 크기 %s'%(total_cnt - rare_cnt))\n",
    "    print(\"단어 집합에서 희귀 단어의 비율:\", (rare_cnt / total_cnt)*100)\n",
    "    print(\"전체 등장 빈도에서 희귀 단어 등장 빈도 비율:\", (rare_freq / total_freq)*100)"
   ]
  },
  {
   "cell_type": "code",
   "execution_count": 36,
   "id": "4898d7ef",
   "metadata": {},
   "outputs": [
    {
     "name": "stdout",
     "output_type": "stream",
     "text": [
      "단어 집합(vocabulary)의 크기 : 61520\n",
      "등장 빈도가 10번 이하인 희귀 단어의 수: 46490\n",
      "단어 집합에서 희귀 단어를 제외시킬 경우의 단어 집합의 크기 15030\n",
      "단어 집합에서 희귀 단어의 비율: 75.56892067620285\n",
      "전체 등장 빈도에서 희귀 단어 등장 빈도 비율: 5.918398912518962\n"
     ]
    }
   ],
   "source": [
    "get_vocab_summary(11,src_tokenizer)"
   ]
  },
  {
   "cell_type": "markdown",
   "id": "be38d793",
   "metadata": {},
   "source": [
    "10번 이하 희귀 단어 등장 비율이 5.9% 정도이다.  \n",
    "10번 이하 등장하는 단어를 제외하고,  \n",
    "단어 집합의 크기를 15000으로 제한"
   ]
  },
  {
   "cell_type": "code",
   "execution_count": 37,
   "id": "2e798ccd",
   "metadata": {},
   "outputs": [],
   "source": [
    "src_vocab = 15000\n",
    "src_tokenizer = Tokenizer(num_words=src_vocab) # 단어 집합의 크기를 15,000으로 제한\n",
    "src_tokenizer.fit_on_texts(encoder_input_train) # 단어 집합 재생성"
   ]
  },
  {
   "cell_type": "code",
   "execution_count": 38,
   "id": "e2faaefd",
   "metadata": {},
   "outputs": [
    {
     "name": "stdout",
     "output_type": "stream",
     "text": [
      "[[633, 953, 302, 211, 2941, 4669, 6541, 37, 2052, 4812, 126, 202, 618, 4, 708, 334, 16, 1734, 1750, 110, 1602, 16, 332, 759, 16], [24, 842, 165, 11311, 1857, 393, 330, 1949, 8, 138, 1, 927, 661, 754, 6438, 805, 24, 842, 928, 663, 2203, 474, 1214, 1, 1858, 566, 116, 1300, 41, 523], [373, 538, 21, 50, 6439, 816, 1929, 5392, 1293, 318, 557, 312, 538, 151, 3170, 32, 1274, 14, 3171, 3058, 101, 186, 1336, 610, 16, 8, 9488, 5883, 4964, 576, 3695, 1137]]\n"
     ]
    }
   ],
   "source": [
    "# 텍스트 시퀀스를 정수 시퀀스로 변환\n",
    "encoder_input_train = src_tokenizer.texts_to_sequences(encoder_input_train) \n",
    "encoder_input_test = src_tokenizer.texts_to_sequences(encoder_input_test)\n",
    "\n",
    "# 잘 진행되었는지 샘플 출력\n",
    "print(encoder_input_train[:3])"
   ]
  },
  {
   "cell_type": "markdown",
   "id": "30440296",
   "metadata": {},
   "source": [
    "headlines에 대해 수행   \n",
    "headlines에 대해서도 기본 토크나이저를 생성해서 통계 확인후, 빈도 높은 단어들만 단어 집합 생성  "
   ]
  },
  {
   "cell_type": "code",
   "execution_count": 39,
   "id": "fde6ed29",
   "metadata": {},
   "outputs": [],
   "source": [
    "tar_tokenizer = Tokenizer() \n",
    "tar_tokenizer.fit_on_texts(decoder_input_train)"
   ]
  },
  {
   "cell_type": "code",
   "execution_count": 40,
   "id": "8dcede52",
   "metadata": {},
   "outputs": [
    {
     "name": "stdout",
     "output_type": "stream",
     "text": [
      "단어 집합(vocabulary)의 크기 : 27278\n",
      "등장 빈도가 5번 이하인 희귀 단어의 수: 18199\n",
      "단어 집합에서 희귀 단어를 제외시킬 경우의 단어 집합의 크기 9079\n",
      "단어 집합에서 희귀 단어의 비율: 66.7167680915023\n",
      "전체 등장 빈도에서 희귀 단어 등장 빈도 비율: 5.960664931178216\n"
     ]
    }
   ],
   "source": [
    "get_vocab_summary(6,tar_tokenizer)"
   ]
  },
  {
   "cell_type": "markdown",
   "id": "7499af08",
   "metadata": {},
   "source": [
    "5번 이하 희귀 단어 등장 비율이 약 6% 정도이다.  \n",
    "5번 이하 등장하는 단어를 제외하고,  \n",
    "단어 집합의 크기를 9000으로 제한"
   ]
  },
  {
   "cell_type": "code",
   "execution_count": 41,
   "id": "b601f28c",
   "metadata": {},
   "outputs": [
    {
     "name": "stdout",
     "output_type": "stream",
     "text": [
      "input\n",
      "input  [[1, 949, 310, 93, 91, 41, 288], [1, 37, 1275, 2144, 3, 584, 21, 6478], [1, 300, 114, 7523, 1234, 4, 66, 3, 1721], [1, 1402, 1647, 548, 819, 6941, 173, 13, 4, 711], [1, 800, 548, 769, 50, 15, 1018, 2407]]\n",
      "target\n",
      "decoder  [[949, 310, 93, 91, 41, 288, 2], [37, 1275, 2144, 3, 584, 21, 6478, 2], [300, 114, 7523, 1234, 4, 66, 3, 1721, 2], [1402, 1647, 548, 819, 6941, 173, 13, 4, 711, 2], [800, 548, 769, 50, 15, 1018, 2407, 2]]\n"
     ]
    }
   ],
   "source": [
    "tar_vocab = 9000\n",
    "tar_tokenizer = Tokenizer(num_words=tar_vocab) \n",
    "tar_tokenizer.fit_on_texts(decoder_input_train)\n",
    "tar_tokenizer.fit_on_texts(decoder_target_train)\n",
    "\n",
    "# 텍스트 시퀀스를 정수 시퀀스로 변환\n",
    "decoder_input_train = tar_tokenizer.texts_to_sequences(decoder_input_train) \n",
    "decoder_target_train = tar_tokenizer.texts_to_sequences(decoder_target_train)\n",
    "decoder_input_test = tar_tokenizer.texts_to_sequences(decoder_input_test)\n",
    "decoder_target_test = tar_tokenizer.texts_to_sequences(decoder_target_test)\n",
    "\n",
    "# 잘 변환되었는지 확인\n",
    "print('input')\n",
    "print('input ',decoder_input_train[:5])\n",
    "print('target')\n",
    "print('decoder ',decoder_target_train[:5])"
   ]
  },
  {
   "cell_type": "markdown",
   "id": "7b357335",
   "metadata": {},
   "source": [
    "희귀 단어를 제거함으로써 headlines에 결측치가 발생할 수도 있다.  \n",
    "이를 확인"
   ]
  },
  {
   "cell_type": "code",
   "execution_count": 42,
   "id": "2b821299",
   "metadata": {},
   "outputs": [
    {
     "name": "stdout",
     "output_type": "stream",
     "text": [
      "삭제할 훈련 데이터의 개수 : 1\n",
      "삭제할 테스트 데이터의 개수 : 0\n",
      "훈련 데이터의 개수 : 59281\n",
      "훈련 레이블의 개수 : 59281\n",
      "테스트 데이터의 개수 : 14820\n",
      "테스트 레이블의 개수 : 14820\n"
     ]
    }
   ],
   "source": [
    "drop_train = [index for index, sentence in enumerate(decoder_input_train) if len(sentence) == 1]\n",
    "drop_test = [index for index, sentence in enumerate(decoder_input_test) if len(sentence) == 1]\n",
    "\n",
    "print('삭제할 훈련 데이터의 개수 :', len(drop_train))\n",
    "print('삭제할 테스트 데이터의 개수 :', len(drop_test))\n",
    "\n",
    "encoder_input_train = [sentence for index, sentence in enumerate(encoder_input_train) if index not in drop_train]\n",
    "decoder_input_train = [sentence for index, sentence in enumerate(decoder_input_train) if index not in drop_train]\n",
    "decoder_target_train = [sentence for index, sentence in enumerate(decoder_target_train) if index not in drop_train]\n",
    "\n",
    "encoder_input_test = [sentence for index, sentence in enumerate(encoder_input_test) if index not in drop_test]\n",
    "decoder_input_test = [sentence for index, sentence in enumerate(decoder_input_test) if index not in drop_test]\n",
    "decoder_target_test = [sentence for index, sentence in enumerate(decoder_target_test) if index not in drop_test]\n",
    "\n",
    "print('훈련 데이터의 개수 :', len(encoder_input_train))\n",
    "print('훈련 레이블의 개수 :', len(decoder_input_train))\n",
    "print('테스트 데이터의 개수 :', len(encoder_input_test))\n",
    "print('테스트 레이블의 개수 :', len(decoder_input_test))"
   ]
  },
  {
   "cell_type": "markdown",
   "id": "963b2a6c",
   "metadata": {},
   "source": [
    "패딩하기"
   ]
  },
  {
   "cell_type": "code",
   "execution_count": 43,
   "id": "b58eb846",
   "metadata": {},
   "outputs": [],
   "source": [
    "encoder_input_train = pad_sequences(encoder_input_train, maxlen=text_max_len, padding='post')\n",
    "encoder_input_test = pad_sequences(encoder_input_test, maxlen=text_max_len, padding='post')\n",
    "decoder_input_train = pad_sequences(decoder_input_train, maxlen=headlines_max_len, padding='post')\n",
    "decoder_target_train = pad_sequences(decoder_target_train, maxlen=headlines_max_len, padding='post')\n",
    "decoder_input_test = pad_sequences(decoder_input_test, maxlen=headlines_max_len, padding='post')\n",
    "decoder_target_test = pad_sequences(decoder_target_test, maxlen=headlines_max_len, padding='post')"
   ]
  },
  {
   "cell_type": "markdown",
   "id": "7895257f",
   "metadata": {},
   "source": [
    "## 모델 설계"
   ]
  },
  {
   "cell_type": "code",
   "execution_count": 44,
   "id": "94fe8b5c",
   "metadata": {},
   "outputs": [],
   "source": [
    "from tensorflow.keras.layers import Input, LSTM, Embedding, Dense, Concatenate, TimeDistributed\n",
    "from tensorflow.keras.models import Model\n",
    "from tensorflow.keras.callbacks import EarlyStopping, ModelCheckpoint\n",
    "from tensorflow.keras.layers import AdditiveAttention\n",
    "\n",
    "\n",
    "# 인코더 설계 시작\n",
    "embedding_dim = 128\n",
    "hidden_size = 256\n",
    "\n",
    "# 인코더\n",
    "encoder_inputs = Input(shape=(text_max_len,))\n",
    "\n",
    "# 인코더의 임베딩 층\n",
    "enc_emb = Embedding(src_vocab, embedding_dim)(encoder_inputs)\n",
    "\n",
    "# 인코더의 LSTM 1\n",
    "encoder_lstm1 = LSTM(hidden_size, return_sequences=True, return_state=True ,dropout = 0.4)\n",
    "encoder_output1, state_h1, state_c1 = encoder_lstm1(enc_emb)\n",
    "\n",
    "# 인코더의 LSTM 2\n",
    "encoder_lstm2 = LSTM(hidden_size, return_sequences=True, return_state=True, dropout=0.4)\n",
    "encoder_output2, state_h2, state_c2 = encoder_lstm2(encoder_output1)\n",
    "\n",
    "# 인코더의 LSTM 3\n",
    "encoder_lstm3 = LSTM(hidden_size, return_sequences=True, return_state=True, dropout=0.4)\n",
    "encoder_outputs, state_h, state_c = encoder_lstm3(encoder_output2)\n",
    "\n"
   ]
  },
  {
   "cell_type": "code",
   "execution_count": 45,
   "id": "cfda4455",
   "metadata": {},
   "outputs": [],
   "source": [
    "# 디코더 설계\n",
    "decoder_inputs = Input(shape=(None,))\n",
    "\n",
    "# 디코더의 임베딩 층\n",
    "dec_emb_layer = Embedding(tar_vocab, embedding_dim)\n",
    "dec_emb = dec_emb_layer(decoder_inputs)\n",
    "\n",
    "# 디코더의 LSTM\n",
    "# decoder_lstm = LSTM(hidden_size, return_sequences=True, return_state=True, dropout=0.4, recurrent_dropout=0.2)\n",
    "decoder_lstm = LSTM(hidden_size, return_sequences=True, return_state=True, dropout=0.4)\n",
    "decoder_outputs, _, _ = decoder_lstm(dec_emb, initial_state=[state_h, state_c])"
   ]
  },
  {
   "cell_type": "code",
   "execution_count": 46,
   "id": "8869a542",
   "metadata": {},
   "outputs": [
    {
     "name": "stdout",
     "output_type": "stream",
     "text": [
      "Model: \"model\"\n",
      "__________________________________________________________________________________________________\n",
      "Layer (type)                    Output Shape         Param #     Connected to                     \n",
      "==================================================================================================\n",
      "input_1 (InputLayer)            [(None, 40)]         0                                            \n",
      "__________________________________________________________________________________________________\n",
      "embedding (Embedding)           (None, 40, 128)      1920000     input_1[0][0]                    \n",
      "__________________________________________________________________________________________________\n",
      "lstm (LSTM)                     [(None, 40, 256), (N 394240      embedding[0][0]                  \n",
      "__________________________________________________________________________________________________\n",
      "input_2 (InputLayer)            [(None, None)]       0                                            \n",
      "__________________________________________________________________________________________________\n",
      "lstm_1 (LSTM)                   [(None, 40, 256), (N 525312      lstm[0][0]                       \n",
      "__________________________________________________________________________________________________\n",
      "embedding_1 (Embedding)         (None, None, 128)    1152000     input_2[0][0]                    \n",
      "__________________________________________________________________________________________________\n",
      "lstm_2 (LSTM)                   [(None, 40, 256), (N 525312      lstm_1[0][0]                     \n",
      "__________________________________________________________________________________________________\n",
      "lstm_3 (LSTM)                   [(None, None, 256),  394240      embedding_1[0][0]                \n",
      "                                                                 lstm_2[0][1]                     \n",
      "                                                                 lstm_2[0][2]                     \n",
      "__________________________________________________________________________________________________\n",
      "attention_layer (AdditiveAttent (None, None, 256)    256         lstm_3[0][0]                     \n",
      "                                                                 lstm_2[0][0]                     \n",
      "__________________________________________________________________________________________________\n",
      "concat_layer (Concatenate)      (None, None, 512)    0           lstm_3[0][0]                     \n",
      "                                                                 attention_layer[0][0]            \n",
      "__________________________________________________________________________________________________\n",
      "dense (Dense)                   (None, None, 9000)   4617000     concat_layer[0][0]               \n",
      "==================================================================================================\n",
      "Total params: 9,528,360\n",
      "Trainable params: 9,528,360\n",
      "Non-trainable params: 0\n",
      "__________________________________________________________________________________________________\n"
     ]
    }
   ],
   "source": [
    "from tensorflow.keras.layers import AdditiveAttention\n",
    "\n",
    "# 어텐션 층(어텐션 함수)\n",
    "attn_layer = AdditiveAttention(name='attention_layer')\n",
    "\n",
    "# 인코더와 디코더의 모든 time step의 hidden state를 어텐션 층에 전달하고 결과를 리턴\n",
    "attn_out = attn_layer([decoder_outputs, encoder_outputs])\n",
    "\n",
    "\n",
    "# 어텐션의 결과와 디코더의 hidden state들을 연결\n",
    "decoder_concat_input = Concatenate(axis=-1, name='concat_layer')([decoder_outputs, attn_out])\n",
    "\n",
    "# 디코더의 출력층\n",
    "decoder_softmax_layer = Dense(tar_vocab, activation='softmax')\n",
    "decoder_softmax_outputs = decoder_softmax_layer(decoder_concat_input)\n",
    "\n",
    "# 모델 정의\n",
    "model = Model([encoder_inputs, decoder_inputs], decoder_softmax_outputs)\n",
    "model.summary()"
   ]
  },
  {
   "cell_type": "code",
   "execution_count": 47,
   "id": "afbda19d",
   "metadata": {},
   "outputs": [
    {
     "name": "stdout",
     "output_type": "stream",
     "text": [
      "Epoch 1/50\n",
      "232/232 [==============================] - 72s 83ms/step - loss: 6.3100 - val_loss: 5.8826\n",
      "Epoch 2/50\n",
      "232/232 [==============================] - 19s 80ms/step - loss: 5.7408 - val_loss: 5.4877\n",
      "Epoch 3/50\n",
      "232/232 [==============================] - 19s 82ms/step - loss: 5.4049 - val_loss: 5.2384\n",
      "Epoch 4/50\n",
      "232/232 [==============================] - 20s 84ms/step - loss: 5.1368 - val_loss: 5.0427\n",
      "Epoch 5/50\n",
      "232/232 [==============================] - 20s 87ms/step - loss: 4.9081 - val_loss: 4.8879\n",
      "Epoch 6/50\n",
      "232/232 [==============================] - 21s 89ms/step - loss: 4.7098 - val_loss: 4.7809\n",
      "Epoch 7/50\n",
      "232/232 [==============================] - 21s 89ms/step - loss: 4.5393 - val_loss: 4.6630\n",
      "Epoch 8/50\n",
      "232/232 [==============================] - 21s 89ms/step - loss: 4.3876 - val_loss: 4.5776\n",
      "Epoch 9/50\n",
      "232/232 [==============================] - 21s 89ms/step - loss: 4.2538 - val_loss: 4.5106\n",
      "Epoch 10/50\n",
      "232/232 [==============================] - 21s 89ms/step - loss: 4.1279 - val_loss: 4.4605\n",
      "Epoch 11/50\n",
      "232/232 [==============================] - 21s 89ms/step - loss: 4.0134 - val_loss: 4.4129\n",
      "Epoch 12/50\n",
      "232/232 [==============================] - 21s 89ms/step - loss: 3.9064 - val_loss: 4.3790\n",
      "Epoch 13/50\n",
      "232/232 [==============================] - 21s 89ms/step - loss: 3.8097 - val_loss: 4.3357\n",
      "Epoch 14/50\n",
      "232/232 [==============================] - 21s 89ms/step - loss: 3.7190 - val_loss: 4.3082\n",
      "Epoch 15/50\n",
      "232/232 [==============================] - 21s 89ms/step - loss: 3.6321 - val_loss: 4.2820\n",
      "Epoch 16/50\n",
      "232/232 [==============================] - 21s 89ms/step - loss: 3.5525 - val_loss: 4.2712\n",
      "Epoch 17/50\n",
      "232/232 [==============================] - 21s 89ms/step - loss: 3.4774 - val_loss: 4.2603\n",
      "Epoch 18/50\n",
      "232/232 [==============================] - 21s 89ms/step - loss: 3.4048 - val_loss: 4.2500\n",
      "Epoch 19/50\n",
      "232/232 [==============================] - 21s 89ms/step - loss: 3.3380 - val_loss: 4.2384\n",
      "Epoch 20/50\n",
      "232/232 [==============================] - 21s 89ms/step - loss: 3.2748 - val_loss: 4.2329\n",
      "Epoch 21/50\n",
      "232/232 [==============================] - 21s 89ms/step - loss: 3.2134 - val_loss: 4.2263\n",
      "Epoch 22/50\n",
      "232/232 [==============================] - 21s 89ms/step - loss: 3.1542 - val_loss: 4.2184\n",
      "Epoch 23/50\n",
      "232/232 [==============================] - 21s 89ms/step - loss: 3.0970 - val_loss: 4.2215\n",
      "Epoch 24/50\n",
      "232/232 [==============================] - 21s 89ms/step - loss: 3.0410 - val_loss: 4.2201\n",
      "Epoch 00024: early stopping\n"
     ]
    }
   ],
   "source": [
    "model.compile(optimizer='rmsprop', loss='sparse_categorical_crossentropy')\n",
    "es = EarlyStopping(monitor='val_loss', patience=2, verbose=1)\n",
    "\n",
    "history = model.fit(x=[encoder_input_train, decoder_input_train], y=decoder_target_train, \\\n",
    "          validation_data=([encoder_input_test, decoder_input_test], decoder_target_test), \\\n",
    "          batch_size=256, callbacks=[es], epochs=50)"
   ]
  },
  {
   "cell_type": "code",
   "execution_count": 48,
   "id": "1d8fda39",
   "metadata": {},
   "outputs": [
    {
     "data": {
      "image/png": "[encoded data removed]",
      "text/plain": [
       "<Figure size 432x288 with 1 Axes>"
      ]
     },
     "metadata": {
      "needs_background": "light"
     },
     "output_type": "display_data"
    }
   ],
   "source": [
    "plt.plot(history.history['loss'], label='train')\n",
    "plt.plot(history.history['val_loss'], label='test')\n",
    "plt.legend()\n",
    "plt.show()"
   ]
  },
  {
   "cell_type": "markdown",
   "id": "27292423",
   "metadata": {},
   "source": [
    "24 에폭 이후, val_loss가 줄지 않아, early stop 하였음."
   ]
  },
  {
   "cell_type": "markdown",
   "id": "8e7adbd9",
   "metadata": {},
   "source": [
    "인덱스 -> 텍스트 복원을 위한 사전 준비"
   ]
  },
  {
   "cell_type": "code",
   "execution_count": 49,
   "id": "a4caa58a",
   "metadata": {},
   "outputs": [],
   "source": [
    "src_index_to_word = src_tokenizer.index_word # 원문 단어 집합에서 정수 -> 단어를 얻음\n",
    "tar_word_to_index = tar_tokenizer.word_index # 요약 단어 집합에서 단어 -> 정수를 얻음\n",
    "tar_index_to_word = tar_tokenizer.index_word # 요약 단어 집합에서 정수 -> 단어를 얻음"
   ]
  },
  {
   "cell_type": "markdown",
   "id": "f9c5b4c1",
   "metadata": {},
   "source": [
    "### 추론단계에 사용하는 seq2seq 모델 설계"
   ]
  },
  {
   "cell_type": "code",
   "execution_count": 50,
   "id": "781889f7",
   "metadata": {},
   "outputs": [],
   "source": [
    "# 인코더 설계\n",
    "encoder_model = Model(inputs=encoder_inputs, outputs=[encoder_outputs, state_h, state_c])\n",
    "\n",
    "# 이전 시점의 상태들을 저장하는 텐서\n",
    "decoder_state_input_h = Input(shape=(hidden_size,))\n",
    "decoder_state_input_c = Input(shape=(hidden_size,))\n",
    "\n",
    "dec_emb2 = dec_emb_layer(decoder_inputs)\n",
    "\n",
    "# 문장의 다음 단어를 예측하기 위해서 초기 상태(initial_state)를 이전 시점의 상태로 사용. 이는 뒤의 함수 decode_sequence()에 구현\n",
    "# 훈련 과정에서와 달리 LSTM의 리턴하는 은닉 상태와 셀 상태인 state_h와 state_c를 버리지 않음.\n",
    "decoder_outputs2, state_h2, state_c2 = decoder_lstm(dec_emb2, initial_state=[decoder_state_input_h, decoder_state_input_c])\n",
    "\n"
   ]
  },
  {
   "cell_type": "code",
   "execution_count": 51,
   "id": "4cf342ae",
   "metadata": {},
   "outputs": [],
   "source": [
    "# 어텐션 함수\n",
    "decoder_hidden_state_input = Input(shape=(text_max_len, hidden_size))\n",
    "attn_out_inf = attn_layer([decoder_outputs2, decoder_hidden_state_input])\n",
    "decoder_inf_concat = Concatenate(axis=-1, name='concat')([decoder_outputs2, attn_out_inf])\n",
    "\n",
    "# 디코더의 출력층\n",
    "decoder_outputs2 = decoder_softmax_layer(decoder_inf_concat) \n",
    "\n",
    "# 최종 디코더 모델\n",
    "decoder_model = Model(\n",
    "    [decoder_inputs] + [decoder_hidden_state_input,decoder_state_input_h, decoder_state_input_c],\n",
    "    [decoder_outputs2] + [state_h2, state_c2])\n",
    "\n"
   ]
  },
  {
   "cell_type": "code",
   "execution_count": 52,
   "id": "0f0e7fad",
   "metadata": {},
   "outputs": [],
   "source": [
    "def decode_sequence(input_seq):\n",
    "    # 입력으로부터 인코더의 상태를 얻음\n",
    "    e_out, e_h, e_c = encoder_model.predict(input_seq)\n",
    "\n",
    "     # <SOS>에 해당하는 토큰 생성\n",
    "    target_seq = np.zeros((1,1))\n",
    "    target_seq[0, 0] = tar_word_to_index['sostoken']\n",
    "\n",
    "    stop_condition = False\n",
    "    decoded_sentence = ''\n",
    "    while not stop_condition: # stop_condition이 True가 될 때까지 루프 반복\n",
    "\n",
    "        output_tokens, h, c = decoder_model.predict([target_seq] + [e_out, e_h, e_c])\n",
    "        sampled_token_index = np.argmax(output_tokens[0, -1, :])\n",
    "        sampled_token = tar_index_to_word[sampled_token_index]\n",
    "\n",
    "        if (sampled_token!='eostoken'):\n",
    "            decoded_sentence += ' '+sampled_token\n",
    "\n",
    "        #  <eos>에 도달하거나 최대 길이를 넘으면 중단.\n",
    "        if (sampled_token == 'eostoken'  or len(decoded_sentence.split()) >= (headlines_max_len-1)):\n",
    "            stop_condition = True\n",
    "\n",
    "        # 길이가 1인 타겟 시퀀스를 업데이트\n",
    "        target_seq = np.zeros((1,1))\n",
    "        target_seq[0, 0] = sampled_token_index\n",
    "\n",
    "        # 상태를 업데이트 합니다.\n",
    "        e_h, e_c = h, c\n",
    "\n",
    "    return decoded_sentence\n"
   ]
  },
  {
   "cell_type": "code",
   "execution_count": 53,
   "id": "16808d46",
   "metadata": {},
   "outputs": [],
   "source": [
    "# 원문의 정수 시퀀스를 텍스트 시퀀스로 변환\n",
    "def seq2text(input_seq):\n",
    "    temp=''\n",
    "    for i in input_seq:\n",
    "        if (i!=0):\n",
    "            temp = temp + src_index_to_word[i]+' '\n",
    "    return temp\n",
    "\n",
    "# 요약문의 정수 시퀀스를 텍스트 시퀀스로 변환\n",
    "def seq2summary(input_seq):\n",
    "    # [[YOUR CODE]]\n",
    "    temp=''\n",
    "    for i in input_seq:\n",
    "        if i not in [0, 1, 2]:\n",
    "            temp = temp + tar_index_to_word[i]+' '\n",
    "    return temp\n"
   ]
  },
  {
   "cell_type": "code",
   "execution_count": 54,
   "id": "9df48482",
   "metadata": {},
   "outputs": [
    {
     "name": "stdout",
     "output_type": "stream",
     "text": [
      "원문 : anushka sharma slammed bengali newspaper publishing fake interview tweeted never done interview personal life anyone else shows personal freedom looked interview title english roughly translated things happen suddenly life like picture \n",
      "실제 요약 : anushka slams newspaper for publishing her fake interview \n",
      "예측 요약 :  anushka sharma denies rumours of being called\n",
      "\n",
      "\n",
      "원문 : least twelve students including six girls allegedly committed suicide parts madhya pradesh depressed results class class exams conducted state board suicides reported till friday night hours board exam results announced boy marks committed suicide \n",
      "실제 요약 : students commit suicide hours after mp board exam results \n",
      "예측 요약 :  students suicide after failing to exam exam\n",
      "\n",
      "\n",
      "원문 : students union delhi university st stephen college said phrases including mandir banega found door chapel located college premises friday om symbol phrase going hell found cross behind chapel graffiti later cleared students union added \n",
      "실제 요약 : mandir banega in st stephen college \n",
      "예측 요약 :  du students to cut for\n",
      "\n",
      "\n",
      "원문 : actress priyanka chopra sharing picture children rohingya refugee camp wrote world needs care need care kids future could see eyes added priyanka currently bangladesh part unicef mission \n",
      "실제 요약 : the world needs to care priyanka on rohingya refugees \n",
      "예측 요약 :  priyanka in priyanka on priyanka\n",
      "\n",
      "\n",
      "원문 : vice president venkaiah naidu monday urged reserve bank india reveal received black money following demonetisation prove credibility reform stating banking confined limited number people earlier added several people realised importance bank accounts demonetisation introduced \n",
      "실제 요약 : rbi should prove of demonetisation vice prez \n",
      "예측 요약 :  note ban on note with finance minister\n",
      "\n",
      "\n",
      "원문 : central scheme grants pension benefits various categories freedom fighters besides pension freedom fighters also avail free railway pass medical facilities telephone connection subject certain conditions freedom fighters home new delhi provides transit accommodation eligible recipients scheme \n",
      "실제 요약 : what benefits are freedom fighters entitled to \n",
      "예측 요약 :  centre to organise new universities in central schools\n",
      "\n",
      "\n",
      "원문 : man tied electricity pole thrashed several people town odisha wednesday suspected committing theft later handed police case registered according media reports suspected stealing goat \n",
      "실제 요약 : man tied to electricity pole thrashed on theft suspicion \n",
      "예측 요약 :  man attacks on suspicion of stealing\n",
      "\n",
      "\n",
      "원문 : two people killed others left injured portion construction flyover collapsed odisha bhubaneswar sunday many fire tenders three units state disaster management authority deployed rescue operations per reports labourers engaged construction activity site flyover collapsed \n",
      "실제 요약 : dead after flyover collapses in odisha \n",
      "예측 요약 :  killed injured in stampede at mumbai building\n",
      "\n",
      "\n",
      "원문 : uttar pradesh government ordered inspection petrol pumps across state connection multi crore petrol scam state police recently found petrol pumps cheating customers installing chip machines reduced output special task force earlier arrested people including petrol pump owners technicians \n",
      "실제 요약 : govt orders inspection of all petrol pumps in uttar pradesh \n",
      "예측 요약 :  delhi govt to set up cr to cr\n",
      "\n",
      "\n",
      "원문 : sunil mittal led airtel entered agreement buy telecom operations rwanda brand airtel said acquisition make second largest operator african country revenue market share notably airtel merged ghana last month become country second largest operator \n",
      "실제 요약 : airtel to acquire telecom operator in africa rwanda \n",
      "예측 요약 :  airtel to acquire stake in new york\n",
      "\n",
      "\n",
      "원문 : army jawan allegedly drowned three day old daughter bucket water buried body village rajasthan police said saturday accused wife informed police incident following fir registered body recovered however arrest made connection case far \n",
      "실제 요약 : army jawan drowns day old daughter in bucket of water \n",
      "예측 요약 :  army jawan kills self after jawan with his\n",
      "\n",
      "\n",
      "원문 : wikileaks shared link full text copy book fire fury inside trump white house based us president donald trump tenure office whistleblower organisation tweeted google drive link saying book leaked onto internet book released days earlier trump threatened sue publishers \n",
      "실제 요약 : wikileaks shares full text of trump book fire and \n",
      "예측 요약 :  trump for trump shooting near trump office\n",
      "\n",
      "\n",
      "원문 : denying responsibility diplomatic row poisoning former spy sergei skripal uk russian foreign minister sergei lavrov said uk us playing children games slammed uk us western powers dropping spreading lies disinformation russia \n",
      "실제 요약 : uk us playing children games russia on spy poisoning row \n",
      "예측 요약 :  russia expels russia for calling spy\n",
      "\n",
      "\n",
      "원문 : world first procedure allowed fully paralysed man control hand using thoughts technique allows people reach things using electrical implants connected brain patient aged lost motor movements eight years ago bike accident able drink eat without assistance \n",
      "실제 요약 : brain implant lets paralysed man move hands with thought \n",
      "예측 요약 :  world first robot transplant with human in us\n",
      "\n",
      "\n",
      "원문 : man allegedly shot dead four persons apparent case road rage gurugram road police said victim shot licensed pistol altercation accused declared dead brought hospital police procured cctv footage area probe incident \n",
      "실제 요약 : man shot dead in gurugram road rage incident \n",
      "예측 요약 :  man shot dead by man shot in delhi\n",
      "\n",
      "\n",
      "원문 : pizza measuring feet set guinness world record longest pizza world pizza weighed estimated kg cooked special temperature record set california united states organiser event believed table holding pizza also record breaking \n",
      "실제 요약 : over foot pizza breaks record for world longest \n",
      "예측 요약 :  world largest plane sets record for record\n",
      "\n",
      "\n",
      "원문 : facebook owned instagram launched standalone video app called allow users upload videos one hour length users able videos visit tab recommended videos creators following also allow creators upload videos directly instagram app product manager said \n",
      "실제 요약 : instagram launches app for hour long videos \n",
      "예측 요약 :  facebook launches app for users to send users\n",
      "\n",
      "\n",
      "원문 : india witnessed last total solar eclipse july would observe total solar eclipse another years march however december june parts would see occur moon covers sun centre leaving outer edges form ring fire \n",
      "실제 요약 : india will not witness total solar eclipse for next years \n",
      "예측 요약 :  india to witness solar eclipse in the\n",
      "\n",
      "\n",
      "원문 : google self driving car spinoff waymo announced going test vehicles california death valley holds record highest temperature recorded ground temperature death valley creek known tyres reach high degrees celsius cars already tested extremely cold temperatures \n",
      "실제 요약 : google to test driverless cars in of world hottest spots \n",
      "예측 요약 :  waymo tests self driving car crash in crash\n",
      "\n",
      "\n",
      "원문 : bsp chief mayawati saturday said murder violence playing law order become common sight name saffron appeasement bjp government added become sort fashion set new traditions taking without permission create violence bjp government totally failed control elements \n",
      "실제 요약 : saffron law and order mayawati to bjp \n",
      "예측 요약 :  bjp leader blames bjp leader for anti corruption\n",
      "\n",
      "\n",
      "원문 : filmmaker farah khan whose brother sajid khan accused sexual harassment said thing fears quick quick punishments given trial twitter added fear anybody talking girl getting scared talking like \n",
      "실제 요약 : fear given through trial by twitter farah \n",
      "예측 요약 :  was not sexually harassed in bollywood says sister\n",
      "\n",
      "\n",
      "원문 : comedian raju srivastava confirmed joining kapil sharma show new entry raju said started shooting show channel team happy called episodes however added know channel going represent character acts audience \n",
      "실제 요약 : joining the kapil sharma show as new entry \n",
      "예측 요약 :  kapil sharma has been the most of an season\n",
      "\n",
      "\n",
      "원문 : directing bjp prove majority karnataka assembly pm saturday supreme court said number game one enjoys majority invited form government even bjp counsel mukul opposed floor test arguing need time court observed floor test seemed best option \n",
      "실제 요약 : it is just number game sc on karnataka govt formation \n",
      "예측 요약 :  taka cm demands resignation from bjp for polls\n",
      "\n",
      "\n",
      "원문 : four devotees killed injured friday temporary shelters andhra pradesh temple collapsed due heavy rainfall amid ram navami celebrations incident occurred minutes cm chandrababu naidu arrival delayed around minutes due naidu declared lakh compensation kin deceased \n",
      "실제 요약 : killed in at andhra temple ahead of cm visit \n"
     ]
    },
    {
     "name": "stdout",
     "output_type": "stream",
     "text": [
      "예측 요약 :  people killed as people in andhra pradesh cm\n",
      "\n",
      "\n",
      "원문 : newly appointed deputy chief minister uttar pradesh dinesh sharma former mayor lucknow held post nine years since year old leader phd lucknow university teaching university commerce department since sharma also made bjp national vice president \n",
      "실제 요약 : who is up new joint deputy cm dinesh sharma \n",
      "예측 요약 :  former deputy cm deputy deputy cm\n",
      "\n",
      "\n",
      "원문 : us president donald trump said former soviet union right invade afghanistan terrorists going russia russia used soviet union afghanistan made russia went bankrupt fighting afghanistan trump added reacting twitter user said trump confused terrorists afghanistan terrorists \n",
      "실제 요약 : former soviet union was right to invade afghanistan trump \n",
      "예측 요약 :  trump praises us for un summit\n",
      "\n",
      "\n",
      "원문 : shares giant infosys rose much intraday trade monday following nandan nilekani return company non executive chairman nilekani friday said stay firm long takes get back track notably company appointed executive search firm find new ceo \n",
      "실제 요약 : infosys shares rise over on nandan nilekani return \n",
      "예측 요약 :  infosys shares fall after merger with investors\n",
      "\n",
      "\n",
      "원문 : commerce firms snapdeal wish buy craft comparison issued notice selling wildlife products platforms notices served last week names surfaced investigation indore based company selling prohibited wildlife products items sold online retailers reportedly included dried genitals \n",
      "실제 요약 : snapdeal issued notice for selling wildlife products \n",
      "예측 요약 :  amazon employees threaten to employees report\n",
      "\n",
      "\n",
      "원문 : responding question rajya sabha government monday revealed cost basic version rafale aircraft crore comes amid attacks congress government caused loss crore paying crore jet rafale customers egypt qatar \n",
      "실제 요약 : cost of each rafale aircraft is crore government \n",
      "예측 요약 :  crore tax in budget for fy\n",
      "\n",
      "\n",
      "원문 : congress vice president rahul gandhi monday said demonetisation pm narendra modi disaster november sad day said pm modi government said celebrate november day demonetisation implemented pm modi able understand feeling nation \n",
      "실제 요약 : demonetisation is an out and out disaster rahul gandhi \n",
      "예측 요약 :  pm modi believes in kerala rahul gandhi\n",
      "\n",
      "\n",
      "원문 : chinese phone maker huawei ceo richard recent launch company new smartphone mate series said working foldable phones foldable phones company earlier set target date releasing foldable device said phone yet disclose details phone \n",
      "실제 요약 : we are working on foldable phones huawei ceo \n",
      "예측 요약 :  samsung to build wireless sensor in\n",
      "\n",
      "\n",
      "원문 : alibaba billionaire co founder jack stepping post executive chairman th birthday september alibaba spokesperson clarified saturday said unveil succession plan younger talent next week new york times report saying stepping retire factually wrong spokesperson added \n",
      "실제 요약 : jack ma not retiring to remain executive chairman alibaba \n",
      "예측 요약 :  founder of ma youngest founder as ceo\n",
      "\n",
      "\n",
      "원문 : delhi state election commission chief sk srivastava said everything went well electronic voting machines worked properly recently concluded municipal corporation elections national capital notably delhi chief minister arvind kejriwal alleged polling day evms various parts capital city \n",
      "실제 요약 : evms worked properly in mcd elections delhi poll panel head \n",
      "예측 요약 :  delhi hc seeks removal of evms for evm ramdev\n",
      "\n",
      "\n",
      "원문 : actor johnny depp joking assassination us president donald trump said question anything last time actor assassinated president depp said think needs help lot wonderful dark dark places could go \n",
      "실제 요약 : johnny depp jokes about us president trump \n",
      "예측 요약 :  trump is not an affair ex trump\n",
      "\n",
      "\n",
      "원문 : bihar cm nitish kumar broke grand alliance congress rjd user tweeted nitish kumar behaving like indrani mukherjee consistently partner every relationship reacting implementation goods services tax tweet read cannot ca single person explain gst \n",
      "실제 요약 : what were some of the tweets in \n",
      "예측 요약 :  nitish kumar is not nitish kumar tejashwi\n",
      "\n",
      "\n",
      "원문 : amazon japan thursday said raided japan fair trade commission suspicion anti trust violation commerce major reportedly suspected asking suppliers bear part cost incurred selling products discount platform amazon japan spokesperson said company fully cooperating regulator \n",
      "실제 요약 : amazon japan raided over suspicion of anti trust violation \n",
      "예측 요약 :  amazon plans to build billion in anti corruption report\n",
      "\n",
      "\n",
      "원문 : richest newcomer forbes india rich list group chairman ranked th net worth billion newcomers include dinesh governance services firm vijay shekhar sharma mobile wallet paytm rana kapoor yes bank \n",
      "실제 요약 : richest on forbes india list at bn \n",
      "예측 요약 :  indian origin wealth in forbes list of billionaires\n",
      "\n",
      "\n",
      "원문 : body doll prompted major police operation southern germany monday mistaken corpse police said passerby spotted appeared corpse covered blood lying stream firefighters determined doll reaching suspected crime scene cordoned \n",
      "실제 요약 : headless doll triggers major police operation in germany \n",
      "예측 요약 :  singer dal officer in mumbai\n",
      "\n",
      "\n",
      "원문 : maintaining service charge voluntary consumer affairs minister ram vilas paswan asked service charge reach employees present known much fully part service charge distributed amongst hotel staff stated regard said hotels make public amount actually given employees \n",
      "실제 요약 : does the service charge even reach employees asks paswan \n",
      "예측 요약 :  patanjali asks restaurants to make air quality\n",
      "\n",
      "\n",
      "원문 : cryptocurrency enthusiasts set sail cruise called blockchain cruise theme blockchain innovation cryptocurrency cybersecurity expert john mcafee present cruise blamed government crash value cryptocurrencies saying like ban smoking weed cannot ban \n",
      "실제 요약 : crypto set sail on blockchain cruise \n",
      "예측 요약 :  world bank to build world biggest cryptocurrency\n",
      "\n",
      "\n",
      "원문 : north korea foreign ministry said country fully latest un sanctions citizens entities continue nuclear weapons development without delay defend sovereignty ministry called un decision hostile act intended curb north korea nuclear forces cause economic suffocation \n",
      "실제 요약 : korea rejects un sanctions vows to continue nuke program \n",
      "예측 요약 :  us threatens to sanctions against korea\n",
      "\n",
      "\n",
      "원문 : former prime minister manmohan singh monday warned demonetisation implementation gst bound impact gdp growth adversely said moves impacted informal small scale sectors account india trillion economy said india employment informal sector \n",
      "실제 요약 : note ban gst rollout affected gdp manmohan singh \n",
      "예측 요약 :  demonetisation growth will be in the gdp manmohan singh\n",
      "\n",
      "\n",
      "원문 : chinese officials thursday said atmosphere right bilateral meeting indian prime minister narendra modi chinese president xi jinping summit germany armies india china currently involved standoff india china bhutan tri junction governments exchanged warnings situation \n",
      "실제 요약 : atmosphere not right for modi xi meeting china \n",
      "예측 요약 :  india china ties against pm modi\n",
      "\n",
      "\n",
      "원문 : year old national tennis champion almost lost sight right eye four become india top ranked player india tennis association category wore eye patch good eye four years force defected eye start functioning \n",
      "실제 요약 : girl who almost lost is now india top player \n",
      "예측 요약 :  indian team wins cwg bronze in\n",
      "\n",
      "\n",
      "원문 : domino pizza russia forced end promotion offering fans free pizza years got brand logo prominent place many people participated promotion supposed last two months ended five days hundreds people showed russian social media \n",
      "실제 요약 : domino ends free pizza offer for people with logo \n",
      "예측 요약 :  france to offer to allow to offer to\n",
      "\n",
      "\n",
      "원문 : economic survey tabled parliament today printed pink highlight gender issues amid economic development survey estimated due preference sons india could million unwanted girls girls whose parents wanted sons instead pointed parents continued children got sons \n",
      "실제 요약 : why was the economic survey printed in pink \n",
      "예측 요약 :  india must be mandatory for gender rights union minister\n",
      "\n",
      "\n",
      "원문 : security forces sunday killed three militants involved abduction murder police constable kulgam militants part joint group militant outfits lashkar taiba hizbul mujahideen trapped cordon search operation army police crpf constable tortured militants director general police sp vaid said \n",
      "실제 요약 : security forces gun down militants who abducted killed cop \n"
     ]
    },
    {
     "name": "stdout",
     "output_type": "stream",
     "text": [
      "예측 요약 :  killed in attack on pak army anniversary\n",
      "\n",
      "\n",
      "원문 : company behind oil brands like parachute friday said picked stake men grooming startup gujarat based startup founded sells beard beard grooming products men facial hair received seed funding september valuation crore \n",
      "실제 요약 : oil maker picks stake in male startup \n",
      "예측 요약 :  buys startup raises crore\n",
      "\n",
      "\n",
      "원문 : chinese embassy official new delhi said ongoing standoff armies india china impact economic cultural ties two nations india china enjoyed historical cultural connections thousands years border issue temporary official said \n",
      "실제 요약 : standoff temporary will not hit economic cultural ties china \n",
      "예측 요약 :  china to doklam to bhutan bhutan doklam\n",
      "\n",
      "\n",
      "원문 : following demise rock band linkin park lead chester bennington july linkin park songs earned increase demand audio streams day us compared july group streamed song july end earning streams day bennington reportedly committed suicide nn \n",
      "실제 요약 : linkin park streams increased by on chester death day \n",
      "예측 요약 :  michael jackson performs with kg of\n",
      "\n",
      "\n"
     ]
    }
   ],
   "source": [
    "for i in range(50, 100):\n",
    "    print(\"원문 :\", seq2text(encoder_input_test[i]))\n",
    "    print(\"실제 요약 :\", seq2summary(decoder_input_test[i]))\n",
    "    print(\"예측 요약 :\", decode_sequence(encoder_input_test[i].reshape(1, text_max_len)))\n",
    "    print(\"\\n\")"
   ]
  },
  {
   "cell_type": "markdown",
   "id": "aab8d8f8",
   "metadata": {},
   "source": [
    "## Summa를 이용해서 추출적 요약"
   ]
  },
  {
   "cell_type": "code",
   "execution_count": 55,
   "id": "d7d88c37",
   "metadata": {},
   "outputs": [],
   "source": [
    "from summa.summarizer import summarize"
   ]
  },
  {
   "cell_type": "code",
   "execution_count": 56,
   "id": "ae266458",
   "metadata": {
    "scrolled": true
   },
   "outputs": [
    {
     "name": "stdout",
     "output_type": "stream",
     "text": [
      "원문 : anushka sharma slammed bengali newspaper publishing fake interview tweeted never done interview personal life anyone else shows personal freedom looked interview title english roughly translated things happen suddenly life like picture \n",
      "실제 요약 : anushka slams newspaper for publishing her fake interview \n",
      "예측 요약 :  anushka sharma denies rumours of being called\n",
      "추출적 요약 : \n",
      "\n",
      "\n",
      "원문 : least twelve students including six girls allegedly committed suicide parts madhya pradesh depressed results class class exams conducted state board suicides reported till friday night hours board exam results announced boy marks committed suicide \n",
      "실제 요약 : students commit suicide hours after mp board exam results \n",
      "예측 요약 :  students suicide after failing to exam exam\n",
      "추출적 요약 : \n",
      "\n",
      "\n",
      "원문 : students union delhi university st stephen college said phrases including mandir banega found door chapel located college premises friday om symbol phrase going hell found cross behind chapel graffiti later cleared students union added \n",
      "실제 요약 : mandir banega in st stephen college \n",
      "예측 요약 :  du students to cut for\n",
      "추출적 요약 : \n",
      "\n",
      "\n",
      "원문 : actress priyanka chopra sharing picture children rohingya refugee camp wrote world needs care need care kids future could see eyes added priyanka currently bangladesh part unicef mission \n",
      "실제 요약 : the world needs to care priyanka on rohingya refugees \n",
      "예측 요약 :  priyanka in priyanka on priyanka\n",
      "추출적 요약 : \n",
      "\n",
      "\n",
      "원문 : vice president venkaiah naidu monday urged reserve bank india reveal received black money following demonetisation prove credibility reform stating banking confined limited number people earlier added several people realised importance bank accounts demonetisation introduced \n",
      "실제 요약 : rbi should prove of demonetisation vice prez \n",
      "예측 요약 :  note ban on note with finance minister\n",
      "추출적 요약 : \n",
      "\n",
      "\n",
      "원문 : central scheme grants pension benefits various categories freedom fighters besides pension freedom fighters also avail free railway pass medical facilities telephone connection subject certain conditions freedom fighters home new delhi provides transit accommodation eligible recipients scheme \n",
      "실제 요약 : what benefits are freedom fighters entitled to \n",
      "예측 요약 :  centre to organise new universities in central schools\n",
      "추출적 요약 : \n",
      "\n",
      "\n",
      "원문 : man tied electricity pole thrashed several people town odisha wednesday suspected committing theft later handed police case registered according media reports suspected stealing goat \n",
      "실제 요약 : man tied to electricity pole thrashed on theft suspicion \n",
      "예측 요약 :  man attacks on suspicion of stealing\n",
      "추출적 요약 : \n",
      "\n",
      "\n",
      "원문 : two people killed others left injured portion construction flyover collapsed odisha bhubaneswar sunday many fire tenders three units state disaster management authority deployed rescue operations per reports labourers engaged construction activity site flyover collapsed \n",
      "실제 요약 : dead after flyover collapses in odisha \n",
      "예측 요약 :  killed injured in stampede at mumbai building\n",
      "추출적 요약 : \n",
      "\n",
      "\n",
      "원문 : uttar pradesh government ordered inspection petrol pumps across state connection multi crore petrol scam state police recently found petrol pumps cheating customers installing chip machines reduced output special task force earlier arrested people including petrol pump owners technicians \n",
      "실제 요약 : govt orders inspection of all petrol pumps in uttar pradesh \n",
      "예측 요약 :  delhi govt to set up cr to cr\n",
      "추출적 요약 : \n",
      "\n",
      "\n",
      "원문 : sunil mittal led airtel entered agreement buy telecom operations rwanda brand airtel said acquisition make second largest operator african country revenue market share notably airtel merged ghana last month become country second largest operator \n",
      "실제 요약 : airtel to acquire telecom operator in africa rwanda \n",
      "예측 요약 :  airtel to acquire stake in new york\n",
      "추출적 요약 : \n",
      "\n",
      "\n",
      "원문 : army jawan allegedly drowned three day old daughter bucket water buried body village rajasthan police said saturday accused wife informed police incident following fir registered body recovered however arrest made connection case far \n",
      "실제 요약 : army jawan drowns day old daughter in bucket of water \n",
      "예측 요약 :  army jawan kills self after jawan with his\n",
      "추출적 요약 : \n",
      "\n",
      "\n",
      "원문 : wikileaks shared link full text copy book fire fury inside trump white house based us president donald trump tenure office whistleblower organisation tweeted google drive link saying book leaked onto internet book released days earlier trump threatened sue publishers \n",
      "실제 요약 : wikileaks shares full text of trump book fire and \n",
      "예측 요약 :  trump for trump shooting near trump office\n",
      "추출적 요약 : \n",
      "\n",
      "\n",
      "원문 : denying responsibility diplomatic row poisoning former spy sergei skripal uk russian foreign minister sergei lavrov said uk us playing children games slammed uk us western powers dropping spreading lies disinformation russia \n",
      "실제 요약 : uk us playing children games russia on spy poisoning row \n",
      "예측 요약 :  russia expels russia for calling spy\n",
      "추출적 요약 : \n",
      "\n",
      "\n",
      "원문 : world first procedure allowed fully paralysed man control hand using thoughts technique allows people reach things using electrical implants connected brain patient aged lost motor movements eight years ago bike accident able drink eat without assistance \n",
      "실제 요약 : brain implant lets paralysed man move hands with thought \n",
      "예측 요약 :  world first robot transplant with human in us\n",
      "추출적 요약 : \n",
      "\n",
      "\n",
      "원문 : man allegedly shot dead four persons apparent case road rage gurugram road police said victim shot licensed pistol altercation accused declared dead brought hospital police procured cctv footage area probe incident \n",
      "실제 요약 : man shot dead in gurugram road rage incident \n",
      "예측 요약 :  man shot dead by man shot in delhi\n",
      "추출적 요약 : \n",
      "\n",
      "\n",
      "원문 : pizza measuring feet set guinness world record longest pizza world pizza weighed estimated kg cooked special temperature record set california united states organiser event believed table holding pizza also record breaking \n",
      "실제 요약 : over foot pizza breaks record for world longest \n",
      "예측 요약 :  world largest plane sets record for record\n",
      "추출적 요약 : \n",
      "\n",
      "\n",
      "원문 : facebook owned instagram launched standalone video app called allow users upload videos one hour length users able videos visit tab recommended videos creators following also allow creators upload videos directly instagram app product manager said \n",
      "실제 요약 : instagram launches app for hour long videos \n",
      "예측 요약 :  facebook launches app for users to send users\n",
      "추출적 요약 : \n",
      "\n",
      "\n",
      "원문 : india witnessed last total solar eclipse july would observe total solar eclipse another years march however december june parts would see occur moon covers sun centre leaving outer edges form ring fire \n",
      "실제 요약 : india will not witness total solar eclipse for next years \n",
      "예측 요약 :  india to witness solar eclipse in the\n",
      "추출적 요약 : \n",
      "\n",
      "\n",
      "원문 : google self driving car spinoff waymo announced going test vehicles california death valley holds record highest temperature recorded ground temperature death valley creek known tyres reach high degrees celsius cars already tested extremely cold temperatures \n",
      "실제 요약 : google to test driverless cars in of world hottest spots \n",
      "예측 요약 :  waymo tests self driving car crash in crash\n",
      "추출적 요약 : \n",
      "\n",
      "\n",
      "원문 : bsp chief mayawati saturday said murder violence playing law order become common sight name saffron appeasement bjp government added become sort fashion set new traditions taking without permission create violence bjp government totally failed control elements \n",
      "실제 요약 : saffron law and order mayawati to bjp \n",
      "예측 요약 :  bjp leader blames bjp leader for anti corruption\n",
      "추출적 요약 : \n",
      "\n",
      "\n",
      "원문 : filmmaker farah khan whose brother sajid khan accused sexual harassment said thing fears quick quick punishments given trial twitter added fear anybody talking girl getting scared talking like \n",
      "실제 요약 : fear given through trial by twitter farah \n",
      "예측 요약 :  was not sexually harassed in bollywood says sister\n",
      "추출적 요약 : \n",
      "\n",
      "\n",
      "원문 : comedian raju srivastava confirmed joining kapil sharma show new entry raju said started shooting show channel team happy called episodes however added know channel going represent character acts audience \n",
      "실제 요약 : joining the kapil sharma show as new entry \n",
      "예측 요약 :  kapil sharma has been the most of an season\n",
      "추출적 요약 : \n",
      "\n",
      "\n",
      "원문 : directing bjp prove majority karnataka assembly pm saturday supreme court said number game one enjoys majority invited form government even bjp counsel mukul opposed floor test arguing need time court observed floor test seemed best option \n",
      "실제 요약 : it is just number game sc on karnataka govt formation \n"
     ]
    },
    {
     "name": "stdout",
     "output_type": "stream",
     "text": [
      "예측 요약 :  taka cm demands resignation from bjp for polls\n",
      "추출적 요약 : \n",
      "\n",
      "\n",
      "원문 : four devotees killed injured friday temporary shelters andhra pradesh temple collapsed due heavy rainfall amid ram navami celebrations incident occurred minutes cm chandrababu naidu arrival delayed around minutes due naidu declared lakh compensation kin deceased \n",
      "실제 요약 : killed in at andhra temple ahead of cm visit \n",
      "예측 요약 :  people killed as people in andhra pradesh cm\n",
      "추출적 요약 : \n",
      "\n",
      "\n",
      "원문 : newly appointed deputy chief minister uttar pradesh dinesh sharma former mayor lucknow held post nine years since year old leader phd lucknow university teaching university commerce department since sharma also made bjp national vice president \n",
      "실제 요약 : who is up new joint deputy cm dinesh sharma \n",
      "예측 요약 :  former deputy cm deputy deputy cm\n",
      "추출적 요약 : \n",
      "\n",
      "\n",
      "원문 : us president donald trump said former soviet union right invade afghanistan terrorists going russia russia used soviet union afghanistan made russia went bankrupt fighting afghanistan trump added reacting twitter user said trump confused terrorists afghanistan terrorists \n",
      "실제 요약 : former soviet union was right to invade afghanistan trump \n",
      "예측 요약 :  trump praises us for un summit\n",
      "추출적 요약 : \n",
      "\n",
      "\n",
      "원문 : shares giant infosys rose much intraday trade monday following nandan nilekani return company non executive chairman nilekani friday said stay firm long takes get back track notably company appointed executive search firm find new ceo \n",
      "실제 요약 : infosys shares rise over on nandan nilekani return \n",
      "예측 요약 :  infosys shares fall after merger with investors\n",
      "추출적 요약 : \n",
      "\n",
      "\n",
      "원문 : commerce firms snapdeal wish buy craft comparison issued notice selling wildlife products platforms notices served last week names surfaced investigation indore based company selling prohibited wildlife products items sold online retailers reportedly included dried genitals \n",
      "실제 요약 : snapdeal issued notice for selling wildlife products \n",
      "예측 요약 :  amazon employees threaten to employees report\n",
      "추출적 요약 : \n",
      "\n",
      "\n",
      "원문 : responding question rajya sabha government monday revealed cost basic version rafale aircraft crore comes amid attacks congress government caused loss crore paying crore jet rafale customers egypt qatar \n",
      "실제 요약 : cost of each rafale aircraft is crore government \n",
      "예측 요약 :  crore tax in budget for fy\n",
      "추출적 요약 : \n",
      "\n",
      "\n",
      "원문 : congress vice president rahul gandhi monday said demonetisation pm narendra modi disaster november sad day said pm modi government said celebrate november day demonetisation implemented pm modi able understand feeling nation \n",
      "실제 요약 : demonetisation is an out and out disaster rahul gandhi \n",
      "예측 요약 :  pm modi believes in kerala rahul gandhi\n",
      "추출적 요약 : \n",
      "\n",
      "\n",
      "원문 : chinese phone maker huawei ceo richard recent launch company new smartphone mate series said working foldable phones foldable phones company earlier set target date releasing foldable device said phone yet disclose details phone \n",
      "실제 요약 : we are working on foldable phones huawei ceo \n",
      "예측 요약 :  samsung to build wireless sensor in\n",
      "추출적 요약 : \n",
      "\n",
      "\n",
      "원문 : alibaba billionaire co founder jack stepping post executive chairman th birthday september alibaba spokesperson clarified saturday said unveil succession plan younger talent next week new york times report saying stepping retire factually wrong spokesperson added \n",
      "실제 요약 : jack ma not retiring to remain executive chairman alibaba \n",
      "예측 요약 :  founder of ma youngest founder as ceo\n",
      "추출적 요약 : \n",
      "\n",
      "\n",
      "원문 : delhi state election commission chief sk srivastava said everything went well electronic voting machines worked properly recently concluded municipal corporation elections national capital notably delhi chief minister arvind kejriwal alleged polling day evms various parts capital city \n",
      "실제 요약 : evms worked properly in mcd elections delhi poll panel head \n",
      "예측 요약 :  delhi hc seeks removal of evms for evm ramdev\n",
      "추출적 요약 : \n",
      "\n",
      "\n",
      "원문 : actor johnny depp joking assassination us president donald trump said question anything last time actor assassinated president depp said think needs help lot wonderful dark dark places could go \n",
      "실제 요약 : johnny depp jokes about us president trump \n",
      "예측 요약 :  trump is not an affair ex trump\n",
      "추출적 요약 : \n",
      "\n",
      "\n",
      "원문 : bihar cm nitish kumar broke grand alliance congress rjd user tweeted nitish kumar behaving like indrani mukherjee consistently partner every relationship reacting implementation goods services tax tweet read cannot ca single person explain gst \n",
      "실제 요약 : what were some of the tweets in \n",
      "예측 요약 :  nitish kumar is not nitish kumar tejashwi\n",
      "추출적 요약 : \n",
      "\n",
      "\n",
      "원문 : amazon japan thursday said raided japan fair trade commission suspicion anti trust violation commerce major reportedly suspected asking suppliers bear part cost incurred selling products discount platform amazon japan spokesperson said company fully cooperating regulator \n",
      "실제 요약 : amazon japan raided over suspicion of anti trust violation \n",
      "예측 요약 :  amazon plans to build billion in anti corruption report\n",
      "추출적 요약 : \n",
      "\n",
      "\n",
      "원문 : richest newcomer forbes india rich list group chairman ranked th net worth billion newcomers include dinesh governance services firm vijay shekhar sharma mobile wallet paytm rana kapoor yes bank \n",
      "실제 요약 : richest on forbes india list at bn \n",
      "예측 요약 :  indian origin wealth in forbes list of billionaires\n",
      "추출적 요약 : \n",
      "\n",
      "\n",
      "원문 : body doll prompted major police operation southern germany monday mistaken corpse police said passerby spotted appeared corpse covered blood lying stream firefighters determined doll reaching suspected crime scene cordoned \n",
      "실제 요약 : headless doll triggers major police operation in germany \n",
      "예측 요약 :  singer dal officer in mumbai\n",
      "추출적 요약 : \n",
      "\n",
      "\n",
      "원문 : maintaining service charge voluntary consumer affairs minister ram vilas paswan asked service charge reach employees present known much fully part service charge distributed amongst hotel staff stated regard said hotels make public amount actually given employees \n",
      "실제 요약 : does the service charge even reach employees asks paswan \n",
      "예측 요약 :  patanjali asks restaurants to make air quality\n",
      "추출적 요약 : \n",
      "\n",
      "\n",
      "원문 : cryptocurrency enthusiasts set sail cruise called blockchain cruise theme blockchain innovation cryptocurrency cybersecurity expert john mcafee present cruise blamed government crash value cryptocurrencies saying like ban smoking weed cannot ban \n",
      "실제 요약 : crypto set sail on blockchain cruise \n",
      "예측 요약 :  world bank to build world biggest cryptocurrency\n",
      "추출적 요약 : \n",
      "\n",
      "\n",
      "원문 : north korea foreign ministry said country fully latest un sanctions citizens entities continue nuclear weapons development without delay defend sovereignty ministry called un decision hostile act intended curb north korea nuclear forces cause economic suffocation \n",
      "실제 요약 : korea rejects un sanctions vows to continue nuke program \n",
      "예측 요약 :  us threatens to sanctions against korea\n",
      "추출적 요약 : \n",
      "\n",
      "\n",
      "원문 : former prime minister manmohan singh monday warned demonetisation implementation gst bound impact gdp growth adversely said moves impacted informal small scale sectors account india trillion economy said india employment informal sector \n",
      "실제 요약 : note ban gst rollout affected gdp manmohan singh \n",
      "예측 요약 :  demonetisation growth will be in the gdp manmohan singh\n",
      "추출적 요약 : \n",
      "\n",
      "\n",
      "원문 : chinese officials thursday said atmosphere right bilateral meeting indian prime minister narendra modi chinese president xi jinping summit germany armies india china currently involved standoff india china bhutan tri junction governments exchanged warnings situation \n",
      "실제 요약 : atmosphere not right for modi xi meeting china \n",
      "예측 요약 :  india china ties against pm modi\n",
      "추출적 요약 : \n",
      "\n",
      "\n",
      "원문 : year old national tennis champion almost lost sight right eye four become india top ranked player india tennis association category wore eye patch good eye four years force defected eye start functioning \n",
      "실제 요약 : girl who almost lost is now india top player \n",
      "예측 요약 :  indian team wins cwg bronze in\n",
      "추출적 요약 : \n",
      "\n",
      "\n",
      "원문 : domino pizza russia forced end promotion offering fans free pizza years got brand logo prominent place many people participated promotion supposed last two months ended five days hundreds people showed russian social media \n",
      "실제 요약 : domino ends free pizza offer for people with logo \n",
      "예측 요약 :  france to offer to allow to offer to\n",
      "추출적 요약 : \n",
      "\n",
      "\n",
      "원문 : economic survey tabled parliament today printed pink highlight gender issues amid economic development survey estimated due preference sons india could million unwanted girls girls whose parents wanted sons instead pointed parents continued children got sons \n",
      "실제 요약 : why was the economic survey printed in pink \n"
     ]
    },
    {
     "name": "stdout",
     "output_type": "stream",
     "text": [
      "예측 요약 :  india must be mandatory for gender rights union minister\n",
      "추출적 요약 : \n",
      "\n",
      "\n",
      "원문 : security forces sunday killed three militants involved abduction murder police constable kulgam militants part joint group militant outfits lashkar taiba hizbul mujahideen trapped cordon search operation army police crpf constable tortured militants director general police sp vaid said \n",
      "실제 요약 : security forces gun down militants who abducted killed cop \n",
      "예측 요약 :  killed in attack on pak army anniversary\n",
      "추출적 요약 : \n",
      "\n",
      "\n",
      "원문 : company behind oil brands like parachute friday said picked stake men grooming startup gujarat based startup founded sells beard beard grooming products men facial hair received seed funding september valuation crore \n",
      "실제 요약 : oil maker picks stake in male startup \n",
      "예측 요약 :  buys startup raises crore\n",
      "추출적 요약 : \n",
      "\n",
      "\n",
      "원문 : chinese embassy official new delhi said ongoing standoff armies india china impact economic cultural ties two nations india china enjoyed historical cultural connections thousands years border issue temporary official said \n",
      "실제 요약 : standoff temporary will not hit economic cultural ties china \n",
      "예측 요약 :  china to doklam to bhutan bhutan doklam\n",
      "추출적 요약 : \n",
      "\n",
      "\n",
      "원문 : following demise rock band linkin park lead chester bennington july linkin park songs earned increase demand audio streams day us compared july group streamed song july end earning streams day bennington reportedly committed suicide nn \n",
      "실제 요약 : linkin park streams increased by on chester death day \n",
      "예측 요약 :  michael jackson performs with kg of\n",
      "추출적 요약 : \n",
      "\n",
      "\n"
     ]
    }
   ],
   "source": [
    "for i in range(50, 100):\n",
    "    print(\"원문 :\", seq2text(encoder_input_test[i]))\n",
    "    print(\"실제 요약 :\", seq2summary(decoder_input_test[i]))\n",
    "    print(\"예측 요약 :\", decode_sequence(encoder_input_test[i].reshape(1, text_max_len)))\n",
    "    print(\"추출적 요약 :\",summarize(seq2text(encoder_input_test[i]),words=20, split=False))\n",
    "    print(\"\\n\")"
   ]
  },
  {
   "cell_type": "markdown",
   "id": "1e66a753",
   "metadata": {},
   "source": [
    "=> 원문이 너무 짧아서 추출적 요약이 잘 수행되지 않았다."
   ]
  },
  {
   "cell_type": "code",
   "execution_count": 77,
   "id": "776c620e",
   "metadata": {},
   "outputs": [
    {
     "name": "stderr",
     "output_type": "stream",
     "text": [
      "[nltk_data] Downloading package punkt to /aiffel/nltk_data...\n",
      "[nltk_data]   Package punkt is already up-to-date!\n"
     ]
    }
   ],
   "source": [
    "# 커스텀 함수를 만들어 추출적 요약 시도\n",
    "import nltk\n",
    "nltk.download('punkt')\n",
    "from nltk.tokenize import sent_tokenize, word_tokenize\n",
    "from sklearn.feature_extraction.text import TfidfVectorizer\n",
    "from sklearn.metrics.pairwise import cosine_similarity\n",
    "import numpy as np\n",
    "\n",
    "def custom_extractive_summary(text, top_n_words=10):\n",
    "    # 문장 분할\n",
    "    sentences = sent_tokenize(text)\n",
    "    if not sentences:\n",
    "        return \"\"\n",
    "\n",
    "    # 각 문장 간 유사도 계산\n",
    "    # TF-IDF 벡터화 및 유사도 계산\n",
    "    tfidf_vectorizer = TfidfVectorizer()\n",
    "    tfidf_matrix = tfidf_vectorizer.fit_transform(sentences)\n",
    "    sim_matrix = cosine_similarity(tfidf_matrix) # 코사인 유사도 계산\n",
    "    sentence_scores = sim_matrix.sum(axis=1) # 다른 문장들과의 유사성 점수가 높은 문장이 중심문장이라고 판단.\n",
    "\n",
    "    # 가장 중심적인 문장 하나 선택\n",
    "    best_index = np.argmax(sentence_scores)\n",
    "    best_sentence = sentences[best_index]\n",
    "\n",
    "    # 선택된 문장에서 단어별 중요도 계산\n",
    "    words = word_tokenize(best_sentence)\n",
    "    word_scores = {}\n",
    "\n",
    "    # 해당 문장만 벡터화해서 단어 중요도 추출\n",
    "    tfidf = TfidfVectorizer()\n",
    "    tfidf.fit([best_sentence])\n",
    "    feature_names = tfidf.get_feature_names_out()\n",
    "    tfidf_scores = tfidf.transform([best_sentence]).toarray()[0]\n",
    "\n",
    "    for word, score in zip(feature_names, tfidf_scores):\n",
    "        word_scores[word] = score\n",
    "\n",
    "    # 단어 정렬 후 상위 N개 선택\n",
    "    ranked_words = sorted(word_scores.items(), key=lambda x: x[1], reverse=True)\n",
    "    top_words = [word for word, _ in ranked_words[:top_n_words]]\n",
    "\n",
    "    return ' '.join(top_words)\n"
   ]
  },
  {
   "cell_type": "code",
   "execution_count": 78,
   "id": "d3b662ec",
   "metadata": {},
   "outputs": [
    {
     "data": {
      "text/plain": [
       "'interview life personal anushka anyone bengali done else english fake'"
      ]
     },
     "execution_count": 78,
     "metadata": {},
     "output_type": "execute_result"
    }
   ],
   "source": [
    "custom_extractive_summary(seq2text(encoder_input_test[50]))"
   ]
  },
  {
   "cell_type": "markdown",
   "id": "326c9ca3",
   "metadata": {},
   "source": [
    "### 추상적 요약과 비교"
   ]
  },
  {
   "cell_type": "code",
   "execution_count": 84,
   "id": "6a1fd462",
   "metadata": {},
   "outputs": [
    {
     "name": "stdout",
     "output_type": "stream",
     "text": [
      "원문 : anushka sharma slammed bengali newspaper publishing fake interview tweeted never done interview personal life anyone else shows personal freedom looked interview title english roughly translated things happen suddenly life like picture \n",
      "실제 요약 : anushka slams newspaper for publishing her fake interview \n",
      "예측 요약 :  anushka sharma denies rumours of being called\n",
      "추출적 요약 : interview life personal anushka anyone bengali done else english fake\n",
      "\n",
      "\n",
      "원문 : least twelve students including six girls allegedly committed suicide parts madhya pradesh depressed results class class exams conducted state board suicides reported till friday night hours board exam results announced boy marks committed suicide \n",
      "실제 요약 : students commit suicide hours after mp board exam results \n",
      "예측 요약 :  students suicide after failing to exam exam\n",
      "추출적 요약 : board class committed results suicide allegedly announced boy conducted depressed\n",
      "\n",
      "\n",
      "원문 : students union delhi university st stephen college said phrases including mandir banega found door chapel located college premises friday om symbol phrase going hell found cross behind chapel graffiti later cleared students union added \n",
      "실제 요약 : mandir banega in st stephen college \n",
      "예측 요약 :  du students to cut for\n",
      "추출적 요약 : chapel college found students union added banega behind cleared cross\n",
      "\n",
      "\n",
      "원문 : actress priyanka chopra sharing picture children rohingya refugee camp wrote world needs care need care kids future could see eyes added priyanka currently bangladesh part unicef mission \n",
      "실제 요약 : the world needs to care priyanka on rohingya refugees \n",
      "예측 요약 :  priyanka in priyanka on priyanka\n",
      "추출적 요약 : care priyanka actress added bangladesh camp children chopra could currently\n",
      "\n",
      "\n",
      "원문 : vice president venkaiah naidu monday urged reserve bank india reveal received black money following demonetisation prove credibility reform stating banking confined limited number people earlier added several people realised importance bank accounts demonetisation introduced \n",
      "실제 요약 : rbi should prove of demonetisation vice prez \n",
      "예측 요약 :  note ban on note with finance minister\n",
      "추출적 요약 : bank demonetisation people accounts added banking black confined credibility earlier\n",
      "\n",
      "\n",
      "원문 : central scheme grants pension benefits various categories freedom fighters besides pension freedom fighters also avail free railway pass medical facilities telephone connection subject certain conditions freedom fighters home new delhi provides transit accommodation eligible recipients scheme \n",
      "실제 요약 : what benefits are freedom fighters entitled to \n",
      "예측 요약 :  centre to organise new universities in central schools\n",
      "추출적 요약 : fighters freedom pension scheme accommodation also avail benefits besides categories\n",
      "\n",
      "\n",
      "원문 : man tied electricity pole thrashed several people town odisha wednesday suspected committing theft later handed police case registered according media reports suspected stealing goat \n",
      "실제 요약 : man tied to electricity pole thrashed on theft suspicion \n",
      "예측 요약 :  man attacks on suspicion of stealing\n",
      "추출적 요약 : suspected according case committing electricity goat handed later man media\n",
      "\n",
      "\n",
      "원문 : two people killed others left injured portion construction flyover collapsed odisha bhubaneswar sunday many fire tenders three units state disaster management authority deployed rescue operations per reports labourers engaged construction activity site flyover collapsed \n",
      "실제 요약 : dead after flyover collapses in odisha \n",
      "예측 요약 :  killed injured in stampede at mumbai building\n",
      "추출적 요약 : collapsed construction flyover activity authority bhubaneswar deployed disaster engaged fire\n",
      "\n",
      "\n",
      "원문 : uttar pradesh government ordered inspection petrol pumps across state connection multi crore petrol scam state police recently found petrol pumps cheating customers installing chip machines reduced output special task force earlier arrested people including petrol pump owners technicians \n",
      "실제 요약 : govt orders inspection of all petrol pumps in uttar pradesh \n",
      "예측 요약 :  delhi govt to set up cr to cr\n",
      "추출적 요약 : petrol pumps state across arrested cheating chip connection crore customers\n",
      "\n",
      "\n",
      "원문 : sunil mittal led airtel entered agreement buy telecom operations rwanda brand airtel said acquisition make second largest operator african country revenue market share notably airtel merged ghana last month become country second largest operator \n",
      "실제 요약 : airtel to acquire telecom operator in africa rwanda \n",
      "예측 요약 :  airtel to acquire stake in new york\n",
      "추출적 요약 : airtel country largest operator second acquisition african agreement become brand\n",
      "\n",
      "\n",
      "원문 : army jawan allegedly drowned three day old daughter bucket water buried body village rajasthan police said saturday accused wife informed police incident following fir registered body recovered however arrest made connection case far \n",
      "실제 요약 : army jawan drowns day old daughter in bucket of water \n",
      "예측 요약 :  army jawan kills self after jawan with his\n",
      "추출적 요약 : body police accused allegedly army arrest bucket buried case connection\n",
      "\n",
      "\n",
      "원문 : wikileaks shared link full text copy book fire fury inside trump white house based us president donald trump tenure office whistleblower organisation tweeted google drive link saying book leaked onto internet book released days earlier trump threatened sue publishers \n",
      "실제 요약 : wikileaks shares full text of trump book fire and \n",
      "예측 요약 :  trump for trump shooting near trump office\n",
      "추출적 요약 : book trump link based copy days donald drive earlier fire\n",
      "\n",
      "\n",
      "원문 : denying responsibility diplomatic row poisoning former spy sergei skripal uk russian foreign minister sergei lavrov said uk us playing children games slammed uk us western powers dropping spreading lies disinformation russia \n",
      "실제 요약 : uk us playing children games russia on spy poisoning row \n",
      "예측 요약 :  russia expels russia for calling spy\n",
      "추출적 요약 : uk sergei us children denying diplomatic disinformation dropping foreign former\n",
      "\n",
      "\n",
      "원문 : world first procedure allowed fully paralysed man control hand using thoughts technique allows people reach things using electrical implants connected brain patient aged lost motor movements eight years ago bike accident able drink eat without assistance \n",
      "실제 요약 : brain implant lets paralysed man move hands with thought \n",
      "예측 요약 :  world first robot transplant with human in us\n",
      "추출적 요약 : using able accident aged ago allowed allows assistance bike brain\n",
      "\n",
      "\n",
      "원문 : man allegedly shot dead four persons apparent case road rage gurugram road police said victim shot licensed pistol altercation accused declared dead brought hospital police procured cctv footage area probe incident \n",
      "실제 요약 : man shot dead in gurugram road rage incident \n",
      "예측 요약 :  man shot dead by man shot in delhi\n",
      "추출적 요약 : dead police road shot accused allegedly altercation apparent area brought\n",
      "\n",
      "\n",
      "원문 : pizza measuring feet set guinness world record longest pizza world pizza weighed estimated kg cooked special temperature record set california united states organiser event believed table holding pizza also record breaking \n",
      "실제 요약 : over foot pizza breaks record for world longest \n",
      "예측 요약 :  world largest plane sets record for record\n",
      "추출적 요약 : pizza record set world also believed breaking california cooked estimated\n",
      "\n",
      "\n",
      "원문 : facebook owned instagram launched standalone video app called allow users upload videos one hour length users able videos visit tab recommended videos creators following also allow creators upload videos directly instagram app product manager said \n",
      "실제 요약 : instagram launches app for hour long videos \n",
      "예측 요약 :  facebook launches app for users to send users\n",
      "추출적 요약 : videos allow app creators instagram upload users able also called\n",
      "\n",
      "\n",
      "원문 : india witnessed last total solar eclipse july would observe total solar eclipse another years march however december june parts would see occur moon covers sun centre leaving outer edges form ring fire \n",
      "실제 요약 : india will not witness total solar eclipse for next years \n",
      "예측 요약 :  india to witness solar eclipse in the\n",
      "추출적 요약 : eclipse solar total would another centre covers december edges fire\n",
      "\n",
      "\n",
      "원문 : google self driving car spinoff waymo announced going test vehicles california death valley holds record highest temperature recorded ground temperature death valley creek known tyres reach high degrees celsius cars already tested extremely cold temperatures \n",
      "실제 요약 : google to test driverless cars in of world hottest spots \n"
     ]
    },
    {
     "name": "stdout",
     "output_type": "stream",
     "text": [
      "예측 요약 :  waymo tests self driving car crash in crash\n",
      "추출적 요약 : death temperature valley already announced california car cars celsius cold\n",
      "\n",
      "\n",
      "원문 : bsp chief mayawati saturday said murder violence playing law order become common sight name saffron appeasement bjp government added become sort fashion set new traditions taking without permission create violence bjp government totally failed control elements \n",
      "실제 요약 : saffron law and order mayawati to bjp \n",
      "예측 요약 :  bjp leader blames bjp leader for anti corruption\n",
      "추출적 요약 : become bjp government violence added appeasement bsp chief common control\n",
      "\n",
      "\n",
      "원문 : filmmaker farah khan whose brother sajid khan accused sexual harassment said thing fears quick quick punishments given trial twitter added fear anybody talking girl getting scared talking like \n",
      "실제 요약 : fear given through trial by twitter farah \n",
      "예측 요약 :  was not sexually harassed in bollywood says sister\n",
      "추출적 요약 : khan quick talking accused added anybody brother farah fear fears\n",
      "\n",
      "\n",
      "원문 : comedian raju srivastava confirmed joining kapil sharma show new entry raju said started shooting show channel team happy called episodes however added know channel going represent character acts audience \n",
      "실제 요약 : joining the kapil sharma show as new entry \n",
      "예측 요약 :  kapil sharma has been the most of an season\n",
      "추출적 요약 : channel raju show acts added audience called character comedian confirmed\n",
      "\n",
      "\n",
      "원문 : directing bjp prove majority karnataka assembly pm saturday supreme court said number game one enjoys majority invited form government even bjp counsel mukul opposed floor test arguing need time court observed floor test seemed best option \n",
      "실제 요약 : it is just number game sc on karnataka govt formation \n",
      "예측 요약 :  taka cm demands resignation from bjp for polls\n",
      "추출적 요약 : bjp court floor majority test arguing assembly best counsel directing\n",
      "\n",
      "\n",
      "원문 : four devotees killed injured friday temporary shelters andhra pradesh temple collapsed due heavy rainfall amid ram navami celebrations incident occurred minutes cm chandrababu naidu arrival delayed around minutes due naidu declared lakh compensation kin deceased \n",
      "실제 요약 : killed in at andhra temple ahead of cm visit \n",
      "예측 요약 :  people killed as people in andhra pradesh cm\n",
      "추출적 요약 : due minutes naidu amid andhra around arrival celebrations chandrababu cm\n",
      "\n",
      "\n",
      "원문 : newly appointed deputy chief minister uttar pradesh dinesh sharma former mayor lucknow held post nine years since year old leader phd lucknow university teaching university commerce department since sharma also made bjp national vice president \n",
      "실제 요약 : who is up new joint deputy cm dinesh sharma \n",
      "예측 요약 :  former deputy cm deputy deputy cm\n",
      "추출적 요약 : lucknow sharma since university also appointed bjp chief commerce department\n",
      "\n",
      "\n",
      "원문 : us president donald trump said former soviet union right invade afghanistan terrorists going russia russia used soviet union afghanistan made russia went bankrupt fighting afghanistan trump added reacting twitter user said trump confused terrorists afghanistan terrorists \n",
      "실제 요약 : former soviet union was right to invade afghanistan trump \n",
      "예측 요약 :  trump praises us for un summit\n",
      "추출적 요약 : afghanistan russia terrorists trump said soviet union added bankrupt confused\n",
      "\n",
      "\n",
      "원문 : shares giant infosys rose much intraday trade monday following nandan nilekani return company non executive chairman nilekani friday said stay firm long takes get back track notably company appointed executive search firm find new ceo \n",
      "실제 요약 : infosys shares rise over on nandan nilekani return \n",
      "예측 요약 :  infosys shares fall after merger with investors\n",
      "추출적 요약 : company executive firm nilekani appointed back ceo chairman find following\n",
      "\n",
      "\n",
      "원문 : commerce firms snapdeal wish buy craft comparison issued notice selling wildlife products platforms notices served last week names surfaced investigation indore based company selling prohibited wildlife products items sold online retailers reportedly included dried genitals \n",
      "실제 요약 : snapdeal issued notice for selling wildlife products \n",
      "예측 요약 :  amazon employees threaten to employees report\n",
      "추출적 요약 : products selling wildlife based buy commerce company comparison craft dried\n",
      "\n",
      "\n",
      "원문 : responding question rajya sabha government monday revealed cost basic version rafale aircraft crore comes amid attacks congress government caused loss crore paying crore jet rafale customers egypt qatar \n",
      "실제 요약 : cost of each rafale aircraft is crore government \n",
      "예측 요약 :  crore tax in budget for fy\n",
      "추출적 요약 : crore government rafale aircraft amid attacks basic caused comes congress\n",
      "\n",
      "\n",
      "원문 : congress vice president rahul gandhi monday said demonetisation pm narendra modi disaster november sad day said pm modi government said celebrate november day demonetisation implemented pm modi able understand feeling nation \n",
      "실제 요약 : demonetisation is an out and out disaster rahul gandhi \n",
      "예측 요약 :  pm modi believes in kerala rahul gandhi\n",
      "추출적 요약 : modi pm said day demonetisation november able celebrate congress disaster\n",
      "\n",
      "\n",
      "원문 : chinese phone maker huawei ceo richard recent launch company new smartphone mate series said working foldable phones foldable phones company earlier set target date releasing foldable device said phone yet disclose details phone \n",
      "실제 요약 : we are working on foldable phones huawei ceo \n",
      "예측 요약 :  samsung to build wireless sensor in\n",
      "추출적 요약 : foldable phone company phones said ceo chinese date details device\n",
      "\n",
      "\n",
      "원문 : alibaba billionaire co founder jack stepping post executive chairman th birthday september alibaba spokesperson clarified saturday said unveil succession plan younger talent next week new york times report saying stepping retire factually wrong spokesperson added \n",
      "실제 요약 : jack ma not retiring to remain executive chairman alibaba \n",
      "예측 요약 :  founder of ma youngest founder as ceo\n",
      "추출적 요약 : alibaba spokesperson stepping added billionaire birthday chairman clarified co executive\n",
      "\n",
      "\n",
      "원문 : delhi state election commission chief sk srivastava said everything went well electronic voting machines worked properly recently concluded municipal corporation elections national capital notably delhi chief minister arvind kejriwal alleged polling day evms various parts capital city \n",
      "실제 요약 : evms worked properly in mcd elections delhi poll panel head \n",
      "예측 요약 :  delhi hc seeks removal of evms for evm ramdev\n",
      "추출적 요약 : capital chief delhi alleged arvind city commission concluded corporation day\n",
      "\n",
      "\n",
      "원문 : actor johnny depp joking assassination us president donald trump said question anything last time actor assassinated president depp said think needs help lot wonderful dark dark places could go \n",
      "실제 요약 : johnny depp jokes about us president trump \n",
      "예측 요약 :  trump is not an affair ex trump\n",
      "추출적 요약 : actor dark depp president said anything assassinated assassination could donald\n",
      "\n",
      "\n",
      "원문 : bihar cm nitish kumar broke grand alliance congress rjd user tweeted nitish kumar behaving like indrani mukherjee consistently partner every relationship reacting implementation goods services tax tweet read cannot ca single person explain gst \n",
      "실제 요약 : what were some of the tweets in \n",
      "예측 요약 :  nitish kumar is not nitish kumar tejashwi\n",
      "추출적 요약 : kumar nitish alliance behaving bihar broke ca cannot cm congress\n",
      "\n",
      "\n",
      "원문 : amazon japan thursday said raided japan fair trade commission suspicion anti trust violation commerce major reportedly suspected asking suppliers bear part cost incurred selling products discount platform amazon japan spokesperson said company fully cooperating regulator \n",
      "실제 요약 : amazon japan raided over suspicion of anti trust violation \n",
      "예측 요약 :  amazon plans to build billion in anti corruption report\n",
      "추출적 요약 : japan amazon said anti asking bear commerce commission company cooperating\n",
      "\n",
      "\n",
      "원문 : richest newcomer forbes india rich list group chairman ranked th net worth billion newcomers include dinesh governance services firm vijay shekhar sharma mobile wallet paytm rana kapoor yes bank \n",
      "실제 요약 : richest on forbes india list at bn \n",
      "예측 요약 :  indian origin wealth in forbes list of billionaires\n",
      "추출적 요약 : bank billion chairman dinesh firm forbes governance group include india\n",
      "\n",
      "\n",
      "원문 : body doll prompted major police operation southern germany monday mistaken corpse police said passerby spotted appeared corpse covered blood lying stream firefighters determined doll reaching suspected crime scene cordoned \n",
      "실제 요약 : headless doll triggers major police operation in germany \n"
     ]
    },
    {
     "name": "stdout",
     "output_type": "stream",
     "text": [
      "예측 요약 :  singer dal officer in mumbai\n",
      "추출적 요약 : corpse doll police appeared blood body cordoned covered crime determined\n",
      "\n",
      "\n",
      "원문 : maintaining service charge voluntary consumer affairs minister ram vilas paswan asked service charge reach employees present known much fully part service charge distributed amongst hotel staff stated regard said hotels make public amount actually given employees \n",
      "실제 요약 : does the service charge even reach employees asks paswan \n",
      "예측 요약 :  patanjali asks restaurants to make air quality\n",
      "추출적 요약 : charge service employees actually affairs amongst amount asked consumer distributed\n",
      "\n",
      "\n",
      "원문 : cryptocurrency enthusiasts set sail cruise called blockchain cruise theme blockchain innovation cryptocurrency cybersecurity expert john mcafee present cruise blamed government crash value cryptocurrencies saying like ban smoking weed cannot ban \n",
      "실제 요약 : crypto set sail on blockchain cruise \n",
      "예측 요약 :  world bank to build world biggest cryptocurrency\n",
      "추출적 요약 : cruise ban blockchain cryptocurrency blamed called cannot crash cryptocurrencies cybersecurity\n",
      "\n",
      "\n",
      "원문 : north korea foreign ministry said country fully latest un sanctions citizens entities continue nuclear weapons development without delay defend sovereignty ministry called un decision hostile act intended curb north korea nuclear forces cause economic suffocation \n",
      "실제 요약 : korea rejects un sanctions vows to continue nuke program \n",
      "예측 요약 :  us threatens to sanctions against korea\n",
      "추출적 요약 : korea ministry north nuclear un act called cause citizens continue\n",
      "\n",
      "\n",
      "원문 : former prime minister manmohan singh monday warned demonetisation implementation gst bound impact gdp growth adversely said moves impacted informal small scale sectors account india trillion economy said india employment informal sector \n",
      "실제 요약 : note ban gst rollout affected gdp manmohan singh \n",
      "예측 요약 :  demonetisation growth will be in the gdp manmohan singh\n",
      "추출적 요약 : india informal said account adversely bound demonetisation economy employment former\n",
      "\n",
      "\n",
      "원문 : chinese officials thursday said atmosphere right bilateral meeting indian prime minister narendra modi chinese president xi jinping summit germany armies india china currently involved standoff india china bhutan tri junction governments exchanged warnings situation \n",
      "실제 요약 : atmosphere not right for modi xi meeting china \n",
      "예측 요약 :  india china ties against pm modi\n",
      "추출적 요약 : china chinese india armies atmosphere bhutan bilateral currently exchanged germany\n",
      "\n",
      "\n",
      "원문 : year old national tennis champion almost lost sight right eye four become india top ranked player india tennis association category wore eye patch good eye four years force defected eye start functioning \n",
      "실제 요약 : girl who almost lost is now india top player \n",
      "예측 요약 :  indian team wins cwg bronze in\n",
      "추출적 요약 : eye four india tennis almost association become category champion defected\n",
      "\n",
      "\n",
      "원문 : domino pizza russia forced end promotion offering fans free pizza years got brand logo prominent place many people participated promotion supposed last two months ended five days hundreds people showed russian social media \n",
      "실제 요약 : domino ends free pizza offer for people with logo \n",
      "예측 요약 :  france to offer to allow to offer to\n",
      "추출적 요약 : people pizza promotion brand days domino end ended fans five\n",
      "\n",
      "\n",
      "원문 : economic survey tabled parliament today printed pink highlight gender issues amid economic development survey estimated due preference sons india could million unwanted girls girls whose parents wanted sons instead pointed parents continued children got sons \n",
      "실제 요약 : why was the economic survey printed in pink \n",
      "예측 요약 :  india must be mandatory for gender rights union minister\n",
      "추출적 요약 : sons economic girls parents survey amid children continued could development\n",
      "\n",
      "\n",
      "원문 : security forces sunday killed three militants involved abduction murder police constable kulgam militants part joint group militant outfits lashkar taiba hizbul mujahideen trapped cordon search operation army police crpf constable tortured militants director general police sp vaid said \n",
      "실제 요약 : security forces gun down militants who abducted killed cop \n",
      "예측 요약 :  killed in attack on pak army anniversary\n",
      "추출적 요약 : militants police constable abduction army cordon crpf director forces general\n",
      "\n",
      "\n",
      "원문 : company behind oil brands like parachute friday said picked stake men grooming startup gujarat based startup founded sells beard beard grooming products men facial hair received seed funding september valuation crore \n",
      "실제 요약 : oil maker picks stake in male startup \n",
      "예측 요약 :  buys startup raises crore\n",
      "추출적 요약 : beard grooming men startup based behind brands company crore facial\n",
      "\n",
      "\n",
      "원문 : chinese embassy official new delhi said ongoing standoff armies india china impact economic cultural ties two nations india china enjoyed historical cultural connections thousands years border issue temporary official said \n",
      "실제 요약 : standoff temporary will not hit economic cultural ties china \n",
      "예측 요약 :  china to doklam to bhutan bhutan doklam\n",
      "추출적 요약 : china cultural india official said armies border chinese connections delhi\n",
      "\n",
      "\n",
      "원문 : following demise rock band linkin park lead chester bennington july linkin park songs earned increase demand audio streams day us compared july group streamed song july end earning streams day bennington reportedly committed suicide nn \n",
      "실제 요약 : linkin park streams increased by on chester death day \n",
      "예측 요약 :  michael jackson performs with kg of\n",
      "추출적 요약 : july bennington day linkin park streams audio band chester committed\n",
      "\n",
      "\n"
     ]
    }
   ],
   "source": [
    "texts = []\n",
    "headlines = []\n",
    "predictions = []\n",
    "extractions = []\n",
    "for i in range(50, 100):\n",
    "    print(\"원문 :\", seq2text(encoder_input_test[i]))\n",
    "    print(\"실제 요약 :\", seq2summary(decoder_input_test[i]))\n",
    "    print(\"예측 요약 :\", decode_sequence(encoder_input_test[i].reshape(1, text_max_len)))\n",
    "    print(\"추출적 요약 :\",custom_extractive_summary(seq2text(encoder_input_test[i])))\n",
    "    print(\"\\n\")\n",
    "    texts.append(seq2text(encoder_input_test[i]))\n",
    "    headlines.append(seq2summary(decoder_input_test[i]))\n",
    "    predictions.append(decode_sequence(encoder_input_test[i].reshape(1, text_max_len)))\n",
    "    extractions.append(custom_extractive_summary(seq2text(encoder_input_test[i])))"
   ]
  },
  {
   "cell_type": "code",
   "execution_count": 88,
   "id": "a50fe2d7",
   "metadata": {},
   "outputs": [
    {
     "data": {
      "text/html": [
       "<div>\n",
       "<style scoped>\n",
       "    .dataframe tbody tr th:only-of-type {\n",
       "        vertical-align: middle;\n",
       "    }\n",
       "\n",
       "    .dataframe tbody tr th {\n",
       "        vertical-align: top;\n",
       "    }\n",
       "\n",
       "    .dataframe thead th {\n",
       "        text-align: right;\n",
       "    }\n",
       "</style>\n",
       "<table border=\"1\" class=\"dataframe\">\n",
       "  <thead>\n",
       "    <tr style=\"text-align: right;\">\n",
       "      <th></th>\n",
       "      <th>text</th>\n",
       "      <th>headline</th>\n",
       "      <th>prediction</th>\n",
       "      <th>extraction</th>\n",
       "    </tr>\n",
       "  </thead>\n",
       "  <tbody>\n",
       "    <tr>\n",
       "      <th>0</th>\n",
       "      <td>anushka sharma slammed bengali newspaper publi...</td>\n",
       "      <td>anushka slams newspaper for publishing her fak...</td>\n",
       "      <td>anushka sharma denies rumours of being called</td>\n",
       "      <td>interview life personal anushka anyone bengali...</td>\n",
       "    </tr>\n",
       "    <tr>\n",
       "      <th>1</th>\n",
       "      <td>least twelve students including six girls alle...</td>\n",
       "      <td>students commit suicide hours after mp board e...</td>\n",
       "      <td>students suicide after failing to exam exam</td>\n",
       "      <td>board class committed results suicide allegedl...</td>\n",
       "    </tr>\n",
       "    <tr>\n",
       "      <th>2</th>\n",
       "      <td>students union delhi university st stephen col...</td>\n",
       "      <td>mandir banega in st stephen college</td>\n",
       "      <td>du students to cut for</td>\n",
       "      <td>chapel college found students union added bane...</td>\n",
       "    </tr>\n",
       "    <tr>\n",
       "      <th>3</th>\n",
       "      <td>actress priyanka chopra sharing picture childr...</td>\n",
       "      <td>the world needs to care priyanka on rohingya r...</td>\n",
       "      <td>priyanka in priyanka on priyanka</td>\n",
       "      <td>care priyanka actress added bangladesh camp ch...</td>\n",
       "    </tr>\n",
       "    <tr>\n",
       "      <th>4</th>\n",
       "      <td>vice president venkaiah naidu monday urged res...</td>\n",
       "      <td>rbi should prove of demonetisation vice prez</td>\n",
       "      <td>note ban on note with finance minister</td>\n",
       "      <td>bank demonetisation people accounts added bank...</td>\n",
       "    </tr>\n",
       "  </tbody>\n",
       "</table>\n",
       "</div>"
      ],
      "text/plain": [
       "                                                text  \\\n",
       "0  anushka sharma slammed bengali newspaper publi...   \n",
       "1  least twelve students including six girls alle...   \n",
       "2  students union delhi university st stephen col...   \n",
       "3  actress priyanka chopra sharing picture childr...   \n",
       "4  vice president venkaiah naidu monday urged res...   \n",
       "\n",
       "                                            headline  \\\n",
       "0  anushka slams newspaper for publishing her fak...   \n",
       "1  students commit suicide hours after mp board e...   \n",
       "2               mandir banega in st stephen college    \n",
       "3  the world needs to care priyanka on rohingya r...   \n",
       "4      rbi should prove of demonetisation vice prez    \n",
       "\n",
       "                                       prediction  \\\n",
       "0   anushka sharma denies rumours of being called   \n",
       "1     students suicide after failing to exam exam   \n",
       "2                          du students to cut for   \n",
       "3                priyanka in priyanka on priyanka   \n",
       "4          note ban on note with finance minister   \n",
       "\n",
       "                                          extraction  \n",
       "0  interview life personal anushka anyone bengali...  \n",
       "1  board class committed results suicide allegedl...  \n",
       "2  chapel college found students union added bane...  \n",
       "3  care priyanka actress added bangladesh camp ch...  \n",
       "4  bank demonetisation people accounts added bank...  "
      ]
     },
     "execution_count": 88,
     "metadata": {},
     "output_type": "execute_result"
    }
   ],
   "source": [
    "result_df = pd.DataFrame(data={\"text\":texts, \"headline\":headlines,\"prediction\":predictions, \"extraction\": extractions})\n",
    "result_df.head()"
   ]
  },
  {
   "cell_type": "code",
   "execution_count": 89,
   "id": "fad968c0",
   "metadata": {},
   "outputs": [
    {
     "data": {
      "application/vnd.jupyter.widget-view+json": {
       "model_id": "0332f9a165f14e04922a2ceb8679eca9",
       "version_major": 2,
       "version_minor": 0
      },
      "text/plain": [
       "Downloading:   0%|          | 0.00/476 [00:00<?, ?B/s]"
      ]
     },
     "metadata": {},
     "output_type": "display_data"
    },
    {
     "data": {
      "application/vnd.jupyter.widget-view+json": {
       "model_id": "e508258bd36344cda82a31d078fee8b4",
       "version_major": 2,
       "version_minor": 0
      },
      "text/plain": [
       "Downloading:   0%|          | 0.00/418M [00:00<?, ?B/s]"
      ]
     },
     "metadata": {},
     "output_type": "display_data"
    },
    {
     "data": {
      "application/vnd.jupyter.widget-view+json": {
       "model_id": "d927f949c6b143d495b3cfe7726f7b99",
       "version_major": 2,
       "version_minor": 0
      },
      "text/plain": [
       "Downloading:   0%|          | 0.00/48.0 [00:00<?, ?B/s]"
      ]
     },
     "metadata": {},
     "output_type": "display_data"
    },
    {
     "data": {
      "application/vnd.jupyter.widget-view+json": {
       "model_id": "ae35a881ee6f4ec9959b015f40b1f446",
       "version_major": 2,
       "version_minor": 0
      },
      "text/plain": [
       "Downloading:   0%|          | 0.00/226k [00:00<?, ?B/s]"
      ]
     },
     "metadata": {},
     "output_type": "display_data"
    },
    {
     "data": {
      "application/vnd.jupyter.widget-view+json": {
       "model_id": "d4a0af431bcd424eac9e40d1551a9489",
       "version_major": 2,
       "version_minor": 0
      },
      "text/plain": [
       "Downloading:   0%|          | 0.00/112 [00:00<?, ?B/s]"
      ]
     },
     "metadata": {},
     "output_type": "display_data"
    }
   ],
   "source": [
    "# 문법 완성도 평가\n",
    "from transformers import pipeline\n",
    "\n",
    "grammar_checker = pipeline(\"text-classification\", model=\"textattack/bert-base-uncased-CoLA\")\n"
   ]
  },
  {
   "cell_type": "code",
   "execution_count": 102,
   "id": "255467e8",
   "metadata": {
    "scrolled": true
   },
   "outputs": [
    {
     "data": {
      "text/plain": [
       "0     [{'label': 'LABEL_1', 'score': 0.8352483510971...\n",
       "1     [{'label': 'LABEL_0', 'score': 0.6005629301071...\n",
       "2     [{'label': 'LABEL_0', 'score': 0.9670851826667...\n",
       "3     [{'label': 'LABEL_0', 'score': 0.5559256076812...\n",
       "4     [{'label': 'LABEL_0', 'score': 0.8914973735809...\n",
       "5     [{'label': 'LABEL_1', 'score': 0.7387170195579...\n",
       "6     [{'label': 'LABEL_0', 'score': 0.6699694395065...\n",
       "7     [{'label': 'LABEL_0', 'score': 0.8289598822593...\n",
       "8     [{'label': 'LABEL_0', 'score': 0.9362846612930...\n",
       "9     [{'label': 'LABEL_0', 'score': 0.9252184629440...\n",
       "10    [{'label': 'LABEL_0', 'score': 0.9696216583251...\n",
       "11    [{'label': 'LABEL_0', 'score': 0.9258766174316...\n",
       "12    [{'label': 'LABEL_0', 'score': 0.7492319941520...\n",
       "13    [{'label': 'LABEL_0', 'score': 0.9277365803718...\n",
       "14    [{'label': 'LABEL_0', 'score': 0.7200801968574...\n",
       "15    [{'label': 'LABEL_0', 'score': 0.9043914675712...\n",
       "16    [{'label': 'LABEL_0', 'score': 0.8913209438323...\n",
       "17    [{'label': 'LABEL_0', 'score': 0.9459018111228...\n",
       "18    [{'label': 'LABEL_0', 'score': 0.9211284518241...\n",
       "19    [{'label': 'LABEL_0', 'score': 0.7587330937385...\n",
       "20    [{'label': 'LABEL_0', 'score': 0.9646542072296...\n",
       "21    [{'label': 'LABEL_0', 'score': 0.5840463638305...\n",
       "22    [{'label': 'LABEL_0', 'score': 0.7441418766975...\n",
       "23    [{'label': 'LABEL_0', 'score': 0.9444330334663...\n",
       "24    [{'label': 'LABEL_1', 'score': 0.8886185288429...\n",
       "25    [{'label': 'LABEL_0', 'score': 0.9264805912971...\n",
       "26    [{'label': 'LABEL_1', 'score': 0.7183105349540...\n",
       "27    [{'label': 'LABEL_0', 'score': 0.9288732409477...\n",
       "28    [{'label': 'LABEL_0', 'score': 0.9006239771842...\n",
       "29    [{'label': 'LABEL_1', 'score': 0.6319682598114...\n",
       "30    [{'label': 'LABEL_0', 'score': 0.9712310433387...\n",
       "31    [{'label': 'LABEL_1', 'score': 0.5385309457778...\n",
       "32    [{'label': 'LABEL_1', 'score': 0.6452156901359...\n",
       "33    [{'label': 'LABEL_0', 'score': 0.5929542183876...\n",
       "34    [{'label': 'LABEL_1', 'score': 0.8730164170265...\n",
       "35    [{'label': 'LABEL_0', 'score': 0.8200862407684...\n",
       "36    [{'label': 'LABEL_0', 'score': 0.5842561721801...\n",
       "37    [{'label': 'LABEL_0', 'score': 0.9225413799285...\n",
       "38    [{'label': 'LABEL_1', 'score': 0.6292299628257...\n",
       "39    [{'label': 'LABEL_0', 'score': 0.9540951848030...\n",
       "40    [{'label': 'LABEL_0', 'score': 0.9612029790878...\n",
       "41    [{'label': 'LABEL_0', 'score': 0.8864964246749...\n",
       "42    [{'label': 'LABEL_1', 'score': 0.7786384224891...\n",
       "43    [{'label': 'LABEL_0', 'score': 0.9221698045730...\n",
       "44    [{'label': 'LABEL_0', 'score': 0.9397325515747...\n",
       "45    [{'label': 'LABEL_0', 'score': 0.8194650411605...\n",
       "46    [{'label': 'LABEL_0', 'score': 0.8864046931266...\n",
       "47    [{'label': 'LABEL_0', 'score': 0.9631045460700...\n",
       "48    [{'label': 'LABEL_0', 'score': 0.5832737684249...\n",
       "49    [{'label': 'LABEL_1', 'score': 0.9215146899223...\n",
       "Name: prediction, dtype: object"
      ]
     },
     "execution_count": 102,
     "metadata": {},
     "output_type": "execute_result"
    }
   ],
   "source": [
    "result_df['prediction'].apply(grammar_checker)"
   ]
  },
  {
   "cell_type": "markdown",
   "id": "47049cab",
   "metadata": {},
   "source": [
    "LABEL_0 -> 문법적으로 부적절함,   \n",
    "LABEL_1 -> 문법적으로 적절함  \n",
    "score -> 신뢰도"
   ]
  },
  {
   "cell_type": "code",
   "execution_count": 104,
   "id": "b4d759c0",
   "metadata": {},
   "outputs": [],
   "source": [
    "result_df['prediction_grammar'] = result_df['prediction'].apply(lambda x: grammar_checker(x)[0]['label'].split(\"_\")[1])\n",
    "result_df['extraction_grammar'] = result_df['extraction'].apply(lambda x: grammar_checker(x)[0]['label'].split(\"_\")[1])"
   ]
  },
  {
   "cell_type": "code",
   "execution_count": 105,
   "id": "82f50ed3",
   "metadata": {},
   "outputs": [
    {
     "data": {
      "text/html": [
       "<div>\n",
       "<style scoped>\n",
       "    .dataframe tbody tr th:only-of-type {\n",
       "        vertical-align: middle;\n",
       "    }\n",
       "\n",
       "    .dataframe tbody tr th {\n",
       "        vertical-align: top;\n",
       "    }\n",
       "\n",
       "    .dataframe thead th {\n",
       "        text-align: right;\n",
       "    }\n",
       "</style>\n",
       "<table border=\"1\" class=\"dataframe\">\n",
       "  <thead>\n",
       "    <tr style=\"text-align: right;\">\n",
       "      <th></th>\n",
       "      <th>text</th>\n",
       "      <th>headline</th>\n",
       "      <th>prediction</th>\n",
       "      <th>extraction</th>\n",
       "      <th>prediction_grammar</th>\n",
       "      <th>extraction_grammar</th>\n",
       "    </tr>\n",
       "  </thead>\n",
       "  <tbody>\n",
       "    <tr>\n",
       "      <th>0</th>\n",
       "      <td>anushka sharma slammed bengali newspaper publi...</td>\n",
       "      <td>anushka slams newspaper for publishing her fak...</td>\n",
       "      <td>anushka sharma denies rumours of being called</td>\n",
       "      <td>interview life personal anushka anyone bengali...</td>\n",
       "      <td>1</td>\n",
       "      <td>0</td>\n",
       "    </tr>\n",
       "    <tr>\n",
       "      <th>1</th>\n",
       "      <td>least twelve students including six girls alle...</td>\n",
       "      <td>students commit suicide hours after mp board e...</td>\n",
       "      <td>students suicide after failing to exam exam</td>\n",
       "      <td>board class committed results suicide allegedl...</td>\n",
       "      <td>0</td>\n",
       "      <td>0</td>\n",
       "    </tr>\n",
       "    <tr>\n",
       "      <th>2</th>\n",
       "      <td>students union delhi university st stephen col...</td>\n",
       "      <td>mandir banega in st stephen college</td>\n",
       "      <td>du students to cut for</td>\n",
       "      <td>chapel college found students union added bane...</td>\n",
       "      <td>0</td>\n",
       "      <td>0</td>\n",
       "    </tr>\n",
       "    <tr>\n",
       "      <th>3</th>\n",
       "      <td>actress priyanka chopra sharing picture childr...</td>\n",
       "      <td>the world needs to care priyanka on rohingya r...</td>\n",
       "      <td>priyanka in priyanka on priyanka</td>\n",
       "      <td>care priyanka actress added bangladesh camp ch...</td>\n",
       "      <td>0</td>\n",
       "      <td>0</td>\n",
       "    </tr>\n",
       "    <tr>\n",
       "      <th>4</th>\n",
       "      <td>vice president venkaiah naidu monday urged res...</td>\n",
       "      <td>rbi should prove of demonetisation vice prez</td>\n",
       "      <td>note ban on note with finance minister</td>\n",
       "      <td>bank demonetisation people accounts added bank...</td>\n",
       "      <td>0</td>\n",
       "      <td>0</td>\n",
       "    </tr>\n",
       "  </tbody>\n",
       "</table>\n",
       "</div>"
      ],
      "text/plain": [
       "                                                text  \\\n",
       "0  anushka sharma slammed bengali newspaper publi...   \n",
       "1  least twelve students including six girls alle...   \n",
       "2  students union delhi university st stephen col...   \n",
       "3  actress priyanka chopra sharing picture childr...   \n",
       "4  vice president venkaiah naidu monday urged res...   \n",
       "\n",
       "                                            headline  \\\n",
       "0  anushka slams newspaper for publishing her fak...   \n",
       "1  students commit suicide hours after mp board e...   \n",
       "2               mandir banega in st stephen college    \n",
       "3  the world needs to care priyanka on rohingya r...   \n",
       "4      rbi should prove of demonetisation vice prez    \n",
       "\n",
       "                                       prediction  \\\n",
       "0   anushka sharma denies rumours of being called   \n",
       "1     students suicide after failing to exam exam   \n",
       "2                          du students to cut for   \n",
       "3                priyanka in priyanka on priyanka   \n",
       "4          note ban on note with finance minister   \n",
       "\n",
       "                                          extraction prediction_grammar  \\\n",
       "0  interview life personal anushka anyone bengali...                  1   \n",
       "1  board class committed results suicide allegedl...                  0   \n",
       "2  chapel college found students union added bane...                  0   \n",
       "3  care priyanka actress added bangladesh camp ch...                  0   \n",
       "4  bank demonetisation people accounts added bank...                  0   \n",
       "\n",
       "  extraction_grammar  \n",
       "0                  0  \n",
       "1                  0  \n",
       "2                  0  \n",
       "3                  0  \n",
       "4                  0  "
      ]
     },
     "execution_count": 105,
     "metadata": {},
     "output_type": "execute_result"
    }
   ],
   "source": [
    "result_df.head()"
   ]
  },
  {
   "cell_type": "code",
   "execution_count": 122,
   "id": "6fdf4d84",
   "metadata": {},
   "outputs": [
    {
     "name": "stdout",
     "output_type": "stream",
     "text": [
      "추상적 예측 요약의 문법 완성도 점수:  11\n",
      "추출적 요약의 문법 완성도 점수:  1\n"
     ]
    }
   ],
   "source": [
    "print(\"추상적 예측 요약의 문법 완성도 점수: \",result_df['prediction_grammar'].astype('int').sum())\n",
    "print(\"추출적 요약의 문법 완성도 점수: \",result_df['extraction_grammar'].astype('int').sum())"
   ]
  },
  {
   "cell_type": "code",
   "execution_count": 109,
   "id": "b0420434",
   "metadata": {},
   "outputs": [],
   "source": [
    "from sklearn.feature_extraction.text import TfidfVectorizer\n",
    "\n",
    "# tfidf 벡터화하여 빈도수 기반으로 상위 10개의 단어를 추출\n",
    "def extract_keywords(text, top_k=10):\n",
    "    vec = TfidfVectorizer(stop_words='english')  # 한국어면 별도 불용어 처리 필요\n",
    "    tfidf = vec.fit_transform([text])\n",
    "    scores = tfidf.toarray()[0]\n",
    "    word_index = {word: idx for idx, word in enumerate(vec.get_feature_names_out())}\n",
    "    sorted_words = sorted(word_index.items(), key=lambda x: scores[x[1]], reverse=True)\n",
    "    return [w for w, _ in sorted_words[:top_k]]\n",
    "\n",
    "# 텍스트 기반 빈도가 높은 단어 10개가 추출한 문장에 얼마나 있는지 평가\n",
    "def keyword_coverage_score(text, extraction, top_k=10):\n",
    "    keywords = extract_keywords(text, top_k)\n",
    "    included = [kw for kw in keywords if kw in extraction]\n",
    "    score = len(included) / len(keywords)\n",
    "    return {\n",
    "        \"핵심단어\": keywords,\n",
    "        \"포함된 단어\": included,\n",
    "        \"포함률\": round(score, 2)\n",
    "    }\n"
   ]
  },
  {
   "cell_type": "code",
   "execution_count": 110,
   "id": "3340cad1",
   "metadata": {},
   "outputs": [
    {
     "data": {
      "text/plain": [
       "{'핵심단어': ['interview',\n",
       "  'life',\n",
       "  'personal',\n",
       "  'anushka',\n",
       "  'bengali',\n",
       "  'english',\n",
       "  'fake',\n",
       "  'freedom',\n",
       "  'happen',\n",
       "  'like'],\n",
       " '포함된 단어': ['anushka'],\n",
       " '포함률': 0.1}"
      ]
     },
     "execution_count": 110,
     "metadata": {},
     "output_type": "execute_result"
    }
   ],
   "source": [
    "keyword_coverage_score(result_df['text'][0],result_df['prediction'][0])"
   ]
  },
  {
   "cell_type": "code",
   "execution_count": 111,
   "id": "f3de2d91",
   "metadata": {},
   "outputs": [
    {
     "data": {
      "text/plain": [
       "{'핵심단어': ['interview',\n",
       "  'life',\n",
       "  'personal',\n",
       "  'anushka',\n",
       "  'bengali',\n",
       "  'english',\n",
       "  'fake',\n",
       "  'freedom',\n",
       "  'happen',\n",
       "  'like'],\n",
       " '포함된 단어': ['interview',\n",
       "  'life',\n",
       "  'personal',\n",
       "  'anushka',\n",
       "  'bengali',\n",
       "  'english',\n",
       "  'fake'],\n",
       " '포함률': 0.7}"
      ]
     },
     "execution_count": 111,
     "metadata": {},
     "output_type": "execute_result"
    }
   ],
   "source": [
    "keyword_coverage_score(result_df['text'][0],result_df['extraction'][0])"
   ]
  },
  {
   "cell_type": "code",
   "execution_count": 115,
   "id": "62ebe498",
   "metadata": {},
   "outputs": [],
   "source": [
    "result_df['pred_keyword_ratio']=result_df[['text','prediction']].apply(lambda row: keyword_coverage_score(row['text'], row['prediction'])['포함률'],\n",
    "    axis=1)\n",
    "result_df['extr_keyword_ratio']=result_df[['text','extraction']].apply(lambda row: keyword_coverage_score(row['text'], row['extraction'])['포함률'],\n",
    "    axis=1)\n"
   ]
  },
  {
   "cell_type": "code",
   "execution_count": 116,
   "id": "44bfd23b",
   "metadata": {},
   "outputs": [
    {
     "data": {
      "text/html": [
       "<div>\n",
       "<style scoped>\n",
       "    .dataframe tbody tr th:only-of-type {\n",
       "        vertical-align: middle;\n",
       "    }\n",
       "\n",
       "    .dataframe tbody tr th {\n",
       "        vertical-align: top;\n",
       "    }\n",
       "\n",
       "    .dataframe thead th {\n",
       "        text-align: right;\n",
       "    }\n",
       "</style>\n",
       "<table border=\"1\" class=\"dataframe\">\n",
       "  <thead>\n",
       "    <tr style=\"text-align: right;\">\n",
       "      <th></th>\n",
       "      <th>text</th>\n",
       "      <th>headline</th>\n",
       "      <th>prediction</th>\n",
       "      <th>extraction</th>\n",
       "      <th>prediction_grammar</th>\n",
       "      <th>extraction_grammar</th>\n",
       "      <th>pred_keyword_ratio</th>\n",
       "      <th>extr_keyword_ratio</th>\n",
       "    </tr>\n",
       "  </thead>\n",
       "  <tbody>\n",
       "    <tr>\n",
       "      <th>0</th>\n",
       "      <td>anushka sharma slammed bengali newspaper publi...</td>\n",
       "      <td>anushka slams newspaper for publishing her fak...</td>\n",
       "      <td>anushka sharma denies rumours of being called</td>\n",
       "      <td>interview life personal anushka anyone bengali...</td>\n",
       "      <td>1</td>\n",
       "      <td>0</td>\n",
       "      <td>0.1</td>\n",
       "      <td>0.7</td>\n",
       "    </tr>\n",
       "    <tr>\n",
       "      <th>1</th>\n",
       "      <td>least twelve students including six girls alle...</td>\n",
       "      <td>students commit suicide hours after mp board e...</td>\n",
       "      <td>students suicide after failing to exam exam</td>\n",
       "      <td>board class committed results suicide allegedl...</td>\n",
       "      <td>0</td>\n",
       "      <td>0</td>\n",
       "      <td>0.1</td>\n",
       "      <td>1.0</td>\n",
       "    </tr>\n",
       "    <tr>\n",
       "      <th>2</th>\n",
       "      <td>students union delhi university st stephen col...</td>\n",
       "      <td>mandir banega in st stephen college</td>\n",
       "      <td>du students to cut for</td>\n",
       "      <td>chapel college found students union added bane...</td>\n",
       "      <td>0</td>\n",
       "      <td>0</td>\n",
       "      <td>0.1</td>\n",
       "      <td>0.8</td>\n",
       "    </tr>\n",
       "    <tr>\n",
       "      <th>3</th>\n",
       "      <td>actress priyanka chopra sharing picture childr...</td>\n",
       "      <td>the world needs to care priyanka on rohingya r...</td>\n",
       "      <td>priyanka in priyanka on priyanka</td>\n",
       "      <td>care priyanka actress added bangladesh camp ch...</td>\n",
       "      <td>0</td>\n",
       "      <td>0</td>\n",
       "      <td>0.1</td>\n",
       "      <td>0.9</td>\n",
       "    </tr>\n",
       "    <tr>\n",
       "      <th>4</th>\n",
       "      <td>vice president venkaiah naidu monday urged res...</td>\n",
       "      <td>rbi should prove of demonetisation vice prez</td>\n",
       "      <td>note ban on note with finance minister</td>\n",
       "      <td>bank demonetisation people accounts added bank...</td>\n",
       "      <td>0</td>\n",
       "      <td>0</td>\n",
       "      <td>0.0</td>\n",
       "      <td>1.0</td>\n",
       "    </tr>\n",
       "  </tbody>\n",
       "</table>\n",
       "</div>"
      ],
      "text/plain": [
       "                                                text  \\\n",
       "0  anushka sharma slammed bengali newspaper publi...   \n",
       "1  least twelve students including six girls alle...   \n",
       "2  students union delhi university st stephen col...   \n",
       "3  actress priyanka chopra sharing picture childr...   \n",
       "4  vice president venkaiah naidu monday urged res...   \n",
       "\n",
       "                                            headline  \\\n",
       "0  anushka slams newspaper for publishing her fak...   \n",
       "1  students commit suicide hours after mp board e...   \n",
       "2               mandir banega in st stephen college    \n",
       "3  the world needs to care priyanka on rohingya r...   \n",
       "4      rbi should prove of demonetisation vice prez    \n",
       "\n",
       "                                       prediction  \\\n",
       "0   anushka sharma denies rumours of being called   \n",
       "1     students suicide after failing to exam exam   \n",
       "2                          du students to cut for   \n",
       "3                priyanka in priyanka on priyanka   \n",
       "4          note ban on note with finance minister   \n",
       "\n",
       "                                          extraction prediction_grammar  \\\n",
       "0  interview life personal anushka anyone bengali...                  1   \n",
       "1  board class committed results suicide allegedl...                  0   \n",
       "2  chapel college found students union added bane...                  0   \n",
       "3  care priyanka actress added bangladesh camp ch...                  0   \n",
       "4  bank demonetisation people accounts added bank...                  0   \n",
       "\n",
       "  extraction_grammar  pred_keyword_ratio  extr_keyword_ratio  \n",
       "0                  0                 0.1                 0.7  \n",
       "1                  0                 0.1                 1.0  \n",
       "2                  0                 0.1                 0.8  \n",
       "3                  0                 0.1                 0.9  \n",
       "4                  0                 0.0                 1.0  "
      ]
     },
     "execution_count": 116,
     "metadata": {},
     "output_type": "execute_result"
    }
   ],
   "source": [
    "result_df.head()"
   ]
  },
  {
   "cell_type": "code",
   "execution_count": 123,
   "id": "8d3263a4",
   "metadata": {},
   "outputs": [
    {
     "name": "stdout",
     "output_type": "stream",
     "text": [
      "추상적 예측 요약의 핵심단어 포함 정도 점수 5.0\n",
      "추출적 요약의 핵심단어 포함 정도 점수 45.7\n"
     ]
    }
   ],
   "source": [
    "print(\"추상적 예측 요약의 핵심단어 포함 정도 점수\", result_df['pred_keyword_ratio'].astype(float).sum())\n",
    "print(\"추출적 요약의 핵심단어 포함 정도 점수\",result_df['extr_keyword_ratio'].astype(float).sum())"
   ]
  },
  {
   "cell_type": "markdown",
   "id": "7e931a93",
   "metadata": {},
   "source": [
    "=> (샘플 50개만 확인했으므로 일반화하기는 어렵지만,) 추출한 50개의 샘플을 확인했을 때,    \n",
    "모델을 사용한 추상적 요약의 문법 완성도가 더 높은 것을 확인하였다.   \n",
    "=> 핵심단어 포함 정도를 확인했을 때는 추출적 요약한 문장이 더 많은 핵심단어를 포함한 것을 확인할 수 있었다. "
   ]
  },
  {
   "cell_type": "markdown",
   "id": "73bee3b1",
   "metadata": {},
   "source": [
    "# 회고 \n",
    "\n",
    "언어를 벡터화하는 과정이 매우 신기했다.  \n",
    "seq2seq 모델의 구조에 대해서는 아직 어렴풋하게만 이해하고 있지만, 앞으로 더 많이 실습해보며 익숙해지고 싶다.  \n",
    "트랜스포머 모델과 구조에 대해서도 더 공부를 해야겠다고 느꼈다.  \n",
    "평가 지표가 없는 문제에 대해서, 어떻게 모델을 평가해야 할지 고민을 해보는 계기가 되었다.  \n",
    "문장의 문법 완성도를 평가하는 방법도 bert 모델을 사용한 것이기 때문에, 신뢰도는 다시 생각해봐야 하는 것 같다.  "
   ]
  },
  {
   "cell_type": "code",
   "execution_count": null,
   "id": "79dd8814",
   "metadata": {},
   "outputs": [],
   "source": []
  }
 ],
 "metadata": {
  "kernelspec": {
   "display_name": "Python 3 (ipykernel)",
   "language": "python",
   "name": "python3"
  },
  "language_info": {
   "codemirror_mode": {
    "name": "ipython",
    "version": 3
   },
   "file_extension": ".py",
   "mimetype": "text/x-python",
   "name": "python",
   "nbconvert_exporter": "python",
   "pygments_lexer": "ipython3",
   "version": "3.9.7"
  }
 },
 "nbformat": 4,
 "nbformat_minor": 5
}
