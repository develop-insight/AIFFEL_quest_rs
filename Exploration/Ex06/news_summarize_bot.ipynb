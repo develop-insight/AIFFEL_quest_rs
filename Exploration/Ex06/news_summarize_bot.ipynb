{
 "cells": [
  {
   "cell_type": "markdown",
   "id": "ee4c910c",
   "metadata": {},
   "source": [
    "# 뉴스 요약봇 만들기"
   ]
  },
  {
   "cell_type": "code",
   "execution_count": 2,
   "id": "f3388262",
   "metadata": {},
   "outputs": [
    {
     "name": "stderr",
     "output_type": "stream",
     "text": [
      "[nltk_data] Downloading package stopwords to /aiffel/nltk_data...\n",
      "[nltk_data]   Package stopwords is already up-to-date!\n"
     ]
    },
    {
     "name": "stdout",
     "output_type": "stream",
     "text": [
      "3.6.5\n",
      "2.6.0\n",
      "1.3.3\n",
      "1.2.0\n"
     ]
    }
   ],
   "source": [
    "from importlib.metadata import version\n",
    "import nltk\n",
    "nltk.download('stopwords')\n",
    "from nltk.corpus import stopwords\n",
    "\n",
    "import numpy as np\n",
    "import pandas as pd\n",
    "import os\n",
    "import re\n",
    "import matplotlib.pyplot as plt\n",
    "from bs4 import BeautifulSoup \n",
    "\n",
    "import tensorflow\n",
    "from tensorflow.keras.preprocessing.text import Tokenizer \n",
    "from tensorflow.keras.preprocessing.sequence import pad_sequences\n",
    "import summa\n",
    "\n",
    "import warnings\n",
    "warnings.filterwarnings(\"ignore\", category=UserWarning, module='bs4')\n",
    "\n",
    "\n",
    "print(nltk.__version__)\n",
    "print(tensorflow.__version__)\n",
    "print(pd.__version__)\n",
    "print(version('summa'))"
   ]
  },
  {
   "cell_type": "markdown",
   "id": "795e2506",
   "metadata": {},
   "source": [
    "https://github.com/sunnysai12345/News_Summary"
   ]
  },
  {
   "cell_type": "code",
   "execution_count": 22,
   "id": "985b7b38",
   "metadata": {},
   "outputs": [],
   "source": [
    "import urllib.request\n",
    "urllib.request.urlretrieve(\"https://raw.githubusercontent.com/sunnysai12345/News_Summary/master/news_summary_more.csv\", filename=\"news_summary_more.csv\")\n",
    "data = pd.read_csv('news_summary_more.csv', encoding='iso-8859-1')"
   ]
  },
  {
   "cell_type": "code",
   "execution_count": 23,
   "id": "84e9d466",
   "metadata": {},
   "outputs": [
    {
     "data": {
      "text/html": [
       "<div>\n",
       "<style scoped>\n",
       "    .dataframe tbody tr th:only-of-type {\n",
       "        vertical-align: middle;\n",
       "    }\n",
       "\n",
       "    .dataframe tbody tr th {\n",
       "        vertical-align: top;\n",
       "    }\n",
       "\n",
       "    .dataframe thead th {\n",
       "        text-align: right;\n",
       "    }\n",
       "</style>\n",
       "<table border=\"1\" class=\"dataframe\">\n",
       "  <thead>\n",
       "    <tr style=\"text-align: right;\">\n",
       "      <th></th>\n",
       "      <th>headlines</th>\n",
       "      <th>text</th>\n",
       "    </tr>\n",
       "  </thead>\n",
       "  <tbody>\n",
       "    <tr>\n",
       "      <th>81665</th>\n",
       "      <td>SC asks Tamil Nadu govt not to force farmers t...</td>\n",
       "      <td>The Supreme Court asked the Tamil Nadu governm...</td>\n",
       "    </tr>\n",
       "    <tr>\n",
       "      <th>80269</th>\n",
       "      <td>Victoria Beckham slammed for claiming that she...</td>\n",
       "      <td>Victoria Beckham has been slammed by Land Rove...</td>\n",
       "    </tr>\n",
       "    <tr>\n",
       "      <th>82182</th>\n",
       "      <td>Jet Airways shares jump over reports of stake ...</td>\n",
       "      <td>Shares of Jet Airways on Monday surged over 3%...</td>\n",
       "    </tr>\n",
       "    <tr>\n",
       "      <th>97170</th>\n",
       "      <td>75% forum engagement on Startup IndiaÃ¢ÂÂs o...</td>\n",
       "      <td>Startup IndiaÃ¢ÂÂs online learning and devel...</td>\n",
       "    </tr>\n",
       "    <tr>\n",
       "      <th>79522</th>\n",
       "      <td>Trailer of Amole Gupte's directorial 'Sniff' r...</td>\n",
       "      <td>The trailer of Amole Gupte's upcoming director...</td>\n",
       "    </tr>\n",
       "    <tr>\n",
       "      <th>45317</th>\n",
       "      <td>Man steals women's undergarments in Noida, arr...</td>\n",
       "      <td>A 25-year-old man was detained by the police o...</td>\n",
       "    </tr>\n",
       "    <tr>\n",
       "      <th>31463</th>\n",
       "      <td>Alaskans mistakenly receive tsunami warning</td>\n",
       "      <td>Alaskans mistakenly received a tsunami warning...</td>\n",
       "    </tr>\n",
       "    <tr>\n",
       "      <th>57288</th>\n",
       "      <td>What is the religious significance of Jerusalem?</td>\n",
       "      <td>Jerusalem, central to the Israel-Palestine con...</td>\n",
       "    </tr>\n",
       "    <tr>\n",
       "      <th>21423</th>\n",
       "      <td>TRS leader hoists party flag, not Tricolour on...</td>\n",
       "      <td>A local leader of Telangana Rashtra Samithi (T...</td>\n",
       "    </tr>\n",
       "    <tr>\n",
       "      <th>86912</th>\n",
       "      <td>Arsenal's ÃÂzilÃ¢ÂÂ tweets about Ranveer S...</td>\n",
       "      <td>Arsenal footballer Mesut ÃÂzil retweeted Bol...</td>\n",
       "    </tr>\n",
       "  </tbody>\n",
       "</table>\n",
       "</div>"
      ],
      "text/plain": [
       "                                               headlines  \\\n",
       "81665  SC asks Tamil Nadu govt not to force farmers t...   \n",
       "80269  Victoria Beckham slammed for claiming that she...   \n",
       "82182  Jet Airways shares jump over reports of stake ...   \n",
       "97170  75% forum engagement on Startup IndiaÃ¢ÂÂs o...   \n",
       "79522  Trailer of Amole Gupte's directorial 'Sniff' r...   \n",
       "45317  Man steals women's undergarments in Noida, arr...   \n",
       "31463        Alaskans mistakenly receive tsunami warning   \n",
       "57288   What is the religious significance of Jerusalem?   \n",
       "21423  TRS leader hoists party flag, not Tricolour on...   \n",
       "86912  Arsenal's ÃÂzilÃ¢ÂÂ tweets about Ranveer S...   \n",
       "\n",
       "                                                    text  \n",
       "81665  The Supreme Court asked the Tamil Nadu governm...  \n",
       "80269  Victoria Beckham has been slammed by Land Rove...  \n",
       "82182  Shares of Jet Airways on Monday surged over 3%...  \n",
       "97170  Startup IndiaÃ¢ÂÂs online learning and devel...  \n",
       "79522  The trailer of Amole Gupte's upcoming director...  \n",
       "45317  A 25-year-old man was detained by the police o...  \n",
       "31463  Alaskans mistakenly received a tsunami warning...  \n",
       "57288  Jerusalem, central to the Israel-Palestine con...  \n",
       "21423  A local leader of Telangana Rashtra Samithi (T...  \n",
       "86912  Arsenal footballer Mesut ÃÂzil retweeted Bol...  "
      ]
     },
     "execution_count": 23,
     "metadata": {},
     "output_type": "execute_result"
    }
   ],
   "source": [
    "data.sample(10)"
   ]
  },
  {
   "cell_type": "markdown",
   "id": "7236aaa4",
   "metadata": {},
   "source": [
    "## 데이터 전처리(추상적 요약)"
   ]
  },
  {
   "cell_type": "code",
   "execution_count": 24,
   "id": "1f098a3e",
   "metadata": {},
   "outputs": [
    {
     "data": {
      "text/plain": [
       "(98401, 2)"
      ]
     },
     "execution_count": 24,
     "metadata": {},
     "output_type": "execute_result"
    }
   ],
   "source": [
    "data.shape"
   ]
  },
  {
   "cell_type": "markdown",
   "id": "ec14460e",
   "metadata": {},
   "source": [
    "### 중복 데이터 확인"
   ]
  },
  {
   "cell_type": "code",
   "execution_count": 25,
   "id": "a7caaf15",
   "metadata": {},
   "outputs": [
    {
     "name": "stdout",
     "output_type": "stream",
     "text": [
      "headlines에서 유니크한 샘플 수:  98280\n",
      "text에서 유니크한 샘플 수:  98360\n"
     ]
    }
   ],
   "source": [
    "print(\"headlines에서 유니크한 샘플 수: \",data['headlines'].nunique())\n",
    "print(\"text에서 유니크한 샘플 수: \",data['text'].nunique())"
   ]
  },
  {
   "cell_type": "markdown",
   "id": "765bc694",
   "metadata": {},
   "source": [
    "=> text에서 중복데이터가 존재한다. drop으로 제거"
   ]
  },
  {
   "cell_type": "code",
   "execution_count": 26,
   "id": "783b269a",
   "metadata": {},
   "outputs": [
    {
     "data": {
      "text/plain": [
       "(98360, 2)"
      ]
     },
     "execution_count": 26,
     "metadata": {},
     "output_type": "execute_result"
    }
   ],
   "source": [
    "data.drop_duplicates(subset=[\"text\"], inplace=True)\n",
    "data.shape"
   ]
  },
  {
   "cell_type": "markdown",
   "id": "f9b573c9",
   "metadata": {},
   "source": [
    "### 결측치 확인"
   ]
  },
  {
   "cell_type": "code",
   "execution_count": 27,
   "id": "fb815a89",
   "metadata": {},
   "outputs": [
    {
     "data": {
      "text/plain": [
       "headlines    0\n",
       "text         0\n",
       "dtype: int64"
      ]
     },
     "execution_count": 27,
     "metadata": {},
     "output_type": "execute_result"
    }
   ],
   "source": [
    "data.isnull().sum()"
   ]
  },
  {
   "cell_type": "markdown",
   "id": "0880a96e",
   "metadata": {},
   "source": [
    "=> 결측치 없음"
   ]
  },
  {
   "cell_type": "markdown",
   "id": "b1b2ae4d",
   "metadata": {},
   "source": [
    "### 텍스트 정규화 & stopwords 제거"
   ]
  },
  {
   "cell_type": "code",
   "execution_count": 28,
   "id": "e64ed35d",
   "metadata": {},
   "outputs": [
    {
     "name": "stdout",
     "output_type": "stream",
     "text": [
      "정규화 사전의 수:  120\n"
     ]
    }
   ],
   "source": [
    "# 정규화 사전\n",
    "contractions = {\"ain't\": \"is not\", \"aren't\": \"are not\",\"can't\": \"cannot\", \"'cause\": \"because\", \"could've\": \"could have\", \"couldn't\": \"could not\",\n",
    "                           \"didn't\": \"did not\",  \"doesn't\": \"does not\", \"don't\": \"do not\", \"hadn't\": \"had not\", \"hasn't\": \"has not\", \"haven't\": \"have not\",\n",
    "                           \"he'd\": \"he would\",\"he'll\": \"he will\", \"he's\": \"he is\", \"how'd\": \"how did\", \"how'd'y\": \"how do you\", \"how'll\": \"how will\", \"how's\": \"how is\",\n",
    "                           \"I'd\": \"I would\", \"I'd've\": \"I would have\", \"I'll\": \"I will\", \"I'll've\": \"I will have\",\"I'm\": \"I am\", \"I've\": \"I have\", \"i'd\": \"i would\",\n",
    "                           \"i'd've\": \"i would have\", \"i'll\": \"i will\",  \"i'll've\": \"i will have\",\"i'm\": \"i am\", \"i've\": \"i have\", \"isn't\": \"is not\", \"it'd\": \"it would\",\n",
    "                           \"it'd've\": \"it would have\", \"it'll\": \"it will\", \"it'll've\": \"it will have\",\"it's\": \"it is\", \"let's\": \"let us\", \"ma'am\": \"madam\",\n",
    "                           \"mayn't\": \"may not\", \"might've\": \"might have\",\"mightn't\": \"might not\",\"mightn't've\": \"might not have\", \"must've\": \"must have\",\n",
    "                           \"mustn't\": \"must not\", \"mustn't've\": \"must not have\", \"needn't\": \"need not\", \"needn't've\": \"need not have\",\"o'clock\": \"of the clock\",\n",
    "                           \"oughtn't\": \"ought not\", \"oughtn't've\": \"ought not have\", \"shan't\": \"shall not\", \"sha'n't\": \"shall not\", \"shan't've\": \"shall not have\",\n",
    "                           \"she'd\": \"she would\", \"she'd've\": \"she would have\", \"she'll\": \"she will\", \"she'll've\": \"she will have\", \"she's\": \"she is\",\n",
    "                           \"should've\": \"should have\", \"shouldn't\": \"should not\", \"shouldn't've\": \"should not have\", \"so've\": \"so have\",\"so's\": \"so as\",\n",
    "                           \"this's\": \"this is\",\"that'd\": \"that would\", \"that'd've\": \"that would have\", \"that's\": \"that is\", \"there'd\": \"there would\",\n",
    "                           \"there'd've\": \"there would have\", \"there's\": \"there is\", \"here's\": \"here is\",\"they'd\": \"they would\", \"they'd've\": \"they would have\",\n",
    "                           \"they'll\": \"they will\", \"they'll've\": \"they will have\", \"they're\": \"they are\", \"they've\": \"they have\", \"to've\": \"to have\",\n",
    "                           \"wasn't\": \"was not\", \"we'd\": \"we would\", \"we'd've\": \"we would have\", \"we'll\": \"we will\", \"we'll've\": \"we will have\", \"we're\": \"we are\",\n",
    "                           \"we've\": \"we have\", \"weren't\": \"were not\", \"what'll\": \"what will\", \"what'll've\": \"what will have\", \"what're\": \"what are\",\n",
    "                           \"what's\": \"what is\", \"what've\": \"what have\", \"when's\": \"when is\", \"when've\": \"when have\", \"where'd\": \"where did\", \"where's\": \"where is\",\n",
    "                           \"where've\": \"where have\", \"who'll\": \"who will\", \"who'll've\": \"who will have\", \"who's\": \"who is\", \"who've\": \"who have\",\n",
    "                           \"why's\": \"why is\", \"why've\": \"why have\", \"will've\": \"will have\", \"won't\": \"will not\", \"won't've\": \"will not have\",\n",
    "                           \"would've\": \"would have\", \"wouldn't\": \"would not\", \"wouldn't've\": \"would not have\", \"y'all\": \"you all\",\n",
    "                           \"y'all'd\": \"you all would\",\"y'all'd've\": \"you all would have\",\"y'all're\": \"you all are\",\"y'all've\": \"you all have\",\n",
    "                           \"you'd\": \"you would\", \"you'd've\": \"you would have\", \"you'll\": \"you will\", \"you'll've\": \"you will have\",\n",
    "                           \"you're\": \"you are\", \"you've\": \"you have\"}\n",
    "\n",
    "print(\"정규화 사전의 수: \", len(contractions))"
   ]
  },
  {
   "cell_type": "code",
   "execution_count": 29,
   "id": "01f569b7",
   "metadata": {
    "scrolled": true
   },
   "outputs": [
    {
     "name": "stdout",
     "output_type": "stream",
     "text": [
      "불용어 개수 : 198\n",
      "['a', 'about', 'above', 'after', 'again', 'against', 'ain', 'all', 'am', 'an', 'and', 'any', 'are', 'aren', \"aren't\", 'as', 'at', 'be', 'because', 'been', 'before', 'being', 'below', 'between', 'both', 'but', 'by', 'can', 'couldn', \"couldn't\", 'd', 'did', 'didn', \"didn't\", 'do', 'does', 'doesn', \"doesn't\", 'doing', 'don', \"don't\", 'down', 'during', 'each', 'few', 'for', 'from', 'further', 'had', 'hadn', \"hadn't\", 'has', 'hasn', \"hasn't\", 'have', 'haven', \"haven't\", 'having', 'he', \"he'd\", \"he'll\", 'her', 'here', 'hers', 'herself', \"he's\", 'him', 'himself', 'his', 'how', 'i', \"i'd\", 'if', \"i'll\", \"i'm\", 'in', 'into', 'is', 'isn', \"isn't\", 'it', \"it'd\", \"it'll\", \"it's\", 'its', 'itself', \"i've\", 'just', 'll', 'm', 'ma', 'me', 'mightn', \"mightn't\", 'more', 'most', 'mustn', \"mustn't\", 'my', 'myself', 'needn', \"needn't\", 'no', 'nor', 'not', 'now', 'o', 'of', 'off', 'on', 'once', 'only', 'or', 'other', 'our', 'ours', 'ourselves', 'out', 'over', 'own', 're', 's', 'same', 'shan', \"shan't\", 'she', \"she'd\", \"she'll\", \"she's\", 'should', 'shouldn', \"shouldn't\", \"should've\", 'so', 'some', 'such', 't', 'than', 'that', \"that'll\", 'the', 'their', 'theirs', 'them', 'themselves', 'then', 'there', 'these', 'they', \"they'd\", \"they'll\", \"they're\", \"they've\", 'this', 'those', 'through', 'to', 'too', 'under', 'until', 'up', 've', 'very', 'was', 'wasn', \"wasn't\", 'we', \"we'd\", \"we'll\", \"we're\", 'were', 'weren', \"weren't\", \"we've\", 'what', 'when', 'where', 'which', 'while', 'who', 'whom', 'why', 'will', 'with', 'won', \"won't\", 'wouldn', \"wouldn't\", 'y', 'you', \"you'd\", \"you'll\", 'your', \"you're\", 'yours', 'yourself', 'yourselves', \"you've\"]\n"
     ]
    }
   ],
   "source": [
    "# stopwords 사전\n",
    "print('불용어 개수 :', len(stopwords.words('english') ))\n",
    "print(stopwords.words('english'))"
   ]
  },
  {
   "cell_type": "code",
   "execution_count": 30,
   "id": "80275536",
   "metadata": {},
   "outputs": [],
   "source": [
    "# 데이터 전처리 함수\n",
    "def preprocess_sentence(sentence, remove_stopwords=True):\n",
    "    sentence = sentence.lower() # 텍스트 소문자화\n",
    "    sentence = BeautifulSoup(sentence, \"lxml\").text # <br />, <a href = ...> 등의 html 태그 제거\n",
    "    sentence = re.sub(r'\\([^)]*\\)', '', sentence) # 괄호로 닫힌 문자열 (...) 제거 Ex) my husband (and myself!) for => my husband for\n",
    "    sentence = re.sub('\"','', sentence) # 쌍따옴표 \" 제거\n",
    "    sentence = ' '.join([contractions[t] if t in contractions else t for t in sentence.split(\" \")]) # 약어 정규화\n",
    "    sentence = re.sub(r\"'s\\b\",\"\", sentence) # 소유격 제거. Ex) roland's -> roland\n",
    "    sentence = re.sub(\"[^a-zA-Z]\", \" \", sentence) # 영어 외 문자(숫자, 특수문자 등) 공백으로 변환\n",
    "    sentence = re.sub('[m]{2,}', 'mm', sentence) # m이 3개 이상이면 2개로 변경. Ex) ummmmmmm yeah -> umm yeah\n",
    "    \n",
    "    # 불용어 제거 (Text)\n",
    "    if remove_stopwords:\n",
    "        tokens = ' '.join(word for word in sentence.split() if not word in stopwords.words('english') if len(word) > 1)\n",
    "    # 불용어 미제거 (Summary)\n",
    "    else:\n",
    "        tokens = ' '.join(word for word in sentence.split() if len(word) > 1)\n",
    "    return tokens"
   ]
  },
  {
   "cell_type": "markdown",
   "id": "224171ea",
   "metadata": {},
   "source": [
    "전처리 함수로 전처리"
   ]
  },
  {
   "cell_type": "code",
   "execution_count": 31,
   "id": "f5fee700",
   "metadata": {},
   "outputs": [],
   "source": [
    "def apply_preprocessing(df_column,remove_stopwords=True):\n",
    "    clean_data = []\n",
    "    for sentence in df_column:\n",
    "        clean_sentence = preprocess_sentence(sentence, remove_stopwords)\n",
    "        clean_data.append(clean_sentence)\n",
    "    return clean_data"
   ]
  },
  {
   "cell_type": "code",
   "execution_count": 32,
   "id": "0297a014",
   "metadata": {},
   "outputs": [],
   "source": [
    "clean_headlines = apply_preprocessing(data['headlines'], remove_stopwords=False)\n",
    "clean_text = apply_preprocessing(data['text'])"
   ]
  },
  {
   "cell_type": "code",
   "execution_count": 33,
   "id": "a4b5eca1",
   "metadata": {},
   "outputs": [
    {
     "name": "stdout",
     "output_type": "stream",
     "text": [
      "headlines 확인 ['upgrad learner switches to career in ml al with salary hike', 'delhi techie wins free food from swiggy for one year on cred', 'new zealand end rohit sharma led india match winning streak', 'aegon life iterm insurance plan helps customers save tax', 'have known hirani for yrs what if metoo claims are not true sonam']\n",
      "text 확인 ['saurav kant alumnus upgrad iiit pg program machine learning artificial intelligence sr systems engineer infosys almost years work experience program upgrad degree career support helped transition data scientist tech mahindra salary hike upgrad online power learning powered lakh careers', 'kunal shah credit card bill payment platform cred gave users chance win free food swiggy one year pranav kaushik delhi techie bagged reward spending cred coins users get one cred coin per rupee bill paid used avail rewards brands like ixigo bookmyshow ubereats cult fit', 'new zealand defeated india wickets fourth odi hamilton thursday win first match five match odi series india lost international match rohit sharma captaincy consecutive victories dating back march match witnessed india getting seventh lowest total odi cricket history', 'aegon life iterm insurance plan customers enjoy tax benefits premiums paid save taxes plan provides life cover age years also customers options insure critical illnesses disability accidental death benefit rider life cover age years', 'speaking sexual harassment allegations rajkumar hirani sonam kapoor said known hirani many years true metoo movement get derailed metoo movement always believe woman case need reserve judgment added hirani accused assistant worked sanju']\n"
     ]
    }
   ],
   "source": [
    "# 전처리 확인\n",
    "print(\"headlines 확인\", clean_headlines[:5])\n",
    "print(\"text 확인\", clean_text[:5])"
   ]
  },
  {
   "cell_type": "code",
   "execution_count": 34,
   "id": "04327f32",
   "metadata": {},
   "outputs": [],
   "source": [
    "data['headlines'] = clean_headlines\n",
    "data['text'] = clean_text"
   ]
  },
  {
   "cell_type": "code",
   "execution_count": 35,
   "id": "794ba797",
   "metadata": {},
   "outputs": [],
   "source": [
    "# ''(빈 문자열)를 Null로 변환\n",
    "data.replace('', np.nan, inplace=True)"
   ]
  },
  {
   "cell_type": "code",
   "execution_count": 36,
   "id": "b2348e5b",
   "metadata": {},
   "outputs": [
    {
     "data": {
      "text/plain": [
       "headlines    0\n",
       "text         0\n",
       "dtype: int64"
      ]
     },
     "execution_count": 36,
     "metadata": {},
     "output_type": "execute_result"
    }
   ],
   "source": [
    "# 데이터 전처리에 따른 결측치가 있나 확인\n",
    "data.isnull().sum()"
   ]
  },
  {
   "cell_type": "code",
   "execution_count": 37,
   "id": "f0599241",
   "metadata": {},
   "outputs": [
    {
     "data": {
      "text/html": [
       "<div>\n",
       "<style scoped>\n",
       "    .dataframe tbody tr th:only-of-type {\n",
       "        vertical-align: middle;\n",
       "    }\n",
       "\n",
       "    .dataframe tbody tr th {\n",
       "        vertical-align: top;\n",
       "    }\n",
       "\n",
       "    .dataframe thead th {\n",
       "        text-align: right;\n",
       "    }\n",
       "</style>\n",
       "<table border=\"1\" class=\"dataframe\">\n",
       "  <thead>\n",
       "    <tr style=\"text-align: right;\">\n",
       "      <th></th>\n",
       "      <th>headlines</th>\n",
       "      <th>text</th>\n",
       "    </tr>\n",
       "  </thead>\n",
       "  <tbody>\n",
       "    <tr>\n",
       "      <th>0</th>\n",
       "      <td>upgrad learner switches to career in ml al wit...</td>\n",
       "      <td>saurav kant alumnus upgrad iiit pg program mac...</td>\n",
       "    </tr>\n",
       "    <tr>\n",
       "      <th>1</th>\n",
       "      <td>delhi techie wins free food from swiggy for on...</td>\n",
       "      <td>kunal shah credit card bill payment platform c...</td>\n",
       "    </tr>\n",
       "    <tr>\n",
       "      <th>2</th>\n",
       "      <td>new zealand end rohit sharma led india match w...</td>\n",
       "      <td>new zealand defeated india wickets fourth odi ...</td>\n",
       "    </tr>\n",
       "    <tr>\n",
       "      <th>3</th>\n",
       "      <td>aegon life iterm insurance plan helps customer...</td>\n",
       "      <td>aegon life iterm insurance plan customers enjo...</td>\n",
       "    </tr>\n",
       "    <tr>\n",
       "      <th>4</th>\n",
       "      <td>have known hirani for yrs what if metoo claims...</td>\n",
       "      <td>speaking sexual harassment allegations rajkuma...</td>\n",
       "    </tr>\n",
       "  </tbody>\n",
       "</table>\n",
       "</div>"
      ],
      "text/plain": [
       "                                           headlines  \\\n",
       "0  upgrad learner switches to career in ml al wit...   \n",
       "1  delhi techie wins free food from swiggy for on...   \n",
       "2  new zealand end rohit sharma led india match w...   \n",
       "3  aegon life iterm insurance plan helps customer...   \n",
       "4  have known hirani for yrs what if metoo claims...   \n",
       "\n",
       "                                                text  \n",
       "0  saurav kant alumnus upgrad iiit pg program mac...  \n",
       "1  kunal shah credit card bill payment platform c...  \n",
       "2  new zealand defeated india wickets fourth odi ...  \n",
       "3  aegon life iterm insurance plan customers enjo...  \n",
       "4  speaking sexual harassment allegations rajkuma...  "
      ]
     },
     "metadata": {},
     "output_type": "display_data"
    },
    {
     "data": {
      "text/plain": [
       "(98360, 2)"
      ]
     },
     "execution_count": 37,
     "metadata": {},
     "output_type": "execute_result"
    }
   ],
   "source": [
    "display(data.head())\n",
    "data.shape"
   ]
  },
  {
   "cell_type": "code",
   "execution_count": 38,
   "id": "c8c066f4",
   "metadata": {},
   "outputs": [],
   "source": [
    "# 전처리 완료한 df 저장\n",
    "data.to_csv(\"news_preprocessed.csv\", index=False)"
   ]
  },
  {
   "cell_type": "code",
   "execution_count": 4,
   "id": "427d8f0d",
   "metadata": {},
   "outputs": [
    {
     "data": {
      "text/html": [
       "<div>\n",
       "<style scoped>\n",
       "    .dataframe tbody tr th:only-of-type {\n",
       "        vertical-align: middle;\n",
       "    }\n",
       "\n",
       "    .dataframe tbody tr th {\n",
       "        vertical-align: top;\n",
       "    }\n",
       "\n",
       "    .dataframe thead th {\n",
       "        text-align: right;\n",
       "    }\n",
       "</style>\n",
       "<table border=\"1\" class=\"dataframe\">\n",
       "  <thead>\n",
       "    <tr style=\"text-align: right;\">\n",
       "      <th></th>\n",
       "      <th>headlines</th>\n",
       "      <th>text</th>\n",
       "    </tr>\n",
       "  </thead>\n",
       "  <tbody>\n",
       "    <tr>\n",
       "      <th>0</th>\n",
       "      <td>upgrad learner switches to career in ml al wit...</td>\n",
       "      <td>saurav kant alumnus upgrad iiit pg program mac...</td>\n",
       "    </tr>\n",
       "    <tr>\n",
       "      <th>1</th>\n",
       "      <td>delhi techie wins free food from swiggy for on...</td>\n",
       "      <td>kunal shah credit card bill payment platform c...</td>\n",
       "    </tr>\n",
       "    <tr>\n",
       "      <th>2</th>\n",
       "      <td>new zealand end rohit sharma led india match w...</td>\n",
       "      <td>new zealand defeated india wickets fourth odi ...</td>\n",
       "    </tr>\n",
       "    <tr>\n",
       "      <th>3</th>\n",
       "      <td>aegon life iterm insurance plan helps customer...</td>\n",
       "      <td>aegon life iterm insurance plan customers enjo...</td>\n",
       "    </tr>\n",
       "    <tr>\n",
       "      <th>4</th>\n",
       "      <td>have known hirani for yrs what if metoo claims...</td>\n",
       "      <td>speaking sexual harassment allegations rajkuma...</td>\n",
       "    </tr>\n",
       "  </tbody>\n",
       "</table>\n",
       "</div>"
      ],
      "text/plain": [
       "                                           headlines  \\\n",
       "0  upgrad learner switches to career in ml al wit...   \n",
       "1  delhi techie wins free food from swiggy for on...   \n",
       "2  new zealand end rohit sharma led india match w...   \n",
       "3  aegon life iterm insurance plan helps customer...   \n",
       "4  have known hirani for yrs what if metoo claims...   \n",
       "\n",
       "                                                text  \n",
       "0  saurav kant alumnus upgrad iiit pg program mac...  \n",
       "1  kunal shah credit card bill payment platform c...  \n",
       "2  new zealand defeated india wickets fourth odi ...  \n",
       "3  aegon life iterm insurance plan customers enjo...  \n",
       "4  speaking sexual harassment allegations rajkuma...  "
      ]
     },
     "metadata": {},
     "output_type": "display_data"
    },
    {
     "data": {
      "text/plain": [
       "(98360, 2)"
      ]
     },
     "execution_count": 4,
     "metadata": {},
     "output_type": "execute_result"
    }
   ],
   "source": [
    "data = pd.read_csv(\"news_preprocessed.csv\")\n",
    "display(data.head())\n",
    "data.shape"
   ]
  },
  {
   "cell_type": "markdown",
   "id": "521f7229",
   "metadata": {},
   "source": [
    "### 문장의 길이 분포 분석"
   ]
  },
  {
   "cell_type": "code",
   "execution_count": 5,
   "id": "18bba96a",
   "metadata": {},
   "outputs": [
    {
     "name": "stdout",
     "output_type": "stream",
     "text": [
      "텍스트의 최소 길이 : 1\n",
      "텍스트의 최대 길이 : 60\n",
      "텍스트의 평균 길이 : 35.09968483123221\n",
      "요약의 최소 길이 : 1\n",
      "요약의 최대 길이 : 16\n",
      "요약의 평균 길이 : 9.299532330215534\n"
     ]
    },
    {
     "data": {
      "image/png": "[encoded data removed]",
      "text/plain": [
       "<Figure size 432x288 with 2 Axes>"
      ]
     },
     "metadata": {
      "needs_background": "light"
     },
     "output_type": "display_data"
    },
    {
     "data": {
      "image/png": "[encoded data removed]",
      "text/plain": [
       "<Figure size 432x288 with 1 Axes>"
      ]
     },
     "metadata": {
      "needs_background": "light"
     },
     "output_type": "display_data"
    },
    {
     "data": {
      "image/png": "[encoded data removed]",
      "text/plain": [
       "<Figure size 432x288 with 1 Axes>"
      ]
     },
     "metadata": {
      "needs_background": "light"
     },
     "output_type": "display_data"
    }
   ],
   "source": [
    "# 길이 분포 출력\n",
    "import matplotlib.pyplot as plt\n",
    "\n",
    "text_len = [len(s.split()) for s in data['text']]\n",
    "headlines_len = [len(s.split()) for s in data['headlines']]\n",
    "\n",
    "print('텍스트의 최소 길이 : {}'.format(np.min(text_len)))\n",
    "print('텍스트의 최대 길이 : {}'.format(np.max(text_len)))\n",
    "print('텍스트의 평균 길이 : {}'.format(np.mean(text_len)))\n",
    "print('요약의 최소 길이 : {}'.format(np.min(headlines_len)))\n",
    "print('요약의 최대 길이 : {}'.format(np.max(headlines_len)))\n",
    "print('요약의 평균 길이 : {}'.format(np.mean(headlines_len)))\n",
    "\n",
    "plt.subplot(1,2,1)\n",
    "plt.boxplot(text_len)\n",
    "plt.title('text')\n",
    "plt.subplot(1,2,2)\n",
    "plt.boxplot(headlines_len)\n",
    "plt.title('headlines')\n",
    "plt.tight_layout()\n",
    "plt.show()\n",
    "\n",
    "plt.title('text')\n",
    "plt.hist(text_len, bins = 40)\n",
    "plt.xlabel('length of samples')\n",
    "plt.ylabel('number of samples')\n",
    "plt.show()\n",
    "\n",
    "plt.title('headlines')\n",
    "plt.hist(headlines_len, bins = 40)\n",
    "plt.xlabel('length of samples')\n",
    "plt.ylabel('number of samples')\n",
    "plt.show()"
   ]
  },
  {
   "cell_type": "code",
   "execution_count": 6,
   "id": "5998a64f",
   "metadata": {},
   "outputs": [],
   "source": [
    "def below_threshold_len(max_len, nested_list):\n",
    "  cnt = 0\n",
    "  for s in nested_list:\n",
    "    if(len(s.split()) <= max_len):\n",
    "        cnt = cnt + 1\n",
    "  print('전체 샘플 중 길이가 %s 이하인 샘플의 비율: %s'%(max_len, (cnt / len(nested_list))))"
   ]
  },
  {
   "cell_type": "code",
   "execution_count": 7,
   "id": "ad06561d",
   "metadata": {},
   "outputs": [],
   "source": [
    "text_max_len = 40\n",
    "headlines_max_len = 10"
   ]
  },
  {
   "cell_type": "code",
   "execution_count": 8,
   "id": "d355c7ba",
   "metadata": {},
   "outputs": [
    {
     "name": "stdout",
     "output_type": "stream",
     "text": [
      "전체 샘플 중 길이가 40 이하인 샘플의 비율: 0.9238714924766165\n",
      "전체 샘플 중 길이가 10 이하인 샘플의 비율: 0.8162972753151687\n"
     ]
    }
   ],
   "source": [
    "below_threshold_len(text_max_len, data['text'])\n",
    "below_threshold_len(headlines_max_len, data['headlines'])"
   ]
  },
  {
   "cell_type": "markdown",
   "id": "3344ab85",
   "metadata": {},
   "source": [
    "text가 40이하 이면서 headlines 10이하인 샘플만 사용"
   ]
  },
  {
   "cell_type": "code",
   "execution_count": 9,
   "id": "120107eb",
   "metadata": {},
   "outputs": [
    {
     "name": "stdout",
     "output_type": "stream",
     "text": [
      "전체 샘플수 : 74102\n"
     ]
    }
   ],
   "source": [
    "data = data[\n",
    "    data.apply(\n",
    "        lambda x: (\n",
    "            len(x['text'].split()) <= text_max_len and \n",
    "            len(x['headlines'].split()) <= headlines_max_len\n",
    "        ), \n",
    "        axis=1\n",
    "    )\n",
    "]\n",
    "print('전체 샘플수 :', (len(data)))"
   ]
  },
  {
   "cell_type": "markdown",
   "id": "e36ac2bf",
   "metadata": {},
   "source": [
    "### headlines에 시작 토큰과 종료 토큰 추가"
   ]
  },
  {
   "cell_type": "code",
   "execution_count": 10,
   "id": "2506f5c3",
   "metadata": {},
   "outputs": [
    {
     "data": {
      "text/html": [
       "<div>\n",
       "<style scoped>\n",
       "    .dataframe tbody tr th:only-of-type {\n",
       "        vertical-align: middle;\n",
       "    }\n",
       "\n",
       "    .dataframe tbody tr th {\n",
       "        vertical-align: top;\n",
       "    }\n",
       "\n",
       "    .dataframe thead th {\n",
       "        text-align: right;\n",
       "    }\n",
       "</style>\n",
       "<table border=\"1\" class=\"dataframe\">\n",
       "  <thead>\n",
       "    <tr style=\"text-align: right;\">\n",
       "      <th></th>\n",
       "      <th>headlines</th>\n",
       "      <th>text</th>\n",
       "      <th>decoder_input</th>\n",
       "      <th>decoder_target</th>\n",
       "    </tr>\n",
       "  </thead>\n",
       "  <tbody>\n",
       "    <tr>\n",
       "      <th>2</th>\n",
       "      <td>new zealand end rohit sharma led india match w...</td>\n",
       "      <td>new zealand defeated india wickets fourth odi ...</td>\n",
       "      <td>sostoken new zealand end rohit sharma led indi...</td>\n",
       "      <td>new zealand end rohit sharma led india match w...</td>\n",
       "    </tr>\n",
       "    <tr>\n",
       "      <th>3</th>\n",
       "      <td>aegon life iterm insurance plan helps customer...</td>\n",
       "      <td>aegon life iterm insurance plan customers enjo...</td>\n",
       "      <td>sostoken aegon life iterm insurance plan helps...</td>\n",
       "      <td>aegon life iterm insurance plan helps customer...</td>\n",
       "    </tr>\n",
       "    <tr>\n",
       "      <th>5</th>\n",
       "      <td>rahat fateh ali khan denies getting notice for...</td>\n",
       "      <td>pakistani singer rahat fateh ali khan denied r...</td>\n",
       "      <td>sostoken rahat fateh ali khan denies getting n...</td>\n",
       "      <td>rahat fateh ali khan denies getting notice for...</td>\n",
       "    </tr>\n",
       "    <tr>\n",
       "      <th>9</th>\n",
       "      <td>cong wins ramgarh bypoll in rajasthan takes to...</td>\n",
       "      <td>congress candidate shafia zubair ramgarh assem...</td>\n",
       "      <td>sostoken cong wins ramgarh bypoll in rajasthan...</td>\n",
       "      <td>cong wins ramgarh bypoll in rajasthan takes to...</td>\n",
       "    </tr>\n",
       "    <tr>\n",
       "      <th>10</th>\n",
       "      <td>up cousins fed human excreta for friendship wi...</td>\n",
       "      <td>two minor cousins uttar pradesh gorakhpur alle...</td>\n",
       "      <td>sostoken up cousins fed human excreta for frie...</td>\n",
       "      <td>up cousins fed human excreta for friendship wi...</td>\n",
       "    </tr>\n",
       "  </tbody>\n",
       "</table>\n",
       "</div>"
      ],
      "text/plain": [
       "                                            headlines  \\\n",
       "2   new zealand end rohit sharma led india match w...   \n",
       "3   aegon life iterm insurance plan helps customer...   \n",
       "5   rahat fateh ali khan denies getting notice for...   \n",
       "9   cong wins ramgarh bypoll in rajasthan takes to...   \n",
       "10  up cousins fed human excreta for friendship wi...   \n",
       "\n",
       "                                                 text  \\\n",
       "2   new zealand defeated india wickets fourth odi ...   \n",
       "3   aegon life iterm insurance plan customers enjo...   \n",
       "5   pakistani singer rahat fateh ali khan denied r...   \n",
       "9   congress candidate shafia zubair ramgarh assem...   \n",
       "10  two minor cousins uttar pradesh gorakhpur alle...   \n",
       "\n",
       "                                        decoder_input  \\\n",
       "2   sostoken new zealand end rohit sharma led indi...   \n",
       "3   sostoken aegon life iterm insurance plan helps...   \n",
       "5   sostoken rahat fateh ali khan denies getting n...   \n",
       "9   sostoken cong wins ramgarh bypoll in rajasthan...   \n",
       "10  sostoken up cousins fed human excreta for frie...   \n",
       "\n",
       "                                       decoder_target  \n",
       "2   new zealand end rohit sharma led india match w...  \n",
       "3   aegon life iterm insurance plan helps customer...  \n",
       "5   rahat fateh ali khan denies getting notice for...  \n",
       "9   cong wins ramgarh bypoll in rajasthan takes to...  \n",
       "10  up cousins fed human excreta for friendship wi...  "
      ]
     },
     "execution_count": 10,
     "metadata": {},
     "output_type": "execute_result"
    }
   ],
   "source": [
    "data.loc[:,'decoder_input'] = data['headlines'].apply(\n",
    "    lambda x : 'sostoken '+ x)\n",
    "data.loc[:,'decoder_target'] = data['headlines'].apply(\n",
    "    lambda x : x + ' eostoken')\n",
    "data.head()"
   ]
  },
  {
   "cell_type": "markdown",
   "id": "0ca41247",
   "metadata": {},
   "source": [
    "### numpy 타입으로 변환"
   ]
  },
  {
   "cell_type": "code",
   "execution_count": 11,
   "id": "a8aa7906",
   "metadata": {},
   "outputs": [],
   "source": [
    "encoder_input = np.array(data['text']) # 인코더의 입력\n",
    "decoder_input = np.array(data['decoder_input']) # 디코더의 입력\n",
    "decoder_target = np.array(data['decoder_target']) # 디코더의 레이블"
   ]
  },
  {
   "cell_type": "code",
   "execution_count": 12,
   "id": "ee3e2001",
   "metadata": {},
   "outputs": [
    {
     "data": {
      "text/plain": [
       "'new zealand defeated india wickets fourth odi hamilton thursday win first match five match odi series india lost international match rohit sharma captaincy consecutive victories dating back march match witnessed india getting seventh lowest total odi cricket history'"
      ]
     },
     "execution_count": 12,
     "metadata": {},
     "output_type": "execute_result"
    }
   ],
   "source": [
    "encoder_input[0]"
   ]
  },
  {
   "cell_type": "code",
   "execution_count": 13,
   "id": "5492b83c",
   "metadata": {},
   "outputs": [
    {
     "data": {
      "text/plain": [
       "'sostoken new zealand end rohit sharma led india match winning streak'"
      ]
     },
     "execution_count": 13,
     "metadata": {},
     "output_type": "execute_result"
    }
   ],
   "source": [
    "decoder_input[0]"
   ]
  },
  {
   "cell_type": "code",
   "execution_count": 14,
   "id": "be40bc8b",
   "metadata": {},
   "outputs": [
    {
     "data": {
      "text/plain": [
       "'new zealand end rohit sharma led india match winning streak eostoken'"
      ]
     },
     "execution_count": 14,
     "metadata": {},
     "output_type": "execute_result"
    }
   ],
   "source": [
    "decoder_target[0]"
   ]
  },
  {
   "cell_type": "markdown",
   "id": "5a728090",
   "metadata": {},
   "source": [
    "### data shuffle"
   ]
  },
  {
   "cell_type": "code",
   "execution_count": 15,
   "id": "ad5cfc10",
   "metadata": {},
   "outputs": [
    {
     "name": "stdout",
     "output_type": "stream",
     "text": [
      "[58750  3393 61168 ... 31619  6391 19635]\n"
     ]
    }
   ],
   "source": [
    "# 셔플된 인덱스를 생성해서, 데이터를 셔플\n",
    "indices = np.arange(encoder_input.shape[0])\n",
    "np.random.shuffle(indices)\n",
    "print(indices)"
   ]
  },
  {
   "cell_type": "code",
   "execution_count": 16,
   "id": "7e1b0815",
   "metadata": {},
   "outputs": [],
   "source": [
    "# 데이터를 셔플\n",
    "encoder_input = encoder_input[indices]\n",
    "decoder_input = decoder_input[indices]\n",
    "decoder_target = decoder_target[indices]"
   ]
  },
  {
   "cell_type": "markdown",
   "id": "f48721de",
   "metadata": {},
   "source": [
    "### test set 나누기"
   ]
  },
  {
   "cell_type": "code",
   "execution_count": 17,
   "id": "4e85a518",
   "metadata": {},
   "outputs": [
    {
     "name": "stdout",
     "output_type": "stream",
     "text": [
      "전체 데이터의 수:  74102\n",
      "테스트 데이터의 수 : 14820\n"
     ]
    }
   ],
   "source": [
    "n_of_val = int(len(encoder_input)*0.2)\n",
    "print(\"전체 데이터의 수: \", len(encoder_input))\n",
    "print('테스트 데이터의 수 :', n_of_val)"
   ]
  },
  {
   "cell_type": "code",
   "execution_count": 18,
   "id": "eeb29334",
   "metadata": {},
   "outputs": [
    {
     "name": "stdout",
     "output_type": "stream",
     "text": [
      "훈련 데이터의 개수 : 59282\n",
      "훈련 레이블의 개수 : 59282\n",
      "테스트 데이터의 개수 : 14820\n",
      "테스트 레이블의 개수 : 14820\n"
     ]
    }
   ],
   "source": [
    "encoder_input_train = encoder_input[:-n_of_val]\n",
    "decoder_input_train = decoder_input[:-n_of_val]\n",
    "decoder_target_train = decoder_target[:-n_of_val]\n",
    "\n",
    "encoder_input_test = encoder_input[-n_of_val:]\n",
    "decoder_input_test = decoder_input[-n_of_val:]\n",
    "decoder_target_test = decoder_target[-n_of_val:]\n",
    "\n",
    "print('훈련 데이터의 개수 :', len(encoder_input_train))\n",
    "print('훈련 레이블의 개수 :', len(decoder_input_train))\n",
    "print('테스트 데이터의 개수 :', len(encoder_input_test))\n",
    "print('테스트 레이블의 개수 :', len(decoder_input_test))"
   ]
  },
  {
   "cell_type": "markdown",
   "id": "e6c3b416",
   "metadata": {},
   "source": [
    "### 단어 집합 생성"
   ]
  },
  {
   "cell_type": "markdown",
   "id": "14837910",
   "metadata": {},
   "source": [
    "encoder_input에 대해 수행  \n",
    "기본 토크나이저를 생성해서, 전체 통계를 확인 후, 빈도수 높은 단어들만 단어 집합을 생성"
   ]
  },
  {
   "cell_type": "code",
   "execution_count": 19,
   "id": "08de5490",
   "metadata": {},
   "outputs": [],
   "source": [
    "src_tokenizer = Tokenizer() # 토크나이저 정의\n",
    "src_tokenizer.fit_on_texts(encoder_input_train) # 입력된 데이터로부터 단어 집합 생성"
   ]
  },
  {
   "cell_type": "code",
   "execution_count": 20,
   "id": "62b88933",
   "metadata": {},
   "outputs": [],
   "source": [
    "# 확인\n",
    "# [obj for obj in dir(src_tokenizer) if not obj.startswith(\"_\")]"
   ]
  },
  {
   "cell_type": "code",
   "execution_count": 21,
   "id": "542e95d1",
   "metadata": {},
   "outputs": [],
   "source": [
    "# 확인\n",
    "# src_tokenizer.word_index"
   ]
  },
  {
   "cell_type": "code",
   "execution_count": 22,
   "id": "c954d66d",
   "metadata": {},
   "outputs": [],
   "source": [
    "def get_vocab_summary(threshold, tokenizer):\n",
    "    total_cnt = len(tokenizer.word_index) # 단어의 수\n",
    "    rare_cnt = 0 # 등장 빈도수가 threshold보다 작은 단어의 개수를 카운트\n",
    "    total_freq = 0 # 훈련 데이터의 전체 단어 빈도수 총 합\n",
    "    rare_freq = 0 # 등장 빈도수가 threshold보다 작은 단어의 등장 빈도수의 총 합\n",
    "\n",
    "    # 단어와 빈도수의 쌍(pair)을 key와 value로 받는다.\n",
    "    for key, value in tokenizer.word_counts.items():\n",
    "        total_freq = total_freq + value\n",
    "\n",
    "        # 단어의 등장 빈도수가 threshold보다 작으면\n",
    "        if(value < threshold):\n",
    "            rare_cnt = rare_cnt + 1\n",
    "            rare_freq = rare_freq + value\n",
    "\n",
    "    print('단어 집합(vocabulary)의 크기 :', total_cnt)\n",
    "    print('등장 빈도가 %s번 이하인 희귀 단어의 수: %s'%(threshold - 1, rare_cnt))\n",
    "    print('단어 집합에서 희귀 단어를 제외시킬 경우의 단어 집합의 크기 %s'%(total_cnt - rare_cnt))\n",
    "    print(\"단어 집합에서 희귀 단어의 비율:\", (rare_cnt / total_cnt)*100)\n",
    "    print(\"전체 등장 빈도에서 희귀 단어 등장 빈도 비율:\", (rare_freq / total_freq)*100)"
   ]
  },
  {
   "cell_type": "code",
   "execution_count": 23,
   "id": "80c50680",
   "metadata": {},
   "outputs": [
    {
     "name": "stdout",
     "output_type": "stream",
     "text": [
      "단어 집합(vocabulary)의 크기 : 61461\n",
      "등장 빈도가 10번 이하인 희귀 단어의 수: 46385\n",
      "단어 집합에서 희귀 단어를 제외시킬 경우의 단어 집합의 크기 15076\n",
      "단어 집합에서 희귀 단어의 비율: 75.4706236475163\n",
      "전체 등장 빈도에서 희귀 단어 등장 빈도 비율: 5.906382903982978\n"
     ]
    }
   ],
   "source": [
    "get_vocab_summary(11,src_tokenizer)"
   ]
  },
  {
   "cell_type": "markdown",
   "id": "a4a4c1cd",
   "metadata": {},
   "source": [
    "10번 이하 희귀 단어 등장 비율이 5.9% 정도이다.  \n",
    "10번 이하 등장하는 단어를 제외하고,  \n",
    "단어 집합의 크기를 15000으로 제한"
   ]
  },
  {
   "cell_type": "code",
   "execution_count": 24,
   "id": "c52a29ae",
   "metadata": {},
   "outputs": [],
   "source": [
    "src_vocab = 15000\n",
    "src_tokenizer = Tokenizer(num_words=src_vocab) # 단어 집합의 크기를 15,000으로 제한\n",
    "src_tokenizer.fit_on_texts(encoder_input_train) # 단어 집합 재생성"
   ]
  },
  {
   "cell_type": "code",
   "execution_count": 25,
   "id": "62f9b7b6",
   "metadata": {},
   "outputs": [
    {
     "name": "stdout",
     "output_type": "stream",
     "text": [
      "[[8, 1, 855, 1451, 190, 16, 1003, 266, 2, 4, 5022, 1451, 175, 883, 119, 855, 1052, 59, 2736, 14, 2539, 328, 201, 1573, 2279, 1145, 1, 140, 5022, 1451, 331, 359, 115], [12, 1017, 1623, 314, 1338, 2553, 482, 8466, 50, 1, 129, 2156, 2156, 305, 706, 5974, 1117, 1792, 14346, 6751, 5974, 3098, 2475, 33, 1085, 994, 70, 4, 915, 825, 4158, 342, 26, 165, 1], [45, 97, 1166, 372, 83, 1, 140, 4159, 1164, 1041, 30, 23, 2141, 2195, 1793, 226, 198, 67, 2172, 63, 8, 215, 227, 19, 3041, 1333, 627, 560, 72, 8, 4]]\n"
     ]
    }
   ],
   "source": [
    "# 텍스트 시퀀스를 정수 시퀀스로 변환\n",
    "encoder_input_train = src_tokenizer.texts_to_sequences(encoder_input_train) \n",
    "encoder_input_test = src_tokenizer.texts_to_sequences(encoder_input_test)\n",
    "\n",
    "# 잘 진행되었는지 샘플 출력\n",
    "print(encoder_input_train[:3])"
   ]
  },
  {
   "cell_type": "markdown",
   "id": "4b15eb9c",
   "metadata": {},
   "source": [
    "headlines에 대해 수행   \n",
    "headlines에 대해서도 기본 토크나이저를 생성해서 통계 확인후, 빈도 높은 단어들만 단어 집합 생성  "
   ]
  },
  {
   "cell_type": "code",
   "execution_count": 26,
   "id": "82b8b6a2",
   "metadata": {},
   "outputs": [],
   "source": [
    "tar_tokenizer = Tokenizer() \n",
    "tar_tokenizer.fit_on_texts(decoder_input_train)"
   ]
  },
  {
   "cell_type": "code",
   "execution_count": 27,
   "id": "eff59f34",
   "metadata": {},
   "outputs": [
    {
     "name": "stdout",
     "output_type": "stream",
     "text": [
      "단어 집합(vocabulary)의 크기 : 27295\n",
      "등장 빈도가 5번 이하인 희귀 단어의 수: 18244\n",
      "단어 집합에서 희귀 단어를 제외시킬 경우의 단어 집합의 크기 9051\n",
      "단어 집합에서 희귀 단어의 비율: 66.84008060084264\n",
      "전체 등장 빈도에서 희귀 단어 등장 빈도 비율: 5.978804479299453\n"
     ]
    }
   ],
   "source": [
    "get_vocab_summary(6,tar_tokenizer)"
   ]
  },
  {
   "cell_type": "markdown",
   "id": "1e9684c3",
   "metadata": {},
   "source": [
    "5번 이하 희귀 단어 등장 비율이 약 6% 정도이다.  \n",
    "5번 이하 등장하는 단어를 제외하고,  \n",
    "단어 집합의 크기를 9000으로 제한"
   ]
  },
  {
   "cell_type": "code",
   "execution_count": 28,
   "id": "47d7ef94",
   "metadata": {},
   "outputs": [
    {
     "name": "stdout",
     "output_type": "stream",
     "text": [
      "input\n",
      "input  [[1, 1118, 2342, 144, 40, 4146, 61, 542, 35], [1, 352, 4872, 29, 196, 26, 2843], [1, 1844, 437, 2929, 147, 1752, 5724, 894, 379], [1, 194, 3122, 1181, 120, 419, 8, 339, 427, 78], [1, 21, 270, 6992, 3, 1574, 30, 42]]\n",
      "target\n",
      "decoder  [[1118, 2342, 144, 40, 4146, 61, 542, 35, 2], [352, 4872, 29, 196, 26, 2843, 2], [1844, 437, 2929, 147, 1752, 5724, 894, 379, 2], [194, 3122, 1181, 120, 419, 8, 339, 427, 78, 2], [21, 270, 6992, 3, 1574, 30, 42, 2]]\n"
     ]
    }
   ],
   "source": [
    "tar_vocab = 9000\n",
    "tar_tokenizer = Tokenizer(num_words=tar_vocab) \n",
    "tar_tokenizer.fit_on_texts(decoder_input_train)\n",
    "tar_tokenizer.fit_on_texts(decoder_target_train)\n",
    "\n",
    "# 텍스트 시퀀스를 정수 시퀀스로 변환\n",
    "decoder_input_train = tar_tokenizer.texts_to_sequences(decoder_input_train) \n",
    "decoder_target_train = tar_tokenizer.texts_to_sequences(decoder_target_train)\n",
    "decoder_input_test = tar_tokenizer.texts_to_sequences(decoder_input_test)\n",
    "decoder_target_test = tar_tokenizer.texts_to_sequences(decoder_target_test)\n",
    "\n",
    "# 잘 변환되었는지 확인\n",
    "print('input')\n",
    "print('input ',decoder_input_train[:5])\n",
    "print('target')\n",
    "print('decoder ',decoder_target_train[:5])"
   ]
  },
  {
   "cell_type": "markdown",
   "id": "95f9dc7d",
   "metadata": {},
   "source": [
    "희귀 단어를 제거함으로써 headlines에 결측치가 발생할 수도 있다.  \n",
    "이를 확인"
   ]
  },
  {
   "cell_type": "code",
   "execution_count": 29,
   "id": "37afce1b",
   "metadata": {},
   "outputs": [
    {
     "name": "stdout",
     "output_type": "stream",
     "text": [
      "삭제할 훈련 데이터의 개수 : 0\n",
      "삭제할 테스트 데이터의 개수 : 0\n",
      "훈련 데이터의 개수 : 59282\n",
      "훈련 레이블의 개수 : 59282\n",
      "테스트 데이터의 개수 : 14820\n",
      "테스트 레이블의 개수 : 14820\n"
     ]
    }
   ],
   "source": [
    "drop_train = [index for index, sentence in enumerate(decoder_input_train) if len(sentence) == 1]\n",
    "drop_test = [index for index, sentence in enumerate(decoder_input_test) if len(sentence) == 1]\n",
    "\n",
    "print('삭제할 훈련 데이터의 개수 :', len(drop_train))\n",
    "print('삭제할 테스트 데이터의 개수 :', len(drop_test))\n",
    "\n",
    "encoder_input_train = [sentence for index, sentence in enumerate(encoder_input_train) if index not in drop_train]\n",
    "decoder_input_train = [sentence for index, sentence in enumerate(decoder_input_train) if index not in drop_train]\n",
    "decoder_target_train = [sentence for index, sentence in enumerate(decoder_target_train) if index not in drop_train]\n",
    "\n",
    "encoder_input_test = [sentence for index, sentence in enumerate(encoder_input_test) if index not in drop_test]\n",
    "decoder_input_test = [sentence for index, sentence in enumerate(decoder_input_test) if index not in drop_test]\n",
    "decoder_target_test = [sentence for index, sentence in enumerate(decoder_target_test) if index not in drop_test]\n",
    "\n",
    "print('훈련 데이터의 개수 :', len(encoder_input_train))\n",
    "print('훈련 레이블의 개수 :', len(decoder_input_train))\n",
    "print('테스트 데이터의 개수 :', len(encoder_input_test))\n",
    "print('테스트 레이블의 개수 :', len(decoder_input_test))"
   ]
  },
  {
   "cell_type": "markdown",
   "id": "c8d4c256",
   "metadata": {},
   "source": [
    "패딩하기"
   ]
  },
  {
   "cell_type": "code",
   "execution_count": 30,
   "id": "77f2ec1f",
   "metadata": {},
   "outputs": [],
   "source": [
    "# encoder_input_train = pad_sequences(encoder_input_train, maxlen=text_max_len, padding='post')\n",
    "# encoder_input_test = pad_sequences(encoder_input_test, maxlen=text_max_len, padding='post')\n",
    "# decoder_input_train = pad_sequences(decoder_input_train, maxlen=headlines_max_len, padding='post')\n",
    "# decoder_target_train = pad_sequences(decoder_target_train, maxlen=headlines_max_len, padding='post')\n",
    "# decoder_input_test = pad_sequences(decoder_input_test, maxlen=headlines_max_len, padding='post')\n",
    "# decoder_target_test = pad_sequences(decoder_target_test, maxlen=headlines_max_len, padding='post')"
   ]
  },
  {
   "cell_type": "code",
   "execution_count": 31,
   "id": "64d0a3d5",
   "metadata": {},
   "outputs": [],
   "source": [
    "encoder_input_train = pad_sequences(encoder_input_train, maxlen=text_max_len, padding='pre')\n",
    "encoder_input_test = pad_sequences(encoder_input_test, maxlen=text_max_len, padding='pre')\n",
    "decoder_input_train = pad_sequences(decoder_input_train, maxlen=headlines_max_len, padding='pre')\n",
    "decoder_target_train = pad_sequences(decoder_target_train, maxlen=headlines_max_len, padding='pre')\n",
    "decoder_input_test = pad_sequences(decoder_input_test, maxlen=headlines_max_len, padding='pre')\n",
    "decoder_target_test = pad_sequences(decoder_target_test, maxlen=headlines_max_len, padding='pre')"
   ]
  },
  {
   "cell_type": "markdown",
   "id": "9c169bfe",
   "metadata": {},
   "source": [
    "## 모델 설계"
   ]
  },
  {
   "cell_type": "code",
   "execution_count": 32,
   "id": "79b11aa2",
   "metadata": {},
   "outputs": [],
   "source": [
    "from tensorflow.keras.layers import Input, LSTM, Embedding, Dense, Concatenate, TimeDistributed\n",
    "from tensorflow.keras.models import Model\n",
    "from tensorflow.keras.callbacks import EarlyStopping, ModelCheckpoint\n",
    "from tensorflow.keras.layers import AdditiveAttention\n",
    "\n",
    "\n",
    "# 인코더 설계 시작\n",
    "embedding_dim = 128\n",
    "hidden_size = 256\n",
    "\n",
    "# 인코더\n",
    "encoder_inputs = Input(shape=(text_max_len,))\n",
    "\n",
    "# 인코더의 임베딩 층\n",
    "enc_emb = Embedding(src_vocab, embedding_dim)(encoder_inputs)\n",
    "\n",
    "# 인코더의 LSTM 1\n",
    "encoder_lstm1 = LSTM(hidden_size, return_sequences=True, return_state=True ,dropout = 0.4)\n",
    "encoder_output1, state_h1, state_c1 = encoder_lstm1(enc_emb)\n",
    "\n",
    "# 인코더의 LSTM 2\n",
    "encoder_lstm2 = LSTM(hidden_size, return_sequences=True, return_state=True, dropout=0.4)\n",
    "encoder_output2, state_h2, state_c2 = encoder_lstm2(encoder_output1)\n",
    "\n",
    "# 인코더의 LSTM 3\n",
    "encoder_lstm3 = LSTM(hidden_size, return_sequences=True, return_state=True, dropout=0.4)\n",
    "encoder_outputs, state_h, state_c = encoder_lstm3(encoder_output2)\n",
    "\n"
   ]
  },
  {
   "cell_type": "code",
   "execution_count": 33,
   "id": "790aa1cc",
   "metadata": {},
   "outputs": [],
   "source": [
    "# 디코더 설계\n",
    "decoder_inputs = Input(shape=(None,))\n",
    "\n",
    "# 디코더의 임베딩 층\n",
    "dec_emb_layer = Embedding(tar_vocab, embedding_dim)\n",
    "dec_emb = dec_emb_layer(decoder_inputs)\n",
    "\n",
    "# 디코더의 LSTM\n",
    "# decoder_lstm = LSTM(hidden_size, return_sequences=True, return_state=True, dropout=0.4, recurrent_dropout=0.2)\n",
    "decoder_lstm = LSTM(hidden_size, return_sequences=True, return_state=True, dropout=0.4)\n",
    "decoder_outputs, _, _ = decoder_lstm(dec_emb, initial_state=[state_h, state_c])"
   ]
  },
  {
   "cell_type": "code",
   "execution_count": 34,
   "id": "911662ab",
   "metadata": {},
   "outputs": [
    {
     "name": "stdout",
     "output_type": "stream",
     "text": [
      "Model: \"model\"\n",
      "__________________________________________________________________________________________________\n",
      "Layer (type)                    Output Shape         Param #     Connected to                     \n",
      "==================================================================================================\n",
      "input_1 (InputLayer)            [(None, 40)]         0                                            \n",
      "__________________________________________________________________________________________________\n",
      "embedding (Embedding)           (None, 40, 128)      1920000     input_1[0][0]                    \n",
      "__________________________________________________________________________________________________\n",
      "lstm (LSTM)                     [(None, 40, 256), (N 394240      embedding[0][0]                  \n",
      "__________________________________________________________________________________________________\n",
      "input_2 (InputLayer)            [(None, None)]       0                                            \n",
      "__________________________________________________________________________________________________\n",
      "lstm_1 (LSTM)                   [(None, 40, 256), (N 525312      lstm[0][0]                       \n",
      "__________________________________________________________________________________________________\n",
      "embedding_1 (Embedding)         (None, None, 128)    1152000     input_2[0][0]                    \n",
      "__________________________________________________________________________________________________\n",
      "lstm_2 (LSTM)                   [(None, 40, 256), (N 525312      lstm_1[0][0]                     \n",
      "__________________________________________________________________________________________________\n",
      "lstm_3 (LSTM)                   [(None, None, 256),  394240      embedding_1[0][0]                \n",
      "                                                                 lstm_2[0][1]                     \n",
      "                                                                 lstm_2[0][2]                     \n",
      "__________________________________________________________________________________________________\n",
      "attention_layer (AdditiveAttent (None, None, 256)    256         lstm_3[0][0]                     \n",
      "                                                                 lstm_2[0][0]                     \n",
      "__________________________________________________________________________________________________\n",
      "concat_layer (Concatenate)      (None, None, 512)    0           lstm_3[0][0]                     \n",
      "                                                                 attention_layer[0][0]            \n",
      "__________________________________________________________________________________________________\n",
      "dense (Dense)                   (None, None, 9000)   4617000     concat_layer[0][0]               \n",
      "==================================================================================================\n",
      "Total params: 9,528,360\n",
      "Trainable params: 9,528,360\n",
      "Non-trainable params: 0\n",
      "__________________________________________________________________________________________________\n"
     ]
    }
   ],
   "source": [
    "from tensorflow.keras.layers import AdditiveAttention\n",
    "\n",
    "# 어텐션 층(어텐션 함수)\n",
    "attn_layer = AdditiveAttention(name='attention_layer')\n",
    "\n",
    "# 인코더와 디코더의 모든 time step의 hidden state를 어텐션 층에 전달하고 결과를 리턴\n",
    "attn_out = attn_layer([decoder_outputs, encoder_outputs])\n",
    "\n",
    "\n",
    "# 어텐션의 결과와 디코더의 hidden state들을 연결\n",
    "decoder_concat_input = Concatenate(axis=-1, name='concat_layer')([decoder_outputs, attn_out])\n",
    "\n",
    "# 디코더의 출력층\n",
    "decoder_softmax_layer = Dense(tar_vocab, activation='softmax')\n",
    "decoder_softmax_outputs = decoder_softmax_layer(decoder_concat_input)\n",
    "\n",
    "# 모델 정의\n",
    "model = Model([encoder_inputs, decoder_inputs], decoder_softmax_outputs)\n",
    "model.summary()"
   ]
  },
  {
   "cell_type": "code",
   "execution_count": 35,
   "id": "2febda87",
   "metadata": {},
   "outputs": [
    {
     "name": "stdout",
     "output_type": "stream",
     "text": [
      "Epoch 1/50\n",
      "232/232 [==============================] - 26s 82ms/step - loss: 6.2429 - val_loss: 5.8505\n",
      "Epoch 2/50\n",
      "232/232 [==============================] - 18s 77ms/step - loss: 5.8897 - val_loss: 5.8526\n",
      "Epoch 3/50\n",
      "232/232 [==============================] - 18s 79ms/step - loss: 5.7382 - val_loss: 5.5578\n",
      "Epoch 4/50\n",
      "232/232 [==============================] - 19s 80ms/step - loss: 5.4813 - val_loss: 5.3207\n",
      "Epoch 5/50\n",
      "232/232 [==============================] - 19s 81ms/step - loss: 5.2271 - val_loss: 5.0889\n",
      "Epoch 6/50\n",
      "232/232 [==============================] - 19s 82ms/step - loss: 4.9958 - val_loss: 4.9217\n",
      "Epoch 7/50\n",
      "232/232 [==============================] - 19s 83ms/step - loss: 4.7900 - val_loss: 4.8101\n",
      "Epoch 8/50\n",
      "232/232 [==============================] - 19s 84ms/step - loss: 4.6063 - val_loss: 4.6606\n",
      "Epoch 9/50\n",
      "232/232 [==============================] - 20s 84ms/step - loss: 4.4381 - val_loss: 4.5553\n",
      "Epoch 10/50\n",
      "232/232 [==============================] - 20s 85ms/step - loss: 4.2841 - val_loss: 4.7025\n",
      "Epoch 11/50\n",
      "232/232 [==============================] - 20s 86ms/step - loss: 4.1472 - val_loss: 4.5100\n",
      "Epoch 12/50\n",
      "232/232 [==============================] - 20s 86ms/step - loss: 4.0235 - val_loss: 4.3440\n",
      "Epoch 13/50\n",
      "232/232 [==============================] - 20s 87ms/step - loss: 3.9075 - val_loss: 4.3118\n",
      "Epoch 14/50\n",
      "232/232 [==============================] - 20s 87ms/step - loss: 3.8067 - val_loss: 4.2611\n",
      "Epoch 15/50\n",
      "232/232 [==============================] - 20s 87ms/step - loss: 3.7115 - val_loss: 4.2388\n",
      "Epoch 16/50\n",
      "232/232 [==============================] - 20s 87ms/step - loss: 3.6232 - val_loss: 4.2181\n",
      "Epoch 17/50\n",
      "232/232 [==============================] - 20s 88ms/step - loss: 3.5367 - val_loss: 4.1937\n",
      "Epoch 18/50\n",
      "232/232 [==============================] - 21s 88ms/step - loss: 3.4577 - val_loss: 4.1937\n",
      "Epoch 19/50\n",
      "232/232 [==============================] - 20s 88ms/step - loss: 3.3819 - val_loss: 4.1630\n",
      "Epoch 20/50\n",
      "232/232 [==============================] - 20s 88ms/step - loss: 3.3147 - val_loss: 4.1549\n",
      "Epoch 21/50\n",
      "232/232 [==============================] - 21s 88ms/step - loss: 3.2533 - val_loss: 4.1510\n",
      "Epoch 22/50\n",
      "232/232 [==============================] - 21s 89ms/step - loss: 3.1931 - val_loss: 4.1479\n",
      "Epoch 23/50\n",
      "232/232 [==============================] - 20s 88ms/step - loss: 3.1304 - val_loss: 4.1400\n",
      "Epoch 24/50\n",
      "232/232 [==============================] - 21s 88ms/step - loss: 3.0770 - val_loss: 4.1362\n",
      "Epoch 25/50\n",
      "232/232 [==============================] - 21s 88ms/step - loss: 3.0282 - val_loss: 4.1363\n",
      "Epoch 26/50\n",
      "232/232 [==============================] - 21s 88ms/step - loss: 2.9766 - val_loss: 4.1300\n",
      "Epoch 27/50\n",
      "232/232 [==============================] - 21s 89ms/step - loss: 2.9280 - val_loss: 4.1357\n",
      "Epoch 28/50\n",
      "232/232 [==============================] - 21s 88ms/step - loss: 2.8814 - val_loss: 4.1451\n",
      "Epoch 00028: early stopping\n"
     ]
    }
   ],
   "source": [
    "model.compile(optimizer='rmsprop', loss='sparse_categorical_crossentropy')\n",
    "es = EarlyStopping(monitor='val_loss', patience=2, verbose=1)\n",
    "\n",
    "history = model.fit(x=[encoder_input_train, decoder_input_train], y=decoder_target_train, \\\n",
    "          validation_data=([encoder_input_test, decoder_input_test], decoder_target_test), \\\n",
    "          batch_size=256, callbacks=[es], epochs=50)"
   ]
  },
  {
   "cell_type": "code",
   "execution_count": 36,
   "id": "7aff661d",
   "metadata": {},
   "outputs": [
    {
     "data": {
      "image/png": "[encoded data removed]",
      "text/plain": [
       "<Figure size 432x288 with 1 Axes>"
      ]
     },
     "metadata": {
      "needs_background": "light"
     },
     "output_type": "display_data"
    }
   ],
   "source": [
    "plt.plot(history.history['loss'], label='train')\n",
    "plt.plot(history.history['val_loss'], label='test')\n",
    "plt.legend()\n",
    "plt.show()"
   ]
  },
  {
   "cell_type": "markdown",
   "id": "30f6966c",
   "metadata": {},
   "source": [
    "28 에폭 이후, val_loss가 줄지 않아, early stop 하였음."
   ]
  },
  {
   "cell_type": "markdown",
   "id": "1e3c64fd",
   "metadata": {},
   "source": [
    "인덱스 -> 텍스트 복원을 위한 사전 준비"
   ]
  },
  {
   "cell_type": "code",
   "execution_count": 37,
   "id": "cede8794",
   "metadata": {},
   "outputs": [],
   "source": [
    "src_index_to_word = src_tokenizer.index_word # 원문 단어 집합에서 정수 -> 단어를 얻음\n",
    "tar_word_to_index = tar_tokenizer.word_index # 요약 단어 집합에서 단어 -> 정수를 얻음\n",
    "tar_index_to_word = tar_tokenizer.index_word # 요약 단어 집합에서 정수 -> 단어를 얻음"
   ]
  },
  {
   "cell_type": "markdown",
   "id": "98c58b11",
   "metadata": {},
   "source": [
    "### 추론단계에 사용하는 seq2seq 모델 설계"
   ]
  },
  {
   "cell_type": "code",
   "execution_count": 38,
   "id": "a9518439",
   "metadata": {},
   "outputs": [],
   "source": [
    "# 인코더 설계\n",
    "encoder_model = Model(inputs=encoder_inputs, outputs=[encoder_outputs, state_h, state_c])\n",
    "\n",
    "# 이전 시점의 상태들을 저장하는 텐서\n",
    "decoder_state_input_h = Input(shape=(hidden_size,))\n",
    "decoder_state_input_c = Input(shape=(hidden_size,))\n",
    "\n",
    "dec_emb2 = dec_emb_layer(decoder_inputs)\n",
    "\n",
    "# 문장의 다음 단어를 예측하기 위해서 초기 상태(initial_state)를 이전 시점의 상태로 사용. 이는 뒤의 함수 decode_sequence()에 구현\n",
    "# 훈련 과정에서와 달리 LSTM의 리턴하는 은닉 상태와 셀 상태인 state_h와 state_c를 버리지 않음.\n",
    "decoder_outputs2, state_h2, state_c2 = decoder_lstm(dec_emb2, initial_state=[decoder_state_input_h, decoder_state_input_c])\n",
    "\n"
   ]
  },
  {
   "cell_type": "code",
   "execution_count": 39,
   "id": "8abf6d67",
   "metadata": {},
   "outputs": [],
   "source": [
    "# 어텐션 함수\n",
    "decoder_hidden_state_input = Input(shape=(text_max_len, hidden_size))\n",
    "attn_out_inf = attn_layer([decoder_outputs2, decoder_hidden_state_input])\n",
    "decoder_inf_concat = Concatenate(axis=-1, name='concat')([decoder_outputs2, attn_out_inf])\n",
    "\n",
    "# 디코더의 출력층\n",
    "decoder_outputs2 = decoder_softmax_layer(decoder_inf_concat) \n",
    "\n",
    "# 최종 디코더 모델\n",
    "decoder_model = Model(\n",
    "    [decoder_inputs] + [decoder_hidden_state_input,decoder_state_input_h, decoder_state_input_c],\n",
    "    [decoder_outputs2] + [state_h2, state_c2])\n",
    "\n"
   ]
  },
  {
   "cell_type": "code",
   "execution_count": 40,
   "id": "5f355645",
   "metadata": {},
   "outputs": [],
   "source": [
    "def decode_sequence(input_seq):\n",
    "    # 입력으로부터 인코더의 상태를 얻음\n",
    "    e_out, e_h, e_c = encoder_model.predict(input_seq)\n",
    "\n",
    "     # <SOS>에 해당하는 토큰 생성\n",
    "    target_seq = np.zeros((1,1))\n",
    "    target_seq[0, 0] = tar_word_to_index['sostoken']\n",
    "\n",
    "    stop_condition = False\n",
    "    decoded_sentence = ''\n",
    "    while not stop_condition: # stop_condition이 True가 될 때까지 루프 반복\n",
    "\n",
    "        output_tokens, h, c = decoder_model.predict([target_seq] + [e_out, e_h, e_c])\n",
    "        sampled_token_index = np.argmax(output_tokens[0, -1, :])\n",
    "        sampled_token = tar_index_to_word[sampled_token_index]\n",
    "\n",
    "        if (sampled_token!='eostoken'):\n",
    "            decoded_sentence += ' '+sampled_token\n",
    "\n",
    "        #  <eos>에 도달하거나 최대 길이를 넘으면 중단.\n",
    "        if (sampled_token == 'eostoken'  or len(decoded_sentence.split()) >= (headlines_max_len-1)):\n",
    "            stop_condition = True\n",
    "\n",
    "        # 길이가 1인 타겟 시퀀스를 업데이트\n",
    "        target_seq = np.zeros((1,1))\n",
    "        target_seq[0, 0] = sampled_token_index\n",
    "\n",
    "        # 상태를 업데이트 합니다.\n",
    "        e_h, e_c = h, c\n",
    "\n",
    "    return decoded_sentence\n"
   ]
  },
  {
   "cell_type": "code",
   "execution_count": 41,
   "id": "4fd3064e",
   "metadata": {},
   "outputs": [],
   "source": [
    "# 원문의 정수 시퀀스를 텍스트 시퀀스로 변환\n",
    "def seq2text(input_seq):\n",
    "    temp=''\n",
    "    for i in input_seq:\n",
    "        if (i!=0):\n",
    "            temp = temp + src_index_to_word[i]+' '\n",
    "    return temp\n",
    "\n",
    "# 요약문의 정수 시퀀스를 텍스트 시퀀스로 변환\n",
    "def seq2summary(input_seq):\n",
    "    temp=''\n",
    "    for i in input_seq:\n",
    "        if i not in [0, 1, 2]:\n",
    "            temp = temp + tar_index_to_word[i]+' '\n",
    "    return temp\n"
   ]
  },
  {
   "cell_type": "code",
   "execution_count": 62,
   "id": "090d762f",
   "metadata": {},
   "outputs": [
    {
     "name": "stdout",
     "output_type": "stream",
     "text": [
      "원문 : indian space research organisation maiden mission mars orbiter mission completed earth days orbit monday notably mom designated last six months original isro mission launched november pslv entered martian orbit september \n",
      "실제 요약 : isro mars mission completes earth days \n",
      "예측 요약 :  nasa to launch st ever space station in space\n",
      "\n",
      "\n",
      "원문 : actress sridevi said point discussing rejected role queen eventually portrayed actress krishnan ss rajamouli film series baahubali reported sridevi first choice play role however makers cast reportedly demanded crore play part \n",
      "실제 요약 : no point in talking about why rejected baahubali sridevi \n",
      "예측 요약 :  sridevi to be used for sridevi in film report\n",
      "\n",
      "\n",
      "원문 : manipur civil rights activist chanu sharmila wednesday filed marriage papers long time partner coutinho duo filed papers sub registrar office rented house however inter religious marriage cannot happen immediately would registered special marriage act requires window days \n",
      "실제 요약 : sharmila partner file marriage papers \n",
      "예측 요약 :  officer who accused of sexual harassment in jail report\n",
      "\n",
      "\n",
      "원문 : union environment ministry approved proposal expansion delhi indira gandhi international airport expansion increase overall capacity airport million per annum current million per annum phase two expansion include construction new terminal \n",
      "실제 요약 : environment ministry approves delhi airport expansion plan \n",
      "예측 요약 :  govt approves air india air most expensive air india\n",
      "\n",
      "\n",
      "원문 : bjp appointed former congress minister party andhra pradesh chief mla state convenor election management committee two local bjp local leaders resigned positions several bjp leaders threatened resign appointed party chief served congress years \n",
      "실제 요약 : bjp leaders resign as ex cong minister selected andhra chief \n",
      "예측 요약 :  bjp mla quits party for bjp leaders in taka\n",
      "\n",
      "\n"
     ]
    }
   ],
   "source": [
    "# for i in range(50, 100):\n",
    "for i in range(50, 55):\n",
    "    print(\"원문 :\", seq2text(encoder_input_test[i]))\n",
    "    print(\"실제 요약 :\", seq2summary(decoder_input_test[i]))\n",
    "    print(\"예측 요약 :\", decode_sequence(encoder_input_test[i].reshape(1, text_max_len)))\n",
    "    print(\"\\n\")"
   ]
  },
  {
   "cell_type": "markdown",
   "id": "6f5b4797",
   "metadata": {},
   "source": [
    "## Summa를 이용해서 추출적 요약"
   ]
  },
  {
   "cell_type": "code",
   "execution_count": 63,
   "id": "8bbbf58d",
   "metadata": {},
   "outputs": [],
   "source": [
    "from summa.summarizer import summarize"
   ]
  },
  {
   "cell_type": "code",
   "execution_count": 64,
   "id": "c61fed0e",
   "metadata": {
    "scrolled": true
   },
   "outputs": [
    {
     "name": "stdout",
     "output_type": "stream",
     "text": [
      "원문 : indian space research organisation maiden mission mars orbiter mission completed earth days orbit monday notably mom designated last six months original isro mission launched november pslv entered martian orbit september \n",
      "실제 요약 : isro mars mission completes earth days \n",
      "예측 요약 :  nasa to launch st ever space station in space\n",
      "추출적 요약 : \n",
      "\n",
      "\n",
      "원문 : actress sridevi said point discussing rejected role queen eventually portrayed actress krishnan ss rajamouli film series baahubali reported sridevi first choice play role however makers cast reportedly demanded crore play part \n",
      "실제 요약 : no point in talking about why rejected baahubali sridevi \n",
      "예측 요약 :  sridevi to be used for sridevi in film report\n",
      "추출적 요약 : \n",
      "\n",
      "\n",
      "원문 : manipur civil rights activist chanu sharmila wednesday filed marriage papers long time partner coutinho duo filed papers sub registrar office rented house however inter religious marriage cannot happen immediately would registered special marriage act requires window days \n",
      "실제 요약 : sharmila partner file marriage papers \n",
      "예측 요약 :  officer who accused of sexual harassment in jail report\n",
      "추출적 요약 : \n",
      "\n",
      "\n",
      "원문 : union environment ministry approved proposal expansion delhi indira gandhi international airport expansion increase overall capacity airport million per annum current million per annum phase two expansion include construction new terminal \n",
      "실제 요약 : environment ministry approves delhi airport expansion plan \n",
      "예측 요약 :  govt approves air india air most expensive air india\n",
      "추출적 요약 : \n",
      "\n",
      "\n",
      "원문 : bjp appointed former congress minister party andhra pradesh chief mla state convenor election management committee two local bjp local leaders resigned positions several bjp leaders threatened resign appointed party chief served congress years \n",
      "실제 요약 : bjp leaders resign as ex cong minister selected andhra chief \n",
      "예측 요약 :  bjp mla quits party for bjp leaders in taka\n",
      "추출적 요약 : \n",
      "\n",
      "\n"
     ]
    }
   ],
   "source": [
    "# for i in range(50, 100):\n",
    "for i in range(50,55):\n",
    "    print(\"원문 :\", seq2text(encoder_input_test[i]))\n",
    "    print(\"실제 요약 :\", seq2summary(decoder_input_test[i]))\n",
    "    print(\"예측 요약 :\", decode_sequence(encoder_input_test[i].reshape(1, text_max_len)))\n",
    "    print(\"추출적 요약 :\",summarize(seq2text(encoder_input_test[i]),words=20, split=False))\n",
    "    print(\"\\n\")"
   ]
  },
  {
   "cell_type": "markdown",
   "id": "2948ee2e",
   "metadata": {},
   "source": [
    "=> 원문이 너무 짧아서 추출적 요약이 잘 수행되지 않았다."
   ]
  },
  {
   "cell_type": "code",
   "execution_count": 65,
   "id": "eafaa18e",
   "metadata": {},
   "outputs": [
    {
     "name": "stderr",
     "output_type": "stream",
     "text": [
      "[nltk_data] Downloading package punkt to /aiffel/nltk_data...\n",
      "[nltk_data]   Package punkt is already up-to-date!\n"
     ]
    }
   ],
   "source": [
    "# 커스텀 함수를 만들어 추출적 요약 시도\n",
    "import nltk\n",
    "nltk.download('punkt')\n",
    "from nltk.tokenize import sent_tokenize, word_tokenize\n",
    "from sklearn.feature_extraction.text import TfidfVectorizer\n",
    "from sklearn.metrics.pairwise import cosine_similarity\n",
    "import numpy as np\n",
    "\n",
    "def custom_extractive_summary(text, top_n_words=10):\n",
    "    # 문장 분할\n",
    "    sentences = sent_tokenize(text)\n",
    "    if not sentences:\n",
    "        return \"\"\n",
    "\n",
    "    # 각 문장 간 유사도 계산\n",
    "    # TF-IDF 벡터화 및 유사도 계산\n",
    "    tfidf_vectorizer = TfidfVectorizer()\n",
    "    tfidf_matrix = tfidf_vectorizer.fit_transform(sentences)\n",
    "    sim_matrix = cosine_similarity(tfidf_matrix) # 코사인 유사도 계산\n",
    "    sentence_scores = sim_matrix.sum(axis=1) # 다른 문장들과의 유사성 점수가 높은 문장이 중심문장이라고 판단.\n",
    "\n",
    "    # 가장 중심적인 문장 하나 선택\n",
    "    best_index = np.argmax(sentence_scores)\n",
    "    best_sentence = sentences[best_index]\n",
    "\n",
    "    # 선택된 문장에서 단어별 중요도 계산\n",
    "    words = word_tokenize(best_sentence)\n",
    "    word_scores = {}\n",
    "\n",
    "    # 해당 문장만 벡터화해서 단어 중요도 추출\n",
    "    tfidf = TfidfVectorizer()\n",
    "    tfidf.fit([best_sentence])\n",
    "    feature_names = tfidf.get_feature_names_out()\n",
    "    tfidf_scores = tfidf.transform([best_sentence]).toarray()[0]\n",
    "\n",
    "    for word, score in zip(feature_names, tfidf_scores):\n",
    "        word_scores[word] = score\n",
    "\n",
    "    # 단어 정렬 후 상위 N개 선택\n",
    "    ranked_words = sorted(word_scores.items(), key=lambda x: x[1], reverse=True)\n",
    "    top_words = [word for word, _ in ranked_words[:top_n_words]]\n",
    "\n",
    "    return ' '.join(top_words)\n"
   ]
  },
  {
   "cell_type": "code",
   "execution_count": 66,
   "id": "0bb8974d",
   "metadata": {},
   "outputs": [
    {
     "data": {
      "text/plain": [
       "'mission orbit completed days designated earth entered indian isro last'"
      ]
     },
     "execution_count": 66,
     "metadata": {},
     "output_type": "execute_result"
    }
   ],
   "source": [
    "custom_extractive_summary(seq2text(encoder_input_test[50]))"
   ]
  },
  {
   "cell_type": "markdown",
   "id": "025207b9",
   "metadata": {},
   "source": [
    "### 추상적 요약과 비교"
   ]
  },
  {
   "cell_type": "code",
   "execution_count": 67,
   "id": "ee9b7fd5",
   "metadata": {},
   "outputs": [
    {
     "name": "stdout",
     "output_type": "stream",
     "text": [
      "원문 : indian space research organisation maiden mission mars orbiter mission completed earth days orbit monday notably mom designated last six months original isro mission launched november pslv entered martian orbit september \n",
      "실제 요약 : isro mars mission completes earth days \n",
      "예측 요약 :  nasa to launch st ever space station in space\n",
      "추출적 요약 : mission orbit completed days designated earth entered indian isro last\n",
      "\n",
      "\n",
      "원문 : actress sridevi said point discussing rejected role queen eventually portrayed actress krishnan ss rajamouli film series baahubali reported sridevi first choice play role however makers cast reportedly demanded crore play part \n",
      "실제 요약 : no point in talking about why rejected baahubali sridevi \n",
      "예측 요약 :  sridevi to be used for sridevi in film report\n",
      "추출적 요약 : actress play role sridevi baahubali cast choice crore demanded discussing\n",
      "\n",
      "\n",
      "원문 : manipur civil rights activist chanu sharmila wednesday filed marriage papers long time partner coutinho duo filed papers sub registrar office rented house however inter religious marriage cannot happen immediately would registered special marriage act requires window days \n",
      "실제 요약 : sharmila partner file marriage papers \n",
      "예측 요약 :  officer who accused of sexual harassment in jail report\n",
      "추출적 요약 : marriage filed papers act activist cannot chanu civil coutinho days\n",
      "\n",
      "\n",
      "원문 : union environment ministry approved proposal expansion delhi indira gandhi international airport expansion increase overall capacity airport million per annum current million per annum phase two expansion include construction new terminal \n",
      "실제 요약 : environment ministry approves delhi airport expansion plan \n",
      "예측 요약 :  govt approves air india air most expensive air india\n",
      "추출적 요약 : expansion airport annum million per approved capacity construction current delhi\n",
      "\n",
      "\n",
      "원문 : bjp appointed former congress minister party andhra pradesh chief mla state convenor election management committee two local bjp local leaders resigned positions several bjp leaders threatened resign appointed party chief served congress years \n",
      "실제 요약 : bjp leaders resign as ex cong minister selected andhra chief \n",
      "예측 요약 :  bjp mla quits party for bjp leaders in taka\n",
      "추출적 요약 : bjp appointed chief congress leaders local party andhra committee convenor\n",
      "\n",
      "\n"
     ]
    }
   ],
   "source": [
    "texts = []\n",
    "headlines = []\n",
    "predictions = []\n",
    "extractions = []\n",
    "for i in range(50, 100):\n",
    "    if i < 55:\n",
    "        print(\"원문 :\", seq2text(encoder_input_test[i]))\n",
    "        print(\"실제 요약 :\", seq2summary(decoder_input_test[i]))\n",
    "        print(\"예측 요약 :\", decode_sequence(encoder_input_test[i].reshape(1, text_max_len)))\n",
    "        print(\"추출적 요약 :\",custom_extractive_summary(seq2text(encoder_input_test[i])))\n",
    "        print(\"\\n\")\n",
    "    texts.append(seq2text(encoder_input_test[i]))\n",
    "    headlines.append(seq2summary(decoder_input_test[i]))\n",
    "    predictions.append(decode_sequence(encoder_input_test[i].reshape(1, text_max_len)))\n",
    "    extractions.append(custom_extractive_summary(seq2text(encoder_input_test[i])))"
   ]
  },
  {
   "cell_type": "code",
   "execution_count": 68,
   "id": "deae375e",
   "metadata": {},
   "outputs": [
    {
     "data": {
      "text/html": [
       "<div>\n",
       "<style scoped>\n",
       "    .dataframe tbody tr th:only-of-type {\n",
       "        vertical-align: middle;\n",
       "    }\n",
       "\n",
       "    .dataframe tbody tr th {\n",
       "        vertical-align: top;\n",
       "    }\n",
       "\n",
       "    .dataframe thead th {\n",
       "        text-align: right;\n",
       "    }\n",
       "</style>\n",
       "<table border=\"1\" class=\"dataframe\">\n",
       "  <thead>\n",
       "    <tr style=\"text-align: right;\">\n",
       "      <th></th>\n",
       "      <th>text</th>\n",
       "      <th>headline</th>\n",
       "      <th>prediction</th>\n",
       "      <th>extraction</th>\n",
       "    </tr>\n",
       "  </thead>\n",
       "  <tbody>\n",
       "    <tr>\n",
       "      <th>0</th>\n",
       "      <td>indian space research organisation maiden miss...</td>\n",
       "      <td>isro mars mission completes earth days</td>\n",
       "      <td>nasa to launch st ever space station in space</td>\n",
       "      <td>mission orbit completed days designated earth ...</td>\n",
       "    </tr>\n",
       "    <tr>\n",
       "      <th>1</th>\n",
       "      <td>actress sridevi said point discussing rejected...</td>\n",
       "      <td>no point in talking about why rejected baahuba...</td>\n",
       "      <td>sridevi to be used for sridevi in film report</td>\n",
       "      <td>actress play role sridevi baahubali cast choic...</td>\n",
       "    </tr>\n",
       "    <tr>\n",
       "      <th>2</th>\n",
       "      <td>manipur civil rights activist chanu sharmila w...</td>\n",
       "      <td>sharmila partner file marriage papers</td>\n",
       "      <td>officer who accused of sexual harassment in j...</td>\n",
       "      <td>marriage filed papers act activist cannot chan...</td>\n",
       "    </tr>\n",
       "    <tr>\n",
       "      <th>3</th>\n",
       "      <td>union environment ministry approved proposal e...</td>\n",
       "      <td>environment ministry approves delhi airport ex...</td>\n",
       "      <td>govt approves air india air most expensive ai...</td>\n",
       "      <td>expansion airport annum million per approved c...</td>\n",
       "    </tr>\n",
       "    <tr>\n",
       "      <th>4</th>\n",
       "      <td>bjp appointed former congress minister party a...</td>\n",
       "      <td>bjp leaders resign as ex cong minister selecte...</td>\n",
       "      <td>bjp mla quits party for bjp leaders in taka</td>\n",
       "      <td>bjp appointed chief congress leaders local par...</td>\n",
       "    </tr>\n",
       "  </tbody>\n",
       "</table>\n",
       "</div>"
      ],
      "text/plain": [
       "                                                text  \\\n",
       "0  indian space research organisation maiden miss...   \n",
       "1  actress sridevi said point discussing rejected...   \n",
       "2  manipur civil rights activist chanu sharmila w...   \n",
       "3  union environment ministry approved proposal e...   \n",
       "4  bjp appointed former congress minister party a...   \n",
       "\n",
       "                                            headline  \\\n",
       "0            isro mars mission completes earth days    \n",
       "1  no point in talking about why rejected baahuba...   \n",
       "2             sharmila partner file marriage papers    \n",
       "3  environment ministry approves delhi airport ex...   \n",
       "4  bjp leaders resign as ex cong minister selecte...   \n",
       "\n",
       "                                          prediction  \\\n",
       "0      nasa to launch st ever space station in space   \n",
       "1      sridevi to be used for sridevi in film report   \n",
       "2   officer who accused of sexual harassment in j...   \n",
       "3   govt approves air india air most expensive ai...   \n",
       "4        bjp mla quits party for bjp leaders in taka   \n",
       "\n",
       "                                          extraction  \n",
       "0  mission orbit completed days designated earth ...  \n",
       "1  actress play role sridevi baahubali cast choic...  \n",
       "2  marriage filed papers act activist cannot chan...  \n",
       "3  expansion airport annum million per approved c...  \n",
       "4  bjp appointed chief congress leaders local par...  "
      ]
     },
     "execution_count": 68,
     "metadata": {},
     "output_type": "execute_result"
    }
   ],
   "source": [
    "result_df = pd.DataFrame(data={\"text\":texts, \"headline\":headlines,\"prediction\":predictions, \"extraction\": extractions})\n",
    "result_df.head()"
   ]
  },
  {
   "cell_type": "code",
   "execution_count": 69,
   "id": "91b34fb6",
   "metadata": {},
   "outputs": [],
   "source": [
    "# 문법 완성도 평가\n",
    "from transformers import pipeline\n",
    "\n",
    "grammar_checker = pipeline(\"text-classification\", model=\"textattack/bert-base-uncased-CoLA\")\n"
   ]
  },
  {
   "cell_type": "code",
   "execution_count": 70,
   "id": "85e646ef",
   "metadata": {
    "scrolled": true
   },
   "outputs": [
    {
     "data": {
      "text/plain": [
       "0    [{'label': 'LABEL_0', 'score': 0.9659214019775...\n",
       "1    [{'label': 'LABEL_0', 'score': 0.9450816512107...\n",
       "2    [{'label': 'LABEL_0', 'score': 0.9315298795700...\n",
       "3    [{'label': 'LABEL_0', 'score': 0.8901442289352...\n",
       "4    [{'label': 'LABEL_0', 'score': 0.8668698668479...\n",
       "Name: prediction, dtype: object"
      ]
     },
     "execution_count": 70,
     "metadata": {},
     "output_type": "execute_result"
    }
   ],
   "source": [
    "result_df['prediction'].apply(grammar_checker)[:5]"
   ]
  },
  {
   "cell_type": "markdown",
   "id": "130fb086",
   "metadata": {},
   "source": [
    "LABEL_0 -> 문법적으로 부적절함,   \n",
    "LABEL_1 -> 문법적으로 적절함  \n",
    "score -> 신뢰도"
   ]
  },
  {
   "cell_type": "code",
   "execution_count": 71,
   "id": "60094194",
   "metadata": {},
   "outputs": [],
   "source": [
    "result_df['prediction_grammar'] = result_df['prediction'].apply(lambda x: grammar_checker(x)[0]['label'].split(\"_\")[1])\n",
    "result_df['extraction_grammar'] = result_df['extraction'].apply(lambda x: grammar_checker(x)[0]['label'].split(\"_\")[1])"
   ]
  },
  {
   "cell_type": "code",
   "execution_count": 72,
   "id": "294dc2cc",
   "metadata": {},
   "outputs": [
    {
     "data": {
      "text/html": [
       "<div>\n",
       "<style scoped>\n",
       "    .dataframe tbody tr th:only-of-type {\n",
       "        vertical-align: middle;\n",
       "    }\n",
       "\n",
       "    .dataframe tbody tr th {\n",
       "        vertical-align: top;\n",
       "    }\n",
       "\n",
       "    .dataframe thead th {\n",
       "        text-align: right;\n",
       "    }\n",
       "</style>\n",
       "<table border=\"1\" class=\"dataframe\">\n",
       "  <thead>\n",
       "    <tr style=\"text-align: right;\">\n",
       "      <th></th>\n",
       "      <th>text</th>\n",
       "      <th>headline</th>\n",
       "      <th>prediction</th>\n",
       "      <th>extraction</th>\n",
       "      <th>prediction_grammar</th>\n",
       "      <th>extraction_grammar</th>\n",
       "    </tr>\n",
       "  </thead>\n",
       "  <tbody>\n",
       "    <tr>\n",
       "      <th>0</th>\n",
       "      <td>indian space research organisation maiden miss...</td>\n",
       "      <td>isro mars mission completes earth days</td>\n",
       "      <td>nasa to launch st ever space station in space</td>\n",
       "      <td>mission orbit completed days designated earth ...</td>\n",
       "      <td>0</td>\n",
       "      <td>0</td>\n",
       "    </tr>\n",
       "    <tr>\n",
       "      <th>1</th>\n",
       "      <td>actress sridevi said point discussing rejected...</td>\n",
       "      <td>no point in talking about why rejected baahuba...</td>\n",
       "      <td>sridevi to be used for sridevi in film report</td>\n",
       "      <td>actress play role sridevi baahubali cast choic...</td>\n",
       "      <td>0</td>\n",
       "      <td>0</td>\n",
       "    </tr>\n",
       "    <tr>\n",
       "      <th>2</th>\n",
       "      <td>manipur civil rights activist chanu sharmila w...</td>\n",
       "      <td>sharmila partner file marriage papers</td>\n",
       "      <td>officer who accused of sexual harassment in j...</td>\n",
       "      <td>marriage filed papers act activist cannot chan...</td>\n",
       "      <td>0</td>\n",
       "      <td>0</td>\n",
       "    </tr>\n",
       "    <tr>\n",
       "      <th>3</th>\n",
       "      <td>union environment ministry approved proposal e...</td>\n",
       "      <td>environment ministry approves delhi airport ex...</td>\n",
       "      <td>govt approves air india air most expensive ai...</td>\n",
       "      <td>expansion airport annum million per approved c...</td>\n",
       "      <td>0</td>\n",
       "      <td>0</td>\n",
       "    </tr>\n",
       "    <tr>\n",
       "      <th>4</th>\n",
       "      <td>bjp appointed former congress minister party a...</td>\n",
       "      <td>bjp leaders resign as ex cong minister selecte...</td>\n",
       "      <td>bjp mla quits party for bjp leaders in taka</td>\n",
       "      <td>bjp appointed chief congress leaders local par...</td>\n",
       "      <td>0</td>\n",
       "      <td>0</td>\n",
       "    </tr>\n",
       "  </tbody>\n",
       "</table>\n",
       "</div>"
      ],
      "text/plain": [
       "                                                text  \\\n",
       "0  indian space research organisation maiden miss...   \n",
       "1  actress sridevi said point discussing rejected...   \n",
       "2  manipur civil rights activist chanu sharmila w...   \n",
       "3  union environment ministry approved proposal e...   \n",
       "4  bjp appointed former congress minister party a...   \n",
       "\n",
       "                                            headline  \\\n",
       "0            isro mars mission completes earth days    \n",
       "1  no point in talking about why rejected baahuba...   \n",
       "2             sharmila partner file marriage papers    \n",
       "3  environment ministry approves delhi airport ex...   \n",
       "4  bjp leaders resign as ex cong minister selecte...   \n",
       "\n",
       "                                          prediction  \\\n",
       "0      nasa to launch st ever space station in space   \n",
       "1      sridevi to be used for sridevi in film report   \n",
       "2   officer who accused of sexual harassment in j...   \n",
       "3   govt approves air india air most expensive ai...   \n",
       "4        bjp mla quits party for bjp leaders in taka   \n",
       "\n",
       "                                          extraction prediction_grammar  \\\n",
       "0  mission orbit completed days designated earth ...                  0   \n",
       "1  actress play role sridevi baahubali cast choic...                  0   \n",
       "2  marriage filed papers act activist cannot chan...                  0   \n",
       "3  expansion airport annum million per approved c...                  0   \n",
       "4  bjp appointed chief congress leaders local par...                  0   \n",
       "\n",
       "  extraction_grammar  \n",
       "0                  0  \n",
       "1                  0  \n",
       "2                  0  \n",
       "3                  0  \n",
       "4                  0  "
      ]
     },
     "execution_count": 72,
     "metadata": {},
     "output_type": "execute_result"
    }
   ],
   "source": [
    "result_df.head()"
   ]
  },
  {
   "cell_type": "code",
   "execution_count": 73,
   "id": "f506b394",
   "metadata": {},
   "outputs": [
    {
     "name": "stdout",
     "output_type": "stream",
     "text": [
      "추상적 예측 요약의 문법 완성도 점수:  6\n",
      "추출적 요약의 문법 완성도 점수:  3\n"
     ]
    }
   ],
   "source": [
    "print(\"추상적 예측 요약의 문법 완성도 점수: \",result_df['prediction_grammar'].astype('int').sum())\n",
    "print(\"추출적 요약의 문법 완성도 점수: \",result_df['extraction_grammar'].astype('int').sum())"
   ]
  },
  {
   "cell_type": "markdown",
   "id": "80064f38",
   "metadata": {},
   "source": [
    "=> bert모델을 사용해서, 문법 완성도를 평가했을 때, 50문장 중 추상적 요약은 6문장이 적합으로 판단되었고, 추출적 요약은 3문장이 적합 판단되었다.  "
   ]
  },
  {
   "cell_type": "code",
   "execution_count": 74,
   "id": "81453206",
   "metadata": {},
   "outputs": [
    {
     "name": "stdout",
     "output_type": "stream",
     "text": [
      "추상적 예측 요약의 문법 완성도 점수:  0.12\n",
      "추출적 요약의 문법 완성도 점수:  0.06\n"
     ]
    }
   ],
   "source": [
    "print(\"추상적 예측 요약의 문법 완성도 점수: \",result_df['prediction_grammar'].astype('int').mean())\n",
    "print(\"추출적 요약의 문법 완성도 점수: \",result_df['extraction_grammar'].astype('int').mean())"
   ]
  },
  {
   "cell_type": "code",
   "execution_count": 75,
   "id": "5b4a14f4",
   "metadata": {},
   "outputs": [],
   "source": [
    "from sklearn.feature_extraction.text import TfidfVectorizer\n",
    "\n",
    "# tfidf 벡터화하여 빈도수 기반으로 상위 10개의 단어를 추출\n",
    "def extract_keywords(text, top_k=10):\n",
    "    vec = TfidfVectorizer(stop_words='english')  # 한국어면 별도 불용어 처리 필요\n",
    "    tfidf = vec.fit_transform([text])\n",
    "    scores = tfidf.toarray()[0]\n",
    "    word_index = {word: idx for idx, word in enumerate(vec.get_feature_names_out())}\n",
    "    sorted_words = sorted(word_index.items(), key=lambda x: scores[x[1]], reverse=True)\n",
    "    return [w for w, _ in sorted_words[:top_k]]\n",
    "\n",
    "# 텍스트 기반 빈도가 높은 단어 10개가 추출한 문장에 얼마나 있는지 평가\n",
    "def keyword_coverage_score(text, extraction, top_k=10):\n",
    "    keywords = extract_keywords(text, top_k)\n",
    "    included = [kw for kw in keywords if kw in extraction]\n",
    "    score = len(included) / len(keywords)\n",
    "    return {\n",
    "        \"핵심단어\": keywords,\n",
    "        \"포함된 단어\": included,\n",
    "        \"포함률\": round(score, 2)\n",
    "    }\n"
   ]
  },
  {
   "cell_type": "code",
   "execution_count": 76,
   "id": "6788400c",
   "metadata": {},
   "outputs": [
    {
     "data": {
      "text/plain": [
       "{'핵심단어': ['mission',\n",
       "  'orbit',\n",
       "  'completed',\n",
       "  'days',\n",
       "  'designated',\n",
       "  'earth',\n",
       "  'entered',\n",
       "  'indian',\n",
       "  'isro',\n",
       "  'launched'],\n",
       " '포함된 단어': [],\n",
       " '포함률': 0.0}"
      ]
     },
     "execution_count": 76,
     "metadata": {},
     "output_type": "execute_result"
    }
   ],
   "source": [
    "keyword_coverage_score(result_df['text'][0],result_df['prediction'][0])"
   ]
  },
  {
   "cell_type": "code",
   "execution_count": 77,
   "id": "e72efb0a",
   "metadata": {},
   "outputs": [
    {
     "data": {
      "text/plain": [
       "{'핵심단어': ['mission',\n",
       "  'orbit',\n",
       "  'completed',\n",
       "  'days',\n",
       "  'designated',\n",
       "  'earth',\n",
       "  'entered',\n",
       "  'indian',\n",
       "  'isro',\n",
       "  'launched'],\n",
       " '포함된 단어': ['mission',\n",
       "  'orbit',\n",
       "  'completed',\n",
       "  'days',\n",
       "  'designated',\n",
       "  'earth',\n",
       "  'entered',\n",
       "  'indian',\n",
       "  'isro'],\n",
       " '포함률': 0.9}"
      ]
     },
     "execution_count": 77,
     "metadata": {},
     "output_type": "execute_result"
    }
   ],
   "source": [
    "keyword_coverage_score(result_df['text'][0],result_df['extraction'][0])"
   ]
  },
  {
   "cell_type": "code",
   "execution_count": 78,
   "id": "4a03eadc",
   "metadata": {},
   "outputs": [],
   "source": [
    "result_df['pred_keyword_ratio']=result_df[['text','prediction']].apply(lambda row: keyword_coverage_score(row['text'], row['prediction'])['포함률'],\n",
    "    axis=1)\n",
    "result_df['extr_keyword_ratio']=result_df[['text','extraction']].apply(lambda row: keyword_coverage_score(row['text'], row['extraction'])['포함률'],\n",
    "    axis=1)\n"
   ]
  },
  {
   "cell_type": "code",
   "execution_count": 79,
   "id": "436b458d",
   "metadata": {},
   "outputs": [
    {
     "data": {
      "text/html": [
       "<div>\n",
       "<style scoped>\n",
       "    .dataframe tbody tr th:only-of-type {\n",
       "        vertical-align: middle;\n",
       "    }\n",
       "\n",
       "    .dataframe tbody tr th {\n",
       "        vertical-align: top;\n",
       "    }\n",
       "\n",
       "    .dataframe thead th {\n",
       "        text-align: right;\n",
       "    }\n",
       "</style>\n",
       "<table border=\"1\" class=\"dataframe\">\n",
       "  <thead>\n",
       "    <tr style=\"text-align: right;\">\n",
       "      <th></th>\n",
       "      <th>text</th>\n",
       "      <th>headline</th>\n",
       "      <th>prediction</th>\n",
       "      <th>extraction</th>\n",
       "      <th>prediction_grammar</th>\n",
       "      <th>extraction_grammar</th>\n",
       "      <th>pred_keyword_ratio</th>\n",
       "      <th>extr_keyword_ratio</th>\n",
       "    </tr>\n",
       "  </thead>\n",
       "  <tbody>\n",
       "    <tr>\n",
       "      <th>0</th>\n",
       "      <td>indian space research organisation maiden miss...</td>\n",
       "      <td>isro mars mission completes earth days</td>\n",
       "      <td>nasa to launch st ever space station in space</td>\n",
       "      <td>mission orbit completed days designated earth ...</td>\n",
       "      <td>0</td>\n",
       "      <td>0</td>\n",
       "      <td>0.0</td>\n",
       "      <td>0.9</td>\n",
       "    </tr>\n",
       "    <tr>\n",
       "      <th>1</th>\n",
       "      <td>actress sridevi said point discussing rejected...</td>\n",
       "      <td>no point in talking about why rejected baahuba...</td>\n",
       "      <td>sridevi to be used for sridevi in film report</td>\n",
       "      <td>actress play role sridevi baahubali cast choic...</td>\n",
       "      <td>0</td>\n",
       "      <td>0</td>\n",
       "      <td>0.1</td>\n",
       "      <td>1.0</td>\n",
       "    </tr>\n",
       "    <tr>\n",
       "      <th>2</th>\n",
       "      <td>manipur civil rights activist chanu sharmila w...</td>\n",
       "      <td>sharmila partner file marriage papers</td>\n",
       "      <td>officer who accused of sexual harassment in j...</td>\n",
       "      <td>marriage filed papers act activist cannot chan...</td>\n",
       "      <td>0</td>\n",
       "      <td>0</td>\n",
       "      <td>0.0</td>\n",
       "      <td>0.9</td>\n",
       "    </tr>\n",
       "    <tr>\n",
       "      <th>3</th>\n",
       "      <td>union environment ministry approved proposal e...</td>\n",
       "      <td>environment ministry approves delhi airport ex...</td>\n",
       "      <td>govt approves air india air most expensive ai...</td>\n",
       "      <td>expansion airport annum million per approved c...</td>\n",
       "      <td>0</td>\n",
       "      <td>0</td>\n",
       "      <td>0.0</td>\n",
       "      <td>0.9</td>\n",
       "    </tr>\n",
       "    <tr>\n",
       "      <th>4</th>\n",
       "      <td>bjp appointed former congress minister party a...</td>\n",
       "      <td>bjp leaders resign as ex cong minister selecte...</td>\n",
       "      <td>bjp mla quits party for bjp leaders in taka</td>\n",
       "      <td>bjp appointed chief congress leaders local par...</td>\n",
       "      <td>0</td>\n",
       "      <td>0</td>\n",
       "      <td>0.3</td>\n",
       "      <td>1.0</td>\n",
       "    </tr>\n",
       "  </tbody>\n",
       "</table>\n",
       "</div>"
      ],
      "text/plain": [
       "                                                text  \\\n",
       "0  indian space research organisation maiden miss...   \n",
       "1  actress sridevi said point discussing rejected...   \n",
       "2  manipur civil rights activist chanu sharmila w...   \n",
       "3  union environment ministry approved proposal e...   \n",
       "4  bjp appointed former congress minister party a...   \n",
       "\n",
       "                                            headline  \\\n",
       "0            isro mars mission completes earth days    \n",
       "1  no point in talking about why rejected baahuba...   \n",
       "2             sharmila partner file marriage papers    \n",
       "3  environment ministry approves delhi airport ex...   \n",
       "4  bjp leaders resign as ex cong minister selecte...   \n",
       "\n",
       "                                          prediction  \\\n",
       "0      nasa to launch st ever space station in space   \n",
       "1      sridevi to be used for sridevi in film report   \n",
       "2   officer who accused of sexual harassment in j...   \n",
       "3   govt approves air india air most expensive ai...   \n",
       "4        bjp mla quits party for bjp leaders in taka   \n",
       "\n",
       "                                          extraction prediction_grammar  \\\n",
       "0  mission orbit completed days designated earth ...                  0   \n",
       "1  actress play role sridevi baahubali cast choic...                  0   \n",
       "2  marriage filed papers act activist cannot chan...                  0   \n",
       "3  expansion airport annum million per approved c...                  0   \n",
       "4  bjp appointed chief congress leaders local par...                  0   \n",
       "\n",
       "  extraction_grammar  pred_keyword_ratio  extr_keyword_ratio  \n",
       "0                  0                 0.0                 0.9  \n",
       "1                  0                 0.1                 1.0  \n",
       "2                  0                 0.0                 0.9  \n",
       "3                  0                 0.0                 0.9  \n",
       "4                  0                 0.3                 1.0  "
      ]
     },
     "execution_count": 79,
     "metadata": {},
     "output_type": "execute_result"
    }
   ],
   "source": [
    "result_df.head()"
   ]
  },
  {
   "cell_type": "code",
   "execution_count": 81,
   "id": "cf28cdf2",
   "metadata": {},
   "outputs": [
    {
     "name": "stdout",
     "output_type": "stream",
     "text": [
      "추상적 예측 요약의 핵심단어 포함 정도 점수 0.1\n",
      "추출적 요약의 핵심단어 포함 정도 점수 0.93\n"
     ]
    }
   ],
   "source": [
    "print(\"추상적 예측 요약의 핵심단어 포함 정도 점수\", result_df['pred_keyword_ratio'].astype(float).mean())\n",
    "print(\"추출적 요약의 핵심단어 포함 정도 점수\",result_df['extr_keyword_ratio'].astype(float).mean())"
   ]
  },
  {
   "cell_type": "markdown",
   "id": "cb24f149",
   "metadata": {},
   "source": [
    "=> (샘플 50개만 확인했으므로 일반화하기는 어렵지만,) 추출한 50개의 샘플을 확인했을 때,    \n",
    "모델을 사용한 추상적 요약의 문법 완성도가 조금 더 높은 것을 확인하였다.   \n",
    "=> 핵심단어 포함 정도를 확인했을 때는 추출적 요약한 문장이 더 많은 핵심단어를 포함한 것을 확인할 수 있었다. "
   ]
  },
  {
   "cell_type": "markdown",
   "id": "5810a989",
   "metadata": {},
   "source": [
    "# 회고 \n",
    "\n",
    "언어를 벡터화하는 과정이 매우 신기했다.  \n",
    "seq2seq 모델의 구조에 대해서는 아직 어렴풋하게만 이해하고 있지만, 앞으로 더 많이 실습해보며 익숙해지고 싶다.  \n",
    "트랜스포머 모델과 구조에 대해서도 더 공부를 해야겠다고 느꼈다.  \n",
    "평가 지표가 없는 문제에 대해서, 어떻게 모델을 평가해야 할지 고민을 해보는 계기가 되었다.  \n",
    "문장의 문법 완성도를 평가하는 방법도 bert 모델을 사용한 것이기 때문에, 신뢰도는 다시 생각해봐야 하는 것 같다.  "
   ]
  },
  {
   "cell_type": "markdown",
   "id": "c49b4fdc",
   "metadata": {},
   "source": [
    "# to be\n",
    "- padding: `pre`, `post` 비교\n",
    "- layer normalization 추가\n"
   ]
  },
  {
   "cell_type": "code",
   "execution_count": null,
   "id": "2ba559ea",
   "metadata": {},
   "outputs": [],
   "source": []
  }
 ],
 "metadata": {
  "kernelspec": {
   "display_name": "Python 3 (ipykernel)",
   "language": "python",
   "name": "python3"
  },
  "language_info": {
   "codemirror_mode": {
    "name": "ipython",
    "version": 3
   },
   "file_extension": ".py",
   "mimetype": "text/x-python",
   "name": "python",
   "nbconvert_exporter": "python",
   "pygments_lexer": "ipython3",
   "version": "3.9.7"
  }
 },
 "nbformat": 4,
 "nbformat_minor": 5
}
