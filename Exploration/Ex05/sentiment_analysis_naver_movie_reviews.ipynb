{
 "cells": [
  {
   "cell_type": "markdown",
   "id": "702a54be",
   "metadata": {},
   "source": [
    "# 네이버 영화리뷰 감성분석 도전"
   ]
  },
  {
   "cell_type": "markdown",
   "id": "eac6e146",
   "metadata": {},
   "source": [
    "## library import"
   ]
  },
  {
   "cell_type": "code",
   "execution_count": 1,
   "id": "762bf3ac",
   "metadata": {},
   "outputs": [
    {
     "name": "stdout",
     "output_type": "stream",
     "text": [
      "1.3.3\n",
      "0.5.2\n",
      "4.1.2\n"
     ]
    }
   ],
   "source": [
    "import pandas\n",
    "import konlpy\n",
    "import gensim\n",
    "\n",
    "print(pandas.__version__)\n",
    "print(konlpy.__version__)\n",
    "print(gensim.__version__)"
   ]
  },
  {
   "cell_type": "markdown",
   "id": "5fe6733f",
   "metadata": {},
   "source": [
    "## 데이터 확인"
   ]
  },
  {
   "cell_type": "code",
   "execution_count": 2,
   "id": "1a998637",
   "metadata": {},
   "outputs": [
    {
     "data": {
      "text/html": [
       "<div>\n",
       "<style scoped>\n",
       "    .dataframe tbody tr th:only-of-type {\n",
       "        vertical-align: middle;\n",
       "    }\n",
       "\n",
       "    .dataframe tbody tr th {\n",
       "        vertical-align: top;\n",
       "    }\n",
       "\n",
       "    .dataframe thead th {\n",
       "        text-align: right;\n",
       "    }\n",
       "</style>\n",
       "<table border=\"1\" class=\"dataframe\">\n",
       "  <thead>\n",
       "    <tr style=\"text-align: right;\">\n",
       "      <th></th>\n",
       "      <th>id</th>\n",
       "      <th>document</th>\n",
       "      <th>label</th>\n",
       "    </tr>\n",
       "  </thead>\n",
       "  <tbody>\n",
       "    <tr>\n",
       "      <th>0</th>\n",
       "      <td>9976970</td>\n",
       "      <td>아 더빙.. 진짜 짜증나네요 목소리</td>\n",
       "      <td>0</td>\n",
       "    </tr>\n",
       "    <tr>\n",
       "      <th>1</th>\n",
       "      <td>3819312</td>\n",
       "      <td>흠...포스터보고 초딩영화줄....오버연기조차 가볍지 않구나</td>\n",
       "      <td>1</td>\n",
       "    </tr>\n",
       "    <tr>\n",
       "      <th>2</th>\n",
       "      <td>10265843</td>\n",
       "      <td>너무재밓었다그래서보는것을추천한다</td>\n",
       "      <td>0</td>\n",
       "    </tr>\n",
       "    <tr>\n",
       "      <th>3</th>\n",
       "      <td>9045019</td>\n",
       "      <td>교도소 이야기구먼 ..솔직히 재미는 없다..평점 조정</td>\n",
       "      <td>0</td>\n",
       "    </tr>\n",
       "    <tr>\n",
       "      <th>4</th>\n",
       "      <td>6483659</td>\n",
       "      <td>사이몬페그의 익살스런 연기가 돋보였던 영화!스파이더맨에서 늙어보이기만 했던 커스틴 ...</td>\n",
       "      <td>1</td>\n",
       "    </tr>\n",
       "  </tbody>\n",
       "</table>\n",
       "</div>"
      ],
      "text/plain": [
       "         id                                           document  label\n",
       "0   9976970                                아 더빙.. 진짜 짜증나네요 목소리      0\n",
       "1   3819312                  흠...포스터보고 초딩영화줄....오버연기조차 가볍지 않구나      1\n",
       "2  10265843                                  너무재밓었다그래서보는것을추천한다      0\n",
       "3   9045019                      교도소 이야기구먼 ..솔직히 재미는 없다..평점 조정      0\n",
       "4   6483659  사이몬페그의 익살스런 연기가 돋보였던 영화!스파이더맨에서 늙어보이기만 했던 커스틴 ...      1"
      ]
     },
     "execution_count": 2,
     "metadata": {},
     "output_type": "execute_result"
    }
   ],
   "source": [
    "import pandas as pd\n",
    "\n",
    "# 데이터를 읽어봅시다. \n",
    "train_data = pd.read_table('~/aiffel/sentiment_classification/data/ratings_train.txt')\n",
    "test_data = pd.read_table('~/aiffel/sentiment_classification/data/ratings_test.txt')\n",
    "\n",
    "train_data.head()"
   ]
  },
  {
   "cell_type": "markdown",
   "id": "4e1e9d95",
   "metadata": {},
   "source": [
    "## 데이터로더 구성\n",
    "`data_loader()`\n",
    "- 데이터의 중복 제거\n",
    "- NaN 결측치 제거\n",
    "- 한국어 토크나이저로 토큰화\n",
    "- 불용어(Stopwords) 제거\n",
    "- 사전word_to_index 구성\n",
    "- 텍스트 스트링을 사전 인덱스 스트링으로 변환\n",
    "- X_train, y_train, X_test, y_test, word_to_index 리턴"
   ]
  },
  {
   "cell_type": "code",
   "execution_count": 3,
   "id": "c18db4a4",
   "metadata": {},
   "outputs": [],
   "source": [
    "from konlpy.tag import Mecab\n",
    "import numpy as np\n",
    "from collections import Counter"
   ]
  },
  {
   "cell_type": "code",
   "execution_count": 4,
   "id": "00d1b906",
   "metadata": {},
   "outputs": [],
   "source": [
    "tokenizer = Mecab()\n",
    "stopwords = ['의','가','이','은','들','는','좀','잘','걍','과','도','를','으로','자','에','와','한','하다']"
   ]
  },
  {
   "cell_type": "code",
   "execution_count": 5,
   "id": "b9c4f1d1",
   "metadata": {},
   "outputs": [],
   "source": [
    "# tokenizer?"
   ]
  },
  {
   "cell_type": "markdown",
   "id": "d7bfae07",
   "metadata": {},
   "source": [
    "```python\n",
    ">>> mecab = Mecab()\n",
    ">>> print(mecab.morphs(u'영등포구청역에 있는 맛집 좀 알려주세요.'))\n",
    "['영등포구', '청역', '에', '있', '는', '맛집', '좀', '알려', '주', '세요', '.']\n",
    ">>> print(mecab.nouns(u'우리나라에는 무릎 치료를 잘하는 정형외과가 없는가!'))\n",
    "['우리', '나라', '무릎', '치료', '정형외과']\n",
    ">>> print(mecab.pos(u'자연주의 쇼핑몰은 어떤 곳인가?'))\n",
    "[('자연', 'NNG'), ('주', 'NNG'), ('의', 'JKG'), ('쇼핑몰', 'NNG'), ('은', 'JX'), ('어떤', 'MM'), ('곳', 'NNG'), ('인가', 'VCP+EF'), ('?', 'SF')]\n",
    "```"
   ]
  },
  {
   "cell_type": "code",
   "execution_count": 6,
   "id": "d8919c29",
   "metadata": {},
   "outputs": [],
   "source": [
    "# 토큰화, 불용어 처리 함수. \n",
    "def get_tokens_no_stopwords(df):\n",
    "    data = []\n",
    "    for sentence in df:\n",
    "        # 토큰화\n",
    "        tokenized_sequences = tokenizer.morphs(sentence)\n",
    "        # 불용어 제거\n",
    "        tokens_no_stopwords = [token for token in tokenized_sequences if token not in stopwords]\n",
    "        data.append(tokens_no_stopwords)\n",
    "    return data"
   ]
  },
  {
   "cell_type": "code",
   "execution_count": 7,
   "id": "ec324b7a",
   "metadata": {
    "scrolled": true
   },
   "outputs": [],
   "source": [
    "def load_data(train_data_df, test_data_df, num_words=10000):\n",
    "    # [[YOUR CODE]]\n",
    "    \n",
    "    # 중복 제거\n",
    "    train_data_df.drop_duplicates(inplace=True)\n",
    "    test_data_df.drop_duplicates(inplace=True)\n",
    "    \n",
    "    # 결측치 제거\n",
    "    train_data_df.dropna(inplace=True)\n",
    "    test_data_df.dropna(inplace=True)\n",
    "\n",
    "    # 처음 시도한 코드 -> 잘못됨; tokenizer.morphs는 문장을 input으로 받음\n",
    "    # train_data =tokenizer.morphs(train_data['document'])\n",
    "    # test_data = tokenizer.morphs(test_date['document']\n",
    "    \n",
    "    # 토큰화 & 불용어 제거\n",
    "    X_train = get_tokens_no_stopwords(train_data_df['document'])\n",
    "    \n",
    "    # test 데이터에 대해서도 토큰화 & 불용어 제거\n",
    "    X_test = get_tokens_no_stopwords(test_data_df['document'])    \n",
    "    \n",
    "    # word_to_index    \n",
    "    words = np.concatenate(X_train).tolist()\n",
    "    counter = Counter(words)\n",
    "    counter = counter.most_common(10000-4)\n",
    "    vocab = ['', '', '', ''] + [key for key, _ in counter]\n",
    "    word_to_index = {word:index for index, word in enumerate(vocab)}\n",
    "        \n",
    "    def wordlist_to_indexlist(wordlist):\n",
    "        return [word_to_index[word] if word in word_to_index else word_to_index[''] for word in wordlist]\n",
    "        \n",
    "    X_train = list(map(wordlist_to_indexlist, X_train))\n",
    "    X_test = list(map(wordlist_to_indexlist, X_test))\n",
    "        \n",
    "    return X_train, np.array(list(train_data['label'])), X_test, np.array(list(test_data['label'])), word_to_index\n",
    "    \n",
    "X_train, y_train, X_test, y_test, word_to_index = load_data(train_data, test_data)"
   ]
  },
  {
   "cell_type": "code",
   "execution_count": 8,
   "id": "c0f84610",
   "metadata": {},
   "outputs": [],
   "source": [
    "# 처음 몇 개 인덱스는 사전에 정의되어 있습니다.\n",
    "word_to_index[\"<PAD>\"] = 0\n",
    "word_to_index[\"<BOS>\"] = 1\n",
    "word_to_index[\"<UNK>\"] = 2  # unknown\n",
    "word_to_index[\"<UNUSED>\"] = 3"
   ]
  },
  {
   "cell_type": "code",
   "execution_count": 9,
   "id": "1d0e1578",
   "metadata": {},
   "outputs": [],
   "source": [
    "index_to_word = {index:word for word, index in word_to_index.items()}"
   ]
  },
  {
   "cell_type": "code",
   "execution_count": 10,
   "id": "d6325ea4",
   "metadata": {},
   "outputs": [
    {
     "data": {
      "text/plain": [
       "'<PAD>'"
      ]
     },
     "execution_count": 10,
     "metadata": {},
     "output_type": "execute_result"
    }
   ],
   "source": [
    "index_to_word[0]"
   ]
  },
  {
   "cell_type": "code",
   "execution_count": 11,
   "id": "7f574a4d",
   "metadata": {},
   "outputs": [
    {
     "data": {
      "text/plain": [
       "'영화'"
      ]
     },
     "execution_count": 11,
     "metadata": {},
     "output_type": "execute_result"
    }
   ],
   "source": [
    "index_to_word[5]"
   ]
  },
  {
   "cell_type": "code",
   "execution_count": 12,
   "id": "8296ac2a",
   "metadata": {},
   "outputs": [
    {
     "data": {
      "text/plain": [
       "10000"
      ]
     },
     "execution_count": 12,
     "metadata": {},
     "output_type": "execute_result"
    }
   ],
   "source": [
    "len(index_to_word)"
   ]
  },
  {
   "cell_type": "code",
   "execution_count": 13,
   "id": "c648f2f1",
   "metadata": {},
   "outputs": [],
   "source": [
    "# 문장 1개를 활용할 딕셔너리와 함께 주면, 단어 인덱스 리스트 벡터로 변환해 주는 함수입니다. \n",
    "# 단, 모든 문장은 <BOS>로 시작하는 것으로 합니다. \n",
    "def get_encoded_sentence(sentence, word_to_index):\n",
    "    return [word_to_index['<BOS>']]+[word_to_index[word] if word in word_to_index else word_to_index['<UNK>'] for word in sentence.split()]\n",
    "\n",
    "# 여러 개의 문장 리스트를 한꺼번에 단어 인덱스 리스트 벡터로 encode해 주는 함수입니다. \n",
    "def get_encoded_sentences(sentences, word_to_index):\n",
    "    return [get_encoded_sentence(sentence, word_to_index) for sentence in sentences]\n",
    "\n",
    "# 숫자 벡터로 encode된 문장을 원래대로 decode하는 함수입니다. \n",
    "def get_decoded_sentence(encoded_sentence, index_to_word):\n",
    "    return ' '.join(index_to_word[index] if index in index_to_word else '<UNK>' for index in encoded_sentence[1:])  #[1:]를 통해 <BOS>를 제외\n",
    "\n",
    "# 여러 개의 숫자 벡터로 encode된 문장을 한꺼번에 원래대로 decode하는 함수입니다. \n",
    "def get_decoded_sentences(encoded_sentences, index_to_word):\n",
    "    return [get_decoded_sentence(encoded_sentence, index_to_word) for encoded_sentence in encoded_sentences]"
   ]
  },
  {
   "cell_type": "markdown",
   "id": "0859ed0b",
   "metadata": {},
   "source": [
    "## 모델 구성을 위한 데이터 분석 및 가공\n",
    "- 데이터셋 내 문장 길이 분포\n",
    "- 적절한 최대 문장 길이 지정\n",
    "- keras.preprocessing.sequence.pad_sequences 을 활용한 패딩 추가"
   ]
  },
  {
   "cell_type": "code",
   "execution_count": 14,
   "id": "ead01be9",
   "metadata": {},
   "outputs": [
    {
     "name": "stdout",
     "output_type": "stream",
     "text": [
      "문장길이 평균 :  15.65940637625505\n",
      "문장길이 최대 :  116\n",
      "문장길이 표준편차 :  12.859527414389605\n"
     ]
    }
   ],
   "source": [
    "total_data_text = list(X_train) + list(X_test)\n",
    "# 텍스트데이터 문장길이의 리스트를 생성한 후\n",
    "num_tokens = [len(tokens) for tokens in total_data_text]\n",
    "num_tokens = np.array(num_tokens)\n",
    "# 문장길이의 평균값, 최대값, 표준편차를 계산해 본다. \n",
    "print('문장길이 평균 : ', np.mean(num_tokens))\n",
    "print('문장길이 최대 : ', np.max(num_tokens))\n",
    "print('문장길이 표준편차 : ', np.std(num_tokens))"
   ]
  },
  {
   "cell_type": "code",
   "execution_count": 15,
   "id": "f6b2e969",
   "metadata": {},
   "outputs": [
    {
     "name": "stdout",
     "output_type": "stream",
     "text": [
      "pad_sequences maxlen :  41\n",
      "전체 문장의 0.9358074322972919%가 maxlen 설정값 이내에 포함됩니다. \n"
     ]
    }
   ],
   "source": [
    "# 예를들어, 최대 길이를 (평균 + 2*표준편차)로 한다면,  \n",
    "max_tokens = np.mean(num_tokens) + 2 * np.std(num_tokens)\n",
    "maxlen = int(max_tokens)\n",
    "print('pad_sequences maxlen : ', maxlen)\n",
    "print(f'전체 문장의 {np.sum(num_tokens < max_tokens) / len(num_tokens)}%가 maxlen 설정값 이내에 포함됩니다. ')"
   ]
  },
  {
   "cell_type": "code",
   "execution_count": 16,
   "id": "ea44e687",
   "metadata": {},
   "outputs": [],
   "source": [
    "import tensorflow as tf"
   ]
  },
  {
   "cell_type": "code",
   "execution_count": 17,
   "id": "e0c10374",
   "metadata": {},
   "outputs": [
    {
     "name": "stdout",
     "output_type": "stream",
     "text": [
      "(149995, 41)\n"
     ]
    }
   ],
   "source": [
    "X_train = tf.keras.preprocessing.sequence.pad_sequences(X_train,\n",
    "                                                        value=word_to_index[\"<PAD>\"],\n",
    "                                                        padding='pre', # 혹은 'pre'\n",
    "                                                        maxlen=maxlen)\n",
    "\n",
    "X_test = tf.keras.preprocessing.sequence.pad_sequences(X_test,\n",
    "                                                       value=word_to_index[\"<PAD>\"],\n",
    "                                                       padding='pre', # 혹은 'pre'\n",
    "                                                       maxlen=maxlen)\n",
    "\n",
    "print(X_train.shape)"
   ]
  },
  {
   "cell_type": "code",
   "execution_count": 18,
   "id": "51c07959",
   "metadata": {},
   "outputs": [
    {
     "data": {
      "text/plain": [
       "array([  0,   0,   0,   0,   0,   0,   0,   0,   0,   0,   0,   0,   0,\n",
       "         0,   0,   0,   0,   0,   0,   0,   0,   0,   0,   0,   0,   0,\n",
       "         0,   0,   0,   0,   0,  32,  74, 921,   4,   4,  39, 230,  20,\n",
       "        33, 752], dtype=int32)"
      ]
     },
     "execution_count": 18,
     "metadata": {},
     "output_type": "execute_result"
    }
   ],
   "source": [
    "X_train[0]"
   ]
  },
  {
   "cell_type": "markdown",
   "id": "ab7e3a21",
   "metadata": {},
   "source": [
    "## 모델 구성, validation set 구성, 모델 훈련, 그래프 시각화\n",
    "\n",
    "모델은 3가지 이상 다양하게 구성하여 실험해 보세요."
   ]
  },
  {
   "cell_type": "markdown",
   "id": "79e628b3",
   "metadata": {},
   "source": [
    "### validation set 구성"
   ]
  },
  {
   "cell_type": "code",
   "execution_count": 19,
   "id": "68095231",
   "metadata": {},
   "outputs": [
    {
     "name": "stdout",
     "output_type": "stream",
     "text": [
      "149995\n",
      "29999\n"
     ]
    }
   ],
   "source": [
    "# 중복을 제거하여 총 데이터 149995의 20%를 validation set으로 구성한다.\n",
    "print(len(X_train))\n",
    "# print(len(X_train)*0.2)\n",
    "val_len = int(len(X_train)*0.2)\n",
    "print(val_len)"
   ]
  },
  {
   "cell_type": "code",
   "execution_count": 20,
   "id": "9de6b1b8",
   "metadata": {},
   "outputs": [
    {
     "name": "stdout",
     "output_type": "stream",
     "text": [
      "(119996, 41)\n",
      "(119996,)\n"
     ]
    }
   ],
   "source": [
    "# validation set 29999건 분리\n",
    "\n",
    "x_val = X_train[:val_len]\n",
    "y_val = y_train[:val_len]\n",
    "\n",
    "# validation set을 제외한 나머지 \n",
    "partial_x_train = X_train[val_len:]  \n",
    "partial_y_train = y_train[val_len:]\n",
    "\n",
    "print(partial_x_train.shape)\n",
    "print(partial_y_train.shape)"
   ]
  },
  {
   "cell_type": "markdown",
   "id": "1949fd1d",
   "metadata": {},
   "source": [
    "### RNN"
   ]
  },
  {
   "cell_type": "code",
   "execution_count": 21,
   "id": "d640a671",
   "metadata": {},
   "outputs": [],
   "source": [
    "from tensorflow.keras.callbacks import ModelCheckpoint\n",
    "\n",
    "checkpoint = ModelCheckpoint(\n",
    "    \"rnn_best_model.h5\",\n",
    "    monitor='val_loss',      \n",
    "    save_best_only=True,     \n",
    "    mode='min',              \n",
    "    verbose=1\n",
    ")"
   ]
  },
  {
   "cell_type": "code",
   "execution_count": 22,
   "id": "c5b9064f",
   "metadata": {},
   "outputs": [
    {
     "name": "stdout",
     "output_type": "stream",
     "text": [
      "Model: \"sequential\"\n",
      "_________________________________________________________________\n",
      "Layer (type)                 Output Shape              Param #   \n",
      "=================================================================\n",
      "embedding (Embedding)        (None, None, 16)          160000    \n",
      "_________________________________________________________________\n",
      "simple_rnn (SimpleRNN)       (None, 8)                 200       \n",
      "_________________________________________________________________\n",
      "dense (Dense)                (None, 8)                 72        \n",
      "_________________________________________________________________\n",
      "dense_1 (Dense)              (None, 1)                 9         \n",
      "=================================================================\n",
      "Total params: 160,281\n",
      "Trainable params: 160,281\n",
      "Non-trainable params: 0\n",
      "_________________________________________________________________\n"
     ]
    }
   ],
   "source": [
    "vocab_size = 10000    # 어휘 사전의 크기입니다(10,000개의 단어)\n",
    "word_vector_dim = 16  # 워드 벡터의 차원 수 (변경 가능한 하이퍼파라미터)\n",
    "\n",
    "model = tf.keras.Sequential()\n",
    "model.add(tf.keras.layers.Embedding(vocab_size, word_vector_dim, input_shape=(None,)))\n",
    "model.add(tf.keras.layers.SimpleRNN(8))\n",
    "model.add(tf.keras.layers.Dense(8, activation='relu'))\n",
    "model.add(tf.keras.layers.Dense(1, activation='sigmoid'))  # 최종 출력은 긍정/부정을 나타내는 1dim 입니다.\n",
    "\n",
    "model.summary()"
   ]
  },
  {
   "cell_type": "code",
   "execution_count": 23,
   "id": "6770eeae",
   "metadata": {},
   "outputs": [
    {
     "name": "stdout",
     "output_type": "stream",
     "text": [
      "Epoch 1/20\n",
      "235/235 [==============================] - 9s 34ms/step - loss: 0.5131 - accuracy: 0.7622 - val_loss: 0.3827 - val_accuracy: 0.8404\n",
      "\n",
      "Epoch 00001: val_loss improved from inf to 0.38269, saving model to rnn_best_model.h5\n",
      "Epoch 2/20\n",
      "235/235 [==============================] - 8s 33ms/step - loss: 0.3446 - accuracy: 0.8571 - val_loss: 0.3530 - val_accuracy: 0.8479\n",
      "\n",
      "Epoch 00002: val_loss improved from 0.38269 to 0.35305, saving model to rnn_best_model.h5\n",
      "Epoch 3/20\n",
      "235/235 [==============================] - 8s 33ms/step - loss: 0.3046 - accuracy: 0.8756 - val_loss: 0.3546 - val_accuracy: 0.8491\n",
      "\n",
      "Epoch 00003: val_loss did not improve from 0.35305\n",
      "Epoch 4/20\n",
      "235/235 [==============================] - 8s 33ms/step - loss: 0.2791 - accuracy: 0.8889 - val_loss: 0.3733 - val_accuracy: 0.8408\n",
      "\n",
      "Epoch 00004: val_loss did not improve from 0.35305\n",
      "Epoch 5/20\n",
      "235/235 [==============================] - 8s 33ms/step - loss: 0.2579 - accuracy: 0.8987 - val_loss: 0.3834 - val_accuracy: 0.8407\n",
      "\n",
      "Epoch 00005: val_loss did not improve from 0.35305\n",
      "Epoch 6/20\n",
      "235/235 [==============================] - 8s 33ms/step - loss: 0.2341 - accuracy: 0.9111 - val_loss: 0.4104 - val_accuracy: 0.8338\n",
      "\n",
      "Epoch 00006: val_loss did not improve from 0.35305\n",
      "Epoch 7/20\n",
      "235/235 [==============================] - 8s 33ms/step - loss: 0.2161 - accuracy: 0.9192 - val_loss: 0.4312 - val_accuracy: 0.8311\n",
      "\n",
      "Epoch 00007: val_loss did not improve from 0.35305\n",
      "Epoch 8/20\n",
      "235/235 [==============================] - 8s 33ms/step - loss: 0.1978 - accuracy: 0.9282 - val_loss: 0.4596 - val_accuracy: 0.8271\n",
      "\n",
      "Epoch 00008: val_loss did not improve from 0.35305\n",
      "Epoch 9/20\n",
      "235/235 [==============================] - 8s 33ms/step - loss: 0.1841 - accuracy: 0.9341 - val_loss: 0.4839 - val_accuracy: 0.8209\n",
      "\n",
      "Epoch 00009: val_loss did not improve from 0.35305\n",
      "Epoch 10/20\n",
      "235/235 [==============================] - 8s 33ms/step - loss: 0.1718 - accuracy: 0.9402 - val_loss: 0.5145 - val_accuracy: 0.8203\n",
      "\n",
      "Epoch 00010: val_loss did not improve from 0.35305\n",
      "Epoch 11/20\n",
      "235/235 [==============================] - 8s 33ms/step - loss: 0.1620 - accuracy: 0.9438 - val_loss: 0.5370 - val_accuracy: 0.8165\n",
      "\n",
      "Epoch 00011: val_loss did not improve from 0.35305\n",
      "Epoch 12/20\n",
      "235/235 [==============================] - 8s 33ms/step - loss: 0.1536 - accuracy: 0.9465 - val_loss: 0.5575 - val_accuracy: 0.8160\n",
      "\n",
      "Epoch 00012: val_loss did not improve from 0.35305\n",
      "Epoch 13/20\n",
      "235/235 [==============================] - 8s 33ms/step - loss: 0.1455 - accuracy: 0.9504 - val_loss: 0.5803 - val_accuracy: 0.8121\n",
      "\n",
      "Epoch 00013: val_loss did not improve from 0.35305\n",
      "Epoch 14/20\n",
      "235/235 [==============================] - 8s 33ms/step - loss: 0.1366 - accuracy: 0.9538 - val_loss: 0.6127 - val_accuracy: 0.8053\n",
      "\n",
      "Epoch 00014: val_loss did not improve from 0.35305\n",
      "Epoch 15/20\n",
      "235/235 [==============================] - 8s 33ms/step - loss: 0.1319 - accuracy: 0.9554 - val_loss: 0.6331 - val_accuracy: 0.8061\n",
      "\n",
      "Epoch 00015: val_loss did not improve from 0.35305\n",
      "Epoch 16/20\n",
      "235/235 [==============================] - 8s 33ms/step - loss: 0.1267 - accuracy: 0.9571 - val_loss: 0.6480 - val_accuracy: 0.8040\n",
      "\n",
      "Epoch 00016: val_loss did not improve from 0.35305\n",
      "Epoch 17/20\n",
      "235/235 [==============================] - 8s 33ms/step - loss: 0.1208 - accuracy: 0.9595 - val_loss: 0.6688 - val_accuracy: 0.8030\n",
      "\n",
      "Epoch 00017: val_loss did not improve from 0.35305\n",
      "Epoch 18/20\n",
      "235/235 [==============================] - 8s 33ms/step - loss: 0.1148 - accuracy: 0.9624 - val_loss: 0.6955 - val_accuracy: 0.8025\n",
      "\n",
      "Epoch 00018: val_loss did not improve from 0.35305\n",
      "Epoch 19/20\n",
      "235/235 [==============================] - 8s 33ms/step - loss: 0.1128 - accuracy: 0.9628 - val_loss: 0.7138 - val_accuracy: 0.7989\n",
      "\n",
      "Epoch 00019: val_loss did not improve from 0.35305\n",
      "Epoch 20/20\n",
      "235/235 [==============================] - 8s 33ms/step - loss: 0.1091 - accuracy: 0.9639 - val_loss: 0.7348 - val_accuracy: 0.7980\n",
      "\n",
      "Epoch 00020: val_loss did not improve from 0.35305\n"
     ]
    }
   ],
   "source": [
    "model.compile(optimizer='adam',\n",
    "              loss='binary_crossentropy',\n",
    "              metrics=['accuracy'])\n",
    "              \n",
    "epochs=20  # 몇 epoch를 훈련하면 좋을지 결과를 보면서 바꾸어 봅시다. \n",
    "\n",
    "history = model.fit(partial_x_train,\n",
    "                    partial_y_train,\n",
    "                    epochs=epochs,\n",
    "                    batch_size=512,\n",
    "                    validation_data=(x_val, y_val),\n",
    "                    callbacks=[checkpoint],\n",
    "                    verbose=1)"
   ]
  },
  {
   "cell_type": "code",
   "execution_count": 24,
   "id": "aa4bb5c6",
   "metadata": {},
   "outputs": [
    {
     "name": "stdout",
     "output_type": "stream",
     "text": [
      "1563/1563 - 6s - loss: 0.7483 - accuracy: 0.7963\n",
      "[0.7483496069908142, 0.7962877750396729]\n"
     ]
    }
   ],
   "source": [
    "results = model.evaluate(X_test,  y_test, verbose=2)\n",
    "\n",
    "print(results)\n",
    "history_dict = history.history"
   ]
  },
  {
   "cell_type": "code",
   "execution_count": 25,
   "id": "06052caf",
   "metadata": {},
   "outputs": [
    {
     "data": {
      "image/png": "[encoded data removed]",
      "text/plain": [
       "<Figure size 432x288 with 1 Axes>"
      ]
     },
     "metadata": {
      "needs_background": "light"
     },
     "output_type": "display_data"
    }
   ],
   "source": [
    "import matplotlib.pyplot as plt\n",
    "\n",
    "acc = history_dict['accuracy']\n",
    "val_acc = history_dict['val_accuracy']\n",
    "loss = history_dict['loss']\n",
    "val_loss = history_dict['val_loss']\n",
    "\n",
    "epochs = range(1, len(acc) + 1)\n",
    "\n",
    "# \"bo\"는 \"파란색 점\"입니다\n",
    "plt.plot(epochs, loss, 'bo', label='Training loss')\n",
    "# b는 \"파란 실선\"입니다\n",
    "plt.plot(epochs, val_loss, 'b', label='Validation loss')\n",
    "plt.title('Training and validation loss')\n",
    "plt.xlabel('Epochs')\n",
    "plt.ylabel('Loss')\n",
    "plt.legend()\n",
    "\n",
    "plt.show()"
   ]
  },
  {
   "cell_type": "code",
   "execution_count": 26,
   "id": "6aa8da1a",
   "metadata": {},
   "outputs": [
    {
     "data": {
      "image/png": "[encoded data removed]",
      "text/plain": [
       "<Figure size 432x288 with 1 Axes>"
      ]
     },
     "metadata": {
      "needs_background": "light"
     },
     "output_type": "display_data"
    }
   ],
   "source": [
    "plt.clf()   # 그림을 초기화합니다\n",
    "\n",
    "plt.plot(epochs, acc, 'bo', label='Training acc')\n",
    "plt.plot(epochs, val_acc, 'b', label='Validation acc')\n",
    "plt.title('Training and validation accuracy')\n",
    "plt.xlabel('Epochs')\n",
    "plt.ylabel('Accuracy')\n",
    "plt.legend()\n",
    "\n",
    "plt.show()"
   ]
  },
  {
   "cell_type": "markdown",
   "id": "e7b0cf87",
   "metadata": {},
   "source": [
    "RNN으로 학습했을 때 2 epoch 이후 부터 과적합이 발생한 것을 확인할 수 있다."
   ]
  },
  {
   "cell_type": "code",
   "execution_count": 27,
   "id": "d577b88c",
   "metadata": {},
   "outputs": [
    {
     "name": "stdout",
     "output_type": "stream",
     "text": [
      "1563/1563 - 6s - loss: 0.3622 - accuracy: 0.8444\n",
      "[0.36224302649497986, 0.8443706631660461]\n"
     ]
    }
   ],
   "source": [
    "from tensorflow.keras.models import load_model\n",
    "\n",
    "best_model = load_model('rnn_best_model.h5')\n",
    "\n",
    "result = best_model.evaluate(X_test, y_test, verbose=2)\n",
    "print(result)"
   ]
  },
  {
   "cell_type": "markdown",
   "id": "352bf5bc",
   "metadata": {},
   "source": [
    "체크포인트를 이용해서 최적 에폭에서 저장한 최고 모델에 대한 성능이 84.4% 정확도를 보여준다"
   ]
  },
  {
   "cell_type": "markdown",
   "id": "23b77c54",
   "metadata": {},
   "source": [
    "#### 임베딩 레이어 저장작업"
   ]
  },
  {
   "cell_type": "code",
   "execution_count": 28,
   "id": "6073b7aa",
   "metadata": {},
   "outputs": [
    {
     "name": "stdout",
     "output_type": "stream",
     "text": [
      "(10000, 16)\n"
     ]
    }
   ],
   "source": [
    "embedding_layer = model.layers[0]\n",
    "weights = embedding_layer.get_weights()[0]\n",
    "print(weights.shape)    # shape: (vocab_size, embedding_dim)"
   ]
  },
  {
   "cell_type": "code",
   "execution_count": 29,
   "id": "379a115a",
   "metadata": {},
   "outputs": [],
   "source": [
    "rnn_word2vec_file_path = \"./word2vec/rnn_word2vec.txt\"\n",
    "f = open(rnn_word2vec_file_path, 'w')\n",
    "f.write('{} {}\\n'.format(vocab_size-4, word_vector_dim))  # 몇개의 벡터를 얼마 사이즈로 기재할지 타이틀을 씁니다.\n",
    "\n",
    "# 단어 개수(에서 특수문자 4개는 제외하고)만큼의 워드 벡터를 파일에 기록합니다. \n",
    "vectors = model.get_weights()[0]\n",
    "for i in range(4,vocab_size):\n",
    "    f.write('{} {}\\n'.format(index_to_word[i], ' '.join(map(str, list(vectors[i, :])))))\n",
    "f.close()"
   ]
  },
  {
   "cell_type": "markdown",
   "id": "715c974b",
   "metadata": {},
   "source": [
    "### LSTM"
   ]
  },
  {
   "cell_type": "code",
   "execution_count": 30,
   "id": "1d2e30f2",
   "metadata": {},
   "outputs": [],
   "source": [
    "checkpoint = ModelCheckpoint(\n",
    "    \"lstm_best_model.h5\",\n",
    "    monitor='val_loss',      \n",
    "    save_best_only=True,     \n",
    "    mode='min',              \n",
    "    verbose=1\n",
    ")"
   ]
  },
  {
   "cell_type": "code",
   "execution_count": 31,
   "id": "7a02fa64",
   "metadata": {},
   "outputs": [
    {
     "name": "stdout",
     "output_type": "stream",
     "text": [
      "Model: \"sequential_1\"\n",
      "_________________________________________________________________\n",
      "Layer (type)                 Output Shape              Param #   \n",
      "=================================================================\n",
      "embedding_1 (Embedding)      (None, None, 16)          160000    \n",
      "_________________________________________________________________\n",
      "lstm (LSTM)                  (None, 8)                 800       \n",
      "_________________________________________________________________\n",
      "dense_2 (Dense)              (None, 8)                 72        \n",
      "_________________________________________________________________\n",
      "dense_3 (Dense)              (None, 1)                 9         \n",
      "=================================================================\n",
      "Total params: 160,881\n",
      "Trainable params: 160,881\n",
      "Non-trainable params: 0\n",
      "_________________________________________________________________\n"
     ]
    }
   ],
   "source": [
    "vocab_size = 10000    # 어휘 사전의 크기입니다(10,000개의 단어)\n",
    "word_vector_dim = 16  # 워드 벡터의 차원 수 (변경 가능한 하이퍼파라미터)\n",
    "\n",
    "model = tf.keras.Sequential()\n",
    "model.add(tf.keras.layers.Embedding(vocab_size, word_vector_dim, input_shape=(None,)))\n",
    "model.add(tf.keras.layers.LSTM(8))   # 가장 널리 쓰이는 RNN인 LSTM 레이어를 사용하였습니다. 이때 LSTM state 벡터의 차원수는 8로 하였습니다. (변경 가능)\n",
    "model.add(tf.keras.layers.Dense(8, activation='relu'))\n",
    "model.add(tf.keras.layers.Dense(1, activation='sigmoid'))  # 최종 출력은 긍정/부정을 나타내는 1dim 입니다.\n",
    "\n",
    "model.summary()"
   ]
  },
  {
   "cell_type": "code",
   "execution_count": 32,
   "id": "ebc3a2d7",
   "metadata": {},
   "outputs": [
    {
     "name": "stdout",
     "output_type": "stream",
     "text": [
      "Epoch 1/20\n",
      "235/235 [==============================] - 4s 7ms/step - loss: 0.5007 - accuracy: 0.7837 - val_loss: 0.3674 - val_accuracy: 0.8429\n",
      "\n",
      "Epoch 00001: val_loss improved from inf to 0.36739, saving model to lstm_best_model.h5\n",
      "Epoch 2/20\n",
      "235/235 [==============================] - 1s 5ms/step - loss: 0.3409 - accuracy: 0.8581 - val_loss: 0.3435 - val_accuracy: 0.8517\n",
      "\n",
      "Epoch 00002: val_loss improved from 0.36739 to 0.34351, saving model to lstm_best_model.h5\n",
      "Epoch 3/20\n",
      "235/235 [==============================] - 1s 5ms/step - loss: 0.3156 - accuracy: 0.8695 - val_loss: 0.3406 - val_accuracy: 0.8532\n",
      "\n",
      "Epoch 00003: val_loss improved from 0.34351 to 0.34060, saving model to lstm_best_model.h5\n",
      "Epoch 4/20\n",
      "235/235 [==============================] - 1s 5ms/step - loss: 0.3021 - accuracy: 0.8746 - val_loss: 0.3488 - val_accuracy: 0.8511\n",
      "\n",
      "Epoch 00004: val_loss did not improve from 0.34060\n",
      "Epoch 5/20\n",
      "235/235 [==============================] - 1s 5ms/step - loss: 0.2914 - accuracy: 0.8795 - val_loss: 0.3456 - val_accuracy: 0.8528\n",
      "\n",
      "Epoch 00005: val_loss did not improve from 0.34060\n",
      "Epoch 6/20\n",
      "235/235 [==============================] - 1s 5ms/step - loss: 0.2809 - accuracy: 0.8850 - val_loss: 0.3478 - val_accuracy: 0.8511\n",
      "\n",
      "Epoch 00006: val_loss did not improve from 0.34060\n",
      "Epoch 7/20\n",
      "235/235 [==============================] - 1s 5ms/step - loss: 0.2716 - accuracy: 0.8899 - val_loss: 0.3544 - val_accuracy: 0.8507\n",
      "\n",
      "Epoch 00007: val_loss did not improve from 0.34060\n",
      "Epoch 8/20\n",
      "235/235 [==============================] - 1s 5ms/step - loss: 0.2621 - accuracy: 0.8940 - val_loss: 0.3639 - val_accuracy: 0.8478\n",
      "\n",
      "Epoch 00008: val_loss did not improve from 0.34060\n",
      "Epoch 9/20\n",
      "235/235 [==============================] - 1s 5ms/step - loss: 0.2533 - accuracy: 0.8986 - val_loss: 0.3744 - val_accuracy: 0.8468\n",
      "\n",
      "Epoch 00009: val_loss did not improve from 0.34060\n",
      "Epoch 10/20\n",
      "235/235 [==============================] - 1s 5ms/step - loss: 0.2443 - accuracy: 0.9024 - val_loss: 0.3749 - val_accuracy: 0.8465\n",
      "\n",
      "Epoch 00010: val_loss did not improve from 0.34060\n",
      "Epoch 11/20\n",
      "235/235 [==============================] - 1s 5ms/step - loss: 0.2362 - accuracy: 0.9062 - val_loss: 0.3883 - val_accuracy: 0.8466\n",
      "\n",
      "Epoch 00011: val_loss did not improve from 0.34060\n",
      "Epoch 12/20\n",
      "235/235 [==============================] - 1s 5ms/step - loss: 0.2273 - accuracy: 0.9102 - val_loss: 0.3913 - val_accuracy: 0.8470\n",
      "\n",
      "Epoch 00012: val_loss did not improve from 0.34060\n",
      "Epoch 13/20\n",
      "235/235 [==============================] - 1s 5ms/step - loss: 0.2201 - accuracy: 0.9137 - val_loss: 0.4065 - val_accuracy: 0.8452\n",
      "\n",
      "Epoch 00013: val_loss did not improve from 0.34060\n",
      "Epoch 14/20\n",
      "235/235 [==============================] - 1s 5ms/step - loss: 0.2124 - accuracy: 0.9173 - val_loss: 0.4154 - val_accuracy: 0.8454\n",
      "\n",
      "Epoch 00014: val_loss did not improve from 0.34060\n",
      "Epoch 15/20\n",
      "235/235 [==============================] - 1s 5ms/step - loss: 0.2059 - accuracy: 0.9201 - val_loss: 0.4274 - val_accuracy: 0.8426\n",
      "\n",
      "Epoch 00015: val_loss did not improve from 0.34060\n",
      "Epoch 16/20\n",
      "235/235 [==============================] - 1s 5ms/step - loss: 0.1978 - accuracy: 0.9237 - val_loss: 0.4318 - val_accuracy: 0.8420\n",
      "\n",
      "Epoch 00016: val_loss did not improve from 0.34060\n",
      "Epoch 17/20\n",
      "235/235 [==============================] - 1s 5ms/step - loss: 0.1928 - accuracy: 0.9260 - val_loss: 0.4409 - val_accuracy: 0.8421\n",
      "\n",
      "Epoch 00017: val_loss did not improve from 0.34060\n",
      "Epoch 18/20\n",
      "235/235 [==============================] - 1s 5ms/step - loss: 0.1851 - accuracy: 0.9294 - val_loss: 0.4506 - val_accuracy: 0.8407\n",
      "\n",
      "Epoch 00018: val_loss did not improve from 0.34060\n",
      "Epoch 19/20\n",
      "235/235 [==============================] - 1s 5ms/step - loss: 0.1788 - accuracy: 0.9323 - val_loss: 0.4742 - val_accuracy: 0.8401\n",
      "\n",
      "Epoch 00019: val_loss did not improve from 0.34060\n",
      "Epoch 20/20\n",
      "235/235 [==============================] - 1s 5ms/step - loss: 0.1723 - accuracy: 0.9358 - val_loss: 0.4842 - val_accuracy: 0.8389\n",
      "\n",
      "Epoch 00020: val_loss did not improve from 0.34060\n"
     ]
    }
   ],
   "source": [
    "model.compile(optimizer='adam',\n",
    "              loss='binary_crossentropy',\n",
    "              metrics=['accuracy'])\n",
    "              \n",
    "epochs=20  # 몇 epoch를 훈련하면 좋을지 결과를 보면서 바꾸어 봅시다. \n",
    "\n",
    "history = model.fit(partial_x_train,\n",
    "                    partial_y_train,\n",
    "                    epochs=epochs,\n",
    "                    batch_size=512,\n",
    "                    validation_data=(x_val, y_val),\n",
    "                    callbacks=[checkpoint],\n",
    "                    verbose=1)"
   ]
  },
  {
   "cell_type": "code",
   "execution_count": 33,
   "id": "c77b8c4c",
   "metadata": {},
   "outputs": [
    {
     "name": "stdout",
     "output_type": "stream",
     "text": [
      "1563/1563 - 3s - loss: 0.4915 - accuracy: 0.8318\n",
      "[0.4914546310901642, 0.831809937953949]\n"
     ]
    }
   ],
   "source": [
    "results = model.evaluate(X_test,  y_test, verbose=2)\n",
    "\n",
    "print(results)\n",
    "history_dict = history.history"
   ]
  },
  {
   "cell_type": "code",
   "execution_count": 34,
   "id": "1334658c",
   "metadata": {},
   "outputs": [
    {
     "data": {
      "image/png": "[encoded data removed]",
      "text/plain": [
       "<Figure size 432x288 with 1 Axes>"
      ]
     },
     "metadata": {
      "needs_background": "light"
     },
     "output_type": "display_data"
    }
   ],
   "source": [
    "import matplotlib.pyplot as plt\n",
    "\n",
    "acc = history_dict['accuracy']\n",
    "val_acc = history_dict['val_accuracy']\n",
    "loss = history_dict['loss']\n",
    "val_loss = history_dict['val_loss']\n",
    "\n",
    "epochs = range(1, len(acc) + 1)\n",
    "\n",
    "# \"bo\"는 \"파란색 점\"입니다\n",
    "plt.plot(epochs, loss, 'bo', label='Training loss')\n",
    "# b는 \"파란 실선\"입니다\n",
    "plt.plot(epochs, val_loss, 'b', label='Validation loss')\n",
    "plt.title('Training and validation loss')\n",
    "plt.xlabel('Epochs')\n",
    "plt.ylabel('Loss')\n",
    "plt.legend()\n",
    "\n",
    "plt.show()"
   ]
  },
  {
   "cell_type": "code",
   "execution_count": 35,
   "id": "5114dcfd",
   "metadata": {},
   "outputs": [
    {
     "data": {
      "image/png": "[encoded data removed]",
      "text/plain": [
       "<Figure size 432x288 with 1 Axes>"
      ]
     },
     "metadata": {
      "needs_background": "light"
     },
     "output_type": "display_data"
    }
   ],
   "source": [
    "plt.clf()   # 그림을 초기화합니다\n",
    "\n",
    "plt.plot(epochs, acc, 'bo', label='Training acc')\n",
    "plt.plot(epochs, val_acc, 'b', label='Validation acc')\n",
    "plt.title('Training and validation accuracy')\n",
    "plt.xlabel('Epochs')\n",
    "plt.ylabel('Accuracy')\n",
    "plt.legend()\n",
    "\n",
    "plt.show()"
   ]
  },
  {
   "cell_type": "markdown",
   "id": "d2a03181",
   "metadata": {},
   "source": [
    "에폭 3 이후부터 과적합을 확인할 수 있다."
   ]
  },
  {
   "cell_type": "code",
   "execution_count": 36,
   "id": "7b20241f",
   "metadata": {},
   "outputs": [
    {
     "name": "stdout",
     "output_type": "stream",
     "text": [
      "1563/1563 - 3s - loss: 0.3526 - accuracy: 0.8474\n",
      "[0.352599561214447, 0.8473508358001709]\n"
     ]
    }
   ],
   "source": [
    "best_model = load_model('lstm_best_model.h5')\n",
    "\n",
    "result = best_model.evaluate(X_test, y_test, verbose=2)\n",
    "print(result)"
   ]
  },
  {
   "cell_type": "markdown",
   "id": "45cff217",
   "metadata": {},
   "source": [
    "최적 에폭 3에서의 베스트 모델의 정확도 84.7% 를 확인할 수 있다.  \n",
    "RNN보다 0.4% 향상되었다"
   ]
  },
  {
   "cell_type": "markdown",
   "id": "05cee055",
   "metadata": {},
   "source": [
    "#### 임베딩 레이어 저장작업"
   ]
  },
  {
   "cell_type": "code",
   "execution_count": 37,
   "id": "8af16da2",
   "metadata": {},
   "outputs": [],
   "source": [
    "embedding_layer = model.layers[0]\n",
    "weights = embedding_layer.get_weights()[0]\n",
    "\n",
    "lstm_word2vec_file_path = \"./word2vec/lstm_word2vec.txt\"\n",
    "f = open(lstm_word2vec_file_path, 'w')\n",
    "f.write('{} {}\\n'.format(vocab_size-4, word_vector_dim))  # 몇개의 벡터를 얼마 사이즈로 기재할지 타이틀을 씁니다.\n",
    "\n",
    "# 단어 개수(에서 특수문자 4개는 제외하고)만큼의 워드 벡터를 파일에 기록합니다. \n",
    "vectors = model.get_weights()[0]\n",
    "for i in range(4,vocab_size):\n",
    "    f.write('{} {}\\n'.format(index_to_word[i], ' '.join(map(str, list(vectors[i, :])))))\n",
    "f.close()"
   ]
  },
  {
   "cell_type": "markdown",
   "id": "40e5f7c5",
   "metadata": {},
   "source": [
    "### Conv1D"
   ]
  },
  {
   "cell_type": "code",
   "execution_count": 38,
   "id": "a2026fac",
   "metadata": {},
   "outputs": [],
   "source": [
    "checkpoint = ModelCheckpoint(\n",
    "    \"conv1d_best_model.h5\",\n",
    "    monitor='val_loss',      \n",
    "    save_best_only=True,     \n",
    "    mode='min',              \n",
    "    verbose=1\n",
    ")"
   ]
  },
  {
   "cell_type": "code",
   "execution_count": 39,
   "id": "ffb181f4",
   "metadata": {},
   "outputs": [
    {
     "name": "stdout",
     "output_type": "stream",
     "text": [
      "Model: \"sequential_2\"\n",
      "_________________________________________________________________\n",
      "Layer (type)                 Output Shape              Param #   \n",
      "=================================================================\n",
      "embedding_2 (Embedding)      (None, None, 16)          160000    \n",
      "_________________________________________________________________\n",
      "conv1d (Conv1D)              (None, None, 16)          1808      \n",
      "_________________________________________________________________\n",
      "max_pooling1d (MaxPooling1D) (None, None, 16)          0         \n",
      "_________________________________________________________________\n",
      "conv1d_1 (Conv1D)            (None, None, 16)          1808      \n",
      "_________________________________________________________________\n",
      "global_max_pooling1d (Global (None, 16)                0         \n",
      "_________________________________________________________________\n",
      "dense_4 (Dense)              (None, 8)                 136       \n",
      "_________________________________________________________________\n",
      "dense_5 (Dense)              (None, 1)                 9         \n",
      "=================================================================\n",
      "Total params: 163,761\n",
      "Trainable params: 163,761\n",
      "Non-trainable params: 0\n",
      "_________________________________________________________________\n"
     ]
    }
   ],
   "source": [
    "vocab_size = 10000    # 어휘 사전의 크기입니다(10,000개의 단어)\n",
    "word_vector_dim = 16  # 워드 벡터의 차원 수 (변경 가능한 하이퍼파라미터)\n",
    "\n",
    "model = tf.keras.Sequential()\n",
    "model.add(tf.keras.layers.Embedding(vocab_size, word_vector_dim, input_shape=(None,)))\n",
    "model.add(tf.keras.layers.Conv1D(16, 7, activation='relu'))\n",
    "model.add(tf.keras.layers.MaxPooling1D(5))\n",
    "model.add(tf.keras.layers.Conv1D(16, 7, activation='relu'))\n",
    "model.add(tf.keras.layers.GlobalMaxPooling1D())\n",
    "model.add(tf.keras.layers.Dense(8, activation='relu'))\n",
    "model.add(tf.keras.layers.Dense(1, activation='sigmoid'))  # 최종 출력은 긍정/부정을 나타내는 1dim 입니다.\n",
    "\n",
    "model.summary()"
   ]
  },
  {
   "cell_type": "code",
   "execution_count": 40,
   "id": "08c99ca8",
   "metadata": {},
   "outputs": [
    {
     "name": "stdout",
     "output_type": "stream",
     "text": [
      "Epoch 1/20\n",
      "235/235 [==============================] - 3s 6ms/step - loss: 0.5009 - accuracy: 0.7393 - val_loss: 0.3504 - val_accuracy: 0.8473\n",
      "\n",
      "Epoch 00001: val_loss improved from inf to 0.35044, saving model to conv1d_best_model.h5\n",
      "Epoch 2/20\n",
      "235/235 [==============================] - 1s 5ms/step - loss: 0.3258 - accuracy: 0.8622 - val_loss: 0.3360 - val_accuracy: 0.8542\n",
      "\n",
      "Epoch 00002: val_loss improved from 0.35044 to 0.33604, saving model to conv1d_best_model.h5\n",
      "Epoch 3/20\n",
      "235/235 [==============================] - 1s 5ms/step - loss: 0.2899 - accuracy: 0.8801 - val_loss: 0.3303 - val_accuracy: 0.8570\n",
      "\n",
      "Epoch 00003: val_loss improved from 0.33604 to 0.33031, saving model to conv1d_best_model.h5\n",
      "Epoch 4/20\n",
      "235/235 [==============================] - 1s 5ms/step - loss: 0.2610 - accuracy: 0.8949 - val_loss: 0.3347 - val_accuracy: 0.8552\n",
      "\n",
      "Epoch 00004: val_loss did not improve from 0.33031\n",
      "Epoch 5/20\n",
      "235/235 [==============================] - 1s 4ms/step - loss: 0.2310 - accuracy: 0.9092 - val_loss: 0.3460 - val_accuracy: 0.8543\n",
      "\n",
      "Epoch 00005: val_loss did not improve from 0.33031\n",
      "Epoch 6/20\n",
      "235/235 [==============================] - 1s 4ms/step - loss: 0.2011 - accuracy: 0.9240 - val_loss: 0.3673 - val_accuracy: 0.8513\n",
      "\n",
      "Epoch 00006: val_loss did not improve from 0.33031\n",
      "Epoch 7/20\n",
      "235/235 [==============================] - 1s 4ms/step - loss: 0.1714 - accuracy: 0.9379 - val_loss: 0.3983 - val_accuracy: 0.8474\n",
      "\n",
      "Epoch 00007: val_loss did not improve from 0.33031\n",
      "Epoch 8/20\n",
      "235/235 [==============================] - 1s 4ms/step - loss: 0.1456 - accuracy: 0.9504 - val_loss: 0.4356 - val_accuracy: 0.8439\n",
      "\n",
      "Epoch 00008: val_loss did not improve from 0.33031\n",
      "Epoch 9/20\n",
      "235/235 [==============================] - 1s 4ms/step - loss: 0.1229 - accuracy: 0.9592 - val_loss: 0.4721 - val_accuracy: 0.8414\n",
      "\n",
      "Epoch 00009: val_loss did not improve from 0.33031\n",
      "Epoch 10/20\n",
      "235/235 [==============================] - 1s 4ms/step - loss: 0.1051 - accuracy: 0.9662 - val_loss: 0.5139 - val_accuracy: 0.8365\n",
      "\n",
      "Epoch 00010: val_loss did not improve from 0.33031\n",
      "Epoch 11/20\n",
      "235/235 [==============================] - 1s 4ms/step - loss: 0.0906 - accuracy: 0.9719 - val_loss: 0.5490 - val_accuracy: 0.8372\n",
      "\n",
      "Epoch 00011: val_loss did not improve from 0.33031\n",
      "Epoch 12/20\n",
      "235/235 [==============================] - 1s 5ms/step - loss: 0.0796 - accuracy: 0.9759 - val_loss: 0.5949 - val_accuracy: 0.8335\n",
      "\n",
      "Epoch 00012: val_loss did not improve from 0.33031\n",
      "Epoch 13/20\n",
      "235/235 [==============================] - 1s 5ms/step - loss: 0.0705 - accuracy: 0.9792 - val_loss: 0.6329 - val_accuracy: 0.8346\n",
      "\n",
      "Epoch 00013: val_loss did not improve from 0.33031\n",
      "Epoch 14/20\n",
      "235/235 [==============================] - 1s 5ms/step - loss: 0.0645 - accuracy: 0.9806 - val_loss: 0.6813 - val_accuracy: 0.8312\n",
      "\n",
      "Epoch 00014: val_loss did not improve from 0.33031\n",
      "Epoch 15/20\n",
      "235/235 [==============================] - 1s 5ms/step - loss: 0.0586 - accuracy: 0.9824 - val_loss: 0.7139 - val_accuracy: 0.8318\n",
      "\n",
      "Epoch 00015: val_loss did not improve from 0.33031\n",
      "Epoch 16/20\n",
      "235/235 [==============================] - 1s 5ms/step - loss: 0.0539 - accuracy: 0.9841 - val_loss: 0.7723 - val_accuracy: 0.8293\n",
      "\n",
      "Epoch 00016: val_loss did not improve from 0.33031\n",
      "Epoch 17/20\n",
      "235/235 [==============================] - 1s 5ms/step - loss: 0.0502 - accuracy: 0.9847 - val_loss: 0.7961 - val_accuracy: 0.8258\n",
      "\n",
      "Epoch 00017: val_loss did not improve from 0.33031\n",
      "Epoch 18/20\n",
      "235/235 [==============================] - 1s 5ms/step - loss: 0.0473 - accuracy: 0.9858 - val_loss: 0.8437 - val_accuracy: 0.8258\n",
      "\n",
      "Epoch 00018: val_loss did not improve from 0.33031\n",
      "Epoch 19/20\n",
      "235/235 [==============================] - 1s 5ms/step - loss: 0.0448 - accuracy: 0.9865 - val_loss: 0.8575 - val_accuracy: 0.8244\n",
      "\n",
      "Epoch 00019: val_loss did not improve from 0.33031\n",
      "Epoch 20/20\n",
      "235/235 [==============================] - 1s 5ms/step - loss: 0.0428 - accuracy: 0.9868 - val_loss: 0.8881 - val_accuracy: 0.8227\n",
      "\n",
      "Epoch 00020: val_loss did not improve from 0.33031\n"
     ]
    }
   ],
   "source": [
    "model.compile(optimizer='adam',\n",
    "              loss='binary_crossentropy',\n",
    "              metrics=['accuracy'])\n",
    "              \n",
    "epochs=20  # 몇 epoch를 훈련하면 좋을지 결과를 보면서 바꾸어 봅시다. \n",
    "\n",
    "history = model.fit(partial_x_train,\n",
    "                    partial_y_train,\n",
    "                    epochs=epochs,\n",
    "                    batch_size=512,\n",
    "                    validation_data=(x_val, y_val),\n",
    "                    callbacks=[checkpoint],\n",
    "                    verbose=1)"
   ]
  },
  {
   "cell_type": "code",
   "execution_count": 41,
   "id": "385e1bfa",
   "metadata": {},
   "outputs": [
    {
     "name": "stdout",
     "output_type": "stream",
     "text": [
      "1563/1563 - 2s - loss: 0.9150 - accuracy: 0.8181\n",
      "[0.9149752259254456, 0.8181490898132324]\n"
     ]
    }
   ],
   "source": [
    "results = model.evaluate(X_test,  y_test, verbose=2)\n",
    "\n",
    "print(results)\n",
    "history_dict = history.history"
   ]
  },
  {
   "cell_type": "code",
   "execution_count": 42,
   "id": "9c349b9e",
   "metadata": {},
   "outputs": [
    {
     "data": {
      "image/png": "[encoded data removed]",
      "text/plain": [
       "<Figure size 432x288 with 1 Axes>"
      ]
     },
     "metadata": {
      "needs_background": "light"
     },
     "output_type": "display_data"
    }
   ],
   "source": [
    "import matplotlib.pyplot as plt\n",
    "\n",
    "acc = history_dict['accuracy']\n",
    "val_acc = history_dict['val_accuracy']\n",
    "loss = history_dict['loss']\n",
    "val_loss = history_dict['val_loss']\n",
    "\n",
    "epochs = range(1, len(acc) + 1)\n",
    "\n",
    "# \"bo\"는 \"파란색 점\"입니다\n",
    "plt.plot(epochs, loss, 'bo', label='Training loss')\n",
    "# b는 \"파란 실선\"입니다\n",
    "plt.plot(epochs, val_loss, 'b', label='Validation loss')\n",
    "plt.title('Training and validation loss')\n",
    "plt.xlabel('Epochs')\n",
    "plt.ylabel('Loss')\n",
    "plt.legend()\n",
    "\n",
    "plt.show()"
   ]
  },
  {
   "cell_type": "code",
   "execution_count": 43,
   "id": "4e3bba42",
   "metadata": {},
   "outputs": [
    {
     "data": {
      "image/png": "[encoded data removed]",
      "text/plain": [
       "<Figure size 432x288 with 1 Axes>"
      ]
     },
     "metadata": {
      "needs_background": "light"
     },
     "output_type": "display_data"
    }
   ],
   "source": [
    "plt.clf()   # 그림을 초기화합니다\n",
    "\n",
    "plt.plot(epochs, acc, 'bo', label='Training acc')\n",
    "plt.plot(epochs, val_acc, 'b', label='Validation acc')\n",
    "plt.title('Training and validation accuracy')\n",
    "plt.xlabel('Epochs')\n",
    "plt.ylabel('Accuracy')\n",
    "plt.legend()\n",
    "\n",
    "plt.show()"
   ]
  },
  {
   "cell_type": "markdown",
   "id": "10a0336b",
   "metadata": {},
   "source": [
    "에폭 3 이후 과대적합이 발생한 것을 확인할 수 있다"
   ]
  },
  {
   "cell_type": "code",
   "execution_count": 44,
   "id": "7b2a224b",
   "metadata": {},
   "outputs": [
    {
     "name": "stdout",
     "output_type": "stream",
     "text": [
      "1563/1563 - 3s - loss: 0.3475 - accuracy: 0.8523\n",
      "[0.3475135564804077, 0.8522911667823792]\n"
     ]
    }
   ],
   "source": [
    "best_model = load_model('conv1d_best_model.h5')\n",
    "\n",
    "result = best_model.evaluate(X_test, y_test, verbose=2)\n",
    "print(result)"
   ]
  },
  {
   "cell_type": "markdown",
   "id": "2ea88029",
   "metadata": {},
   "source": [
    "베스트모델은 85%의 정확도를 보여준다.  \n",
    "RNN, LSTM 보다 조금 더 좋은 성능을 보여준다."
   ]
  },
  {
   "cell_type": "markdown",
   "id": "e67417b5",
   "metadata": {},
   "source": [
    "#### 임베딩 벡터 저장 작업"
   ]
  },
  {
   "cell_type": "code",
   "execution_count": 45,
   "id": "aa88d6fa",
   "metadata": {},
   "outputs": [],
   "source": [
    "embedding_layer = model.layers[0]\n",
    "weights = embedding_layer.get_weights()[0]\n",
    "\n",
    "conv1d_word2vec_file_path = \"./word2vec/cov1d_word2vec.txt\"\n",
    "f = open(conv1d_word2vec_file_path, 'w')\n",
    "f.write('{} {}\\n'.format(vocab_size-4, word_vector_dim))  # 몇개의 벡터를 얼마 사이즈로 기재할지 타이틀을 씁니다.\n",
    "\n",
    "# 단어 개수(에서 특수문자 4개는 제외하고)만큼의 워드 벡터를 파일에 기록합니다. \n",
    "vectors = model.get_weights()[0]\n",
    "for i in range(4,vocab_size):\n",
    "    f.write('{} {}\\n'.format(index_to_word[i], ' '.join(map(str, list(vectors[i, :])))))\n",
    "f.close()"
   ]
  },
  {
   "cell_type": "markdown",
   "id": "0b754f0a",
   "metadata": {},
   "source": [
    "## Embedding 레이어 분석"
   ]
  },
  {
   "cell_type": "markdown",
   "id": "b91d84b0",
   "metadata": {},
   "source": [
    "#### RNN"
   ]
  },
  {
   "cell_type": "code",
   "execution_count": 46,
   "id": "8b5a4dc0",
   "metadata": {},
   "outputs": [
    {
     "data": {
      "text/plain": [
       "array([ 0.01945181,  0.03685273, -0.00098458,  0.00376592,  0.02360986,\n",
       "       -0.02140371, -0.01315953,  0.01169386,  0.00133277, -0.00860339,\n",
       "        0.02849657,  0.03773269, -0.02343207, -0.0126952 ,  0.01726513,\n",
       "       -0.03953113], dtype=float32)"
      ]
     },
     "execution_count": 46,
     "metadata": {},
     "output_type": "execute_result"
    }
   ],
   "source": [
    "from gensim.models.keyedvectors import Word2VecKeyedVectors\n",
    "\n",
    "rnn_word2vec = Word2VecKeyedVectors.load_word2vec_format(rnn_word2vec_file_path, binary=False)\n",
    "rnn_vector = rnn_word2vec['영화']\n",
    "rnn_vector"
   ]
  },
  {
   "cell_type": "code",
   "execution_count": 47,
   "id": "0c15d849",
   "metadata": {},
   "outputs": [
    {
     "data": {
      "text/plain": [
       "[('제목', 0.6646891832351685),\n",
       " ('선하', 0.6259468197822571),\n",
       " ('입니다', 0.594343364238739),\n",
       " ('재미난', 0.5902538895606995),\n",
       " ('아님', 0.579514741897583),\n",
       " ('니', 0.5747101902961731),\n",
       " ('^^^', 0.5738192200660706),\n",
       " ('비용', 0.571951687335968),\n",
       " ('후반부', 0.5526955127716064),\n",
       " ('남자', 0.5469887852668762)]"
      ]
     },
     "execution_count": 47,
     "metadata": {},
     "output_type": "execute_result"
    }
   ],
   "source": [
    "rnn_word2vec.similar_by_word(\"영화\")"
   ]
  },
  {
   "cell_type": "markdown",
   "id": "55cf5ef5",
   "metadata": {},
   "source": [
    "#### LSTM"
   ]
  },
  {
   "cell_type": "code",
   "execution_count": 48,
   "id": "42eb17d9",
   "metadata": {},
   "outputs": [
    {
     "data": {
      "text/plain": [
       "array([-0.10887628,  0.00977015, -0.06869444,  0.15151602, -0.04958283,\n",
       "        0.08033824,  0.0400685 ,  0.04380161, -0.14042014,  0.00161021,\n",
       "        0.0481138 , -0.00340191,  0.21454592,  0.0483597 ,  0.06839363,\n",
       "        0.00802163], dtype=float32)"
      ]
     },
     "execution_count": 48,
     "metadata": {},
     "output_type": "execute_result"
    }
   ],
   "source": [
    "lstm_word2vec = Word2VecKeyedVectors.load_word2vec_format(lstm_word2vec_file_path, binary=False)\n",
    "lstm_vector = lstm_word2vec['영화']\n",
    "lstm_vector"
   ]
  },
  {
   "cell_type": "code",
   "execution_count": 49,
   "id": "c81627ac",
   "metadata": {},
   "outputs": [
    {
     "data": {
      "text/plain": [
       "[('!!!', 0.8423011302947998),\n",
       " ('음', 0.8259586691856384),\n",
       " ('준다', 0.8242020010948181),\n",
       " ('공', 0.8152931332588196),\n",
       " ('.................', 0.8086978197097778),\n",
       " ('네요', 0.805845320224762),\n",
       " ('습니다', 0.7944600582122803),\n",
       " ('~~', 0.7898532748222351),\n",
       " ('점', 0.780249297618866),\n",
       " ('ㅎ', 0.7738766670227051)]"
      ]
     },
     "execution_count": 49,
     "metadata": {},
     "output_type": "execute_result"
    }
   ],
   "source": [
    "lstm_word2vec.similar_by_word('영화')"
   ]
  },
  {
   "cell_type": "markdown",
   "id": "b0ffd4e9",
   "metadata": {},
   "source": [
    "#### Cov1D"
   ]
  },
  {
   "cell_type": "code",
   "execution_count": 50,
   "id": "1477c603",
   "metadata": {},
   "outputs": [],
   "source": [
    "conv1d_word2vec_file_path = \"./word2vec/cov1d_word2vec.txt\""
   ]
  },
  {
   "cell_type": "code",
   "execution_count": 51,
   "id": "a3832f44",
   "metadata": {},
   "outputs": [
    {
     "data": {
      "text/plain": [
       "array([ 0.07408932,  0.04713816,  0.02841508,  0.02714497, -0.02641444,\n",
       "       -0.03938203, -0.04240947,  0.00812506,  0.06384771, -0.05487867,\n",
       "        0.05894364,  0.03110279,  0.01811439, -0.0024302 ,  0.04680558,\n",
       "        0.09064873], dtype=float32)"
      ]
     },
     "execution_count": 51,
     "metadata": {},
     "output_type": "execute_result"
    }
   ],
   "source": [
    "conv1d_word2vec = Word2VecKeyedVectors.load_word2vec_format(conv1d_word2vec_file_path, binary=False)\n",
    "conv1d_vector = conv1d_word2vec['영화']\n",
    "conv1d_vector"
   ]
  },
  {
   "cell_type": "code",
   "execution_count": 52,
   "id": "2a5578f8",
   "metadata": {},
   "outputs": [
    {
     "data": {
      "text/plain": [
       "[('아픕니다', 0.8521854877471924),\n",
       " ('안타깝', 0.8180021047592163),\n",
       " ('외면', 0.8096705675125122),\n",
       " ('떨어트리', 0.7986404299736023),\n",
       " ('나와라', 0.7873570322990417),\n",
       " ('킴', 0.7800331711769104),\n",
       " ('여행', 0.7796190977096558),\n",
       " ('신났', 0.7733162045478821),\n",
       " ('뒷맛', 0.770275890827179),\n",
       " ('니다', 0.7698658108711243)]"
      ]
     },
     "execution_count": 52,
     "metadata": {},
     "output_type": "execute_result"
    }
   ],
   "source": [
    "conv1d_word2vec.similar_by_word('영화')"
   ]
  },
  {
   "cell_type": "code",
   "execution_count": 53,
   "id": "2f876047",
   "metadata": {},
   "outputs": [
    {
     "data": {
      "text/plain": [
       "9996"
      ]
     },
     "execution_count": 53,
     "metadata": {},
     "output_type": "execute_result"
    }
   ],
   "source": [
    "len(conv1d_word2vec)"
   ]
  },
  {
   "cell_type": "markdown",
   "id": "dd1964b8",
   "metadata": {},
   "source": [
    "### 각 모델 비교\n"
   ]
  },
  {
   "cell_type": "code",
   "execution_count": 54,
   "id": "5b424325",
   "metadata": {},
   "outputs": [],
   "source": [
    "from pprint import pprint"
   ]
  },
  {
   "cell_type": "code",
   "execution_count": 55,
   "id": "4d67bf56",
   "metadata": {},
   "outputs": [
    {
     "name": "stdout",
     "output_type": "stream",
     "text": [
      "rnn\n",
      "[('제목', 0.6646891832351685),\n",
      " ('선하', 0.6259468197822571),\n",
      " ('입니다', 0.594343364238739),\n",
      " ('재미난', 0.5902538895606995),\n",
      " ('아님', 0.579514741897583),\n",
      " ('니', 0.5747101902961731),\n",
      " ('^^^', 0.5738192200660706),\n",
      " ('비용', 0.571951687335968),\n",
      " ('후반부', 0.5526955127716064),\n",
      " ('남자', 0.5469887852668762)]\n",
      "lstm\n",
      "[('!!!', 0.8423011302947998),\n",
      " ('음', 0.8259586691856384),\n",
      " ('준다', 0.8242020010948181),\n",
      " ('공', 0.8152931332588196),\n",
      " ('.................', 0.8086978197097778),\n",
      " ('네요', 0.805845320224762),\n",
      " ('습니다', 0.7944600582122803),\n",
      " ('~~', 0.7898532748222351),\n",
      " ('점', 0.780249297618866),\n",
      " ('ㅎ', 0.7738766670227051)]\n",
      "conv1d\n",
      "[('아픕니다', 0.8521854877471924),\n",
      " ('안타깝', 0.8180021047592163),\n",
      " ('외면', 0.8096705675125122),\n",
      " ('떨어트리', 0.7986404299736023),\n",
      " ('나와라', 0.7873570322990417),\n",
      " ('킴', 0.7800331711769104),\n",
      " ('여행', 0.7796190977096558),\n",
      " ('신났', 0.7733162045478821),\n",
      " ('뒷맛', 0.770275890827179),\n",
      " ('니다', 0.7698658108711243)]\n"
     ]
    }
   ],
   "source": [
    "print(\"rnn\")\n",
    "pprint(rnn_word2vec.similar_by_word(\"영화\"))\n",
    "print(\"lstm\")\n",
    "pprint(lstm_word2vec.similar_by_word('영화'))\n",
    "print(\"conv1d\")\n",
    "pprint(conv1d_word2vec.similar_by_word('영화'))"
   ]
  },
  {
   "cell_type": "code",
   "execution_count": 56,
   "id": "678df2fb",
   "metadata": {},
   "outputs": [
    {
     "name": "stdout",
     "output_type": "stream",
     "text": [
      "rnn\n",
      "[('성적', 0.7682225108146667),\n",
      " ('놀라운', 0.7658958435058594),\n",
      " ('소이현', 0.7239970564842224),\n",
      " ('되', 0.7158957123756409),\n",
      " ('전화', 0.7134594917297363),\n",
      " ('오빠', 0.7108316421508789),\n",
      " ('어울렸', 0.708785355091095),\n",
      " ('아메리카', 0.69810551404953),\n",
      " ('예뻐', 0.68907630443573),\n",
      " ('예쁜데', 0.6844303607940674)]\n",
      "lstm\n",
      "[('마약', 0.8527597784996033),\n",
      " ('졸라', 0.8232815265655518),\n",
      " ('매우', 0.7988520860671997),\n",
      " ('두', 0.7979480624198914),\n",
      " ('넘', 0.7956135272979736),\n",
      " ('물씬', 0.7895365953445435),\n",
      " ('엄정화', 0.7820769548416138),\n",
      " ('만약', 0.7735623121261597),\n",
      " ('되게', 0.7648885846138),\n",
      " ('렛', 0.7569904327392578)]\n",
      "conv1d\n",
      "[('실존', 0.8273065090179443),\n",
      " ('오르', 0.8233906030654907),\n",
      " ('달라', 0.7994505167007446),\n",
      " ('들어간', 0.7985733151435852),\n",
      " ('T', 0.7881333231925964),\n",
      " ('송', 0.7836806178092957),\n",
      " ('봐선', 0.7616115212440491),\n",
      " ('김강우', 0.7614694833755493),\n",
      " ('로선', 0.7610533237457275),\n",
      " ('냉전', 0.7568932175636292)]\n"
     ]
    }
   ],
   "source": [
    "print(\"rnn\")\n",
    "pprint(rnn_word2vec.similar_by_word(\"재미\"))\n",
    "print(\"lstm\")\n",
    "pprint(lstm_word2vec.similar_by_word('재미'))\n",
    "print(\"conv1d\")\n",
    "pprint(conv1d_word2vec.similar_by_word('재미'))"
   ]
  },
  {
   "cell_type": "code",
   "execution_count": 57,
   "id": "2b4b8c6f",
   "metadata": {},
   "outputs": [
    {
     "name": "stdout",
     "output_type": "stream",
     "text": [
      "rnn\n",
      "[('순이', 0.963336169719696),\n",
      " ('족', 0.9458797574043274),\n",
      " ('심함', 0.9435860514640808),\n",
      " ('고리타분', 0.9426063299179077),\n",
      " ('드러워', 0.9422557950019836),\n",
      " ('맛없', 0.9405969977378845),\n",
      " ('거창', 0.9385854005813599),\n",
      " ('현저히', 0.9309677481651306),\n",
      " ('지겨워', 0.9299936890602112),\n",
      " ('이따위', 0.9262809753417969)]\n",
      "lstm\n",
      "[('레기', 0.9790929555892944),\n",
      " ('뻔한', 0.9721353650093079),\n",
      " ('억지', 0.9710261225700378),\n",
      " ('내놔', 0.9695850014686584),\n",
      " ('개똥철학', 0.9688241481781006),\n",
      " ('평이', 0.9684625267982483),\n",
      " ('빨', 0.9660613536834717),\n",
      " ('OUT', 0.9649643301963806),\n",
      " ('혈압', 0.9640105366706848),\n",
      " ('구림', 0.9618957042694092)]\n",
      "conv1d\n",
      "[('유루', 0.8700574040412903),\n",
      " ('도통', 0.8413075804710388),\n",
      " ('졸립', 0.8336706161499023),\n",
      " ('멘스', 0.8334320187568665),\n",
      " ('센터', 0.8312356472015381),\n",
      " ('기능', 0.8265584111213684),\n",
      " ('얼렁뚱땅', 0.8232229948043823),\n",
      " ('유치뽕', 0.8221406936645508),\n",
      " ('꺼버렸', 0.8219468593597412),\n",
      " ('싱겁', 0.8219088315963745)]\n"
     ]
    }
   ],
   "source": [
    "print(\"rnn\")\n",
    "pprint(rnn_word2vec.similar_by_word(\"별로\"))\n",
    "print(\"lstm\")\n",
    "pprint(lstm_word2vec.similar_by_word('별로'))\n",
    "print(\"conv1d\")\n",
    "pprint(conv1d_word2vec.similar_by_word('별로'))"
   ]
  },
  {
   "cell_type": "markdown",
   "id": "a3ddc9b6",
   "metadata": {},
   "source": [
    "각 모델로 학습한 임베딩 벡터에 대해서 영화에 대한 유사한 단어들이 다르게 표현되는 것을 확인할 수 있다.  "
   ]
  },
  {
   "cell_type": "markdown",
   "id": "e35b5c59",
   "metadata": {},
   "source": [
    "## 한국어 Word2Vec 임베딩 활용하여 성능 개선"
   ]
  },
  {
   "cell_type": "code",
   "execution_count": 58,
   "id": "79804a96",
   "metadata": {},
   "outputs": [
    {
     "name": "stdout",
     "output_type": "stream",
     "text": [
      "/aiffel/data/word2vec_ko.model\r\n",
      "/aiffel/data/word2vec_ko.model.trainables.syn1neg.npy\r\n",
      "/aiffel/data/word2vec_ko.model.wv.vectors.npy\r\n"
     ]
    }
   ],
   "source": [
    "!ls /aiffel/data/word2vec*"
   ]
  },
  {
   "cell_type": "code",
   "execution_count": 59,
   "id": "8b38b232",
   "metadata": {},
   "outputs": [],
   "source": [
    "from gensim.models.keyedvectors import Word2VecKeyedVectors\n",
    "word2vec_file_path = \"/aiffel/data/word2vec_ko.model\"\n",
    "word_vectors = Word2VecKeyedVectors.load(word2vec_file_path)\n",
    "vector = word_vectors.wv[\"영화\"]"
   ]
  },
  {
   "cell_type": "code",
   "execution_count": 60,
   "id": "8251447c",
   "metadata": {},
   "outputs": [
    {
     "data": {
      "text/plain": [
       "array([-1.8007389 , -1.1790098 , -2.4066596 ,  2.1384156 , -0.3537603 ,\n",
       "        1.3749527 , -4.894612  , -3.6517198 ,  0.4411444 ,  0.78153926,\n",
       "       -2.696888  , -1.7812852 , -2.1514654 , -4.813236  ,  2.7465918 ,\n",
       "       -2.1620324 , -0.11467794, -1.2431171 ,  2.3979309 , -1.1060628 ,\n",
       "       -0.41043055,  1.9500391 ,  0.7821002 ,  1.5899978 ,  1.6447444 ,\n",
       "       -2.1265035 , -1.7981595 ,  1.7535795 ,  0.53717697, -1.212121  ,\n",
       "       -4.466316  ,  4.5488324 ,  1.334441  , -0.9070271 ,  1.1931889 ,\n",
       "        4.1563215 ,  1.9758307 , -0.9437562 , -0.2592725 ,  0.34935686,\n",
       "        1.8562875 , -3.3249645 ,  1.1221625 ,  1.2836524 ,  3.9211376 ,\n",
       "        3.8023994 ,  2.766269  ,  0.67293745,  2.2853644 , -5.1131716 ,\n",
       "        0.32525915, -3.3079958 ,  5.3043513 , -3.8813758 , -0.32960036,\n",
       "       -1.9527504 ,  3.8865075 , -3.5470378 , -0.21991685,  0.82119733,\n",
       "       -0.9492492 ,  3.5472107 ,  1.322048  , -0.70640826,  0.52253807,\n",
       "        1.4683235 , -1.1018689 ,  2.262941  , -0.7204685 , -1.766201  ,\n",
       "        5.2237577 ,  3.0748682 ,  1.0977576 ,  3.3191733 , -0.4100423 ,\n",
       "       -1.7022891 , -0.78379875,  0.82586575, -0.54520637,  1.2355382 ,\n",
       "        2.02674   , -0.652447  ,  1.0866054 ,  0.8977641 ,  0.7928342 ,\n",
       "        3.7770627 ,  3.0274863 ,  5.1660023 ,  2.6461644 ,  2.8926868 ,\n",
       "        1.970944  , -3.3746543 , -5.2656593 , -1.1041485 ,  2.357547  ,\n",
       "       -2.3570824 , -4.8172383 ,  3.7290223 ,  4.62329   ,  1.5004613 ],\n",
       "      dtype=float32)"
      ]
     },
     "execution_count": 60,
     "metadata": {},
     "output_type": "execute_result"
    }
   ],
   "source": [
    "vector"
   ]
  },
  {
   "cell_type": "code",
   "execution_count": 61,
   "id": "a47c1478",
   "metadata": {},
   "outputs": [
    {
     "data": {
      "text/plain": [
       "[('드라마', 0.8418774008750916),\n",
       " ('뮤지컬', 0.7775140404701233),\n",
       " ('코미디', 0.7489107251167297),\n",
       " ('다큐멘터리', 0.7401294708251953),\n",
       " ('헐리우드', 0.7397844195365906),\n",
       " ('애니메이션', 0.7170552015304565),\n",
       " ('독립영화', 0.7113528251647949),\n",
       " ('로맨틱', 0.7107657194137573),\n",
       " ('장편', 0.7101576924324036),\n",
       " ('극영화', 0.7045413255691528)]"
      ]
     },
     "execution_count": 61,
     "metadata": {},
     "output_type": "execute_result"
    }
   ],
   "source": [
    "word_vectors.wv.similar_by_word(\"영화\")"
   ]
  },
  {
   "cell_type": "code",
   "execution_count": 62,
   "id": "f6f9952d",
   "metadata": {},
   "outputs": [
    {
     "data": {
      "text/plain": [
       "[('묘미', 0.6163142919540405),\n",
       " ('취미', 0.6034970283508301),\n",
       " ('흥미', 0.5939850211143494),\n",
       " ('유머', 0.5888698101043701),\n",
       " ('보람', 0.5689517259597778),\n",
       " ('즐거움', 0.5631207823753357),\n",
       " ('개그', 0.5552946329116821),\n",
       " ('이야기', 0.5536993741989136),\n",
       " ('연애', 0.552293598651886),\n",
       " ('열의', 0.546456515789032)]"
      ]
     },
     "execution_count": 62,
     "metadata": {},
     "output_type": "execute_result"
    }
   ],
   "source": [
    "word_vectors.wv.similar_by_word(\"재미\")"
   ]
  },
  {
   "cell_type": "code",
   "execution_count": 63,
   "id": "77d482d1",
   "metadata": {},
   "outputs": [
    {
     "data": {
      "text/plain": [
       "[('전혀', 0.6421527862548828),\n",
       " ('그다지', 0.6234328746795654),\n",
       " ('꽤', 0.6035930514335632),\n",
       " ('확실히', 0.5738269090652466),\n",
       " ('딱히', 0.5515185594558716),\n",
       " ('상당히', 0.542231023311615),\n",
       " ('볼일', 0.5412046313285828),\n",
       " ('다름', 0.531372606754303),\n",
       " ('별', 0.5228564739227295),\n",
       " ('확연히', 0.5193501710891724)]"
      ]
     },
     "execution_count": 63,
     "metadata": {},
     "output_type": "execute_result"
    }
   ],
   "source": [
    "word_vectors.wv.similar_by_word(\"별로\")"
   ]
  },
  {
   "cell_type": "markdown",
   "id": "816aaa18",
   "metadata": {},
   "source": [
    "pretrained 모델은 단어에 대해 한국어 사전과 같은 동의어를 유사한 단어 벡터로 확인할 수 있다."
   ]
  },
  {
   "cell_type": "code",
   "execution_count": 64,
   "id": "7e07d426",
   "metadata": {},
   "outputs": [
    {
     "data": {
      "text/plain": [
       "100"
      ]
     },
     "execution_count": 64,
     "metadata": {},
     "output_type": "execute_result"
    }
   ],
   "source": [
    "len(vector)"
   ]
  },
  {
   "cell_type": "code",
   "execution_count": 65,
   "id": "70edf346",
   "metadata": {},
   "outputs": [
    {
     "data": {
      "text/plain": [
       "302960"
      ]
     },
     "execution_count": 65,
     "metadata": {},
     "output_type": "execute_result"
    }
   ],
   "source": [
    "len(word_vectors.wv)"
   ]
  },
  {
   "cell_type": "markdown",
   "id": "93d6e067",
   "metadata": {},
   "source": [
    "#### pretrained word2vec + conv1d"
   ]
  },
  {
   "cell_type": "code",
   "execution_count": 68,
   "id": "24b86575",
   "metadata": {},
   "outputs": [],
   "source": [
    "vocab_size = 10000    # 어휘 사전의 크기입니다\n",
    "word_vector_dim = 100  # 워드 벡터의 차원수\n",
    "embedding_matrix = np.random.rand(vocab_size, word_vector_dim)\n",
    "\n",
    "# embedding_matrix에 Word2Vec 워드 벡터를 단어 하나씩마다 차례차례 카피한다.\n",
    "for i in range(4,vocab_size):\n",
    "    if index_to_word[i] in word_vectors.wv:\n",
    "        embedding_matrix[i] = word_vectors.wv[index_to_word[i]]"
   ]
  },
  {
   "cell_type": "code",
   "execution_count": 69,
   "id": "d7ec8af6",
   "metadata": {},
   "outputs": [
    {
     "name": "stdout",
     "output_type": "stream",
     "text": [
      "Model: \"sequential_3\"\n",
      "_________________________________________________________________\n",
      "Layer (type)                 Output Shape              Param #   \n",
      "=================================================================\n",
      "embedding_3 (Embedding)      (None, 41, 100)           1000000   \n",
      "_________________________________________________________________\n",
      "conv1d_2 (Conv1D)            (None, 35, 16)            11216     \n",
      "_________________________________________________________________\n",
      "max_pooling1d_1 (MaxPooling1 (None, 7, 16)             0         \n",
      "_________________________________________________________________\n",
      "conv1d_3 (Conv1D)            (None, 1, 16)             1808      \n",
      "_________________________________________________________________\n",
      "global_max_pooling1d_1 (Glob (None, 16)                0         \n",
      "_________________________________________________________________\n",
      "dense_6 (Dense)              (None, 8)                 136       \n",
      "_________________________________________________________________\n",
      "dense_7 (Dense)              (None, 1)                 9         \n",
      "=================================================================\n",
      "Total params: 1,013,169\n",
      "Trainable params: 1,013,169\n",
      "Non-trainable params: 0\n",
      "_________________________________________________________________\n"
     ]
    }
   ],
   "source": [
    "from tensorflow.keras.initializers import Constant\n",
    "\n",
    "vocab_size = 10000    # 어휘 사전의 크기입니다(10,000개의 단어)\n",
    "word_vector_dim = 100  # 워드 벡터의 차원 수 \n",
    "\n",
    "# 모델 구성\n",
    "model = tf.keras.Sequential()\n",
    "model.add(tf.keras.layers.Embedding(vocab_size, \n",
    "                                 word_vector_dim, \n",
    "                                 embeddings_initializer=Constant(embedding_matrix),  # 카피한 임베딩을 여기서 활용\n",
    "                                 input_length=maxlen, \n",
    "                                 trainable=True))   # trainable을 True로 주면 Fine-tuning\n",
    "model.add(tf.keras.layers.Conv1D(16, 7, activation='relu'))\n",
    "model.add(tf.keras.layers.MaxPooling1D(5))\n",
    "model.add(tf.keras.layers.Conv1D(16, 7, activation='relu'))\n",
    "model.add(tf.keras.layers.GlobalMaxPooling1D())\n",
    "model.add(tf.keras.layers.Dense(8, activation='relu'))\n",
    "model.add(tf.keras.layers.Dense(1, activation='sigmoid')) \n",
    "\n",
    "model.summary()"
   ]
  },
  {
   "cell_type": "code",
   "execution_count": 70,
   "id": "6757c274",
   "metadata": {},
   "outputs": [],
   "source": [
    "checkpoint = ModelCheckpoint(\n",
    "    \"pretrained_best_model.h5\",\n",
    "    monitor='val_loss',      \n",
    "    save_best_only=True,     \n",
    "    mode='min',              \n",
    "    verbose=1\n",
    ")"
   ]
  },
  {
   "cell_type": "code",
   "execution_count": 71,
   "id": "c7464797",
   "metadata": {
    "scrolled": false
   },
   "outputs": [
    {
     "name": "stdout",
     "output_type": "stream",
     "text": [
      "Epoch 1/20\n",
      "235/235 [==============================] - 3s 6ms/step - loss: 0.6185 - accuracy: 0.6426 - val_loss: 0.5015 - val_accuracy: 0.7577\n",
      "\n",
      "Epoch 00001: val_loss improved from inf to 0.50147, saving model to pretrained_best_model.h5\n",
      "Epoch 2/20\n",
      "235/235 [==============================] - 1s 5ms/step - loss: 0.4550 - accuracy: 0.7883 - val_loss: 0.4231 - val_accuracy: 0.8077\n",
      "\n",
      "Epoch 00002: val_loss improved from 0.50147 to 0.42306, saving model to pretrained_best_model.h5\n",
      "Epoch 3/20\n",
      "235/235 [==============================] - 1s 5ms/step - loss: 0.3901 - accuracy: 0.8261 - val_loss: 0.3892 - val_accuracy: 0.8259\n",
      "\n",
      "Epoch 00003: val_loss improved from 0.42306 to 0.38915, saving model to pretrained_best_model.h5\n",
      "Epoch 4/20\n",
      "235/235 [==============================] - 1s 5ms/step - loss: 0.3511 - accuracy: 0.8469 - val_loss: 0.3689 - val_accuracy: 0.8371\n",
      "\n",
      "Epoch 00004: val_loss improved from 0.38915 to 0.36895, saving model to pretrained_best_model.h5\n",
      "Epoch 5/20\n",
      "235/235 [==============================] - 1s 5ms/step - loss: 0.3239 - accuracy: 0.8609 - val_loss: 0.3638 - val_accuracy: 0.8390\n",
      "\n",
      "Epoch 00005: val_loss improved from 0.36895 to 0.36377, saving model to pretrained_best_model.h5\n",
      "Epoch 6/20\n",
      "235/235 [==============================] - 1s 5ms/step - loss: 0.3058 - accuracy: 0.8695 - val_loss: 0.3546 - val_accuracy: 0.8443\n",
      "\n",
      "Epoch 00006: val_loss improved from 0.36377 to 0.35465, saving model to pretrained_best_model.h5\n",
      "Epoch 7/20\n",
      "235/235 [==============================] - 1s 5ms/step - loss: 0.2871 - accuracy: 0.8802 - val_loss: 0.3525 - val_accuracy: 0.8468\n",
      "\n",
      "Epoch 00007: val_loss improved from 0.35465 to 0.35252, saving model to pretrained_best_model.h5\n",
      "Epoch 8/20\n",
      "235/235 [==============================] - 1s 5ms/step - loss: 0.2731 - accuracy: 0.8875 - val_loss: 0.3588 - val_accuracy: 0.8456\n",
      "\n",
      "Epoch 00008: val_loss did not improve from 0.35252\n",
      "Epoch 9/20\n",
      "235/235 [==============================] - 1s 5ms/step - loss: 0.2585 - accuracy: 0.8952 - val_loss: 0.3571 - val_accuracy: 0.8485\n",
      "\n",
      "Epoch 00009: val_loss did not improve from 0.35252\n",
      "Epoch 10/20\n",
      "235/235 [==============================] - 1s 5ms/step - loss: 0.2463 - accuracy: 0.9009 - val_loss: 0.3636 - val_accuracy: 0.8494\n",
      "\n",
      "Epoch 00010: val_loss did not improve from 0.35252\n",
      "Epoch 11/20\n",
      "235/235 [==============================] - 1s 5ms/step - loss: 0.2352 - accuracy: 0.9061 - val_loss: 0.3664 - val_accuracy: 0.8482\n",
      "\n",
      "Epoch 00011: val_loss did not improve from 0.35252\n",
      "Epoch 12/20\n",
      "235/235 [==============================] - 1s 5ms/step - loss: 0.2250 - accuracy: 0.9112 - val_loss: 0.3733 - val_accuracy: 0.8476\n",
      "\n",
      "Epoch 00012: val_loss did not improve from 0.35252\n",
      "Epoch 13/20\n",
      "235/235 [==============================] - 1s 5ms/step - loss: 0.2121 - accuracy: 0.9185 - val_loss: 0.3839 - val_accuracy: 0.8481\n",
      "\n",
      "Epoch 00013: val_loss did not improve from 0.35252\n",
      "Epoch 14/20\n",
      "235/235 [==============================] - 1s 5ms/step - loss: 0.2023 - accuracy: 0.9230 - val_loss: 0.3981 - val_accuracy: 0.8436\n",
      "\n",
      "Epoch 00014: val_loss did not improve from 0.35252\n",
      "Epoch 15/20\n",
      "235/235 [==============================] - 1s 5ms/step - loss: 0.1919 - accuracy: 0.9279 - val_loss: 0.4108 - val_accuracy: 0.8446\n",
      "\n",
      "Epoch 00015: val_loss did not improve from 0.35252\n",
      "Epoch 16/20\n",
      "235/235 [==============================] - 1s 5ms/step - loss: 0.1817 - accuracy: 0.9327 - val_loss: 0.4263 - val_accuracy: 0.8452\n",
      "\n",
      "Epoch 00016: val_loss did not improve from 0.35252\n",
      "Epoch 17/20\n",
      "235/235 [==============================] - 1s 5ms/step - loss: 0.1715 - accuracy: 0.9370 - val_loss: 0.4388 - val_accuracy: 0.8419\n",
      "\n",
      "Epoch 00017: val_loss did not improve from 0.35252\n",
      "Epoch 18/20\n",
      "235/235 [==============================] - 1s 5ms/step - loss: 0.1621 - accuracy: 0.9417 - val_loss: 0.4611 - val_accuracy: 0.8419\n",
      "\n",
      "Epoch 00018: val_loss did not improve from 0.35252\n",
      "Epoch 19/20\n",
      "235/235 [==============================] - 1s 5ms/step - loss: 0.1515 - accuracy: 0.9472 - val_loss: 0.4736 - val_accuracy: 0.8428\n",
      "\n",
      "Epoch 00019: val_loss did not improve from 0.35252\n",
      "Epoch 20/20\n",
      "235/235 [==============================] - 1s 5ms/step - loss: 0.1433 - accuracy: 0.9498 - val_loss: 0.5012 - val_accuracy: 0.8403\n",
      "\n",
      "Epoch 00020: val_loss did not improve from 0.35252\n"
     ]
    }
   ],
   "source": [
    "model.compile(optimizer='adam',\n",
    "              loss='binary_crossentropy',\n",
    "              metrics=['accuracy'])\n",
    "              \n",
    "epochs=20  # 몇 epoch를 훈련하면 좋을지 결과를 보면서 바꾸어 봅시다. \n",
    "\n",
    "history = model.fit(partial_x_train,\n",
    "                    partial_y_train,\n",
    "                    epochs=epochs,\n",
    "                    batch_size=512,\n",
    "                    validation_data=(x_val, y_val),\n",
    "                    callbacks=[checkpoint],\n",
    "                    verbose=1)"
   ]
  },
  {
   "cell_type": "code",
   "execution_count": 72,
   "id": "09795a56",
   "metadata": {},
   "outputs": [
    {
     "name": "stdout",
     "output_type": "stream",
     "text": [
      "1563/1563 - 2s - loss: 0.5176 - accuracy: 0.8330\n",
      "[0.5175846219062805, 0.8330299854278564]\n"
     ]
    }
   ],
   "source": [
    "results = model.evaluate(X_test,  y_test, verbose=2)\n",
    "\n",
    "print(results)\n",
    "history_dict = history.history"
   ]
  },
  {
   "cell_type": "code",
   "execution_count": 73,
   "id": "67e73068",
   "metadata": {},
   "outputs": [
    {
     "data": {
      "image/png": "[encoded data removed]",
      "text/plain": [
       "<Figure size 432x288 with 1 Axes>"
      ]
     },
     "metadata": {
      "needs_background": "light"
     },
     "output_type": "display_data"
    }
   ],
   "source": [
    "import matplotlib.pyplot as plt\n",
    "\n",
    "acc = history_dict['accuracy']\n",
    "val_acc = history_dict['val_accuracy']\n",
    "loss = history_dict['loss']\n",
    "val_loss = history_dict['val_loss']\n",
    "\n",
    "epochs = range(1, len(acc) + 1)\n",
    "\n",
    "# \"bo\"는 \"파란색 점\"입니다\n",
    "plt.plot(epochs, loss, 'bo', label='Training loss')\n",
    "# b는 \"파란 실선\"입니다\n",
    "plt.plot(epochs, val_loss, 'b', label='Validation loss')\n",
    "plt.title('Training and validation loss')\n",
    "plt.xlabel('Epochs')\n",
    "plt.ylabel('Loss')\n",
    "plt.legend()\n",
    "\n",
    "plt.show()"
   ]
  },
  {
   "cell_type": "code",
   "execution_count": 74,
   "id": "412fc4ee",
   "metadata": {},
   "outputs": [
    {
     "data": {
      "image/png": "[encoded data removed]",
      "text/plain": [
       "<Figure size 432x288 with 1 Axes>"
      ]
     },
     "metadata": {
      "needs_background": "light"
     },
     "output_type": "display_data"
    }
   ],
   "source": [
    "plt.clf()   # 그림을 초기화합니다\n",
    "\n",
    "plt.plot(epochs, acc, 'bo', label='Training acc')\n",
    "plt.plot(epochs, val_acc, 'b', label='Validation acc')\n",
    "plt.title('Training and validation accuracy')\n",
    "plt.xlabel('Epochs')\n",
    "plt.ylabel('Accuracy')\n",
    "plt.legend()\n",
    "\n",
    "plt.show()"
   ]
  },
  {
   "cell_type": "markdown",
   "id": "4ad51e4d",
   "metadata": {},
   "source": [
    "7 에폭 이후 과대적합이 발생했다."
   ]
  },
  {
   "cell_type": "code",
   "execution_count": 77,
   "id": "9dec46ab",
   "metadata": {},
   "outputs": [
    {
     "name": "stdout",
     "output_type": "stream",
     "text": [
      "1563/1563 - 3s - loss: 0.3687 - accuracy: 0.8411\n",
      "[0.36866816878318787, 0.8410504460334778]\n"
     ]
    }
   ],
   "source": [
    "best_model = load_model('pretrained_best_model.h5')\n",
    "\n",
    "result = best_model.evaluate(X_test, y_test, verbose=2)\n",
    "print(result)"
   ]
  },
  {
   "cell_type": "markdown",
   "id": "48bbc60f",
   "metadata": {},
   "source": [
    "네이버 영화 리뷰 데이터와 conv1d로만 학습했을 때, 85% 정확도를 보였었는데,  \n",
    "pretrained 벡터를 활용하여 84.1%로 오히려 성능이 조금 떨어진 것을 확인했다."
   ]
  },
  {
   "cell_type": "markdown",
   "id": "bbf13a02",
   "metadata": {},
   "source": [
    "#### pretrained word2vec + LSTM"
   ]
  },
  {
   "cell_type": "code",
   "execution_count": 78,
   "id": "e930ea97",
   "metadata": {},
   "outputs": [],
   "source": [
    "checkpoint = ModelCheckpoint(\n",
    "    \"pretrained_lstm_best_model.h5\",\n",
    "    monitor='val_loss',      \n",
    "    save_best_only=True,     \n",
    "    mode='min',              \n",
    "    verbose=1\n",
    ")"
   ]
  },
  {
   "cell_type": "code",
   "execution_count": 79,
   "id": "b362e287",
   "metadata": {},
   "outputs": [
    {
     "name": "stdout",
     "output_type": "stream",
     "text": [
      "Model: \"sequential_4\"\n",
      "_________________________________________________________________\n",
      "Layer (type)                 Output Shape              Param #   \n",
      "=================================================================\n",
      "embedding_4 (Embedding)      (None, 41, 100)           1000000   \n",
      "_________________________________________________________________\n",
      "lstm_1 (LSTM)                (None, 8)                 3488      \n",
      "_________________________________________________________________\n",
      "dense_8 (Dense)              (None, 8)                 72        \n",
      "_________________________________________________________________\n",
      "dense_9 (Dense)              (None, 1)                 9         \n",
      "=================================================================\n",
      "Total params: 1,003,569\n",
      "Trainable params: 1,003,569\n",
      "Non-trainable params: 0\n",
      "_________________________________________________________________\n"
     ]
    }
   ],
   "source": [
    "vocab_size = 10000    # 어휘 사전의 크기입니다(10,000개의 단어)\n",
    "word_vector_dim = 100  # 워드 벡터의 차원 수 (변경 가능한 하이퍼파라미터)\n",
    "\n",
    "model = tf.keras.Sequential()\n",
    "model.add(tf.keras.layers.Embedding(vocab_size, \n",
    "                                 word_vector_dim, \n",
    "                                 embeddings_initializer=Constant(embedding_matrix),  # 카피한 임베딩을 여기서 활용\n",
    "                                 input_length=maxlen, \n",
    "                                 trainable=True))   # trainable을 True로 주면 Fine-tuning\n",
    "model.add(tf.keras.layers.LSTM(8))   # 가장 널리 쓰이는 RNN인 LSTM 레이어를 사용하였습니다. 이때 LSTM state 벡터의 차원수는 8로 하였습니다. (변경 가능)\n",
    "model.add(tf.keras.layers.Dense(8, activation='relu'))\n",
    "model.add(tf.keras.layers.Dense(1, activation='sigmoid'))  # 최종 출력은 긍정/부정을 나타내는 1dim 입니다.\n",
    "\n",
    "model.summary()"
   ]
  },
  {
   "cell_type": "code",
   "execution_count": 80,
   "id": "3d765358",
   "metadata": {
    "scrolled": false
   },
   "outputs": [
    {
     "name": "stdout",
     "output_type": "stream",
     "text": [
      "Epoch 1/20\n",
      "235/235 [==============================] - 3s 7ms/step - loss: 0.5941 - accuracy: 0.6753 - val_loss: 0.4735 - val_accuracy: 0.7798\n",
      "\n",
      "Epoch 00001: val_loss improved from inf to 0.47352, saving model to pretrained_lstm_best_model.h5\n",
      "Epoch 2/20\n",
      "235/235 [==============================] - 1s 6ms/step - loss: 0.4255 - accuracy: 0.8086 - val_loss: 0.3944 - val_accuracy: 0.8229\n",
      "\n",
      "Epoch 00002: val_loss improved from 0.47352 to 0.39437, saving model to pretrained_lstm_best_model.h5\n",
      "Epoch 3/20\n",
      "235/235 [==============================] - 1s 6ms/step - loss: 0.3705 - accuracy: 0.8382 - val_loss: 0.3708 - val_accuracy: 0.8380\n",
      "\n",
      "Epoch 00003: val_loss improved from 0.39437 to 0.37083, saving model to pretrained_lstm_best_model.h5\n",
      "Epoch 4/20\n",
      "235/235 [==============================] - 1s 6ms/step - loss: 0.3417 - accuracy: 0.8532 - val_loss: 0.3621 - val_accuracy: 0.8413\n",
      "\n",
      "Epoch 00004: val_loss improved from 0.37083 to 0.36208, saving model to pretrained_lstm_best_model.h5\n",
      "Epoch 5/20\n",
      "235/235 [==============================] - 1s 6ms/step - loss: 0.3225 - accuracy: 0.8633 - val_loss: 0.3578 - val_accuracy: 0.8431\n",
      "\n",
      "Epoch 00005: val_loss improved from 0.36208 to 0.35784, saving model to pretrained_lstm_best_model.h5\n",
      "Epoch 6/20\n",
      "235/235 [==============================] - 1s 6ms/step - loss: 0.3078 - accuracy: 0.8708 - val_loss: 0.3574 - val_accuracy: 0.8451\n",
      "\n",
      "Epoch 00006: val_loss improved from 0.35784 to 0.35735, saving model to pretrained_lstm_best_model.h5\n",
      "Epoch 7/20\n",
      "235/235 [==============================] - 1s 6ms/step - loss: 0.2953 - accuracy: 0.8771 - val_loss: 0.3551 - val_accuracy: 0.8471\n",
      "\n",
      "Epoch 00007: val_loss improved from 0.35735 to 0.35512, saving model to pretrained_lstm_best_model.h5\n",
      "Epoch 8/20\n",
      "235/235 [==============================] - 1s 6ms/step - loss: 0.2847 - accuracy: 0.8817 - val_loss: 0.3591 - val_accuracy: 0.8461\n",
      "\n",
      "Epoch 00008: val_loss did not improve from 0.35512\n",
      "Epoch 9/20\n",
      "235/235 [==============================] - 1s 6ms/step - loss: 0.2763 - accuracy: 0.8860 - val_loss: 0.3617 - val_accuracy: 0.8474\n",
      "\n",
      "Epoch 00009: val_loss did not improve from 0.35512\n",
      "Epoch 10/20\n",
      "235/235 [==============================] - 1s 6ms/step - loss: 0.2674 - accuracy: 0.8907 - val_loss: 0.3606 - val_accuracy: 0.8481\n",
      "\n",
      "Epoch 00010: val_loss did not improve from 0.35512\n",
      "Epoch 11/20\n",
      "235/235 [==============================] - 1s 6ms/step - loss: 0.2599 - accuracy: 0.8940 - val_loss: 0.3667 - val_accuracy: 0.8473\n",
      "\n",
      "Epoch 00011: val_loss did not improve from 0.35512\n",
      "Epoch 12/20\n",
      "235/235 [==============================] - 1s 6ms/step - loss: 0.2523 - accuracy: 0.8985 - val_loss: 0.3675 - val_accuracy: 0.8482\n",
      "\n",
      "Epoch 00012: val_loss did not improve from 0.35512\n",
      "Epoch 13/20\n",
      "235/235 [==============================] - 1s 6ms/step - loss: 0.2456 - accuracy: 0.9009 - val_loss: 0.3711 - val_accuracy: 0.8467\n",
      "\n",
      "Epoch 00013: val_loss did not improve from 0.35512\n",
      "Epoch 14/20\n",
      "235/235 [==============================] - 1s 6ms/step - loss: 0.2388 - accuracy: 0.9047 - val_loss: 0.3822 - val_accuracy: 0.8464\n",
      "\n",
      "Epoch 00014: val_loss did not improve from 0.35512\n",
      "Epoch 15/20\n",
      "235/235 [==============================] - 1s 6ms/step - loss: 0.2326 - accuracy: 0.9077 - val_loss: 0.3856 - val_accuracy: 0.8464\n",
      "\n",
      "Epoch 00015: val_loss did not improve from 0.35512\n",
      "Epoch 16/20\n",
      "235/235 [==============================] - 1s 6ms/step - loss: 0.2258 - accuracy: 0.9111 - val_loss: 0.3839 - val_accuracy: 0.8457\n",
      "\n",
      "Epoch 00016: val_loss did not improve from 0.35512\n",
      "Epoch 17/20\n",
      "235/235 [==============================] - 1s 6ms/step - loss: 0.2197 - accuracy: 0.9145 - val_loss: 0.3957 - val_accuracy: 0.8454\n",
      "\n",
      "Epoch 00017: val_loss did not improve from 0.35512\n",
      "Epoch 18/20\n",
      "235/235 [==============================] - 1s 5ms/step - loss: 0.2148 - accuracy: 0.9165 - val_loss: 0.4007 - val_accuracy: 0.8461\n",
      "\n",
      "Epoch 00018: val_loss did not improve from 0.35512\n",
      "Epoch 19/20\n",
      "235/235 [==============================] - 1s 6ms/step - loss: 0.2089 - accuracy: 0.9191 - val_loss: 0.4044 - val_accuracy: 0.8439\n",
      "\n",
      "Epoch 00019: val_loss did not improve from 0.35512\n",
      "Epoch 20/20\n",
      "235/235 [==============================] - 1s 6ms/step - loss: 0.2036 - accuracy: 0.9220 - val_loss: 0.4192 - val_accuracy: 0.8452\n",
      "\n",
      "Epoch 00020: val_loss did not improve from 0.35512\n"
     ]
    }
   ],
   "source": [
    "model.compile(optimizer='adam',\n",
    "              loss='binary_crossentropy',\n",
    "              metrics=['accuracy'])\n",
    "              \n",
    "epochs=20  # 몇 epoch를 훈련하면 좋을지 결과를 보면서 바꾸어 봅시다. \n",
    "\n",
    "history = model.fit(partial_x_train,\n",
    "                    partial_y_train,\n",
    "                    epochs=epochs,\n",
    "                    batch_size=512,\n",
    "                    validation_data=(x_val, y_val),\n",
    "                    callbacks=[checkpoint],\n",
    "                    verbose=1)"
   ]
  },
  {
   "cell_type": "code",
   "execution_count": 81,
   "id": "93ea108d",
   "metadata": {},
   "outputs": [
    {
     "name": "stdout",
     "output_type": "stream",
     "text": [
      "1563/1563 - 3s - loss: 0.3637 - accuracy: 0.8424\n",
      "[0.36373448371887207, 0.8423905372619629]\n"
     ]
    }
   ],
   "source": [
    "best_model = load_model('pretrained_lstm_best_model.h5')\n",
    "\n",
    "result = best_model.evaluate(X_test, y_test, verbose=2)\n",
    "print(result)"
   ]
  },
  {
   "cell_type": "markdown",
   "id": "dd749a55",
   "metadata": {},
   "source": [
    "pretrained word2vec를 사용한 LSTM 모델도 성능이 조글 하락하였다."
   ]
  },
  {
   "cell_type": "markdown",
   "id": "12347bf9",
   "metadata": {},
   "source": [
    "# 회고\n",
    "\n",
    "RNN, LSTM, Conv1D에서 임베딩 벡터들이 차이나는 이유에 대해서 생각해 볼 수 있었다.     \n",
    "Conv1D에서는 필터사이즈가 7이기 때문에, 단어 주위 7단어 사이의 관계만 학습하는 것 같다.  \n",
    "LSTM과 RNN의 비교에서는 LSTM이 RNN보다 이전 state에 대한 영향을 크게 가지는 구조여서, 이런 구조의 차이가 벡터의 차이를 만들어 내는 것 같다.  \n",
    "   \n",
    "pretrained 모델을 사용한 임베딩 벡터와 영화 리뷰를 학습한 모델들의 임베딩 벡터의 비교해서 생각해 볼 수 있었다.  pretrained 모델의 단어 벡터의 유사한 단어들을 확인했을 때, 한국어 사전의 동의어와 같은 유사한 단어들을 나타내는데, pretrained 모델이 학습 데이터가 일상생활 데이터이고, 문서 전체적인 범위에서 단어 사이의 관게를 학습해서인 것 같다.  \n",
    "위의 모델들이 학습하는 구조에서는 단어 사이 관계의 범위가 sequence를 벗어나지 못하는 데, 이런 모델 학습의 구조가, 벡터의 차이를 보이는 것 같다. \n",
    "\n",
    "pretrained word2vec이 영화리뷰에 대한 도메인 정보를 잘 반영하지 못하는 것 같다. \n",
    "그래서 pretrained word2vec을 사용한 모델들이 더 성능이 낮게 나오는 것을 확인했다.  "
   ]
  },
  {
   "cell_type": "markdown",
   "id": "93b6c6dd",
   "metadata": {},
   "source": [
    "# to be\n",
    "\n",
    "- 노드 수 늘려서 다시 실행해보기\n",
    "- T-SNE로 벡터 시각화 해보기\n",
    "- transformer로 구현해보기"
   ]
  },
  {
   "cell_type": "markdown",
   "id": "4f0e7fe3",
   "metadata": {},
   "source": []
  }
 ],
 "metadata": {
  "kernelspec": {
   "display_name": "Python 3 (ipykernel)",
   "language": "python",
   "name": "python3"
  },
  "language_info": {
   "codemirror_mode": {
    "name": "ipython",
    "version": 3
   },
   "file_extension": ".py",
   "mimetype": "text/x-python",
   "name": "python",
   "nbconvert_exporter": "python",
   "pygments_lexer": "ipython3",
   "version": "3.9.7"
  }
 },
 "nbformat": 4,
 "nbformat_minor": 5
}
