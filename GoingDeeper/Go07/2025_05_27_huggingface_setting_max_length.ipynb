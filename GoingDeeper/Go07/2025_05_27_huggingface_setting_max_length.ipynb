{
  "cells": [
    {
      "cell_type": "markdown",
      "metadata": {
        "colab_type": "text",
        "id": "view-in-github"
      },
      "source": [
        "<a href=\"https://colab.research.google.com/github/develop-insight/AIFFEL_quest_rs/blob/master/GoingDeeper/Go07/2025_05_27_huggingface_setting_max_length.ipynb\" target=\"_parent\"><img src=\"https://colab.research.google.com/assets/colab-badge.svg\" alt=\"Open In Colab\"/></a>"
      ]
    },
    {
      "cell_type": "markdown",
      "id": "78a3fb27",
      "metadata": {
        "id": "78a3fb27"
      },
      "source": [
        "# HuggingFace 커스텀 프로젝트 만들기 [프로젝트]\n",
        "\n",
        "## 프로젝트 : 커스텀 프로젝트 직접 만들기\n",
        "\n",
        "\n",
        "실습 코드에서 수행해 본 내용을 토대로, 이번에는 한국어 데이터셋에 도전해보겠습니다.\n",
        "\n",
        "앞서 본 GLUE benchmark의 한국어 버전 [KLUE benchmark](https://klue-benchmark.com/)를 들어보신 적 있나요?\n",
        "\n",
        "GLUE와 마찬가지로 한국어 자연어처리에 대한 이해도를 높이기 위해 만들어진 데이터셋 benchmark입니다. 총 8가지의 데이터셋이 있습니다. 다만 이번 시간에 진행할 프로젝트는 KLUE의 dataset을 활용하는 것이 아닌, model(klue/ber-base)를 활용하여 NSMC(Naver Sentiment Movie Corpus) task를 도전해보겠습니다.\n",
        "\n",
        "모델과 데이터에 관한 정보는 링크를 참조해주세요.\n",
        "\n",
        "- KLUE/Bert-base: https://huggingface.co/klue/bert-base\n",
        "- NSMC: https://github.com/e9t/nsmc\n",
        "\n",
        "\n"
      ]
    },
    {
      "cell_type": "markdown",
      "id": "b00b697b",
      "metadata": {
        "id": "b00b697b"
      },
      "source": [
        "### 라이브러리"
      ]
    },
    {
      "cell_type": "code",
      "execution_count": null,
      "id": "eb436de9",
      "metadata": {
        "colab": {
          "base_uri": "https://localhost:8080/"
        },
        "id": "eb436de9",
        "outputId": "2876b927-3856-498e-a193-13415cb58a8d"
      },
      "outputs": [
        {
          "name": "stdout",
          "output_type": "stream",
          "text": [
            "2.18.0\n",
            "2.0.2\n",
            "4.52.2\n",
            "3.6.0\n"
          ]
        }
      ],
      "source": [
        "import tensorflow\n",
        "import numpy\n",
        "import transformers\n",
        "import datasets\n",
        "\n",
        "print(tensorflow.__version__)\n",
        "print(numpy.__version__)\n",
        "print(transformers.__version__)\n",
        "print(datasets.__version__)"
      ]
    },
    {
      "cell_type": "code",
      "execution_count": null,
      "id": "ehWkKqsKUm5B",
      "metadata": {
        "id": "ehWkKqsKUm5B"
      },
      "outputs": [],
      "source": [
        "import matplotlib.pyplot as plt\n",
        "\n",
        "import os\n",
        "import numpy as np\n",
        "from transformers import Trainer, TrainingArguments"
      ]
    },
    {
      "cell_type": "markdown",
      "id": "7fda3b29",
      "metadata": {
        "id": "7fda3b29"
      },
      "source": [
        "### NSMC 데이터 분석 및 Huggingface dataset 구성\n"
      ]
    },
    {
      "cell_type": "code",
      "execution_count": null,
      "id": "va8o-Og2_q0M",
      "metadata": {
        "colab": {
          "base_uri": "https://localhost:8080/"
        },
        "id": "va8o-Og2_q0M",
        "outputId": "b115a098-1249-4735-addb-27bc355c4f5f"
      },
      "outputs": [
        {
          "name": "stdout",
          "output_type": "stream",
          "text": [
            "Requirement already satisfied: datasets in /usr/local/lib/python3.11/dist-packages (3.6.0)\n",
            "Requirement already satisfied: huggingface_hub in /usr/local/lib/python3.11/dist-packages (0.32.2)\n",
            "Requirement already satisfied: fsspec in /usr/local/lib/python3.11/dist-packages (2025.3.0)\n",
            "Collecting fsspec\n",
            "  Using cached fsspec-2025.5.1-py3-none-any.whl.metadata (11 kB)\n",
            "Requirement already satisfied: filelock in /usr/local/lib/python3.11/dist-packages (from datasets) (3.18.0)\n",
            "Requirement already satisfied: numpy>=1.17 in /usr/local/lib/python3.11/dist-packages (from datasets) (2.0.2)\n",
            "Requirement already satisfied: pyarrow>=15.0.0 in /usr/local/lib/python3.11/dist-packages (from datasets) (18.1.0)\n",
            "Requirement already satisfied: dill<0.3.9,>=0.3.0 in /usr/local/lib/python3.11/dist-packages (from datasets) (0.3.7)\n",
            "Requirement already satisfied: pandas in /usr/local/lib/python3.11/dist-packages (from datasets) (2.2.2)\n",
            "Requirement already satisfied: requests>=2.32.2 in /usr/local/lib/python3.11/dist-packages (from datasets) (2.32.3)\n",
            "Requirement already satisfied: tqdm>=4.66.3 in /usr/local/lib/python3.11/dist-packages (from datasets) (4.67.1)\n",
            "Requirement already satisfied: xxhash in /usr/local/lib/python3.11/dist-packages (from datasets) (3.5.0)\n",
            "Requirement already satisfied: multiprocess<0.70.17 in /usr/local/lib/python3.11/dist-packages (from datasets) (0.70.15)\n",
            "Requirement already satisfied: packaging in /usr/local/lib/python3.11/dist-packages (from datasets) (24.2)\n",
            "Requirement already satisfied: pyyaml>=5.1 in /usr/local/lib/python3.11/dist-packages (from datasets) (6.0.2)\n",
            "Requirement already satisfied: typing-extensions>=3.7.4.3 in /usr/local/lib/python3.11/dist-packages (from huggingface_hub) (4.13.2)\n",
            "Requirement already satisfied: hf-xet<2.0.0,>=1.1.2 in /usr/local/lib/python3.11/dist-packages (from huggingface_hub) (1.1.2)\n",
            "Requirement already satisfied: aiohttp!=4.0.0a0,!=4.0.0a1 in /usr/local/lib/python3.11/dist-packages (from fsspec[http]<=2025.3.0,>=2023.1.0->datasets) (3.11.15)\n",
            "Requirement already satisfied: charset-normalizer<4,>=2 in /usr/local/lib/python3.11/dist-packages (from requests>=2.32.2->datasets) (3.4.2)\n",
            "Requirement already satisfied: idna<4,>=2.5 in /usr/local/lib/python3.11/dist-packages (from requests>=2.32.2->datasets) (3.10)\n",
            "Requirement already satisfied: urllib3<3,>=1.21.1 in /usr/local/lib/python3.11/dist-packages (from requests>=2.32.2->datasets) (2.4.0)\n",
            "Requirement already satisfied: certifi>=2017.4.17 in /usr/local/lib/python3.11/dist-packages (from requests>=2.32.2->datasets) (2025.4.26)\n",
            "Requirement already satisfied: python-dateutil>=2.8.2 in /usr/local/lib/python3.11/dist-packages (from pandas->datasets) (2.9.0.post0)\n",
            "Requirement already satisfied: pytz>=2020.1 in /usr/local/lib/python3.11/dist-packages (from pandas->datasets) (2025.2)\n",
            "Requirement already satisfied: tzdata>=2022.7 in /usr/local/lib/python3.11/dist-packages (from pandas->datasets) (2025.2)\n",
            "Requirement already satisfied: aiohappyeyeballs>=2.3.0 in /usr/local/lib/python3.11/dist-packages (from aiohttp!=4.0.0a0,!=4.0.0a1->fsspec[http]<=2025.3.0,>=2023.1.0->datasets) (2.6.1)\n",
            "Requirement already satisfied: aiosignal>=1.1.2 in /usr/local/lib/python3.11/dist-packages (from aiohttp!=4.0.0a0,!=4.0.0a1->fsspec[http]<=2025.3.0,>=2023.1.0->datasets) (1.3.2)\n",
            "Requirement already satisfied: attrs>=17.3.0 in /usr/local/lib/python3.11/dist-packages (from aiohttp!=4.0.0a0,!=4.0.0a1->fsspec[http]<=2025.3.0,>=2023.1.0->datasets) (25.3.0)\n",
            "Requirement already satisfied: frozenlist>=1.1.1 in /usr/local/lib/python3.11/dist-packages (from aiohttp!=4.0.0a0,!=4.0.0a1->fsspec[http]<=2025.3.0,>=2023.1.0->datasets) (1.6.0)\n",
            "Requirement already satisfied: multidict<7.0,>=4.5 in /usr/local/lib/python3.11/dist-packages (from aiohttp!=4.0.0a0,!=4.0.0a1->fsspec[http]<=2025.3.0,>=2023.1.0->datasets) (6.4.4)\n",
            "Requirement already satisfied: propcache>=0.2.0 in /usr/local/lib/python3.11/dist-packages (from aiohttp!=4.0.0a0,!=4.0.0a1->fsspec[http]<=2025.3.0,>=2023.1.0->datasets) (0.3.1)\n",
            "Requirement already satisfied: yarl<2.0,>=1.17.0 in /usr/local/lib/python3.11/dist-packages (from aiohttp!=4.0.0a0,!=4.0.0a1->fsspec[http]<=2025.3.0,>=2023.1.0->datasets) (1.20.0)\n",
            "Requirement already satisfied: six>=1.5 in /usr/local/lib/python3.11/dist-packages (from python-dateutil>=2.8.2->pandas->datasets) (1.17.0)\n"
          ]
        }
      ],
      "source": [
        "!pip install --upgrade datasets huggingface_hub fsspec"
      ]
    },
    {
      "cell_type": "code",
      "execution_count": null,
      "id": "45b1e104",
      "metadata": {
        "colab": {
          "base_uri": "https://localhost:8080/"
        },
        "id": "45b1e104",
        "outputId": "3dbdc39b-55f5-4dc7-8093-a4bb9864d6d2"
      },
      "outputs": [
        {
          "name": "stderr",
          "output_type": "stream",
          "text": [
            "/usr/local/lib/python3.11/dist-packages/huggingface_hub/utils/_auth.py:94: UserWarning: \n",
            "The secret `HF_TOKEN` does not exist in your Colab secrets.\n",
            "To authenticate with the Hugging Face Hub, create a token in your settings tab (https://huggingface.co/settings/tokens), set it as secret in your Google Colab and restart your session.\n",
            "You will be able to reuse this secret in all of your notebooks.\n",
            "Please note that authentication is recommended but still optional to access public models or datasets.\n",
            "  warnings.warn(\n"
          ]
        },
        {
          "name": "stdout",
          "output_type": "stream",
          "text": [
            "DatasetDict({\n",
            "    train: Dataset({\n",
            "        features: ['id', 'document', 'label'],\n",
            "        num_rows: 150000\n",
            "    })\n",
            "    test: Dataset({\n",
            "        features: ['id', 'document', 'label'],\n",
            "        num_rows: 50000\n",
            "    })\n",
            "})\n"
          ]
        }
      ],
      "source": [
        "import datasets\n",
        "from datasets import load_dataset\n",
        "\n",
        "nsmc_dataset = load_dataset(\"e9t/nsmc\")\n",
        "print(nsmc_dataset)"
      ]
    },
    {
      "cell_type": "code",
      "execution_count": null,
      "id": "91da054e",
      "metadata": {
        "colab": {
          "base_uri": "https://localhost:8080/"
        },
        "id": "91da054e",
        "outputId": "ce34d713-96af-4084-eb9b-1fc6c3c5bc68"
      },
      "outputs": [
        {
          "name": "stdout",
          "output_type": "stream",
          "text": [
            "id : 9976970\n",
            "document : 아 더빙.. 진짜 짜증나네요 목소리\n",
            "label : 0\n",
            "\n",
            "\n",
            "id : 3819312\n",
            "document : 흠...포스터보고 초딩영화줄....오버연기조차 가볍지 않구나\n",
            "label : 1\n",
            "\n",
            "\n",
            "id : 10265843\n",
            "document : 너무재밓었다그래서보는것을추천한다\n",
            "label : 0\n",
            "\n",
            "\n",
            "id : 9045019\n",
            "document : 교도소 이야기구먼 ..솔직히 재미는 없다..평점 조정\n",
            "label : 0\n",
            "\n",
            "\n",
            "id : 6483659\n",
            "document : 사이몬페그의 익살스런 연기가 돋보였던 영화!스파이더맨에서 늙어보이기만 했던 커스틴 던스트가 너무나도 이뻐보였다\n",
            "label : 1\n",
            "\n",
            "\n"
          ]
        }
      ],
      "source": [
        "# 데이터 확인\n",
        "\n",
        "for i in range(5):\n",
        "    for col in nsmc_dataset['train'].column_names:\n",
        "        print(col,\":\",nsmc_dataset['train'][col][i])\n",
        "    print(\"\\n\")"
      ]
    },
    {
      "cell_type": "markdown",
      "id": "1ad473ea",
      "metadata": {
        "id": "1ad473ea"
      },
      "source": [
        "### klue/bert-base model 및 tokenizer 불러오기"
      ]
    },
    {
      "cell_type": "code",
      "execution_count": null,
      "id": "052fd364",
      "metadata": {
        "colab": {
          "base_uri": "https://localhost:8080/"
        },
        "id": "052fd364",
        "outputId": "e86ef029-6064-4a35-9446-bef13d664494"
      },
      "outputs": [
        {
          "name": "stderr",
          "output_type": "stream",
          "text": [
            "Some weights of BertForSequenceClassification were not initialized from the model checkpoint at klue/bert-base and are newly initialized: ['classifier.bias', 'classifier.weight']\n",
            "You should probably TRAIN this model on a down-stream task to be able to use it for predictions and inference.\n"
          ]
        }
      ],
      "source": [
        "from transformers import AutoTokenizer\n",
        "from transformers import AutoModelForSequenceClassification\n",
        "\n",
        "model = AutoModelForSequenceClassification.from_pretrained(\"klue/bert-base\", num_labels=2)\n",
        "\n",
        "# model = AutoModel.from_pretrained(\"klue/bert-base\")\n",
        "tokenizer = AutoTokenizer.from_pretrained(\"klue/bert-base\")\n"
      ]
    },
    {
      "cell_type": "code",
      "execution_count": null,
      "id": "5SO4xNHWBWDU",
      "metadata": {
        "colab": {
          "base_uri": "https://localhost:8080/"
        },
        "id": "5SO4xNHWBWDU",
        "outputId": "51ab8346-dc30-40fc-b60d-a52c46c528fb"
      },
      "outputs": [
        {
          "data": {
            "text/plain": [
              "512"
            ]
          },
          "execution_count": 38,
          "metadata": {},
          "output_type": "execute_result"
        }
      ],
      "source": [
        "tokenizer.model_max_length"
      ]
    },
    {
      "cell_type": "markdown",
      "id": "1a41913e",
      "metadata": {
        "id": "1a41913e"
      },
      "source": [
        "### 위에서 불러온 tokenizer으로 데이터셋을 전처리하고, model 학습 진행해 보기"
      ]
    },
    {
      "cell_type": "code",
      "execution_count": null,
      "id": "89a91f68",
      "metadata": {
        "id": "89a91f68"
      },
      "outputs": [],
      "source": [
        "def transform(data):\n",
        "    return tokenizer(\n",
        "        data['document'],\n",
        "        truncation = True,\n",
        "        # padding = 'max_length',\n",
        "        return_token_type_ids = False,\n",
        "        )"
      ]
    },
    {
      "cell_type": "code",
      "execution_count": null,
      "id": "24610bb4",
      "metadata": {
        "colab": {
          "base_uri": "https://localhost:8080/",
          "height": 223,
          "referenced_widgets": [
            "c1c13c9e9e9546b883b845665785d879",
            "b117171a29504dc58482402bc6bc095a",
            "8f88b41d5c244922bb7d75f5148234f7",
            "4359460cca6746a1ab83df93ef235e57",
            "c3c8d189313249bda386d0c549525ac8",
            "c6649296837c496f89f9f275b5aec4ed",
            "ca1e98a536ab4a2d84e0025475156693",
            "2dcb3b906255483da8415bfcf39469e5",
            "e13ff4c3564c4647a910fee0c259a4f3",
            "a320400dc71144189ee239ee4e64606c",
            "f5c8fbc7671e43c09222dce4ae36405e"
          ]
        },
        "id": "24610bb4",
        "outputId": "b7fed1be-8cad-4b7e-b123-04a9d3b0b323"
      },
      "outputs": [
        {
          "data": {
            "application/vnd.jupyter.widget-view+json": {
              "model_id": "c1c13c9e9e9546b883b845665785d879",
              "version_major": 2,
              "version_minor": 0
            },
            "text/plain": [
              "Map:   0%|          | 0/50000 [00:00<?, ? examples/s]"
            ]
          },
          "metadata": {},
          "output_type": "display_data"
        },
        {
          "data": {
            "text/plain": [
              "DatasetDict({\n",
              "    train: Dataset({\n",
              "        features: ['id', 'document', 'label', 'input_ids', 'attention_mask'],\n",
              "        num_rows: 150000\n",
              "    })\n",
              "    test: Dataset({\n",
              "        features: ['id', 'document', 'label', 'input_ids', 'attention_mask'],\n",
              "        num_rows: 50000\n",
              "    })\n",
              "})"
            ]
          },
          "execution_count": 40,
          "metadata": {},
          "output_type": "execute_result"
        }
      ],
      "source": [
        "nsmc_dataset_tokenized = nsmc_dataset.map(transform,batched=True)\n",
        "nsmc_dataset_tokenized"
      ]
    },
    {
      "cell_type": "code",
      "execution_count": null,
      "id": "90e44245",
      "metadata": {
        "id": "90e44245"
      },
      "outputs": [],
      "source": [
        "nsmc_train = nsmc_dataset_tokenized['train']\n",
        "nsmc_test = nsmc_dataset_tokenized['test']"
      ]
    },
    {
      "cell_type": "markdown",
      "id": "d589b7f7",
      "metadata": {
        "id": "d589b7f7"
      },
      "source": [
        "#### validation set split\n",
        "\n",
        "모델 학습을 위해 validation set을 나눔"
      ]
    },
    {
      "cell_type": "code",
      "execution_count": null,
      "id": "91721b88",
      "metadata": {
        "id": "91721b88"
      },
      "outputs": [],
      "source": [
        "split_dataset = nsmc_train.train_test_split(test_size=0.2, seed=42)\n",
        "train = split_dataset[\"train\"]\n",
        "valid = split_dataset[\"test\"]"
      ]
    },
    {
      "cell_type": "code",
      "execution_count": null,
      "id": "36d4a3be",
      "metadata": {
        "colab": {
          "base_uri": "https://localhost:8080/"
        },
        "id": "36d4a3be",
        "outputId": "8610506c-53f7-4d1e-dcae-78964fc0a5a7"
      },
      "outputs": [
        {
          "data": {
            "text/plain": [
              "Dataset({\n",
              "    features: ['id', 'document', 'label', 'input_ids', 'attention_mask'],\n",
              "    num_rows: 120000\n",
              "})"
            ]
          },
          "execution_count": 43,
          "metadata": {},
          "output_type": "execute_result"
        }
      ],
      "source": [
        "train"
      ]
    },
    {
      "cell_type": "code",
      "execution_count": null,
      "id": "ddbf5981",
      "metadata": {
        "colab": {
          "base_uri": "https://localhost:8080/"
        },
        "id": "ddbf5981",
        "outputId": "2ba776ad-a58e-4ce2-ae6a-587e552cf17a"
      },
      "outputs": [
        {
          "data": {
            "text/plain": [
              "Dataset({\n",
              "    features: ['id', 'document', 'label', 'input_ids', 'attention_mask'],\n",
              "    num_rows: 30000\n",
              "})"
            ]
          },
          "execution_count": 44,
          "metadata": {},
          "output_type": "execute_result"
        }
      ],
      "source": [
        "valid"
      ]
    },
    {
      "cell_type": "code",
      "execution_count": null,
      "id": "0bf06678",
      "metadata": {
        "id": "0bf06678"
      },
      "outputs": [],
      "source": [
        "test = nsmc_test"
      ]
    },
    {
      "cell_type": "code",
      "execution_count": null,
      "id": "08fcc179",
      "metadata": {
        "colab": {
          "base_uri": "https://localhost:8080/"
        },
        "id": "08fcc179",
        "outputId": "161b5b42-8457-49e4-c698-28bd10242028"
      },
      "outputs": [
        {
          "data": {
            "text/plain": [
              "Dataset({\n",
              "    features: ['id', 'document', 'label', 'input_ids', 'attention_mask'],\n",
              "    num_rows: 50000\n",
              "})"
            ]
          },
          "execution_count": 46,
          "metadata": {},
          "output_type": "execute_result"
        }
      ],
      "source": [
        "test"
      ]
    },
    {
      "cell_type": "markdown",
      "id": "JoHxuHdMDsrl",
      "metadata": {
        "id": "JoHxuHdMDsrl"
      },
      "source": [
        "길이 분포 확인"
      ]
    },
    {
      "cell_type": "code",
      "execution_count": null,
      "id": "bCuOZxU7CoQ4",
      "metadata": {
        "colab": {
          "base_uri": "https://localhost:8080/",
          "height": 472
        },
        "id": "bCuOZxU7CoQ4",
        "outputId": "828f9cba-8934-4514-fd7e-3ba91c3577b3"
      },
      "outputs": [
        {
          "data": {
            "image/png": "[encoded data removed]",
            "text/plain": [
              "<Figure size 640x480 with 1 Axes>"
            ]
          },
          "metadata": {},
          "output_type": "display_data"
        }
      ],
      "source": [
        "\n",
        "\n",
        "# 토큰 길이 측정\n",
        "lengths = [len(example[\"input_ids\"]) for example in train]\n",
        "\n",
        "# 히스토그램 시각화\n",
        "plt.hist(lengths, bins=50)\n",
        "plt.title(\"Token Length Distribution in Train Set\")\n",
        "plt.xlabel(\"Token Length\")\n",
        "plt.ylabel(\"Number of Examples\")\n",
        "plt.show()\n"
      ]
    },
    {
      "cell_type": "code",
      "execution_count": null,
      "id": "4oZca62bCoNg",
      "metadata": {
        "colab": {
          "base_uri": "https://localhost:8080/"
        },
        "id": "4oZca62bCoNg",
        "outputId": "c7e54540-0986-4367-f8f2-2a1148f2c0bc"
      },
      "outputs": [
        {
          "name": "stdout",
          "output_type": "stream",
          "text": [
            "최대 길이: 142\n",
            "평균 길이: 22.26\n",
            "95% 이하: 62\n",
            "99% 이하: 81\n"
          ]
        }
      ],
      "source": [
        "import numpy as np\n",
        "\n",
        "print(f\"최대 길이: {np.max(lengths)}\")\n",
        "print(f\"평균 길이: {np.mean(lengths):.2f}\")\n",
        "print(f\"95% 이하: {np.percentile(lengths, 95):.0f}\")\n",
        "print(f\"99% 이하: {np.percentile(lengths, 99):.0f}\")\n"
      ]
    },
    {
      "cell_type": "markdown",
      "id": "awX0hKGSGR9j",
      "metadata": {
        "id": "awX0hKGSGR9j"
      },
      "source": [
        "토큰 길이 확인한 결과, 99%를 포함하는 81로 max_length를 지정한다."
      ]
    },
    {
      "cell_type": "code",
      "execution_count": null,
      "id": "bv8EWABpCoHi",
      "metadata": {
        "id": "bv8EWABpCoHi"
      },
      "outputs": [],
      "source": [
        "def transform_set_max_length(data):\n",
        "    return tokenizer(\n",
        "        data['document'],\n",
        "        truncation = True,\n",
        "        padding = 'max_length',\n",
        "        max_length = 81,\n",
        "        return_token_type_ids = False,\n",
        "        )"
      ]
    },
    {
      "cell_type": "code",
      "execution_count": null,
      "id": "5fXFx-ZqGcxR",
      "metadata": {
        "colab": {
          "base_uri": "https://localhost:8080/",
          "height": 223,
          "referenced_widgets": [
            "dee742884110494dac670895ccfc0f4a",
            "ed4c0d00c9824ed78d4e2da8e1cb12a6",
            "bad5f88d72964920997dcecea0988ccb",
            "546e4506771c47459ce3495652d88f1a",
            "0270bc8656284fdb94aa5d1846b3b102",
            "8b2d1aafe3fa474385d44bc7f5108076",
            "2e5d93f9b21644e7ace0e90e00061569",
            "24c30b55e3de4bbbaa56024a27240564",
            "ffb5ec3181a5466983ed4902b6f6530a",
            "0bb90a7240ab42aaa4f4445c949130f9",
            "2ee3b310949e4d3cae5e41d910d2bae7"
          ]
        },
        "id": "5fXFx-ZqGcxR",
        "outputId": "efa6fd6e-280a-42eb-f28e-960205f7fcec"
      },
      "outputs": [
        {
          "data": {
            "application/vnd.jupyter.widget-view+json": {
              "model_id": "dee742884110494dac670895ccfc0f4a",
              "version_major": 2,
              "version_minor": 0
            },
            "text/plain": [
              "Map:   0%|          | 0/150000 [00:00<?, ? examples/s]"
            ]
          },
          "metadata": {},
          "output_type": "display_data"
        },
        {
          "data": {
            "text/plain": [
              "DatasetDict({\n",
              "    train: Dataset({\n",
              "        features: ['id', 'document', 'label', 'input_ids', 'attention_mask'],\n",
              "        num_rows: 150000\n",
              "    })\n",
              "    test: Dataset({\n",
              "        features: ['id', 'document', 'label', 'input_ids', 'attention_mask'],\n",
              "        num_rows: 50000\n",
              "    })\n",
              "})"
            ]
          },
          "execution_count": 8,
          "metadata": {},
          "output_type": "execute_result"
        }
      ],
      "source": [
        "nsmc_dataset_tokenized = nsmc_dataset.map(transform_set_max_length,batched=True)\n",
        "nsmc_dataset_tokenized"
      ]
    },
    {
      "cell_type": "code",
      "execution_count": null,
      "id": "N_dzaCp1GvbR",
      "metadata": {
        "id": "N_dzaCp1GvbR"
      },
      "outputs": [],
      "source": [
        "nsmc_train = nsmc_dataset_tokenized['train']\n",
        "nsmc_test = nsmc_dataset_tokenized['test']\n",
        "\n",
        "split_dataset = nsmc_train.train_test_split(test_size=0.2, seed=42)\n",
        "train = split_dataset[\"train\"]\n",
        "valid = split_dataset[\"test\"]\n",
        "test = nsmc_test"
      ]
    },
    {
      "cell_type": "code",
      "execution_count": null,
      "id": "ieWRxZAgG6Xv",
      "metadata": {
        "colab": {
          "base_uri": "https://localhost:8080/"
        },
        "id": "ieWRxZAgG6Xv",
        "outputId": "37c078de-22cf-46bb-c6e5-e90e0e5f61c7"
      },
      "outputs": [
        {
          "data": {
            "text/plain": [
              "(Dataset({\n",
              "     features: ['id', 'document', 'label', 'input_ids', 'attention_mask'],\n",
              "     num_rows: 120000\n",
              " }),\n",
              " Dataset({\n",
              "     features: ['id', 'document', 'label', 'input_ids', 'attention_mask'],\n",
              "     num_rows: 30000\n",
              " }),\n",
              " Dataset({\n",
              "     features: ['id', 'document', 'label', 'input_ids', 'attention_mask'],\n",
              "     num_rows: 50000\n",
              " }))"
            ]
          },
          "execution_count": 10,
          "metadata": {},
          "output_type": "execute_result"
        }
      ],
      "source": [
        "train,valid,test"
      ]
    },
    {
      "cell_type": "code",
      "execution_count": null,
      "id": "6XFWGhN3KYvd",
      "metadata": {
        "colab": {
          "base_uri": "https://localhost:8080/",
          "height": 472
        },
        "id": "6XFWGhN3KYvd",
        "outputId": "a3bdb64c-ce79-4aac-9b81-fae9710527a2"
      },
      "outputs": [
        {
          "data": {
            "image/png": "[encoded data removed]",
            "text/plain": [
              "<Figure size 640x480 with 1 Axes>"
            ]
          },
          "metadata": {},
          "output_type": "display_data"
        }
      ],
      "source": [
        "# 확인\n",
        "# 토큰 길이 측정\n",
        "lengths = [len(example[\"input_ids\"]) for example in train]\n",
        "\n",
        "# 히스토그램 시각화\n",
        "plt.hist(lengths, bins=50)\n",
        "plt.title(\"Token Length Distribution in Train Set\")\n",
        "plt.xlabel(\"Token Length\")\n",
        "plt.ylabel(\"Number of Examples\")\n",
        "plt.show()"
      ]
    },
    {
      "cell_type": "code",
      "execution_count": null,
      "id": "6174fabd",
      "metadata": {
        "id": "6174fabd"
      },
      "outputs": [],
      "source": [
        "\n",
        "\n",
        "output_dir = './'\n",
        "\n",
        "training_arguments = TrainingArguments(\n",
        "    output_dir,                        # output이 저장될 경로\n",
        "    eval_strategy=\"epoch\",             #evaluation하는 빈도\n",
        "    save_strategy=\"epoch\",\n",
        "    learning_rate = 2e-5,              #learning_rate\n",
        "    per_device_train_batch_size = 8,   # 각 device 당 batch size\n",
        "    per_device_eval_batch_size = 8,    # evaluation 시에 batch size\n",
        "    num_train_epochs = 3,              # train 시킬 총 epochs\n",
        "    weight_decay = 0.01,               # weight decay: 가중치에 페널티를 주는 방식의 L2 정규화\n",
        ")"
      ]
    },
    {
      "cell_type": "code",
      "execution_count": null,
      "id": "6A-NVhGyBICF",
      "metadata": {
        "colab": {
          "base_uri": "https://localhost:8080/"
        },
        "id": "6A-NVhGyBICF",
        "outputId": "343213ab-1205-44b3-80f0-e3f449d18218"
      },
      "outputs": [
        {
          "name": "stdout",
          "output_type": "stream",
          "text": [
            "Requirement already satisfied: evaluate in /usr/local/lib/python3.11/dist-packages (0.4.3)\n",
            "Requirement already satisfied: datasets>=2.0.0 in /usr/local/lib/python3.11/dist-packages (from evaluate) (3.6.0)\n",
            "Requirement already satisfied: numpy>=1.17 in /usr/local/lib/python3.11/dist-packages (from evaluate) (2.0.2)\n",
            "Requirement already satisfied: dill in /usr/local/lib/python3.11/dist-packages (from evaluate) (0.3.7)\n",
            "Requirement already satisfied: pandas in /usr/local/lib/python3.11/dist-packages (from evaluate) (2.2.2)\n",
            "Requirement already satisfied: requests>=2.19.0 in /usr/local/lib/python3.11/dist-packages (from evaluate) (2.32.3)\n",
            "Requirement already satisfied: tqdm>=4.62.1 in /usr/local/lib/python3.11/dist-packages (from evaluate) (4.67.1)\n",
            "Requirement already satisfied: xxhash in /usr/local/lib/python3.11/dist-packages (from evaluate) (3.5.0)\n",
            "Requirement already satisfied: multiprocess in /usr/local/lib/python3.11/dist-packages (from evaluate) (0.70.15)\n",
            "Requirement already satisfied: fsspec>=2021.05.0 in /usr/local/lib/python3.11/dist-packages (from fsspec[http]>=2021.05.0->evaluate) (2025.3.0)\n",
            "Requirement already satisfied: huggingface-hub>=0.7.0 in /usr/local/lib/python3.11/dist-packages (from evaluate) (0.32.2)\n",
            "Requirement already satisfied: packaging in /usr/local/lib/python3.11/dist-packages (from evaluate) (24.2)\n",
            "Requirement already satisfied: filelock in /usr/local/lib/python3.11/dist-packages (from datasets>=2.0.0->evaluate) (3.18.0)\n",
            "Requirement already satisfied: pyarrow>=15.0.0 in /usr/local/lib/python3.11/dist-packages (from datasets>=2.0.0->evaluate) (18.1.0)\n",
            "Requirement already satisfied: pyyaml>=5.1 in /usr/local/lib/python3.11/dist-packages (from datasets>=2.0.0->evaluate) (6.0.2)\n",
            "Requirement already satisfied: aiohttp!=4.0.0a0,!=4.0.0a1 in /usr/local/lib/python3.11/dist-packages (from fsspec[http]>=2021.05.0->evaluate) (3.11.15)\n",
            "Requirement already satisfied: typing-extensions>=3.7.4.3 in /usr/local/lib/python3.11/dist-packages (from huggingface-hub>=0.7.0->evaluate) (4.13.2)\n",
            "Requirement already satisfied: hf-xet<2.0.0,>=1.1.2 in /usr/local/lib/python3.11/dist-packages (from huggingface-hub>=0.7.0->evaluate) (1.1.2)\n",
            "Requirement already satisfied: charset-normalizer<4,>=2 in /usr/local/lib/python3.11/dist-packages (from requests>=2.19.0->evaluate) (3.4.2)\n",
            "Requirement already satisfied: idna<4,>=2.5 in /usr/local/lib/python3.11/dist-packages (from requests>=2.19.0->evaluate) (3.10)\n",
            "Requirement already satisfied: urllib3<3,>=1.21.1 in /usr/local/lib/python3.11/dist-packages (from requests>=2.19.0->evaluate) (2.4.0)\n",
            "Requirement already satisfied: certifi>=2017.4.17 in /usr/local/lib/python3.11/dist-packages (from requests>=2.19.0->evaluate) (2025.4.26)\n",
            "Requirement already satisfied: python-dateutil>=2.8.2 in /usr/local/lib/python3.11/dist-packages (from pandas->evaluate) (2.9.0.post0)\n",
            "Requirement already satisfied: pytz>=2020.1 in /usr/local/lib/python3.11/dist-packages (from pandas->evaluate) (2025.2)\n",
            "Requirement already satisfied: tzdata>=2022.7 in /usr/local/lib/python3.11/dist-packages (from pandas->evaluate) (2025.2)\n",
            "Requirement already satisfied: aiohappyeyeballs>=2.3.0 in /usr/local/lib/python3.11/dist-packages (from aiohttp!=4.0.0a0,!=4.0.0a1->fsspec[http]>=2021.05.0->evaluate) (2.6.1)\n",
            "Requirement already satisfied: aiosignal>=1.1.2 in /usr/local/lib/python3.11/dist-packages (from aiohttp!=4.0.0a0,!=4.0.0a1->fsspec[http]>=2021.05.0->evaluate) (1.3.2)\n",
            "Requirement already satisfied: attrs>=17.3.0 in /usr/local/lib/python3.11/dist-packages (from aiohttp!=4.0.0a0,!=4.0.0a1->fsspec[http]>=2021.05.0->evaluate) (25.3.0)\n",
            "Requirement already satisfied: frozenlist>=1.1.1 in /usr/local/lib/python3.11/dist-packages (from aiohttp!=4.0.0a0,!=4.0.0a1->fsspec[http]>=2021.05.0->evaluate) (1.6.0)\n",
            "Requirement already satisfied: multidict<7.0,>=4.5 in /usr/local/lib/python3.11/dist-packages (from aiohttp!=4.0.0a0,!=4.0.0a1->fsspec[http]>=2021.05.0->evaluate) (6.4.4)\n",
            "Requirement already satisfied: propcache>=0.2.0 in /usr/local/lib/python3.11/dist-packages (from aiohttp!=4.0.0a0,!=4.0.0a1->fsspec[http]>=2021.05.0->evaluate) (0.3.1)\n",
            "Requirement already satisfied: yarl<2.0,>=1.17.0 in /usr/local/lib/python3.11/dist-packages (from aiohttp!=4.0.0a0,!=4.0.0a1->fsspec[http]>=2021.05.0->evaluate) (1.20.0)\n",
            "Requirement already satisfied: six>=1.5 in /usr/local/lib/python3.11/dist-packages (from python-dateutil>=2.8.2->pandas->evaluate) (1.17.0)\n"
          ]
        }
      ],
      "source": [
        "!pip install evaluate"
      ]
    },
    {
      "cell_type": "code",
      "execution_count": null,
      "id": "efc4ace4",
      "metadata": {
        "id": "efc4ace4"
      },
      "outputs": [],
      "source": [
        "# mrpc와 같은 이중분류 문제이므로, mrpc metric을 그대로 사용한다. 만약, task가 달라지면 다른 metric지표를 사용해야 한다.\n",
        "\n",
        "# from datasets import load_metric\n",
        "# metric = load_metric('glue', 'mrpc')\n",
        "\n",
        "import evaluate\n",
        "metric = evaluate.load('glue', 'mrpc')\n",
        "\n",
        "def compute_metrics(eval_pred):\n",
        "    predictions,labels = eval_pred\n",
        "    predictions = np.argmax(predictions, axis=1)\n",
        "    return metric.compute(predictions=predictions, references = labels)"
      ]
    },
    {
      "cell_type": "code",
      "execution_count": null,
      "id": "6879848e",
      "metadata": {
        "colab": {
          "base_uri": "https://localhost:8080/",
          "height": 526
        },
        "id": "6879848e",
        "outputId": "35888bad-7e5d-499b-c47d-98bf501d87ed"
      },
      "outputs": [
        {
          "data": {
            "application/javascript": "\n        window._wandbApiKey = new Promise((resolve, reject) => {\n            function loadScript(url) {\n            return new Promise(function(resolve, reject) {\n                let newScript = document.createElement(\"script\");\n                newScript.onerror = reject;\n                newScript.onload = resolve;\n                document.body.appendChild(newScript);\n                newScript.src = url;\n            });\n            }\n            loadScript(\"https://cdn.jsdelivr.net/npm/postmate/build/postmate.min.js\").then(() => {\n            const iframe = document.createElement('iframe')\n            iframe.style.cssText = \"width:0;height:0;border:none\"\n            document.body.appendChild(iframe)\n            const handshake = new Postmate({\n                container: iframe,\n                url: 'https://wandb.ai/authorize'\n            });\n            const timeout = setTimeout(() => reject(\"Couldn't auto authenticate\"), 5000)\n            handshake.then(function(child) {\n                child.on('authorize', data => {\n                    clearTimeout(timeout)\n                    resolve(data)\n                });\n            });\n            })\n        });\n    ",
            "text/plain": [
              "<IPython.core.display.Javascript object>"
            ]
          },
          "metadata": {},
          "output_type": "display_data"
        },
        {
          "name": "stderr",
          "output_type": "stream",
          "text": [
            "\u001b[34m\u001b[1mwandb\u001b[0m: Logging into wandb.ai. (Learn how to deploy a W&B server locally: https://wandb.me/wandb-server)\n",
            "\u001b[34m\u001b[1mwandb\u001b[0m: You can find your API key in your browser here: https://wandb.ai/authorize?ref=models\n",
            "wandb: Paste an API key from your profile and hit enter:\u001b[34m\u001b[1mwandb\u001b[0m: \u001b[33mWARNING\u001b[0m If you're specifying your api key in code, ensure this code is not shared publicly.\n",
            "\u001b[34m\u001b[1mwandb\u001b[0m: \u001b[33mWARNING\u001b[0m Consider setting the WANDB_API_KEY environment variable, or running `wandb login` from the command line.\n",
            "\u001b[34m\u001b[1mwandb\u001b[0m: No netrc file found, creating one.\n",
            "\u001b[34m\u001b[1mwandb\u001b[0m: Appending key for api.wandb.ai to your netrc file: /root/.netrc\n",
            "\u001b[34m\u001b[1mwandb\u001b[0m: Currently logged in as: \u001b[33myears-archive\u001b[0m (\u001b[33mhuggingface-helper\u001b[0m) to \u001b[32mhttps://api.wandb.ai\u001b[0m. Use \u001b[1m`wandb login --relogin`\u001b[0m to force relogin\n"
          ]
        },
        {
          "data": {
            "text/html": [
              "Tracking run with wandb version 0.19.11"
            ],
            "text/plain": [
              "<IPython.core.display.HTML object>"
            ]
          },
          "metadata": {},
          "output_type": "display_data"
        },
        {
          "data": {
            "text/html": [
              "Run data is saved locally in <code>/content/wandb/run-20250528_091447-3rlfmqa1</code>"
            ],
            "text/plain": [
              "<IPython.core.display.HTML object>"
            ]
          },
          "metadata": {},
          "output_type": "display_data"
        },
        {
          "data": {
            "text/html": [
              "Syncing run <strong><a href='https://wandb.ai/huggingface-helper/huggingface/runs/3rlfmqa1' target=\"_blank\">./</a></strong> to <a href='https://wandb.ai/huggingface-helper/huggingface' target=\"_blank\">Weights & Biases</a> (<a href='https://wandb.me/developer-guide' target=\"_blank\">docs</a>)<br>"
            ],
            "text/plain": [
              "<IPython.core.display.HTML object>"
            ]
          },
          "metadata": {},
          "output_type": "display_data"
        },
        {
          "data": {
            "text/html": [
              " View project at <a href='https://wandb.ai/huggingface-helper/huggingface' target=\"_blank\">https://wandb.ai/huggingface-helper/huggingface</a>"
            ],
            "text/plain": [
              "<IPython.core.display.HTML object>"
            ]
          },
          "metadata": {},
          "output_type": "display_data"
        },
        {
          "data": {
            "text/html": [
              " View run at <a href='https://wandb.ai/huggingface-helper/huggingface/runs/3rlfmqa1' target=\"_blank\">https://wandb.ai/huggingface-helper/huggingface/runs/3rlfmqa1</a>"
            ],
            "text/plain": [
              "<IPython.core.display.HTML object>"
            ]
          },
          "metadata": {},
          "output_type": "display_data"
        },
        {
          "data": {
            "text/html": [
              "\n",
              "    <div>\n",
              "      \n",
              "      <progress value='6135' max='45000' style='width:300px; height:20px; vertical-align: middle;'></progress>\n",
              "      [ 6135/45000 04:31 < 28:41, 22.58 it/s, Epoch 0.41/3]\n",
              "    </div>\n",
              "    <table border=\"1\" class=\"dataframe\">\n",
              "  <thead>\n",
              " <tr style=\"text-align: left;\">\n",
              "      <th>Epoch</th>\n",
              "      <th>Training Loss</th>\n",
              "      <th>Validation Loss</th>\n",
              "    </tr>\n",
              "  </thead>\n",
              "  <tbody>\n",
              "  </tbody>\n",
              "</table><p>"
            ],
            "text/plain": [
              "<IPython.core.display.HTML object>"
            ]
          },
          "metadata": {},
          "output_type": "display_data"
        },
        {
          "data": {
            "text/html": [
              "\n",
              "    <div>\n",
              "      \n",
              "      <progress value='45000' max='45000' style='width:300px; height:20px; vertical-align: middle;'></progress>\n",
              "      [45000/45000 35:29, Epoch 3/3]\n",
              "    </div>\n",
              "    <table border=\"1\" class=\"dataframe\">\n",
              "  <thead>\n",
              " <tr style=\"text-align: left;\">\n",
              "      <th>Epoch</th>\n",
              "      <th>Training Loss</th>\n",
              "      <th>Validation Loss</th>\n",
              "      <th>Accuracy</th>\n",
              "      <th>F1</th>\n",
              "    </tr>\n",
              "  </thead>\n",
              "  <tbody>\n",
              "    <tr>\n",
              "      <td>1</td>\n",
              "      <td>0.303300</td>\n",
              "      <td>0.280302</td>\n",
              "      <td>0.898467</td>\n",
              "      <td>0.897400</td>\n",
              "    </tr>\n",
              "    <tr>\n",
              "      <td>2</td>\n",
              "      <td>0.233600</td>\n",
              "      <td>0.364303</td>\n",
              "      <td>0.901833</td>\n",
              "      <td>0.902059</td>\n",
              "    </tr>\n",
              "    <tr>\n",
              "      <td>3</td>\n",
              "      <td>0.132600</td>\n",
              "      <td>0.479381</td>\n",
              "      <td>0.901500</td>\n",
              "      <td>0.901405</td>\n",
              "    </tr>\n",
              "  </tbody>\n",
              "</table><p>"
            ],
            "text/plain": [
              "<IPython.core.display.HTML object>"
            ]
          },
          "metadata": {},
          "output_type": "display_data"
        },
        {
          "data": {
            "text/plain": [
              "TrainOutput(global_step=45000, training_loss=0.23929850107828776, metrics={'train_runtime': 2145.1816, 'train_samples_per_second': 167.818, 'train_steps_per_second': 20.977, 'total_flos': 1.49849968248e+16, 'train_loss': 0.23929850107828776, 'epoch': 3.0})"
            ]
          },
          "execution_count": 29,
          "metadata": {},
          "output_type": "execute_result"
        }
      ],
      "source": [
        "trainer = Trainer(\n",
        "    model=model,           # 학습시킬 model\n",
        "    args=training_arguments,           # TrainingArguments을 통해 설정한 arguments\n",
        "    train_dataset=train,    # training dataset\n",
        "    eval_dataset=valid,       # evaluation dataset\n",
        "    compute_metrics=compute_metrics,\n",
        ")\n",
        "trainer.train()"
      ]
    },
    {
      "cell_type": "code",
      "execution_count": null,
      "id": "a2b2befa",
      "metadata": {
        "colab": {
          "base_uri": "https://localhost:8080/",
          "height": 159
        },
        "id": "a2b2befa",
        "outputId": "0ce7b51a-9787-46b1-97e9-0fd719885c20"
      },
      "outputs": [
        {
          "data": {
            "text/html": [
              "\n",
              "    <div>\n",
              "      \n",
              "      <progress value='6250' max='6250' style='width:300px; height:20px; vertical-align: middle;'></progress>\n",
              "      [6250/6250 01:19]\n",
              "    </div>\n",
              "    "
            ],
            "text/plain": [
              "<IPython.core.display.HTML object>"
            ]
          },
          "metadata": {},
          "output_type": "display_data"
        },
        {
          "data": {
            "text/plain": [
              "{'eval_loss': 0.4796539843082428,\n",
              " 'eval_accuracy': 0.90138,\n",
              " 'eval_f1': 0.9026936359151455,\n",
              " 'eval_runtime': 79.7952,\n",
              " 'eval_samples_per_second': 626.604,\n",
              " 'eval_steps_per_second': 78.326,\n",
              " 'epoch': 3.0}"
            ]
          },
          "execution_count": 30,
          "metadata": {},
          "output_type": "execute_result"
        }
      ],
      "source": [
        "trainer.evaluate(test)"
      ]
    },
    {
      "cell_type": "markdown",
      "id": "Bp9tEtVej_Dw",
      "metadata": {
        "id": "Bp9tEtVej_Dw"
      },
      "source": [
        "    - eval_strategy=\"epoch\",\n",
        "    - learning_rate = 2e-5,\n",
        "    - per_device_train_batch_size = 8,\n",
        "    - per_device_eval_batch_size = 8,\n",
        "    - num_train_epochs = 3,\n",
        "    - weight_decay = 0.01,\n",
        "\n",
        "    이 파라미터에 대해서 정확도 90% 나왔다."
      ]
    },
    {
      "cell_type": "markdown",
      "id": "kgoWK8DnkurR",
      "metadata": {
        "id": "kgoWK8DnkurR"
      },
      "source": [
        "### Fine-tuning을 통하여 모델 성능(accuarcy) 향상시키기\n",
        "\n",
        "데이터 전처리, TrainingArguments 등을 조정하여 모델의 정확도를 90% 이상으로 끌어올려봅시다.\n"
      ]
    },
    {
      "cell_type": "markdown",
      "id": "2Ejwv134q0c-",
      "metadata": {
        "id": "2Ejwv134q0c-"
      },
      "source": [
        "##### batch_size = 16"
      ]
    },
    {
      "cell_type": "code",
      "execution_count": null,
      "id": "B7qV6XU-nyeD",
      "metadata": {
        "colab": {
          "base_uri": "https://localhost:8080/"
        },
        "id": "B7qV6XU-nyeD",
        "outputId": "b127b0e1-4c25-403e-a945-2a96f7f450b6"
      },
      "outputs": [
        {
          "name": "stderr",
          "output_type": "stream",
          "text": [
            "Some weights of BertForSequenceClassification were not initialized from the model checkpoint at klue/bert-base and are newly initialized: ['classifier.bias', 'classifier.weight']\n",
            "You should probably TRAIN this model on a down-stream task to be able to use it for predictions and inference.\n"
          ]
        }
      ],
      "source": [
        "another_model = AutoModelForSequenceClassification.from_pretrained(\"klue/bert-base\", num_labels=2)"
      ]
    },
    {
      "cell_type": "code",
      "execution_count": null,
      "id": "vzgysAthnyYq",
      "metadata": {
        "id": "vzgysAthnyYq"
      },
      "outputs": [],
      "source": [
        "output_dir = \"./another_model\"\n",
        "\n",
        "training_arguments = TrainingArguments(\n",
        "    output_dir,                        # output이 저장될 경로\n",
        "    eval_strategy=\"epoch\",             # evaluation하는 빈도\n",
        "    save_strategy=\"epoch\",\n",
        "    learning_rate = 2e-5,              # learning_rate\n",
        "    per_device_train_batch_size = 16,   # 각 device 당 batch size\n",
        "    per_device_eval_batch_size = 16,    # evaluation 시에 batch size\n",
        "    num_train_epochs = 3,              # train 시킬 총 epochs\n",
        "    weight_decay = 0.01,               # weight decay: 가중치에 페널티를 주는 방식의 L2 정규화\n",
        ")"
      ]
    },
    {
      "cell_type": "code",
      "execution_count": null,
      "id": "xrAR6g5knyUi",
      "metadata": {
        "colab": {
          "base_uri": "https://localhost:8080/",
          "height": 363
        },
        "id": "xrAR6g5knyUi",
        "outputId": "5129ed89-10bd-48ba-bcc3-e3d8ad552186"
      },
      "outputs": [
        {
          "name": "stderr",
          "output_type": "stream",
          "text": [
            "\u001b[34m\u001b[1mwandb\u001b[0m: \u001b[33mWARNING\u001b[0m The `run_name` is currently set to the same value as `TrainingArguments.output_dir`. If this was not intended, please specify a different run name by setting the `TrainingArguments.run_name` parameter.\n",
            "\u001b[34m\u001b[1mwandb\u001b[0m: Currently logged in as: \u001b[33myears-archive\u001b[0m (\u001b[33mhuggingface-helper\u001b[0m) to \u001b[32mhttps://api.wandb.ai\u001b[0m. Use \u001b[1m`wandb login --relogin`\u001b[0m to force relogin\n"
          ]
        },
        {
          "data": {
            "text/html": [
              "Tracking run with wandb version 0.19.11"
            ],
            "text/plain": [
              "<IPython.core.display.HTML object>"
            ]
          },
          "metadata": {},
          "output_type": "display_data"
        },
        {
          "data": {
            "text/html": [
              "Run data is saved locally in <code>/content/wandb/run-20250528_095838-hrqxzj1i</code>"
            ],
            "text/plain": [
              "<IPython.core.display.HTML object>"
            ]
          },
          "metadata": {},
          "output_type": "display_data"
        },
        {
          "data": {
            "text/html": [
              "Syncing run <strong><a href='https://wandb.ai/huggingface-helper/huggingface/runs/hrqxzj1i' target=\"_blank\">./another_model</a></strong> to <a href='https://wandb.ai/huggingface-helper/huggingface' target=\"_blank\">Weights & Biases</a> (<a href='https://wandb.me/developer-guide' target=\"_blank\">docs</a>)<br>"
            ],
            "text/plain": [
              "<IPython.core.display.HTML object>"
            ]
          },
          "metadata": {},
          "output_type": "display_data"
        },
        {
          "data": {
            "text/html": [
              " View project at <a href='https://wandb.ai/huggingface-helper/huggingface' target=\"_blank\">https://wandb.ai/huggingface-helper/huggingface</a>"
            ],
            "text/plain": [
              "<IPython.core.display.HTML object>"
            ]
          },
          "metadata": {},
          "output_type": "display_data"
        },
        {
          "data": {
            "text/html": [
              " View run at <a href='https://wandb.ai/huggingface-helper/huggingface/runs/hrqxzj1i' target=\"_blank\">https://wandb.ai/huggingface-helper/huggingface/runs/hrqxzj1i</a>"
            ],
            "text/plain": [
              "<IPython.core.display.HTML object>"
            ]
          },
          "metadata": {},
          "output_type": "display_data"
        },
        {
          "data": {
            "text/html": [
              "\n",
              "    <div>\n",
              "      \n",
              "      <progress value='22500' max='22500' style='width:300px; height:20px; vertical-align: middle;'></progress>\n",
              "      [22500/22500 26:27, Epoch 3/3]\n",
              "    </div>\n",
              "    <table border=\"1\" class=\"dataframe\">\n",
              "  <thead>\n",
              " <tr style=\"text-align: left;\">\n",
              "      <th>Epoch</th>\n",
              "      <th>Training Loss</th>\n",
              "      <th>Validation Loss</th>\n",
              "      <th>Accuracy</th>\n",
              "      <th>F1</th>\n",
              "    </tr>\n",
              "  </thead>\n",
              "  <tbody>\n",
              "    <tr>\n",
              "      <td>1</td>\n",
              "      <td>0.255100</td>\n",
              "      <td>0.252230</td>\n",
              "      <td>0.901933</td>\n",
              "      <td>0.902705</td>\n",
              "    </tr>\n",
              "    <tr>\n",
              "      <td>2</td>\n",
              "      <td>0.184300</td>\n",
              "      <td>0.292396</td>\n",
              "      <td>0.902933</td>\n",
              "      <td>0.903435</td>\n",
              "    </tr>\n",
              "    <tr>\n",
              "      <td>3</td>\n",
              "      <td>0.122000</td>\n",
              "      <td>0.385521</td>\n",
              "      <td>0.904400</td>\n",
              "      <td>0.904240</td>\n",
              "    </tr>\n",
              "  </tbody>\n",
              "</table><p>"
            ],
            "text/plain": [
              "<IPython.core.display.HTML object>"
            ]
          },
          "metadata": {},
          "output_type": "display_data"
        },
        {
          "data": {
            "text/plain": [
              "TrainOutput(global_step=22500, training_loss=0.20033743777804905, metrics={'train_runtime': 1590.4214, 'train_samples_per_second': 226.355, 'train_steps_per_second': 14.147, 'total_flos': 1.49849968248e+16, 'train_loss': 0.20033743777804905, 'epoch': 3.0})"
            ]
          },
          "execution_count": 21,
          "metadata": {},
          "output_type": "execute_result"
        }
      ],
      "source": [
        "trainer = Trainer(\n",
        "    model=another_model,               # 학습시킬 model\n",
        "    args=training_arguments,           # TrainingArguments을 통해 설정한 arguments\n",
        "    train_dataset=train,               # training dataset\n",
        "    eval_dataset=valid,                # evaluation dataset\n",
        "    compute_metrics=compute_metrics,\n",
        ")\n",
        "trainer.train()"
      ]
    },
    {
      "cell_type": "code",
      "execution_count": null,
      "id": "QsB46Wvzk1Pe",
      "metadata": {
        "colab": {
          "base_uri": "https://localhost:8080/",
          "height": 159
        },
        "id": "QsB46Wvzk1Pe",
        "outputId": "b7191147-f48f-4f8f-9704-915d4724bfad"
      },
      "outputs": [
        {
          "data": {
            "text/html": [
              "\n",
              "    <div>\n",
              "      \n",
              "      <progress value='3125' max='3125' style='width:300px; height:20px; vertical-align: middle;'></progress>\n",
              "      [3125/3125 01:05]\n",
              "    </div>\n",
              "    "
            ],
            "text/plain": [
              "<IPython.core.display.HTML object>"
            ]
          },
          "metadata": {},
          "output_type": "display_data"
        },
        {
          "data": {
            "text/plain": [
              "{'eval_loss': 0.3955548107624054,\n",
              " 'eval_accuracy': 0.90234,\n",
              " 'eval_f1': 0.9033088453693986,\n",
              " 'eval_runtime': 65.624,\n",
              " 'eval_samples_per_second': 761.917,\n",
              " 'eval_steps_per_second': 47.62,\n",
              " 'epoch': 3.0}"
            ]
          },
          "execution_count": 22,
          "metadata": {},
          "output_type": "execute_result"
        }
      ],
      "source": [
        "trainer.evaluate(test)"
      ]
    },
    {
      "cell_type": "markdown",
      "id": "2WcskQeoq6j7",
      "metadata": {
        "id": "2WcskQeoq6j7"
      },
      "source": [
        "##### batch_size = 32"
      ]
    },
    {
      "cell_type": "code",
      "execution_count": null,
      "id": "86rxE1Hzp025",
      "metadata": {
        "colab": {
          "base_uri": "https://localhost:8080/"
        },
        "id": "86rxE1Hzp025",
        "outputId": "c0134ff7-d504-46c5-ec46-43cebeb7d966"
      },
      "outputs": [
        {
          "name": "stderr",
          "output_type": "stream",
          "text": [
            "Some weights of BertForSequenceClassification were not initialized from the model checkpoint at klue/bert-base and are newly initialized: ['classifier.bias', 'classifier.weight']\n",
            "You should probably TRAIN this model on a down-stream task to be able to use it for predictions and inference.\n"
          ]
        }
      ],
      "source": [
        "third_model = AutoModelForSequenceClassification.from_pretrained(\"klue/bert-base\", num_labels=2)"
      ]
    },
    {
      "cell_type": "code",
      "execution_count": null,
      "id": "ONrpno5arCBj",
      "metadata": {
        "id": "ONrpno5arCBj"
      },
      "outputs": [],
      "source": [
        "!mkdir ./third_model"
      ]
    },
    {
      "cell_type": "code",
      "execution_count": null,
      "id": "kOrnN1fCp0vj",
      "metadata": {
        "id": "kOrnN1fCp0vj"
      },
      "outputs": [],
      "source": [
        "output_dir = \"./third_model\"\n",
        "\n",
        "training_arguments = TrainingArguments(\n",
        "    output_dir,                        # output이 저장될 경로\n",
        "    eval_strategy=\"epoch\",             # evaluation하는 빈도\n",
        "    save_strategy=\"epoch\",\n",
        "    learning_rate = 2e-5,              # learning_rate\n",
        "    per_device_train_batch_size = 32,   # 각 device 당 batch size\n",
        "    per_device_eval_batch_size = 32,    # evaluation 시에 batch size\n",
        "    num_train_epochs = 3,              # train 시킬 총 epochs\n",
        "    weight_decay = 0.01,               # weight decay: 가중치에 페널티를 주는 방식의 L2 정규화\n",
        "    save_total_limit=3,                # checkpoint 최신 3개만 유지\n",
        ")"
      ]
    },
    {
      "cell_type": "code",
      "execution_count": null,
      "id": "ekYS4zgSp0qS",
      "metadata": {
        "colab": {
          "base_uri": "https://localhost:8080/",
          "height": 222
        },
        "id": "ekYS4zgSp0qS",
        "outputId": "30084269-0a58-441f-adc8-5db61d646ee1"
      },
      "outputs": [
        {
          "data": {
            "text/html": [
              "\n",
              "    <div>\n",
              "      \n",
              "      <progress value='11250' max='11250' style='width:300px; height:20px; vertical-align: middle;'></progress>\n",
              "      [11250/11250 21:58, Epoch 3/3]\n",
              "    </div>\n",
              "    <table border=\"1\" class=\"dataframe\">\n",
              "  <thead>\n",
              " <tr style=\"text-align: left;\">\n",
              "      <th>Epoch</th>\n",
              "      <th>Training Loss</th>\n",
              "      <th>Validation Loss</th>\n",
              "      <th>Accuracy</th>\n",
              "      <th>F1</th>\n",
              "    </tr>\n",
              "  </thead>\n",
              "  <tbody>\n",
              "    <tr>\n",
              "      <td>1</td>\n",
              "      <td>0.246700</td>\n",
              "      <td>0.243899</td>\n",
              "      <td>0.902767</td>\n",
              "      <td>0.901801</td>\n",
              "    </tr>\n",
              "    <tr>\n",
              "      <td>2</td>\n",
              "      <td>0.173100</td>\n",
              "      <td>0.260350</td>\n",
              "      <td>0.904200</td>\n",
              "      <td>0.905011</td>\n",
              "    </tr>\n",
              "    <tr>\n",
              "      <td>3</td>\n",
              "      <td>0.122200</td>\n",
              "      <td>0.315813</td>\n",
              "      <td>0.905533</td>\n",
              "      <td>0.905357</td>\n",
              "    </tr>\n",
              "  </tbody>\n",
              "</table><p>"
            ],
            "text/plain": [
              "<IPython.core.display.HTML object>"
            ]
          },
          "metadata": {},
          "output_type": "display_data"
        },
        {
          "data": {
            "text/plain": [
              "TrainOutput(global_step=11250, training_loss=0.19301375495062933, metrics={'train_runtime': 1318.2903, 'train_samples_per_second': 273.081, 'train_steps_per_second': 8.534, 'total_flos': 1.49849968248e+16, 'train_loss': 0.19301375495062933, 'epoch': 3.0})"
            ]
          },
          "execution_count": 26,
          "metadata": {},
          "output_type": "execute_result"
        }
      ],
      "source": [
        "trainer = Trainer(\n",
        "    model=third_model,               # 학습시킬 model\n",
        "    args=training_arguments,           # TrainingArguments을 통해 설정한 arguments\n",
        "    train_dataset=train,               # training dataset\n",
        "    eval_dataset=valid,                # evaluation dataset\n",
        "    compute_metrics=compute_metrics,\n",
        ")\n",
        "trainer.train()"
      ]
    },
    {
      "cell_type": "code",
      "execution_count": null,
      "id": "yICbE2pqp0nS",
      "metadata": {
        "colab": {
          "base_uri": "https://localhost:8080/",
          "height": 159
        },
        "id": "yICbE2pqp0nS",
        "outputId": "db06d66f-0b26-4d05-950d-cbb2bbdc298f"
      },
      "outputs": [
        {
          "data": {
            "text/html": [
              "\n",
              "    <div>\n",
              "      \n",
              "      <progress value='1563' max='1563' style='width:300px; height:20px; vertical-align: middle;'></progress>\n",
              "      [1563/1563 00:56]\n",
              "    </div>\n",
              "    "
            ],
            "text/plain": [
              "<IPython.core.display.HTML object>"
            ]
          },
          "metadata": {},
          "output_type": "display_data"
        },
        {
          "data": {
            "text/plain": [
              "{'eval_loss': 0.31664374470710754,\n",
              " 'eval_accuracy': 0.9034,\n",
              " 'eval_f1': 0.9043867289571621,\n",
              " 'eval_runtime': 56.4683,\n",
              " 'eval_samples_per_second': 885.452,\n",
              " 'eval_steps_per_second': 27.679,\n",
              " 'epoch': 3.0}"
            ]
          },
          "execution_count": 27,
          "metadata": {},
          "output_type": "execute_result"
        }
      ],
      "source": [
        "trainer.evaluate(test)"
      ]
    },
    {
      "cell_type": "markdown",
      "id": "b6I9-3bZNTcH",
      "metadata": {
        "id": "b6I9-3bZNTcH"
      },
      "source": [
        "##### batch_size=8, weight_decat=0.1"
      ]
    },
    {
      "cell_type": "code",
      "execution_count": null,
      "id": "5BQ2eoharOmr",
      "metadata": {
        "colab": {
          "base_uri": "https://localhost:8080/"
        },
        "id": "5BQ2eoharOmr",
        "outputId": "c983e7ad-4c8e-4de0-b589-4cada170b548"
      },
      "outputs": [
        {
          "name": "stderr",
          "output_type": "stream",
          "text": [
            "Some weights of BertForSequenceClassification were not initialized from the model checkpoint at klue/bert-base and are newly initialized: ['classifier.bias', 'classifier.weight']\n",
            "You should probably TRAIN this model on a down-stream task to be able to use it for predictions and inference.\n"
          ]
        }
      ],
      "source": [
        "fourth_model = AutoModelForSequenceClassification.from_pretrained(\"klue/bert-base\", num_labels=2)"
      ]
    },
    {
      "cell_type": "code",
      "execution_count": null,
      "id": "j9MXOyigrOdj",
      "metadata": {
        "id": "j9MXOyigrOdj"
      },
      "outputs": [],
      "source": [
        "!mkdir ./fourth_model"
      ]
    },
    {
      "cell_type": "code",
      "execution_count": null,
      "id": "5-T2arFrrOQS",
      "metadata": {
        "id": "5-T2arFrrOQS"
      },
      "outputs": [],
      "source": [
        "output_dir = \"./fourth_model\"\n",
        "\n",
        "training_arguments = TrainingArguments(\n",
        "    output_dir,                        # output이 저장될 경로\n",
        "    eval_strategy=\"epoch\",             # evaluation하는 빈도\n",
        "    save_strategy=\"epoch\",\n",
        "    learning_rate = 2e-5,              # learning_rate\n",
        "    per_device_train_batch_size = 8,   # 각 device 당 batch size\n",
        "    per_device_eval_batch_size = 8,    # evaluation 시에 batch size\n",
        "    num_train_epochs = 3,              # train 시킬 총 epochs\n",
        "    weight_decay = 0.1,               # weight decay: 가중치에 페널티를 주는 방식의 L2 정규화\n",
        "    save_total_limit=3,                # checkpoint 최신 3개만 유지\n",
        ")"
      ]
    },
    {
      "cell_type": "code",
      "execution_count": null,
      "id": "2Xq2Gs39NCIq",
      "metadata": {
        "colab": {
          "base_uri": "https://localhost:8080/",
          "height": 222
        },
        "id": "2Xq2Gs39NCIq",
        "outputId": "b4ad3794-3ac4-46eb-dfdf-71cc34c028c5"
      },
      "outputs": [
        {
          "data": {
            "text/html": [
              "\n",
              "    <div>\n",
              "      \n",
              "      <progress value='45000' max='45000' style='width:300px; height:20px; vertical-align: middle;'></progress>\n",
              "      [45000/45000 36:13, Epoch 3/3]\n",
              "    </div>\n",
              "    <table border=\"1\" class=\"dataframe\">\n",
              "  <thead>\n",
              " <tr style=\"text-align: left;\">\n",
              "      <th>Epoch</th>\n",
              "      <th>Training Loss</th>\n",
              "      <th>Validation Loss</th>\n",
              "      <th>Accuracy</th>\n",
              "      <th>F1</th>\n",
              "    </tr>\n",
              "  </thead>\n",
              "  <tbody>\n",
              "    <tr>\n",
              "      <td>1</td>\n",
              "      <td>0.299300</td>\n",
              "      <td>0.286086</td>\n",
              "      <td>0.895867</td>\n",
              "      <td>0.893065</td>\n",
              "    </tr>\n",
              "    <tr>\n",
              "      <td>2</td>\n",
              "      <td>0.232100</td>\n",
              "      <td>0.400259</td>\n",
              "      <td>0.901500</td>\n",
              "      <td>0.902272</td>\n",
              "    </tr>\n",
              "    <tr>\n",
              "      <td>3</td>\n",
              "      <td>0.138300</td>\n",
              "      <td>0.469910</td>\n",
              "      <td>0.903500</td>\n",
              "      <td>0.903548</td>\n",
              "    </tr>\n",
              "  </tbody>\n",
              "</table><p>"
            ],
            "text/plain": [
              "<IPython.core.display.HTML object>"
            ]
          },
          "metadata": {},
          "output_type": "display_data"
        },
        {
          "data": {
            "text/plain": [
              "TrainOutput(global_step=45000, training_loss=0.23649422793918184, metrics={'train_runtime': 2173.877, 'train_samples_per_second': 165.603, 'train_steps_per_second': 20.7, 'total_flos': 1.49849968248e+16, 'train_loss': 0.23649422793918184, 'epoch': 3.0})"
            ]
          },
          "execution_count": 31,
          "metadata": {},
          "output_type": "execute_result"
        }
      ],
      "source": [
        "trainer = Trainer(\n",
        "    model=fourth_model,               # 학습시킬 model\n",
        "    args=training_arguments,           # TrainingArguments을 통해 설정한 arguments\n",
        "    train_dataset=train,               # training dataset\n",
        "    eval_dataset=valid,                # evaluation dataset\n",
        "    compute_metrics=compute_metrics,\n",
        ")\n",
        "trainer.train()"
      ]
    },
    {
      "cell_type": "code",
      "execution_count": null,
      "id": "eIYejVxgNCFi",
      "metadata": {
        "colab": {
          "base_uri": "https://localhost:8080/",
          "height": 159
        },
        "id": "eIYejVxgNCFi",
        "outputId": "07eab396-8522-4380-9036-3fbfe7298109"
      },
      "outputs": [
        {
          "data": {
            "text/html": [
              "\n",
              "    <div>\n",
              "      \n",
              "      <progress value='6250' max='6250' style='width:300px; height:20px; vertical-align: middle;'></progress>\n",
              "      [6250/6250 01:20]\n",
              "    </div>\n",
              "    "
            ],
            "text/plain": [
              "<IPython.core.display.HTML object>"
            ]
          },
          "metadata": {},
          "output_type": "display_data"
        },
        {
          "data": {
            "text/plain": [
              "{'eval_loss': 0.4717709422111511,\n",
              " 'eval_accuracy': 0.90248,\n",
              " 'eval_f1': 0.9037276891486337,\n",
              " 'eval_runtime': 80.4818,\n",
              " 'eval_samples_per_second': 621.258,\n",
              " 'eval_steps_per_second': 77.657,\n",
              " 'epoch': 3.0}"
            ]
          },
          "execution_count": 32,
          "metadata": {},
          "output_type": "execute_result"
        }
      ],
      "source": [
        "trainer.evaluate(test)"
      ]
    },
    {
      "cell_type": "markdown",
      "id": "P9xTip74k1ut",
      "metadata": {
        "id": "P9xTip74k1ut"
      },
      "source": [
        "### Bucketing을 적용하여 학습시키고, STEP 4의 결과와의 비교\n",
        "\n",
        "아래 링크를 바탕으로 bucketing과 dynamic padding이 무엇인지 알아보고, 이들을 적용하여 model을 학습시킵니다.\n",
        "\n",
        "- Data Collator: https://huggingface.co/docs/transformers/v4.30.0/en/main_classes/data_collator\n",
        "\n",
        "- Trainer.TrainingArguments 의 group_by_length: https://huggingface.co/docs/transformers/main_classes/trainer#transformers.TrainingArguments\n",
        "\n",
        "STEP 4에 학습한 결과와 bucketing을 적용하여 학습시킨 결과를 비교해보고, 모델 성능 향상과 훈련 시간 두 가지 측면에서 각각 어떤 이점이 있는지 비교해봅시다."
      ]
    },
    {
      "cell_type": "code",
      "execution_count": null,
      "id": "7WLx5dGey8IP",
      "metadata": {
        "id": "7WLx5dGey8IP"
      },
      "outputs": [],
      "source": [
        "!mkdir ./results"
      ]
    },
    {
      "cell_type": "code",
      "execution_count": null,
      "id": "blySbVXV1a-i",
      "metadata": {
        "colab": {
          "base_uri": "https://localhost:8080/"
        },
        "id": "blySbVXV1a-i",
        "outputId": "65f96ec8-d790-40d0-db84-30e6c51fc34e"
      },
      "outputs": [
        {
          "name": "stderr",
          "output_type": "stream",
          "text": [
            "Some weights of BertForSequenceClassification were not initialized from the model checkpoint at klue/bert-base and are newly initialized: ['classifier.bias', 'classifier.weight']\n",
            "You should probably TRAIN this model on a down-stream task to be able to use it for predictions and inference.\n"
          ]
        }
      ],
      "source": [
        "fifth_model = AutoModelForSequenceClassification.from_pretrained(\"klue/bert-base\", num_labels=2)"
      ]
    },
    {
      "cell_type": "code",
      "execution_count": null,
      "id": "eNEX6WAulAj6",
      "metadata": {
        "colab": {
          "base_uri": "https://localhost:8080/",
          "height": 276
        },
        "id": "eNEX6WAulAj6",
        "outputId": "2fe2b9b4-5a32-408e-e006-ca6707a8c6e1"
      },
      "outputs": [
        {
          "name": "stderr",
          "output_type": "stream",
          "text": [
            "<ipython-input-44-11cb96887d66>:18: FutureWarning: `tokenizer` is deprecated and will be removed in version 5.0.0 for `Trainer.__init__`. Use `processing_class` instead.\n",
            "  trainer = Trainer(\n"
          ]
        },
        {
          "data": {
            "text/html": [
              "\n",
              "    <div>\n",
              "      \n",
              "      <progress value='45000' max='45000' style='width:300px; height:20px; vertical-align: middle;'></progress>\n",
              "      [45000/45000 36:54, Epoch 3/3]\n",
              "    </div>\n",
              "    <table border=\"1\" class=\"dataframe\">\n",
              "  <thead>\n",
              " <tr style=\"text-align: left;\">\n",
              "      <th>Epoch</th>\n",
              "      <th>Training Loss</th>\n",
              "      <th>Validation Loss</th>\n",
              "      <th>Accuracy</th>\n",
              "      <th>F1</th>\n",
              "    </tr>\n",
              "  </thead>\n",
              "  <tbody>\n",
              "    <tr>\n",
              "      <td>1</td>\n",
              "      <td>0.297900</td>\n",
              "      <td>0.280490</td>\n",
              "      <td>0.897500</td>\n",
              "      <td>0.898088</td>\n",
              "    </tr>\n",
              "    <tr>\n",
              "      <td>2</td>\n",
              "      <td>0.234000</td>\n",
              "      <td>0.360194</td>\n",
              "      <td>0.903500</td>\n",
              "      <td>0.901714</td>\n",
              "    </tr>\n",
              "    <tr>\n",
              "      <td>3</td>\n",
              "      <td>0.132000</td>\n",
              "      <td>0.467950</td>\n",
              "      <td>0.904167</td>\n",
              "      <td>0.904773</td>\n",
              "    </tr>\n",
              "  </tbody>\n",
              "</table><p>"
            ],
            "text/plain": [
              "<IPython.core.display.HTML object>"
            ]
          },
          "metadata": {},
          "output_type": "display_data"
        },
        {
          "data": {
            "text/plain": [
              "TrainOutput(global_step=45000, training_loss=0.23798619435628254, metrics={'train_runtime': 2215.014, 'train_samples_per_second': 162.527, 'train_steps_per_second': 20.316, 'total_flos': 1.49849968248e+16, 'train_loss': 0.23798619435628254, 'epoch': 3.0})"
            ]
          },
          "execution_count": 44,
          "metadata": {},
          "output_type": "execute_result"
        }
      ],
      "source": [
        "from transformers import TrainingArguments, Trainer, DataCollatorWithPadding\n",
        "\n",
        "data_collator = DataCollatorWithPadding(tokenizer=tokenizer)  # dynamic padding 적용\n",
        "\n",
        "training_args = TrainingArguments(\n",
        "    output_dir=\"./results\",\n",
        "    eval_strategy=\"epoch\",\n",
        "    save_strategy=\"epoch\",         # 매 epoch 저장\n",
        "    save_total_limit=2,\n",
        "    learning_rate=2e-5,\n",
        "    per_device_train_batch_size=8,\n",
        "    per_device_eval_batch_size=8,\n",
        "    num_train_epochs=3,\n",
        "    weight_decay=0.01,\n",
        "    group_by_length=True,  # 🔥 Bucketing 핵심 옵션\n",
        ")\n",
        "\n",
        "trainer = Trainer(\n",
        "    model=fifth_model,\n",
        "    args=training_args,\n",
        "    train_dataset=train,\n",
        "    eval_dataset=valid,\n",
        "    compute_metrics=compute_metrics,\n",
        "    tokenizer=tokenizer,\n",
        "    data_collator=data_collator  # dynamic padding\n",
        ")\n",
        "\n",
        "trainer.train()\n"
      ]
    },
    {
      "cell_type": "code",
      "execution_count": null,
      "id": "1Uq0g9q3u26q",
      "metadata": {
        "colab": {
          "base_uri": "https://localhost:8080/",
          "height": 159
        },
        "id": "1Uq0g9q3u26q",
        "outputId": "f0e22697-23a2-48f0-93d4-eee1673f1ef4"
      },
      "outputs": [
        {
          "data": {
            "text/html": [
              "\n",
              "    <div>\n",
              "      \n",
              "      <progress value='6250' max='6250' style='width:300px; height:20px; vertical-align: middle;'></progress>\n",
              "      [6250/6250 01:21]\n",
              "    </div>\n",
              "    "
            ],
            "text/plain": [
              "<IPython.core.display.HTML object>"
            ]
          },
          "metadata": {},
          "output_type": "display_data"
        },
        {
          "data": {
            "text/plain": [
              "{'eval_loss': 0.4740499258041382,\n",
              " 'eval_accuracy': 0.9021,\n",
              " 'eval_f1': 0.9039310737346182,\n",
              " 'eval_runtime': 81.5607,\n",
              " 'eval_samples_per_second': 613.04,\n",
              " 'eval_steps_per_second': 76.63,\n",
              " 'epoch': 3.0}"
            ]
          },
          "execution_count": 45,
          "metadata": {},
          "output_type": "execute_result"
        }
      ],
      "source": [
        "trainer.evaluate(test)"
      ]
    },
    {
      "cell_type": "code",
      "execution_count": null,
      "id": "I6qvJ7yPu24G",
      "metadata": {
        "id": "I6qvJ7yPu24G"
      },
      "outputs": [],
      "source": []
    },
    {
      "cell_type": "markdown",
      "id": "WKuNVR-yu5Ku",
      "metadata": {
        "id": "WKuNVR-yu5Ku"
      },
      "source": [
        "# 회고\n",
        "\n",
        "Test set에 대한 결과 비교\n",
        "\n",
        "| 구분 | loss | accuracy | f1 |\n",
        "| --- | --- | --- | --- |\n",
        "|bsz = 8, wd = 0.01  | 0.4797 | 0.9014 | 0.9027 |\n",
        "|bsz = 16, wd = 0.01 | 0.3956 | 0.9023 | 0.9033 |\n",
        "|bsz = 32, wd = 0.01 | 0.3166 | 0.9034 | 0.9044 |\n",
        "|bsz = 8, wd = 0.1   | 0.4718 | 0.9025 | 0.9037 |\n",
        "\n",
        "\n"
      ]
    },
    {
      "cell_type": "markdown",
      "id": "ACErVOpbvgQF",
      "metadata": {
        "id": "ACErVOpbvgQF"
      },
      "source": [
        "batch size가 클수록 학습 속도가 줄고, 미세하게 성능 향상을 보이는 것을 확인했다.  \n",
        "\n",
        "weight decay를 0.01 -> 0.1로 변경했을때, 성능 향상을 보이지 않았다.\n",
        "\n",
        "bucketing 적용 전 35:29에 비해 bucketing 적용 후, 36:54는 학습 속도가 오히려 늘어났다.  확인이 필요하다.\n",
        "\n",
        "colab A100 GPU가 속도가 엄청 빨라서, 프로젝트를 시간안에 마무리 할 수 있었다.  \n",
        "> max_length=512 node -> 학습 10시간, colab A100 ->  2시간,   \n",
        "> max_length=81 colab T4 -> 학습 2시간, colab A100 -> 30분\n",
        "\n",
        "처음에는 tokenizer max_length를 설정하지 않아서 default 값인 512로 진행했었는데,  \n",
        "max_length를 81로 진행한 결과와 결과가 다르지 않았고, 속도는 훨씬 빨라서, max_length 설정의 중요성을 느꼈다.  \n",
        "\n",
        "> 참고: https://github.com/develop-insight/AIFFEL_quest_rs/blob/master/GoingDeeper/Go07/archive/2025_05_27_huggingface_none_max_length.ipynb\n",
        "\n",
        "--- \n",
        "개선점  \n",
        "dynamic padding을 잘못 적용함 => train, valid, test 데이터에 이미 패딩이 들어가 있어서 제대로 동작하지 않은 것으로 생각된다.  \n",
        "데이터 셋을 다시 만들어서 dynamic padding을 적용해야 한다.  "
      ]
    },
    {
      "cell_type": "markdown",
      "id": "dtaollmgvG2n",
      "metadata": {
        "id": "dtaollmgvG2n"
      },
      "source": [
        "### result archive\n",
        "\n"
      ]
    },
    {
      "cell_type": "markdown",
      "id": "lvtXfRwbAMXh",
      "metadata": {
        "id": "lvtXfRwbAMXh"
      },
      "source": [
        "#### batch_size = 8, weight_decay = 0.01\n",
        "\n",
        "Train  \n",
        "\n",
        "[45000/45000 35:29, Epoch 3/3]\n",
        "\n",
        "| Epoch |\tTraining Loss |\tValidation Loss |\tAccuracy |\tF1 |\n",
        "| --- | --- | --- | --- | --- |\n",
        "| 1 |\t0.303300 |\t0.280302 |\t0.898467\t| 0.897400 |\n",
        "| 2 |\t0.233600 |\t0.364303 |\t0.901833\t| 0.902059 |\n",
        "| 3 |\t0.132600 |\t0.479381 |\t0.901500\t| 0.901405 |\n",
        "\n",
        "Test\n",
        "\n",
        "[6250/6250 01:19]  \n",
        "```\n",
        "{'eval_loss': 0.4796539843082428,\n",
        " 'eval_accuracy': 0.90138,\n",
        " 'eval_f1': 0.9026936359151455,\n",
        " 'eval_runtime': 79.7952,\n",
        " 'eval_samples_per_second': 626.604,\n",
        " 'eval_steps_per_second': 78.326,\n",
        " 'epoch': 3.0}\n",
        "```\n",
        "\n",
        "---\n",
        "\n",
        "#### batch_size = 16, weight_decay = 0.01\n",
        "Train  \n",
        "\n",
        "[22500/22500 26:27, Epoch 3/3]\n",
        "\n",
        "| Epoch |\tTraining Loss | \tValidation Loss |\tAccuracy\t| F1 |\n",
        "| --- | --- | --- | --- | --- |\n",
        "| 1 |\t0.255100 | \t0.252230 |\t0.901933\t| 0.902705 |\n",
        "| 2 |\t0.184300 | \t0.292396 |\t0.902933\t| 0.903435 |\n",
        "| 3 |\t0.122000 | \t0.385521 |\t0.904400\t| 0.904240 |\n",
        "\n",
        "Test  \n",
        "[3125/3125 01:05]\n",
        "```\n",
        "{'eval_loss': 0.3955548107624054,\n",
        " 'eval_accuracy': 0.90234,\n",
        " 'eval_f1': 0.9033088453693986,\n",
        " 'eval_runtime': 65.624,\n",
        " 'eval_samples_per_second': 761.917,\n",
        " 'eval_steps_per_second': 47.62,\n",
        " 'epoch': 3.0}\n",
        "```\n",
        "\n",
        "---\n",
        "\n",
        "#### batch_size = 32, weight_decay = 0.01\n",
        "\n",
        "Train  \n",
        "\n",
        "[11250/11250 21:58, Epoch 3/3]\n",
        "\n",
        "|Epoch |\tTraining Loss |\tValidation Loss |\tAccuracy |\tF1 |\n",
        "| --- | --- | --- | --- | --- |\n",
        "|1 |\t0.246700 |\t0.243899 |\t0.902767 |\t0.901801 |\n",
        "|2 |\t0.173100 |\t0.260350 |\t0.904200 |\t0.905011 |\n",
        "|3 |\t0.122200 |\t0.315813 |\t0.905533 |\t0.905357 |\n",
        "\n",
        "Test  \n",
        "\n",
        "[1563/1563 00:56]\n",
        "\n",
        "```\n",
        "{'eval_loss': 0.31664374470710754,\n",
        " 'eval_accuracy': 0.9034,\n",
        " 'eval_f1': 0.9043867289571621,\n",
        " 'eval_runtime': 56.4683,\n",
        " 'eval_samples_per_second': 885.452,\n",
        " 'eval_steps_per_second': 27.679,\n",
        " 'epoch': 3.0}\n",
        "```\n",
        "\n",
        "---\n",
        "\n",
        "#### batch_size = 8, weight_decay = 0.1\n",
        "\n",
        "Train  \n",
        "\n",
        "[45000/45000 36:13, Epoch 3/3]\n",
        "\n",
        "| Epoch |\tTraining Loss |\tValidation Loss |\tAccuracy |\tF1 |\n",
        "| --- | --- | --- | --- | --- |\n",
        "| 1 |\t0.299300 |\t0.286086 |\t0.895867\t| 0.893065 |\n",
        "| 2 |\t0.232100 |\t0.400259 |\t0.901500\t| 0.902272 |\n",
        "| 3 |\t0.138300 |\t0.469910 |\t0.903500\t| 0.903548 |\n",
        "\n",
        "Test\n",
        "\n",
        "[6250/6250 01:20]\n",
        "\n",
        "```\n",
        "{'eval_loss': 0.4717709422111511,\n",
        " 'eval_accuracy': 0.90248,\n",
        " 'eval_f1': 0.9037276891486337,\n",
        " 'eval_runtime': 80.4818,\n",
        " 'eval_samples_per_second': 621.258,\n",
        " 'eval_steps_per_second': 77.657,\n",
        " 'epoch': 3.0}\n",
        "```"
      ]
    },
    {
      "cell_type": "markdown",
      "id": "cF4TZJ_nwEp6",
      "metadata": {
        "id": "cF4TZJ_nwEp6"
      },
      "source": [
        "## bucketing & dynamic padding 개념이해\n"
      ]
    },
    {
      "cell_type": "markdown",
      "id": "me4hvD-sv1J0",
      "metadata": {
        "id": "me4hvD-sv1J0"
      },
      "source": [
        "\n",
        "좋은 질문입니다! `bucketing`과 `dynamic padding`은 자연어 처리(NLP) 모델 학습에서 **효율적인 배치 처리(batch processing)** 를 위해 사용되는 **텍스트 길이 최적화 기법**입니다. 아래에서 개념과 차이를 쉽게 설명드릴게요.\n",
        "\n",
        "---\n",
        "\n",
        "### ✅ 1. Dynamic Padding (동적 패딩)\n",
        "\n",
        "#### 📌 개념:\n",
        "\n",
        "* **동적(dynamic)** 으로, **각 배치 내에서 가장 긴 문장 길이에 맞춰 padding**을 하는 방식입니다.\n",
        "* → 전체 데이터셋에서 가장 긴 문장에 맞춰 패딩하지 않기 때문에 **메모리 낭비가 적습니다.**\n",
        "\n",
        "#### ✅ 예시:\n",
        "\n",
        "```python\n",
        "Batch 1: [\"나는 밥을 먹었다\", \"배고파\"]\n",
        "→ 토큰 길이: [5, 3] → max_len = 5 → [5, 5]로 패딩\n",
        "\n",
        "Batch 2: [\"오전에는 공부하고\", \"저녁에 운동함\", \"그리고 잠\"]\n",
        "→ 토큰 길이: [5, 4, 3] → max_len = 5 → [5, 5, 5]로 패딩\n",
        "```\n",
        "\n",
        "#### ✅ 장점:\n",
        "\n",
        "* GPU 메모리 사용이 최적화됨\n",
        "* 전체 max length로 패딩하는 것보다 연산량 ↓\n",
        "\n",
        "---\n",
        "\n",
        "### ✅ 2. Bucketing (버킷팅)\n",
        "\n",
        "#### 📌 개념:\n",
        "\n",
        "* **유사한 길이의 문장들끼리 묶어서(mini-batch로)** 학습하는 방식입니다.\n",
        "* → 패딩이 거의 필요 없도록 **비슷한 길이의 문장들만 묶기 때문에 효율적입니다.**\n",
        "\n",
        "#### ✅ 작동 방식:\n",
        "\n",
        "1. 전체 데이터를 문장 길이에 따라 정렬\n",
        "2. 비슷한 길이의 데이터끼리 묶어 \"버킷(bucket)\" 생성\n",
        "3. 각 버킷에서 배치를 구성하여 학습\n",
        "\n",
        "#### ✅ 예시:\n",
        "\n",
        "```plaintext\n",
        "길이별로 정렬 후\n",
        "[3, 3, 4] → Batch 1\n",
        "[10, 9, 11] → Batch 2\n",
        "```\n",
        "\n",
        "#### ✅ 장점:\n",
        "\n",
        "* padding이 거의 필요 없음\n",
        "* 연산 자원 절약\n",
        "\n",
        "---\n",
        "\n",
        "### ✅ 둘의 차이 요약\n",
        "\n",
        "| 항목        | Dynamic Padding | Bucketing                    |\n",
        "| --------- | --------------- | ---------------------------- |\n",
        "| 패딩 기준     | **각 배치의 최대 길이** | **유사한 길이끼리 묶기 때문에 패딩 거의 없음** |\n",
        "| 구현 난이도    | 간단함             | 상대적으로 복잡함 (bucket 나눠야 함)     |\n",
        "| 메모리 효율    | 좋음              | **더 좋음**                     |\n",
        "| 데이터 순서 보존 | 가능              | 대부분 순서 섞임 (shuffle 필요)       |\n",
        "\n",
        "---\n",
        "\n",
        "### ✅ Hugging Face에서 적용 예시\n",
        "\n",
        "```python\n",
        "from transformers import DataCollatorWithPadding\n",
        "\n",
        "# Dynamic Padding\n",
        "data_collator = DataCollatorWithPadding(tokenizer=tokenizer)\n",
        "\n",
        "trainer = Trainer(\n",
        "    model=model,\n",
        "    args=training_args,\n",
        "    train_dataset=dataset[\"train\"],\n",
        "    eval_dataset=dataset[\"validation\"],\n",
        "    data_collator=data_collator,\n",
        ")\n",
        "```\n",
        "\n",
        "> 🤖 `DataCollatorWithPadding`은 내부적으로 dynamic padding을 자동 처리해 줍니다.\n",
        "\n",
        "---\n",
        "\n",
        "원한다면 PyTorch DataLoader에서 bucketing을 수동 구현하는 방법도 알려드릴 수 있어요.\n"
      ]
    }
  ],
  "metadata": {
    "accelerator": "GPU",
    "colab": {
      "collapsed_sections": [
        "dtaollmgvG2n",
        "cF4TZJ_nwEp6"
      ],
      "gpuType": "A100",
      "include_colab_link": true,
      "machine_shape": "hm",
      "provenance": []
    },
    "kernelspec": {
      "display_name": "Python 3",
      "name": "python3"
    },
    "language_info": {
      "codemirror_mode": {
        "name": "ipython",
        "version": 3
      },
      "file_extension": ".py",
      "mimetype": "text/x-python",
      "name": "python",
      "nbconvert_exporter": "python",
      "pygments_lexer": "ipython3",
      "version": "3.9.7"
    },
    "widgets": {
      "application/vnd.jupyter.widget-state+json": {
        "0270bc8656284fdb94aa5d1846b3b102": {
          "model_module": "@jupyter-widgets/base",
          "model_module_version": "1.2.0",
          "model_name": "LayoutModel",
          "state": {
            "_model_module": "@jupyter-widgets/base",
            "_model_module_version": "1.2.0",
            "_model_name": "LayoutModel",
            "_view_count": null,
            "_view_module": "@jupyter-widgets/base",
            "_view_module_version": "1.2.0",
            "_view_name": "LayoutView",
            "align_content": null,
            "align_items": null,
            "align_self": null,
            "border": null,
            "bottom": null,
            "display": null,
            "flex": null,
            "flex_flow": null,
            "grid_area": null,
            "grid_auto_columns": null,
            "grid_auto_flow": null,
            "grid_auto_rows": null,
            "grid_column": null,
            "grid_gap": null,
            "grid_row": null,
            "grid_template_areas": null,
            "grid_template_columns": null,
            "grid_template_rows": null,
            "height": null,
            "justify_content": null,
            "justify_items": null,
            "left": null,
            "margin": null,
            "max_height": null,
            "max_width": null,
            "min_height": null,
            "min_width": null,
            "object_fit": null,
            "object_position": null,
            "order": null,
            "overflow": null,
            "overflow_x": null,
            "overflow_y": null,
            "padding": null,
            "right": null,
            "top": null,
            "visibility": null,
            "width": null
          }
        },
        "0bb90a7240ab42aaa4f4445c949130f9": {
          "model_module": "@jupyter-widgets/base",
          "model_module_version": "1.2.0",
          "model_name": "LayoutModel",
          "state": {
            "_model_module": "@jupyter-widgets/base",
            "_model_module_version": "1.2.0",
            "_model_name": "LayoutModel",
            "_view_count": null,
            "_view_module": "@jupyter-widgets/base",
            "_view_module_version": "1.2.0",
            "_view_name": "LayoutView",
            "align_content": null,
            "align_items": null,
            "align_self": null,
            "border": null,
            "bottom": null,
            "display": null,
            "flex": null,
            "flex_flow": null,
            "grid_area": null,
            "grid_auto_columns": null,
            "grid_auto_flow": null,
            "grid_auto_rows": null,
            "grid_column": null,
            "grid_gap": null,
            "grid_row": null,
            "grid_template_areas": null,
            "grid_template_columns": null,
            "grid_template_rows": null,
            "height": null,
            "justify_content": null,
            "justify_items": null,
            "left": null,
            "margin": null,
            "max_height": null,
            "max_width": null,
            "min_height": null,
            "min_width": null,
            "object_fit": null,
            "object_position": null,
            "order": null,
            "overflow": null,
            "overflow_x": null,
            "overflow_y": null,
            "padding": null,
            "right": null,
            "top": null,
            "visibility": null,
            "width": null
          }
        },
        "24c30b55e3de4bbbaa56024a27240564": {
          "model_module": "@jupyter-widgets/base",
          "model_module_version": "1.2.0",
          "model_name": "LayoutModel",
          "state": {
            "_model_module": "@jupyter-widgets/base",
            "_model_module_version": "1.2.0",
            "_model_name": "LayoutModel",
            "_view_count": null,
            "_view_module": "@jupyter-widgets/base",
            "_view_module_version": "1.2.0",
            "_view_name": "LayoutView",
            "align_content": null,
            "align_items": null,
            "align_self": null,
            "border": null,
            "bottom": null,
            "display": null,
            "flex": null,
            "flex_flow": null,
            "grid_area": null,
            "grid_auto_columns": null,
            "grid_auto_flow": null,
            "grid_auto_rows": null,
            "grid_column": null,
            "grid_gap": null,
            "grid_row": null,
            "grid_template_areas": null,
            "grid_template_columns": null,
            "grid_template_rows": null,
            "height": null,
            "justify_content": null,
            "justify_items": null,
            "left": null,
            "margin": null,
            "max_height": null,
            "max_width": null,
            "min_height": null,
            "min_width": null,
            "object_fit": null,
            "object_position": null,
            "order": null,
            "overflow": null,
            "overflow_x": null,
            "overflow_y": null,
            "padding": null,
            "right": null,
            "top": null,
            "visibility": null,
            "width": null
          }
        },
        "2dcb3b906255483da8415bfcf39469e5": {
          "model_module": "@jupyter-widgets/base",
          "model_module_version": "1.2.0",
          "model_name": "LayoutModel",
          "state": {
            "_model_module": "@jupyter-widgets/base",
            "_model_module_version": "1.2.0",
            "_model_name": "LayoutModel",
            "_view_count": null,
            "_view_module": "@jupyter-widgets/base",
            "_view_module_version": "1.2.0",
            "_view_name": "LayoutView",
            "align_content": null,
            "align_items": null,
            "align_self": null,
            "border": null,
            "bottom": null,
            "display": null,
            "flex": null,
            "flex_flow": null,
            "grid_area": null,
            "grid_auto_columns": null,
            "grid_auto_flow": null,
            "grid_auto_rows": null,
            "grid_column": null,
            "grid_gap": null,
            "grid_row": null,
            "grid_template_areas": null,
            "grid_template_columns": null,
            "grid_template_rows": null,
            "height": null,
            "justify_content": null,
            "justify_items": null,
            "left": null,
            "margin": null,
            "max_height": null,
            "max_width": null,
            "min_height": null,
            "min_width": null,
            "object_fit": null,
            "object_position": null,
            "order": null,
            "overflow": null,
            "overflow_x": null,
            "overflow_y": null,
            "padding": null,
            "right": null,
            "top": null,
            "visibility": null,
            "width": null
          }
        },
        "2e5d93f9b21644e7ace0e90e00061569": {
          "model_module": "@jupyter-widgets/controls",
          "model_module_version": "1.5.0",
          "model_name": "DescriptionStyleModel",
          "state": {
            "_model_module": "@jupyter-widgets/controls",
            "_model_module_version": "1.5.0",
            "_model_name": "DescriptionStyleModel",
            "_view_count": null,
            "_view_module": "@jupyter-widgets/base",
            "_view_module_version": "1.2.0",
            "_view_name": "StyleView",
            "description_width": ""
          }
        },
        "2ee3b310949e4d3cae5e41d910d2bae7": {
          "model_module": "@jupyter-widgets/controls",
          "model_module_version": "1.5.0",
          "model_name": "DescriptionStyleModel",
          "state": {
            "_model_module": "@jupyter-widgets/controls",
            "_model_module_version": "1.5.0",
            "_model_name": "DescriptionStyleModel",
            "_view_count": null,
            "_view_module": "@jupyter-widgets/base",
            "_view_module_version": "1.2.0",
            "_view_name": "StyleView",
            "description_width": ""
          }
        },
        "4359460cca6746a1ab83df93ef235e57": {
          "model_module": "@jupyter-widgets/controls",
          "model_module_version": "1.5.0",
          "model_name": "HTMLModel",
          "state": {
            "_dom_classes": [],
            "_model_module": "@jupyter-widgets/controls",
            "_model_module_version": "1.5.0",
            "_model_name": "HTMLModel",
            "_view_count": null,
            "_view_module": "@jupyter-widgets/controls",
            "_view_module_version": "1.5.0",
            "_view_name": "HTMLView",
            "description": "",
            "description_tooltip": null,
            "layout": "IPY_MODEL_a320400dc71144189ee239ee4e64606c",
            "placeholder": "​",
            "style": "IPY_MODEL_f5c8fbc7671e43c09222dce4ae36405e",
            "value": " 50000/50000 [00:01&lt;00:00, 21761.04 examples/s]"
          }
        },
        "546e4506771c47459ce3495652d88f1a": {
          "model_module": "@jupyter-widgets/controls",
          "model_module_version": "1.5.0",
          "model_name": "HTMLModel",
          "state": {
            "_dom_classes": [],
            "_model_module": "@jupyter-widgets/controls",
            "_model_module_version": "1.5.0",
            "_model_name": "HTMLModel",
            "_view_count": null,
            "_view_module": "@jupyter-widgets/controls",
            "_view_module_version": "1.5.0",
            "_view_name": "HTMLView",
            "description": "",
            "description_tooltip": null,
            "layout": "IPY_MODEL_0bb90a7240ab42aaa4f4445c949130f9",
            "placeholder": "​",
            "style": "IPY_MODEL_2ee3b310949e4d3cae5e41d910d2bae7",
            "value": " 150000/150000 [00:07&lt;00:00, 21855.87 examples/s]"
          }
        },
        "8b2d1aafe3fa474385d44bc7f5108076": {
          "model_module": "@jupyter-widgets/base",
          "model_module_version": "1.2.0",
          "model_name": "LayoutModel",
          "state": {
            "_model_module": "@jupyter-widgets/base",
            "_model_module_version": "1.2.0",
            "_model_name": "LayoutModel",
            "_view_count": null,
            "_view_module": "@jupyter-widgets/base",
            "_view_module_version": "1.2.0",
            "_view_name": "LayoutView",
            "align_content": null,
            "align_items": null,
            "align_self": null,
            "border": null,
            "bottom": null,
            "display": null,
            "flex": null,
            "flex_flow": null,
            "grid_area": null,
            "grid_auto_columns": null,
            "grid_auto_flow": null,
            "grid_auto_rows": null,
            "grid_column": null,
            "grid_gap": null,
            "grid_row": null,
            "grid_template_areas": null,
            "grid_template_columns": null,
            "grid_template_rows": null,
            "height": null,
            "justify_content": null,
            "justify_items": null,
            "left": null,
            "margin": null,
            "max_height": null,
            "max_width": null,
            "min_height": null,
            "min_width": null,
            "object_fit": null,
            "object_position": null,
            "order": null,
            "overflow": null,
            "overflow_x": null,
            "overflow_y": null,
            "padding": null,
            "right": null,
            "top": null,
            "visibility": null,
            "width": null
          }
        },
        "8f88b41d5c244922bb7d75f5148234f7": {
          "model_module": "@jupyter-widgets/controls",
          "model_module_version": "1.5.0",
          "model_name": "FloatProgressModel",
          "state": {
            "_dom_classes": [],
            "_model_module": "@jupyter-widgets/controls",
            "_model_module_version": "1.5.0",
            "_model_name": "FloatProgressModel",
            "_view_count": null,
            "_view_module": "@jupyter-widgets/controls",
            "_view_module_version": "1.5.0",
            "_view_name": "ProgressView",
            "bar_style": "success",
            "description": "",
            "description_tooltip": null,
            "layout": "IPY_MODEL_2dcb3b906255483da8415bfcf39469e5",
            "max": 50000,
            "min": 0,
            "orientation": "horizontal",
            "style": "IPY_MODEL_e13ff4c3564c4647a910fee0c259a4f3",
            "value": 50000
          }
        },
        "a320400dc71144189ee239ee4e64606c": {
          "model_module": "@jupyter-widgets/base",
          "model_module_version": "1.2.0",
          "model_name": "LayoutModel",
          "state": {
            "_model_module": "@jupyter-widgets/base",
            "_model_module_version": "1.2.0",
            "_model_name": "LayoutModel",
            "_view_count": null,
            "_view_module": "@jupyter-widgets/base",
            "_view_module_version": "1.2.0",
            "_view_name": "LayoutView",
            "align_content": null,
            "align_items": null,
            "align_self": null,
            "border": null,
            "bottom": null,
            "display": null,
            "flex": null,
            "flex_flow": null,
            "grid_area": null,
            "grid_auto_columns": null,
            "grid_auto_flow": null,
            "grid_auto_rows": null,
            "grid_column": null,
            "grid_gap": null,
            "grid_row": null,
            "grid_template_areas": null,
            "grid_template_columns": null,
            "grid_template_rows": null,
            "height": null,
            "justify_content": null,
            "justify_items": null,
            "left": null,
            "margin": null,
            "max_height": null,
            "max_width": null,
            "min_height": null,
            "min_width": null,
            "object_fit": null,
            "object_position": null,
            "order": null,
            "overflow": null,
            "overflow_x": null,
            "overflow_y": null,
            "padding": null,
            "right": null,
            "top": null,
            "visibility": null,
            "width": null
          }
        },
        "b117171a29504dc58482402bc6bc095a": {
          "model_module": "@jupyter-widgets/controls",
          "model_module_version": "1.5.0",
          "model_name": "HTMLModel",
          "state": {
            "_dom_classes": [],
            "_model_module": "@jupyter-widgets/controls",
            "_model_module_version": "1.5.0",
            "_model_name": "HTMLModel",
            "_view_count": null,
            "_view_module": "@jupyter-widgets/controls",
            "_view_module_version": "1.5.0",
            "_view_name": "HTMLView",
            "description": "",
            "description_tooltip": null,
            "layout": "IPY_MODEL_c6649296837c496f89f9f275b5aec4ed",
            "placeholder": "​",
            "style": "IPY_MODEL_ca1e98a536ab4a2d84e0025475156693",
            "value": "Map: 100%"
          }
        },
        "bad5f88d72964920997dcecea0988ccb": {
          "model_module": "@jupyter-widgets/controls",
          "model_module_version": "1.5.0",
          "model_name": "FloatProgressModel",
          "state": {
            "_dom_classes": [],
            "_model_module": "@jupyter-widgets/controls",
            "_model_module_version": "1.5.0",
            "_model_name": "FloatProgressModel",
            "_view_count": null,
            "_view_module": "@jupyter-widgets/controls",
            "_view_module_version": "1.5.0",
            "_view_name": "ProgressView",
            "bar_style": "success",
            "description": "",
            "description_tooltip": null,
            "layout": "IPY_MODEL_24c30b55e3de4bbbaa56024a27240564",
            "max": 150000,
            "min": 0,
            "orientation": "horizontal",
            "style": "IPY_MODEL_ffb5ec3181a5466983ed4902b6f6530a",
            "value": 150000
          }
        },
        "c1c13c9e9e9546b883b845665785d879": {
          "model_module": "@jupyter-widgets/controls",
          "model_module_version": "1.5.0",
          "model_name": "HBoxModel",
          "state": {
            "_dom_classes": [],
            "_model_module": "@jupyter-widgets/controls",
            "_model_module_version": "1.5.0",
            "_model_name": "HBoxModel",
            "_view_count": null,
            "_view_module": "@jupyter-widgets/controls",
            "_view_module_version": "1.5.0",
            "_view_name": "HBoxView",
            "box_style": "",
            "children": [
              "IPY_MODEL_b117171a29504dc58482402bc6bc095a",
              "IPY_MODEL_8f88b41d5c244922bb7d75f5148234f7",
              "IPY_MODEL_4359460cca6746a1ab83df93ef235e57"
            ],
            "layout": "IPY_MODEL_c3c8d189313249bda386d0c549525ac8"
          }
        },
        "c3c8d189313249bda386d0c549525ac8": {
          "model_module": "@jupyter-widgets/base",
          "model_module_version": "1.2.0",
          "model_name": "LayoutModel",
          "state": {
            "_model_module": "@jupyter-widgets/base",
            "_model_module_version": "1.2.0",
            "_model_name": "LayoutModel",
            "_view_count": null,
            "_view_module": "@jupyter-widgets/base",
            "_view_module_version": "1.2.0",
            "_view_name": "LayoutView",
            "align_content": null,
            "align_items": null,
            "align_self": null,
            "border": null,
            "bottom": null,
            "display": null,
            "flex": null,
            "flex_flow": null,
            "grid_area": null,
            "grid_auto_columns": null,
            "grid_auto_flow": null,
            "grid_auto_rows": null,
            "grid_column": null,
            "grid_gap": null,
            "grid_row": null,
            "grid_template_areas": null,
            "grid_template_columns": null,
            "grid_template_rows": null,
            "height": null,
            "justify_content": null,
            "justify_items": null,
            "left": null,
            "margin": null,
            "max_height": null,
            "max_width": null,
            "min_height": null,
            "min_width": null,
            "object_fit": null,
            "object_position": null,
            "order": null,
            "overflow": null,
            "overflow_x": null,
            "overflow_y": null,
            "padding": null,
            "right": null,
            "top": null,
            "visibility": null,
            "width": null
          }
        },
        "c6649296837c496f89f9f275b5aec4ed": {
          "model_module": "@jupyter-widgets/base",
          "model_module_version": "1.2.0",
          "model_name": "LayoutModel",
          "state": {
            "_model_module": "@jupyter-widgets/base",
            "_model_module_version": "1.2.0",
            "_model_name": "LayoutModel",
            "_view_count": null,
            "_view_module": "@jupyter-widgets/base",
            "_view_module_version": "1.2.0",
            "_view_name": "LayoutView",
            "align_content": null,
            "align_items": null,
            "align_self": null,
            "border": null,
            "bottom": null,
            "display": null,
            "flex": null,
            "flex_flow": null,
            "grid_area": null,
            "grid_auto_columns": null,
            "grid_auto_flow": null,
            "grid_auto_rows": null,
            "grid_column": null,
            "grid_gap": null,
            "grid_row": null,
            "grid_template_areas": null,
            "grid_template_columns": null,
            "grid_template_rows": null,
            "height": null,
            "justify_content": null,
            "justify_items": null,
            "left": null,
            "margin": null,
            "max_height": null,
            "max_width": null,
            "min_height": null,
            "min_width": null,
            "object_fit": null,
            "object_position": null,
            "order": null,
            "overflow": null,
            "overflow_x": null,
            "overflow_y": null,
            "padding": null,
            "right": null,
            "top": null,
            "visibility": null,
            "width": null
          }
        },
        "ca1e98a536ab4a2d84e0025475156693": {
          "model_module": "@jupyter-widgets/controls",
          "model_module_version": "1.5.0",
          "model_name": "DescriptionStyleModel",
          "state": {
            "_model_module": "@jupyter-widgets/controls",
            "_model_module_version": "1.5.0",
            "_model_name": "DescriptionStyleModel",
            "_view_count": null,
            "_view_module": "@jupyter-widgets/base",
            "_view_module_version": "1.2.0",
            "_view_name": "StyleView",
            "description_width": ""
          }
        },
        "dee742884110494dac670895ccfc0f4a": {
          "model_module": "@jupyter-widgets/controls",
          "model_module_version": "1.5.0",
          "model_name": "HBoxModel",
          "state": {
            "_dom_classes": [],
            "_model_module": "@jupyter-widgets/controls",
            "_model_module_version": "1.5.0",
            "_model_name": "HBoxModel",
            "_view_count": null,
            "_view_module": "@jupyter-widgets/controls",
            "_view_module_version": "1.5.0",
            "_view_name": "HBoxView",
            "box_style": "",
            "children": [
              "IPY_MODEL_ed4c0d00c9824ed78d4e2da8e1cb12a6",
              "IPY_MODEL_bad5f88d72964920997dcecea0988ccb",
              "IPY_MODEL_546e4506771c47459ce3495652d88f1a"
            ],
            "layout": "IPY_MODEL_0270bc8656284fdb94aa5d1846b3b102"
          }
        },
        "e13ff4c3564c4647a910fee0c259a4f3": {
          "model_module": "@jupyter-widgets/controls",
          "model_module_version": "1.5.0",
          "model_name": "ProgressStyleModel",
          "state": {
            "_model_module": "@jupyter-widgets/controls",
            "_model_module_version": "1.5.0",
            "_model_name": "ProgressStyleModel",
            "_view_count": null,
            "_view_module": "@jupyter-widgets/base",
            "_view_module_version": "1.2.0",
            "_view_name": "StyleView",
            "bar_color": null,
            "description_width": ""
          }
        },
        "ed4c0d00c9824ed78d4e2da8e1cb12a6": {
          "model_module": "@jupyter-widgets/controls",
          "model_module_version": "1.5.0",
          "model_name": "HTMLModel",
          "state": {
            "_dom_classes": [],
            "_model_module": "@jupyter-widgets/controls",
            "_model_module_version": "1.5.0",
            "_model_name": "HTMLModel",
            "_view_count": null,
            "_view_module": "@jupyter-widgets/controls",
            "_view_module_version": "1.5.0",
            "_view_name": "HTMLView",
            "description": "",
            "description_tooltip": null,
            "layout": "IPY_MODEL_8b2d1aafe3fa474385d44bc7f5108076",
            "placeholder": "​",
            "style": "IPY_MODEL_2e5d93f9b21644e7ace0e90e00061569",
            "value": "Map: 100%"
          }
        },
        "f5c8fbc7671e43c09222dce4ae36405e": {
          "model_module": "@jupyter-widgets/controls",
          "model_module_version": "1.5.0",
          "model_name": "DescriptionStyleModel",
          "state": {
            "_model_module": "@jupyter-widgets/controls",
            "_model_module_version": "1.5.0",
            "_model_name": "DescriptionStyleModel",
            "_view_count": null,
            "_view_module": "@jupyter-widgets/base",
            "_view_module_version": "1.2.0",
            "_view_name": "StyleView",
            "description_width": ""
          }
        },
        "ffb5ec3181a5466983ed4902b6f6530a": {
          "model_module": "@jupyter-widgets/controls",
          "model_module_version": "1.5.0",
          "model_name": "ProgressStyleModel",
          "state": {
            "_model_module": "@jupyter-widgets/controls",
            "_model_module_version": "1.5.0",
            "_model_name": "ProgressStyleModel",
            "_view_count": null,
            "_view_module": "@jupyter-widgets/base",
            "_view_module_version": "1.2.0",
            "_view_name": "StyleView",
            "bar_color": null,
            "description_width": ""
          }
        },
        "state": {}
      }
    }
  },
  "nbformat": 4,
  "nbformat_minor": 5
}
